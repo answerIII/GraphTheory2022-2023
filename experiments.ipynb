{
 "cells": [
  {
   "cell_type": "code",
   "execution_count": 7,
   "metadata": {
    "pycharm": {
     "name": "#%%\n"
    }
   },
   "outputs": [],
   "source": [
    "import pandas as pd\n",
    "import numpy as np\n",
    "import time"
   ]
  },
  {
   "attachments": {},
   "cell_type": "markdown",
   "metadata": {
    "pycharm": {
     "name": "#%% md\n"
    }
   },
   "source": [
    "# Importing dataset"
   ]
  },
  {
   "cell_type": "code",
   "execution_count": 301,
   "metadata": {
    "pycharm": {
     "name": "#%%\n"
    }
   },
   "outputs": [],
   "source": [
    "datasets = [\n",
    "    \"data/opsahl-ucsocial/out.opsahl-ucsocial\",\n",
    "    \"data/soc-sign-bitcoinalpha/out.soc-sign-bitcoinalpha\",\n",
    "    \"data/soc-sign-bitcoinotc/out.soc-sign-bitcoinotc\",\n",
    "    \"data/digg-friends/out.digg-friends\",\n",
    "    \"data/prosper-loans/out.prosper-loans\"]\n",
    "skiprows = [[0, 1], [0], [0], [0], [0]]\n",
    "current = 0\n",
    "graph = pd.read_csv(\n",
    "    datasets[current],\n",
    "    names=[\"_from\", \"_to\", \"_weight\", \"_timestamp\"],\n",
    "    sep=\" |\\t\",\n",
    "    engine ='python',\n",
    "    skiprows=skiprows[current]\n",
    ")\n",
    "# print(graph.dtypes)\n",
    "# print(graph.head())"
   ]
  },
  {
   "cell_type": "code",
   "execution_count": 302,
   "metadata": {
    "pycharm": {
     "name": "#%%\n"
    }
   },
   "outputs": [
    {
     "name": "stdout",
     "output_type": "stream",
     "text": [
      "n = 1899, volume = 59835\n"
     ]
    }
   ],
   "source": [
    "V = np.unique(graph[\"_from\"]._append(graph[\"_to\"]))\n",
    "n = V.size\n",
    "volume = graph[\"_timestamp\"].size\n",
    "print(f\"{n = }, {volume = }\")"
   ]
  },
  {
   "attachments": {},
   "cell_type": "markdown",
   "metadata": {
    "pycharm": {
     "name": "#%% md\n"
    }
   },
   "source": [
    "# Chapter 1"
   ]
  },
  {
   "attachments": {},
   "cell_type": "markdown",
   "metadata": {
    "pycharm": {
     "name": "#%% md\n"
    }
   },
   "source": [
    "## Preparing static graph"
   ]
  },
  {
   "cell_type": "code",
   "execution_count": 303,
   "metadata": {
    "pycharm": {
     "name": "#%%\n"
    }
   },
   "outputs": [],
   "source": [
    "graph_static = [set() for _ in range(n + 1)]\n",
    "for _index, _from, _to, _weight, _timestamp in graph.itertuples():\n",
    "    graph_static[_from].add(_to)\n",
    "    graph_static[_to].add(_from)\n"
   ]
  },
  {
   "attachments": {},
   "cell_type": "markdown",
   "metadata": {
    "pycharm": {
     "name": "#%% md\n"
    }
   },
   "source": [
    "## Task 1.1"
   ]
  },
  {
   "cell_type": "code",
   "execution_count": 304,
   "metadata": {
    "pycharm": {
     "name": "#%%\n"
    }
   },
   "outputs": [],
   "source": [
    "E_count = 0\n",
    "for i in range(len(graph_static)):\n",
    "    E_count += len(graph_static[i])\n",
    "E_count //= 2\n",
    "#print(E_count)\n",
    "\n",
    "density = E_count * 2 / (n * (n - 1))\n",
    "#print(density)"
   ]
  },
  {
   "cell_type": "code",
   "execution_count": 305,
   "metadata": {
    "pycharm": {
     "name": "#%%\n"
    }
   },
   "outputs": [],
   "source": [
    "V_to_visit = set(V)\n",
    "connectivity_components = []\n",
    "while(V_to_visit):\n",
    "    V_seen = set()\n",
    "    queue = []\n",
    "    for u in V_to_visit:\n",
    "        queue.append(u)\n",
    "        V_seen.add(u)\n",
    "        break\n",
    "    while queue:\n",
    "        u = queue.pop()\n",
    "        u_adjacent_to_visit = graph_static[u].difference(V_seen)\n",
    "        for v in u_adjacent_to_visit:\n",
    "            V_seen.add(v)\n",
    "            queue.append(v)\n",
    "    V_to_visit = V_to_visit.difference(V_seen)\n",
    "    connectivity_components.append(V_seen)\n",
    "\n",
    "sizes = list(map(lambda x: len(x), connectivity_components))\n",
    "max_component_size = max(sizes)\n",
    "max_connectivity_component_index = sizes.index(max_component_size)\n",
    "proportion = max_component_size / len(V)\n",
    "#print(f\"{max_val = }, {max_connectivity_component_index = }, {proportion = }\")\n"
   ]
  },
  {
   "cell_type": "code",
   "execution_count": 306,
   "metadata": {
    "pycharm": {
     "name": "#%%\n"
    }
   },
   "outputs": [
    {
     "name": "stdout",
     "output_type": "stream",
     "text": [
      "|V| = 1899, |E| = 13838, p = 0.007679, number of components = 4, max component size = 1893, max component proportion=  0.996840\n"
     ]
    }
   ],
   "source": [
    "# 1.1\n",
    "print(\"|V| = %i, |E| = %i, p = %f, number of components = %i, max component size = %i, max component proportion= % f\"\n",
    "      % (n, E_count, density, len(connectivity_components), max_component_size, proportion))\n"
   ]
  },
  {
   "attachments": {},
   "cell_type": "markdown",
   "metadata": {
    "pycharm": {
     "name": "#%% md\n"
    }
   },
   "source": [
    "## Task 1.2"
   ]
  },
  {
   "cell_type": "code",
   "execution_count": 337,
   "metadata": {
    "pycharm": {
     "name": "#%%\n"
    }
   },
   "outputs": [
    {
     "name": "stdout",
     "output_type": "stream",
     "text": [
      "1790778 = 1790778\n"
     ]
    }
   ],
   "source": [
    "component = list(connectivity_components[max_connectivity_component_index])\n",
    "distances = [0] * (n + 2)\n",
    "diameter = 0\n",
    "radius = n + 1\n",
    "distances_tmp = np.empty(n + 1, dtype=int)\n",
    "for start in component:\n",
    "    distances_tmp.fill(n + 1)\n",
    "    V_visited = set()\n",
    "    queue = [(start, 0)]\n",
    "    queued = set([start])\n",
    "    depth = 0\n",
    "    u = start\n",
    "    while queued:\n",
    "        (u, depth) = queue.pop(0)\n",
    "        queued.remove(u)\n",
    "        V_visited.add(u)\n",
    "        u_adjacent_to_visit = graph_static[u].difference(V_visited)\n",
    "        for v in u_adjacent_to_visit:\n",
    "            distances_tmp[v] = min(distances_tmp[v], depth + 1)\n",
    "            if v not in queued:\n",
    "                queue.append((v, depth + 1))\n",
    "                queued.add(v)\n",
    "    for d in range(start, n + 1):\n",
    "        distances[distances_tmp[d]] += 1\n",
    "    diameter = max(diameter, depth)\n",
    "    radius = min(radius, depth)\n",
    "    if not start % 100:\n",
    "        #print(start, \"/\", n)\n",
    "        pass\n",
    "#print(distances)\n",
    "all_dist = 0\n",
    "for i in range(diameter + 1):\n",
    "    all_dist += distances[i]\n",
    "print(all_dist, \"=\", max_component_size * (max_component_size - 1) // 2)\n"
   ]
  },
  {
   "cell_type": "code",
   "execution_count": 335,
   "metadata": {
    "pycharm": {
     "name": "#%%\n"
    }
   },
   "outputs": [],
   "source": [
    "#percentile_90 = np.percentile(all_distances, 90)\n",
    "percentile_90_ind = int(0.9 * all_dist)\n",
    "percentile_90 = 0\n",
    "ind_tmp = 0\n",
    "for i in range(diameter + 1):\n",
    "    ind_tmp += distances[i]\n",
    "    if ind_tmp >= percentile_90_ind:\n",
    "        percentile_90 = i\n",
    "        break"
   ]
  },
  {
   "cell_type": "code",
   "execution_count": 355,
   "metadata": {},
   "outputs": [],
   "source": [
    "def calculate_matrix(vertices):\n",
    "\n",
    "    vertices_list = list(vertices)\n",
    "    vertices_set = set(vertices)\n",
    "\n",
    "    distances = []\n",
    "    eccentricities = dict()\n",
    "    distance_matrix = dict()\n",
    "    for u in vertices_list:\n",
    "        distance_matrix[u] = dict()\n",
    "        for v in vertices_list:\n",
    "            distance_matrix[u][v] = n + 1\n",
    "\n",
    "    for start in vertices_list:\n",
    "        V_visited = set()\n",
    "        queue = [(start, 0)]\n",
    "        queued = set([start])\n",
    "        max_depth = 0\n",
    "        while queue:\n",
    "            u, depth = queue.pop(0)\n",
    "            max_depth = max(max_depth, depth)\n",
    "            queued.discard(u)\n",
    "            V_visited.add(u)\n",
    "            u_adjacent_to_visit = graph_static[u].difference(V_visited)\n",
    "            for v in u_adjacent_to_visit:\n",
    "                if v in vertices_set:\n",
    "                    distance = distance_matrix[start][v]\n",
    "                    if depth + 1 < distance:\n",
    "                        distance_matrix[start][v] = depth + 1\n",
    "                        distance_matrix[v][start] = depth + 1\n",
    "                if v not in queued:\n",
    "                    queue.append((v, depth + 1))\n",
    "                    queued.add(v)\n",
    "        eccentricities[start] = max_depth\n",
    "    \n",
    "    for u in vertices_list:\n",
    "        for v in vertices_list:\n",
    "            if u > v:\n",
    "                distances.append(distance_matrix[u][v])\n",
    "\n",
    "    return (distance_matrix, eccentricities, distances)\n"
   ]
  },
  {
   "cell_type": "code",
   "execution_count": 354,
   "metadata": {
    "collapsed": false,
    "pycharm": {
     "name": "#%%\n"
    }
   },
   "outputs": [
    {
     "name": "stdout",
     "output_type": "stream",
     "text": [
      "{5: 6, 7: 6, 8: 5, 10: 6, 19: 5, 20: 5, 24: 6, 33: 5, 38: 5, 40: 5, 49: 6, 53: 5, 59: 5, 63: 5, 64: 5, 69: 5, 74: 5, 82: 5, 86: 5, 92: 6, 94: 5, 95: 5, 97: 5, 98: 5, 99: 5, 102: 5, 107: 5, 109: 5, 111: 6, 120: 5, 123: 5, 124: 6, 132: 5, 136: 6, 138: 6, 145: 5, 146: 5, 151: 5, 152: 5, 156: 6, 160: 6, 164: 5, 167: 6, 172: 5, 174: 5, 178: 6, 185: 5, 187: 7, 190: 5, 191: 5, 193: 5, 216: 6, 218: 6, 219: 5, 221: 5, 223: 6, 225: 6, 226: 5, 227: 6, 232: 5, 247: 6, 251: 5, 254: 5, 259: 5, 260: 5, 261: 6, 263: 5, 268: 6, 274: 5, 277: 5, 287: 6, 289: 5, 291: 5, 292: 6, 293: 6, 299: 5, 301: 6, 307: 5, 309: 6, 316: 5, 319: 5, 320: 6, 324: 5, 325: 5, 330: 6, 332: 5, 333: 5, 334: 5, 339: 5, 341: 5, 342: 5, 345: 5, 348: 6, 353: 5, 356: 5, 359: 6, 366: 6, 368: 5, 370: 6, 371: 5, 379: 5, 380: 6, 384: 6, 385: 5, 388: 5, 392: 5, 395: 6, 400: 5, 404: 5, 405: 5, 407: 5, 409: 5, 413: 5, 421: 6, 428: 6, 430: 5, 435: 5, 440: 5, 444: 6, 453: 5, 456: 4, 457: 5, 459: 5, 461: 6, 462: 5, 469: 5, 470: 6, 471: 6, 479: 5, 483: 5, 484: 6, 487: 5, 488: 5, 492: 6, 493: 6, 494: 5, 498: 5, 508: 6, 513: 5, 515: 6, 519: 5, 523: 5, 528: 5, 533: 6, 542: 6, 551: 5, 571: 6, 577: 5, 580: 6, 582: 5, 585: 5, 587: 5, 592: 5, 601: 5, 608: 6, 611: 5, 612: 6, 618: 5, 619: 6, 620: 5, 623: 6, 632: 5, 636: 5, 638: 5, 645: 5, 647: 6, 648: 6, 653: 6, 657: 6, 661: 6, 669: 6, 670: 7, 680: 5, 683: 5, 684: 6, 687: 5, 693: 6, 694: 6, 699: 5, 705: 6, 709: 6, 716: 5, 717: 6, 723: 6, 726: 5, 729: 6, 734: 5, 737: 6, 741: 5, 743: 6, 750: 6, 752: 5, 753: 5, 760: 6, 765: 5, 769: 5, 773: 5, 781: 5, 788: 5, 789: 6, 794: 5, 798: 5, 806: 5, 808: 6, 812: 5, 816: 5, 821: 5, 823: 5, 826: 5, 831: 5, 832: 5, 835: 5, 842: 6, 843: 5, 845: 7, 849: 5, 860: 6, 862: 5, 868: 5, 871: 5, 873: 5, 875: 6, 877: 7, 880: 7, 883: 6, 896: 6, 904: 6, 908: 5, 910: 6, 924: 5, 926: 5, 931: 5, 932: 5, 938: 5, 942: 6, 943: 5, 948: 6, 949: 6, 953: 6, 959: 6, 961: 6, 962: 6, 976: 6, 977: 6, 979: 6, 981: 6, 985: 6, 987: 5, 989: 6, 990: 5, 991: 5, 996: 6, 997: 5, 998: 6, 1000: 5, 1002: 5, 1007: 6, 1009: 6, 1013: 5, 1016: 6, 1017: 6, 1019: 6, 1020: 6, 1024: 5, 1025: 6, 1027: 5, 1029: 5, 1034: 5, 1036: 5, 1040: 6, 1043: 6, 1044: 6, 1048: 6, 1050: 5, 1055: 5, 1057: 6, 1059: 5, 1061: 7, 1062: 6, 1065: 6, 1068: 5, 1069: 5, 1070: 6, 1073: 6, 1074: 5, 1081: 5, 1091: 6, 1095: 6, 1106: 6, 1109: 7, 1115: 6, 1129: 5, 1131: 5, 1134: 5, 1138: 5, 1142: 5, 1143: 5, 1153: 5, 1154: 5, 1155: 6, 1165: 5, 1175: 5, 1178: 5, 1179: 6, 1184: 5, 1187: 5, 1190: 5, 1193: 6, 1196: 5, 1197: 6, 1198: 5, 1202: 6, 1204: 7, 1207: 6, 1208: 5, 1214: 5, 1216: 5, 1223: 6, 1234: 5, 1236: 5, 1246: 5, 1254: 6, 1261: 5, 1264: 6, 1265: 5, 1268: 5, 1270: 5, 1277: 6, 1279: 6, 1282: 5, 1285: 5, 1287: 6, 1289: 6, 1292: 5, 1293: 6, 1295: 5, 1298: 6, 1300: 6, 1304: 5, 1306: 6, 1307: 6, 1325: 6, 1326: 6, 1328: 6, 1331: 6, 1333: 6, 1334: 5, 1336: 5, 1337: 6, 1340: 5, 1343: 5, 1347: 6, 1350: 5, 1352: 5, 1354: 5, 1357: 6, 1359: 5, 1360: 6, 1363: 6, 1364: 6, 1365: 5, 1374: 6, 1377: 5, 1379: 6, 1384: 5, 1396: 6, 1401: 6, 1405: 6, 1406: 5, 1407: 6, 1408: 6, 1409: 6, 1410: 6, 1411: 7, 1412: 5, 1416: 5, 1419: 5, 1420: 5, 1421: 5, 1424: 6, 1427: 6, 1431: 5, 1433: 6, 1434: 5, 1440: 5, 1441: 6, 1442: 6, 1455: 7, 1464: 7, 1466: 7, 1468: 5, 1469: 6, 1471: 7, 1472: 5, 1478: 6, 1484: 6, 1489: 5, 1494: 6, 1495: 6, 1501: 5, 1506: 6, 1507: 6, 1511: 6, 1513: 6, 1515: 6, 1517: 5, 1518: 5, 1519: 5, 1530: 5, 1532: 6, 1533: 6, 1536: 6, 1542: 5, 1544: 6, 1552: 6, 1555: 6, 1559: 6, 1560: 6, 1561: 5, 1564: 6, 1565: 5, 1567: 6, 1571: 7, 1579: 6, 1581: 6, 1586: 6, 1587: 5, 1591: 6, 1599: 6, 1611: 6, 1617: 6, 1618: 6, 1622: 6, 1626: 5, 1628: 6, 1630: 6, 1633: 6, 1634: 6, 1635: 6, 1637: 6, 1639: 6, 1640: 6, 1648: 5, 1650: 6, 1652: 5, 1654: 6, 1656: 6, 1663: 7, 1667: 5, 1670: 7, 1673: 5, 1676: 6, 1677: 6, 1687: 6, 1694: 6, 1696: 6, 1704: 5, 1708: 6, 1710: 5, 1712: 6, 1716: 6, 1718: 6, 1726: 7, 1739: 5, 1744: 5, 1754: 6, 1763: 6, 1767: 5, 1778: 6, 1780: 6, 1787: 6, 1789: 5, 1793: 5, 1801: 7, 1807: 5, 1811: 6, 1814: 6, 1816: 7, 1817: 6, 1824: 6, 1828: 6, 1837: 6, 1838: 5, 1842: 6, 1850: 6, 1855: 6, 1861: 6, 1864: 6, 1865: 5, 1866: 5, 1871: 6, 1875: 6, 1876: 6, 1877: 6, 1879: 6, 1881: 6, 1885: 6, 1886: 6, 1890: 6, 1898: 6}\n",
      "{1: 5, 2: 5, 3: 4, 4: 5, 13: 5, 14: 5, 15: 5, 16: 6, 17: 6, 18: 5, 20: 5, 24: 6, 32: 4, 34: 5, 37: 6, 38: 5, 39: 5, 40: 5, 42: 5, 43: 6, 44: 5, 47: 6, 48: 5, 52: 5, 53: 5, 54: 6, 55: 6, 56: 5, 57: 6, 59: 5, 60: 5, 63: 5, 64: 5, 68: 5, 71: 6, 72: 5, 73: 5, 76: 5, 77: 5, 79: 6, 80: 5, 81: 5, 82: 5, 83: 5, 84: 5, 86: 5, 87: 6, 88: 5, 92: 6, 96: 5, 98: 5, 99: 5, 101: 5, 103: 5, 104: 5, 105: 4, 106: 6, 108: 6, 109: 5, 111: 6, 115: 6, 116: 6, 117: 5, 118: 5, 120: 5, 121: 5, 122: 6, 126: 6, 129: 5, 130: 5, 136: 6, 137: 6, 140: 5, 141: 5, 142: 5, 145: 5, 146: 5, 147: 6, 150: 6, 151: 5, 152: 5, 153: 6, 154: 5, 156: 6, 157: 5, 159: 6, 161: 6, 164: 5, 165: 5, 166: 5, 168: 5, 169: 6, 171: 6, 174: 5, 176: 5, 177: 5, 179: 5, 184: 5, 188: 5, 191: 5, 193: 5, 194: 5, 195: 6, 197: 6, 199: 5, 200: 6, 201: 6, 205: 6, 207: 6, 209: 5, 210: 5, 212: 5, 213: 6, 215: 5, 217: 6, 218: 6, 219: 5, 223: 6, 233: 5, 234: 5, 237: 5, 243: 5, 246: 6, 249: 5, 250: 5, 259: 5, 263: 5, 264: 6, 265: 5, 266: 5, 267: 5, 268: 6, 269: 5, 270: 5, 271: 6, 272: 5, 273: 5, 276: 6, 279: 6, 281: 5, 283: 5, 284: 5, 286: 5, 288: 5, 289: 5, 290: 6, 291: 5, 292: 6, 293: 6, 300: 6, 303: 6, 305: 5, 306: 5, 308: 4, 316: 5, 317: 5, 318: 5, 319: 5, 320: 6, 323: 5, 325: 5, 327: 6, 328: 6, 330: 6, 333: 5, 335: 5, 336: 5, 337: 5, 338: 5, 339: 5, 340: 6, 341: 5, 345: 5, 349: 5, 351: 6, 352: 5, 355: 5, 356: 5, 359: 6, 360: 5, 361: 5, 362: 6, 366: 6, 369: 6, 370: 6, 372: 5, 373: 5, 374: 5, 375: 5, 376: 5, 377: 5, 378: 5, 379: 5, 380: 6, 386: 5, 387: 6, 388: 5, 390: 6, 391: 5, 394: 5, 398: 5, 399: 6, 402: 5, 404: 5, 406: 6, 408: 5, 409: 5, 413: 5, 418: 5, 419: 5, 420: 5, 421: 6, 422: 5, 425: 6, 427: 6, 428: 6, 431: 5, 432: 6, 433: 6, 434: 6, 437: 5, 438: 6, 439: 5, 441: 5, 443: 5, 444: 6, 445: 5, 449: 5, 451: 5, 452: 5, 453: 5, 454: 5, 456: 4, 458: 6, 459: 5, 460: 5, 461: 6, 462: 5, 464: 5, 470: 6, 473: 6, 474: 5, 475: 5, 480: 5, 482: 5, 484: 6, 485: 6, 486: 6, 487: 5, 488: 5, 492: 6, 498: 5, 499: 6, 500: 6, 501: 5, 502: 5, 503: 5, 505: 6, 506: 6, 507: 6, 508: 6, 510: 6, 513: 5, 515: 6, 517: 5, 518: 5, 519: 5, 524: 6, 526: 6, 527: 5, 529: 5, 530: 6, 531: 6, 532: 6, 533: 6, 534: 5, 536: 5, 537: 5, 538: 5, 539: 5, 541: 5, 542: 6, 543: 5, 544: 5, 545: 5, 546: 5, 549: 5, 550: 5, 551: 5, 554: 5, 555: 5, 556: 5, 557: 5, 561: 5, 562: 6, 564: 5, 566: 5, 568: 6, 573: 5, 578: 6, 579: 6, 581: 5, 585: 5, 587: 5, 592: 5, 593: 5, 594: 5, 595: 5, 596: 5, 600: 5, 603: 5, 604: 6, 605: 5, 606: 5, 607: 5, 608: 6, 610: 5, 611: 5, 612: 6, 613: 6, 615: 5, 618: 5, 621: 5, 622: 6, 623: 6, 625: 6, 626: 5, 628: 6, 629: 6, 631: 6, 633: 7, 637: 6, 638: 5, 639: 5, 644: 5, 646: 6, 647: 6, 648: 6, 649: 5, 651: 6, 654: 5, 658: 5, 659: 5, 661: 6, 662: 6, 663: 6, 665: 6, 666: 6, 669: 6, 670: 7, 672: 7, 673: 5, 674: 5, 680: 5, 682: 5, 684: 6, 685: 6, 686: 5, 688: 5, 689: 5, 690: 6, 692: 6, 693: 6, 694: 6, 696: 6, 697: 5, 698: 5, 700: 5, 703: 6, 704: 5, 707: 5, 712: 5, 713: 5, 714: 5, 716: 5, 717: 6, 718: 6, 722: 6, 723: 6, 724: 5, 726: 5, 727: 6, 730: 7, 731: 5, 732: 6, 737: 6, 738: 6, 739: 5, 741: 5, 742: 6, 744: 6, 745: 6, 746: 6, 747: 5, 749: 6, 750: 6, 751: 6, 752: 5, 753: 5, 754: 5, 756: 6, 757: 5, 758: 5, 760: 6, 761: 5, 763: 7, 767: 6, 773: 5, 777: 5, 778: 5, 779: 5, 780: 5, 781: 5, 782: 5, 783: 5, 785: 6, 786: 6, 789: 6, 791: 6, 792: 5, 793: 5, 794: 5, 796: 6, 798: 5, 799: 5, 800: 5, 801: 5, 803: 7, 804: 6, 805: 6, 807: 7, 808: 6, 810: 5, 811: 6, 816: 5, 817: 5, 818: 5, 819: 5, 821: 5, 822: 5, 823: 5, 824: 5, 826: 5, 827: 6, 828: 5, 830: 6, 833: 6, 835: 5, 836: 6, 837: 6, 838: 5, 848: 6, 851: 6, 853: 5, 854: 6, 855: 6, 856: 5, 857: 5, 861: 6, 863: 5, 866: 6, 869: 6, 870: 5, 871: 5, 872: 6, 875: 6, 876: 6, 879: 6, 882: 6, 885: 6, 887: 5, 890: 6, 891: 6, 892: 6, 894: 6, 896: 6, 898: 5, 901: 5, 902: 6, 903: 5, 906: 6, 907: 6, 909: 5, 911: 6, 913: 5, 916: 6, 922: 6, 924: 5, 925: 6, 928: 5, 934: 6, 936: 6, 938: 5, 939: 5, 940: 5, 941: 6, 944: 6, 945: 7, 946: 6, 949: 6, 951: 6, 954: 5, 955: 6, 956: 6, 957: 5, 958: 6, 959: 6, 960: 6, 963: 5, 966: 6, 967: 5, 978: 5, 979: 6, 980: 6, 982: 6, 983: 5, 985: 6, 989: 6, 990: 5, 991: 5, 992: 5, 993: 5, 995: 5, 996: 6, 997: 5, 998: 6, 1000: 5, 1002: 5, 1005: 5, 1007: 6, 1010: 6, 1011: 6, 1012: 6, 1014: 5, 1017: 6, 1018: 5, 1019: 6, 1022: 6, 1023: 5, 1024: 5, 1025: 6, 1030: 6, 1031: 6, 1032: 5, 1035: 6, 1038: 6, 1041: 5, 1042: 5, 1048: 6, 1049: 5, 1052: 5, 1056: 5, 1058: 6, 1059: 5, 1060: 5, 1062: 6, 1066: 6, 1068: 5, 1070: 6, 1071: 6, 1072: 5, 1074: 5, 1078: 5, 1079: 6, 1081: 5, 1083: 5, 1086: 6, 1087: 6, 1088: 7, 1089: 6, 1090: 6, 1091: 6, 1092: 6, 1093: 5, 1097: 5, 1100: 5, 1101: 6, 1102: 5, 1105: 5, 1106: 6, 1108: 5, 1109: 7, 1110: 5, 1111: 5, 1114: 6, 1116: 5, 1117: 5, 1123: 5, 1124: 5, 1128: 6, 1129: 5, 1130: 5, 1131: 5, 1132: 5, 1133: 6, 1134: 5, 1137: 5, 1138: 5, 1140: 6, 1142: 5, 1145: 5, 1146: 5, 1147: 5, 1149: 5, 1152: 5, 1153: 5, 1154: 5, 1156: 5, 1157: 5, 1159: 6, 1161: 5, 1162: 6, 1166: 6, 1169: 5, 1170: 6, 1171: 6, 1172: 6, 1176: 6, 1180: 5, 1185: 5, 1187: 5, 1189: 5, 1194: 6, 1197: 6, 1198: 5, 1202: 6, 1203: 6, 1205: 7, 1209: 6, 1210: 6, 1211: 5, 1213: 6, 1214: 5, 1215: 5, 1218: 6, 1221: 6, 1222: 6, 1223: 6, 1225: 6, 1227: 5, 1228: 6, 1229: 6, 1232: 5, 1236: 5, 1237: 5, 1239: 6, 1240: 6, 1241: 6, 1249: 5, 1252: 5, 1255: 5, 1256: 5, 1257: 6, 1258: 7, 1259: 6, 1260: 5, 1261: 5, 1262: 5, 1263: 6, 1269: 5, 1271: 6, 1273: 6, 1278: 6, 1280: 5, 1281: 5, 1283: 5, 1284: 5, 1289: 6, 1290: 6, 1293: 6, 1294: 6, 1298: 6, 1305: 6, 1306: 6, 1307: 6, 1314: 6, 1315: 5, 1317: 5, 1318: 6, 1320: 6, 1323: 6, 1326: 6, 1327: 6, 1328: 6, 1329: 5, 1330: 6, 1332: 5, 1333: 6, 1335: 5, 1337: 6, 1340: 5, 1342: 5, 1343: 5, 1344: 5, 1345: 6, 1347: 6, 1348: 6, 1349: 5, 1352: 5, 1355: 6, 1356: 6, 1359: 5, 1360: 6, 1365: 5, 1366: 6, 1367: 6, 1370: 5, 1373: 5, 1374: 6, 1377: 5, 1378: 6, 1380: 5, 1383: 5, 1384: 5, 1385: 5, 1386: 5, 1387: 5, 1389: 6, 1390: 5, 1391: 6, 1392: 6, 1393: 5, 1394: 5, 1395: 5, 1396: 6, 1398: 5, 1400: 6, 1401: 6, 1403: 5, 1405: 6, 1407: 6, 1410: 6, 1411: 7, 1412: 5, 1413: 6, 1415: 5, 1416: 5, 1417: 5, 1420: 5, 1423: 5, 1424: 6, 1425: 5, 1428: 6, 1431: 5, 1432: 6, 1434: 5, 1435: 6, 1436: 5, 1437: 6, 1438: 6, 1439: 6, 1440: 5, 1444: 5, 1445: 6, 1447: 6, 1452: 5, 1453: 6, 1454: 6, 1457: 6, 1458: 6, 1459: 6, 1463: 5, 1465: 7, 1467: 6, 1474: 6, 1477: 6, 1478: 6, 1479: 6, 1480: 6, 1481: 6, 1482: 6, 1483: 6, 1487: 5, 1488: 5, 1490: 6, 1491: 5, 1493: 5, 1494: 6, 1496: 5, 1498: 7, 1499: 6, 1501: 5, 1506: 6, 1511: 6, 1513: 6, 1514: 6, 1517: 5, 1518: 5, 1519: 5, 1520: 5, 1523: 6, 1524: 7, 1530: 5, 1531: 6, 1533: 6, 1540: 5, 1541: 6, 1542: 5, 1543: 5, 1544: 6, 1545: 6, 1546: 5, 1547: 6, 1548: 5, 1549: 6, 1550: 6, 1551: 6, 1554: 5, 1555: 6, 1556: 6, 1557: 6, 1560: 6, 1561: 5, 1562: 6, 1564: 6, 1566: 6, 1567: 6, 1570: 7, 1571: 7, 1573: 5, 1574: 6, 1575: 6, 1576: 6, 1581: 6, 1584: 6, 1585: 5, 1588: 6, 1590: 6, 1591: 6, 1593: 6, 1595: 7, 1597: 5, 1598: 5, 1599: 6, 1600: 6, 1602: 6, 1603: 5, 1605: 6, 1606: 6, 1608: 6, 1610: 6, 1612: 7, 1613: 6, 1614: 6, 1616: 5, 1621: 6, 1622: 6, 1625: 5, 1626: 5, 1629: 5, 1630: 6, 1631: 6, 1632: 6, 1634: 6, 1635: 6, 1638: 6, 1639: 6, 1641: 5, 1642: 5, 1645: 5, 1646: 5, 1647: 5, 1648: 5, 1652: 5, 1653: 6, 1657: 5, 1659: 6, 1660: 6, 1661: 6, 1663: 7, 1665: 5, 1669: 6, 1671: 6, 1675: 5, 1678: 6, 1679: 6, 1681: 6, 1682: 5, 1683: 5, 1684: 6, 1686: 5, 1687: 6, 1691: 6, 1695: 6, 1696: 6, 1698: 6, 1700: 6, 1701: 5, 1702: 7, 1703: 6, 1704: 5, 1706: 5, 1708: 6, 1709: 6, 1710: 5, 1711: 5, 1713: 4, 1714: 5, 1715: 5, 1716: 6, 1718: 6, 1719: 6, 1721: 6, 1723: 6, 1724: 5, 1725: 6, 1726: 7, 1727: 5, 1729: 7, 1731: 5, 1732: 6, 1735: 6, 1737: 5, 1739: 5, 1740: 6, 1741: 5, 1742: 5, 1743: 5, 1748: 5, 1750: 5, 1751: 5, 1752: 6, 1753: 6, 1754: 6, 1758: 6, 1759: 6, 1760: 6, 1761: 6, 1762: 5, 1765: 6, 1766: 6, 1769: 6, 1771: 5, 1776: 6, 1777: 6, 1779: 6, 1781: 5, 1783: 5, 1784: 5, 1785: 5, 1786: 6, 1787: 6, 1788: 5, 1790: 6, 1791: 5, 1799: 6, 1801: 7, 1802: 8, 1804: 6, 1806: 6, 1807: 5, 1808: 5, 1811: 6, 1814: 6, 1815: 6, 1816: 7, 1817: 6, 1818: 6, 1819: 6, 1820: 6, 1821: 6, 1823: 6, 1825: 6, 1826: 6, 1835: 6, 1840: 6, 1841: 6, 1843: 6, 1844: 6, 1846: 6, 1847: 5, 1850: 6, 1851: 6, 1852: 5, 1853: 6, 1854: 6, 1855: 6, 1856: 5, 1858: 6, 1859: 6, 1861: 6, 1864: 6, 1870: 6, 1873: 7, 1875: 6, 1876: 6, 1877: 6, 1878: 5, 1880: 7, 1881: 6, 1882: 6, 1883: 6, 1885: 6, 1886: 6, 1887: 6, 1889: 6, 1890: 6, 1892: 6, 1894: 6, 1898: 6}\n",
      "diameter_from_random_500 = 7, radius_from_random_500 = 4, percentile_90_from_random_500 = 4.0\n",
      "diameter_from_random_1000 = 8, radius_from_random_1000 = 4, percentile_90_from_random_1000 = 4.0\n"
     ]
    }
   ],
   "source": [
    "import random\n",
    "\n",
    "component = list(connectivity_components[max_connectivity_component_index])\n",
    "\n",
    "random_500_vertices = sorted(random.sample(component, 500))\n",
    "random_1000_vertices = sorted(random.sample(component, 1000))\n",
    "\n",
    "random_500_matrix, random_500_eccentricities, random_500_distances = calculate_matrix(\n",
    "    random_500_vertices)\n",
    "random_1000_matrix, random_1000_eccentricities, random_1000_distances = calculate_matrix(\n",
    "    random_1000_vertices)\n",
    "\n",
    "diameter_from_random_500 = max(random_500_eccentricities.values())\n",
    "radius_from_random_500 = min(random_500_eccentricities.values())\n",
    "percentile_90_from_random_500 = np.percentile(random_500_distances, 90)\n",
    "\n",
    "print(f\"{diameter_from_random_500 = }, {radius_from_random_500 = }, {percentile_90_from_random_500 = }\")\n",
    "\n",
    "diameter_from_random_1000 = max(random_1000_eccentricities.values())\n",
    "radius_from_random_1000 = min(random_1000_eccentricities.values())\n",
    "percentile_90_from_random_1000 = np.percentile(random_1000_distances, 90)\n",
    "\n",
    "print(f\"{diameter_from_random_1000 = }, {radius_from_random_1000 = }, {percentile_90_from_random_1000 = }\")\n",
    "\n",
    "                    "
   ]
  },
  {
   "cell_type": "code",
   "execution_count": 348,
   "metadata": {
    "collapsed": false,
    "pycharm": {
     "name": "#%%\n"
    }
   },
   "outputs": [
    {
     "name": "stdout",
     "output_type": "stream",
     "text": [
      "diameter_from_snowball_500 = 1807, radius_from_snowball_500 = 1, percentile_90_from_snowball_500 = 3.0\n",
      "diameter_from_snowball_1000 = 1899, radius_from_snowball_1000 = 1, percentile_90_from_snowball_1000 = 3.0\n"
     ]
    }
   ],
   "source": [
    "def snowball(limit):\n",
    "    vertices = {component[0], component[1]}\n",
    "    while len(vertices) < limit:\n",
    "        for v in vertices:\n",
    "            if len(vertices) < limit:\n",
    "                vertices = vertices.union(graph_static[v])\n",
    "    return sorted(list(vertices))\n",
    "\n",
    "snowball_500_vertices = snowball(500)\n",
    "snowball_1000_vertices = snowball(1000)\n",
    "\n",
    "snowball_500_matrix, snowball_500_eccentricities, snowball_500_distances = calculate_matrix(\n",
    "    snowball_500_vertices)\n",
    "snowball_1000_matrix, snowball_1000_eccentricities, snowball_1000_distances = calculate_matrix(\n",
    "    snowball_1000_vertices)\n",
    "\n",
    "diameter_from_snowball_500 = max(snowball_500_eccentricities.values())\n",
    "radius_from_snowball_500 = min(snowball_500_eccentricities.values())\n",
    "percentile_90_from_snowball_500 = np.percentile(snowball_500_distances, 90)\n",
    "\n",
    "print(f\"{diameter_from_snowball_500 = }, {radius_from_snowball_500 = }, {percentile_90_from_snowball_500 = }\")\n",
    "\n",
    "diameter_from_snowball_1000 = max(snowball_1000_eccentricities.values())\n",
    "radius_from_snowball_1000 = min(snowball_1000_eccentricities.values())\n",
    "percentile_90_from_snowball_1000 = np.percentile(snowball_1000_distances, 90)\n",
    "\n",
    "print(f\"{diameter_from_snowball_1000 = }, {radius_from_snowball_1000 = }, {percentile_90_from_snowball_1000 = }\")\n"
   ]
  },
  {
   "cell_type": "code",
   "execution_count": 336,
   "metadata": {
    "pycharm": {
     "name": "#%%\n"
    }
   },
   "outputs": [
    {
     "name": "stdout",
     "output_type": "stream",
     "text": [
      "diameter = 8, raduis = 4, percentile_90 = 4\n"
     ]
    }
   ],
   "source": [
    "# 1.2\n",
    "print(\"diameter = %i, raduis = %i, percentile_90 = %i\" \n",
    "      % (diameter, radius, percentile_90))"
   ]
  },
  {
   "attachments": {},
   "cell_type": "markdown",
   "metadata": {
    "pycharm": {
     "name": "#%% md\n"
    }
   },
   "source": [
    "## Task 1.3"
   ]
  },
  {
   "cell_type": "code",
   "execution_count": null,
   "metadata": {
    "pycharm": {
     "name": "#%%\n"
    }
   },
   "outputs": [],
   "source": [
    "component = list(connectivity_components[max_connectivity_component_index])\n",
    "\n",
    "Cl = dict()\n",
    "for u in component:\n",
    "    u_neighbors = graph_static[u]\n",
    "\n",
    "    if len(u_neighbors) < 2:\n",
    "        Cl[u] = 0\n",
    "        continue\n",
    "\n",
    "    Lu_doubled = 0\n",
    "    for neighbor in u_neighbors:\n",
    "        Lu_doubled += len(graph_static[neighbor].intersection(u_neighbors))\n",
    "    Cl[u] = Lu_doubled / (len(u_neighbors) * (len(u_neighbors) - 1))\n",
    "\n",
    "Cl_average = sum(Cl.values()) / len(Cl.values())"
   ]
  },
  {
   "cell_type": "code",
   "execution_count": null,
   "metadata": {
    "pycharm": {
     "name": "#%%\n"
    }
   },
   "outputs": [
    {
     "name": "stdout",
     "output_type": "stream",
     "text": [
      "Cl_average = 0.096853\n"
     ]
    }
   ],
   "source": [
    "#1.3\n",
    "print(\"Cl_average = %f\" % (Cl_average))"
   ]
  },
  {
   "attachments": {},
   "cell_type": "markdown",
   "metadata": {
    "pycharm": {
     "name": "#%% md\n"
    }
   },
   "source": [
    "## Task 1.4"
   ]
  },
  {
   "cell_type": "code",
   "execution_count": null,
   "metadata": {
    "pycharm": {
     "name": "#%%\n"
    }
   },
   "outputs": [],
   "source": [
    "R1 = 0\n",
    "R2 = 0\n",
    "R3 = 0\n",
    "Re = 0\n",
    "for i in range(1, n + 1):\n",
    "    ki = len(graph_static[i])\n",
    "    R1 += ki\n",
    "    R2 += ki**2\n",
    "    R3 += ki**3\n",
    "    for j in graph_static[i]:\n",
    "        kj = len(graph_static[j])\n",
    "        Re += ki * kj\n",
    "degree_associativity = (Re * R1 - R2**2) / (R3 * R1 - R2**2)"
   ]
  },
  {
   "cell_type": "code",
   "execution_count": null,
   "metadata": {
    "pycharm": {
     "name": "#%%\n"
    }
   },
   "outputs": [
    {
     "name": "stdout",
     "output_type": "stream",
     "text": [
      "Degree associativity = -0.055710\n"
     ]
    }
   ],
   "source": [
    "print(\"Degree associativity = %f\" % (degree_associativity))"
   ]
  }
 ],
 "metadata": {
  "kernelspec": {
   "display_name": "Python 3 (ipykernel)",
   "language": "python",
   "name": "python3"
  },
  "language_info": {
   "codemirror_mode": {
    "name": "ipython",
    "version": 3
   },
   "file_extension": ".py",
   "mimetype": "text/x-python",
   "name": "python",
   "nbconvert_exporter": "python",
   "pygments_lexer": "ipython3",
   "version": "3.10.7"
  }
 },
 "nbformat": 4,
 "nbformat_minor": 1
}
