{
  "nbformat": 4,
  "nbformat_minor": 0,
  "metadata": {
    "colab": {
      "provenance": []
    },
    "kernelspec": {
      "name": "python3",
      "display_name": "Python 3"
    },
    "language_info": {
      "name": "python"
    }
  },
  "cells": [
    {
      "cell_type": "markdown",
      "source": [
        "У Насти ошибка в подсчёте плотности и в подсчете соседей"
      ],
      "metadata": {
        "id": "oEl6raNcdw8r"
      }
    },
    {
      "cell_type": "markdown",
      "source": [
        "3. Вычисление среднего кластерного коэффициента сети для наибольшей компоненты слабой связности."
      ],
      "metadata": {
        "id": "lueuHiqT9cdJ"
      }
    },
    {
      "cell_type": "code",
      "source": [
        "! pip install tqdm"
      ],
      "metadata": {
        "id": "lR2bIE9cSE1u"
      },
      "execution_count": null,
      "outputs": []
    },
    {
      "cell_type": "code",
      "source": [
        "import itertools\n",
        "import numpy as np\n",
        "from tqdm import tqdm"
      ],
      "metadata": {
        "id": "zoxDc5i7lzX8"
      },
      "execution_count": null,
      "outputs": []
    },
    {
      "cell_type": "code",
      "source": [
        "def adj_cvc_graph(graph, cvc):\n",
        "  cc = graph.loc[graph.v1.isin(cvc) & graph.v2.isin(cvc)]\n",
        "  cc = cc.reset_index()[['v1', 'v2']]\n",
        "  cc = cc.drop_duplicates(keep='first')\n",
        "\n",
        "  v1 = cc.v1.to_list()\n",
        "  v2 = cc.v2.to_list()\n",
        "  \n",
        "  V1 = np.array(v1 + v2)\n",
        "  V2 = np.array(v2 + v1)\n",
        "  \n",
        "  CC = pd.DataFrame(np.array([V1, V2]).transpose(),columns=['v1', 'v2'])\n",
        "  CC = CC.drop_duplicates(keep='first')\n",
        "  \n",
        "  return CC"
      ],
      "metadata": {
        "id": "c3MC__W_HO34"
      },
      "execution_count": null,
      "outputs": []
    },
    {
      "cell_type": "code",
      "source": [
        "def get_neighbors(adj, nodes):\n",
        "  # node_neighbors = dict()\n",
        "\n",
        "  # for node in tqdm(nodes):\n",
        "  #   node_neighbors[node] = adj[adj.v1 == node].v2.to_list()\n",
        "\n",
        "  # return node_neighbors\n",
        "  \n",
        "  node_neighbors = defaultdict(set)\n",
        "  for edge in tqdm(edges):\n",
        "      node_neighbors[edge[0]].add(edge[1])\n",
        "      node_neighbors[edge[1]].add(edge[0])\n",
        "\n",
        "  return node_neighbors"
      ],
      "metadata": {
        "id": "pc38gpOgHtXr"
      },
      "execution_count": null,
      "outputs": []
    },
    {
      "cell_type": "code",
      "source": [
        "def get_acc(graph, cvc):\n",
        "#graph - dataframe (v1 v2 weight timestamp)\n",
        "#cvc - component of weak connectivity (list)\n",
        "#acc - average cluster coefficient\n",
        "  acc = 0\n",
        "  n = len(cvc)\n",
        "\n",
        "  adj = adj_cvc_graph(graph, cvc)\n",
        "  nodes = adj.v1.unique()\n",
        "  node_neighbors = get_neighbors(adj, nodes)\n",
        "\n",
        "  for u in tqdm(cvc):\n",
        "    deg = len(node_neighbors[u])\n",
        "    if deg <= 1: continue\n",
        "    \n",
        "    # l_u = adj.loc[adj.v1.isin(node_neighbors[u]) & adj.v2.isin(node_neighbors[u])].shape[0]    \n",
        "    l_u = np.sum([len(set.intersection(node_neighbors[v], node_neighbors[u])) for v in node_neighbors[u]]) / 2\n",
        "    \n",
        "    acc += (2 * l_u) / (deg * (deg-1))\n",
        "\n",
        "  return float(acc) / n"
      ],
      "metadata": {
        "id": "9ci2bRgAHYnm"
      },
      "execution_count": null,
      "outputs": []
    },
    {
      "cell_type": "markdown",
      "source": [
        "4. Коэффициент ассортативности по степени вершин![изображение_2023-05-17_195314412.png](data:image/png;base64,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)"
      ],
      "metadata": {
        "id": "uyzGbfvuneXY"
      }
    },
    {
      "cell_type": "code",
      "source": [
        "import math\n",
        "import pandas as pd"
      ],
      "metadata": {
        "id": "h__AcHiRrO_D"
      },
      "execution_count": null,
      "outputs": []
    },
    {
      "cell_type": "code",
      "source": [
        "def adj_graph(graph, need_time=False)\n",
        "  cc = graph\n",
        "  cc = cc.reset_index()[['v1', 'v2']]\n",
        "  cc = cc.drop_duplicates(keep='first')\n",
        "\n",
        "  v1 = cc.v1.to_list()\n",
        "  v2 = cc.v2.to_list()\n",
        "\n",
        "  V1 = np.array(v1 + v2)\n",
        "  V2 = np.array(v2 + v1)\n",
        "\n",
        "  # if need_time:\n",
        "  #   timestamp = cc.timestamp.to_list()\n",
        "  #   TIMESTAMP = np.array(timestamp + timestamp)\n",
        "  \n",
        "  CC = pd.DataFrame(np.array([V1, V2]).transpose(),columns=['v1', 'v2'])\n",
        "  CC = CC.drop_duplicates(keep='first')\n",
        "  \n",
        "  return CC"
      ],
      "metadata": {
        "id": "FBAcYpFmfiKa"
      },
      "execution_count": null,
      "outputs": []
    },
    {
      "cell_type": "code",
      "source": [
        "def get_neighbors(adj, nodes):\n",
        "  node_neighbors = dict()\n",
        "\n",
        "  for node in nodes:\n",
        "    node_neighbors[node] = adj[adj.v1 == node].v2.to_list()\n",
        "\n",
        "  return node_neighbors"
      ],
      "metadata": {
        "id": "BzNWLmE891py"
      },
      "execution_count": null,
      "outputs": []
    },
    {
      "cell_type": "code",
      "source": [
        "def get_pcc(graph):\n",
        "#graph - dataframe (v1 v2 weight timelable)\n",
        "#pcc - Pearson correlation coefficient.\n",
        "  adj = adj_graph(graph)\n",
        "  nodes = adj.v1.unique()\n",
        "  node_neighbors = get_neighbors(adj, nodes)\n",
        "\n",
        "  r_1 = adj.shape[0]\n",
        "  r_2 = 0\n",
        "  r_3 = 0\n",
        "  r_e = 0\n",
        "  for u in tqdm(nodes):\n",
        "    k = len(node_neighbors[u])\n",
        "    r_2 += math.pow(k, 2)\n",
        "    r_3 += math.pow(k, 3)\n",
        "    for v in node_neighbors[u]:\n",
        "      r_e += len(node_neighbors[u]) * len(node_neighbors[v])\n",
        "  \n",
        "  r = float((r_e * r_1 - math.pow(r_2, 2))) / (r_3 * r_1 - math.pow(r_2, 2))\n",
        "\n",
        "  return r"
      ],
      "metadata": {
        "id": "FLcsAaxVfgEt"
      },
      "execution_count": null,
      "outputs": []
    },
    {
      "cell_type": "code",
      "source": [
        "print(get_acc(graph, cvc))\n",
        "print('\\n')\n",
        "print(get_pcc(graph))"
      ],
      "metadata": {
        "id": "8dimcPTltL92"
      },
      "execution_count": null,
      "outputs": []
    },
    {
      "cell_type": "code",
      "source": [],
      "metadata": {
        "id": "RXdJFRXolriH"
      },
      "execution_count": null,
      "outputs": []
    },
    {
      "cell_type": "code",
      "source": [],
      "metadata": {
        "id": "YAl3B2nXlr0p"
      },
      "execution_count": null,
      "outputs": []
    },
    {
      "cell_type": "code",
      "source": [],
      "metadata": {
        "id": "9E9LqwXQlsD3"
      },
      "execution_count": null,
      "outputs": []
    },
    {
      "cell_type": "markdown",
      "source": [
        "**Второе задание. Предсказания появления ребер в графе**"
      ],
      "metadata": {
        "id": "wF0GgMdBlsrz"
      }
    },
    {
      "cell_type": "markdown",
      "source": [
        "![image.png](data:image/png;base64,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)"
      ],
      "metadata": {
        "id": "Cm_b8wVYm9Rd"
      }
    },
    {
      "cell_type": "code",
      "source": [
        "def get_sub_f(t, t_min, delta_t):\n",
        "  return (t - t_min) / delta_t\n",
        "\n",
        "def get_w_lin(l, sub_f):\n",
        "  return l + (1 - l) * sub_f\n",
        "\n",
        "def get_w_exp(l, sub_f):\n",
        "  return l + (1 - l) * (math.exp(3 * sub_f) - 1) / (math.pow(math.exp, 3) - 1)\n",
        "\n",
        "def get_w_sqrt(l, sub_f):\n",
        "  return l + (1 - l) * math.sqrt(sub_f)\n"
      ],
      "metadata": {
        "id": "q663JLqVnK_X"
      },
      "execution_count": null,
      "outputs": []
    },
    {
      "cell_type": "markdown",
      "source": [
        "![image.png](data:image/png;base64,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)"
      ],
      "metadata": {
        "id": "2-8NwOTbyJNa"
      }
    },
    {
      "cell_type": "code",
      "source": [
        "def wtf(u, v):\n",
        "  # КУЧА ВОПРОСОВ ВООБЩЕ НЕПОНЯТНАЯ ФОРМУЛА!!!!!!!!!!!!!!!!!!!!!!!!!!!!!!!!!!!!!!!!!!!!\n",
        "  # КУЧА ВОПРОСОВ ВООБЩЕ НЕПОНЯТНАЯ ФОРМУЛА!!!!!!!!!!!!!!!!!!!!!!!!!!!!!!!!!!!!!!!!!!!!\n",
        "  # КУЧА ВОПРОСОВ ВООБЩЕ НЕПОНЯТНАЯ ФОРМУЛА!!!!!!!!!!!!!!!!!!!!!!!!!!!!!!!!!!!!!!!!!!!!\n",
        "  # чё делать?\n",
        "  return 0\n",
        "\n",
        "def get_aa_temp(u, v, wtf, node_neigbors):\n",
        "  result = 0\n",
        "  for z in node_neigbors[u] | node_neigbors[v]:\n",
        "    result += (wtf(u, z) + wtf(v, z)) / math.log(1 + sum([wtf(z, x) for x in node_neigbors[z]]))\n",
        "\n",
        "  return result\n",
        "\n",
        "def get_cn_temp(u, v, wtf, node_neigbors):\n",
        "  result = 0\n",
        "  for z in node_neigbors[u] | node_neigbors[v]:\n",
        "    result += wtf(u, z) + wtf(v, z)\n",
        "\n",
        "  return result\n",
        "\n",
        "def get_jc_temp(u, v, wtf, node_neigbors):\n",
        "  result = 0\n",
        "  for z in node_neigbors[u] | node_neigbors[v]:\n",
        "    result += (wtf(u, z) + wtf(v, z)) / (sum([wtf(u, x) for x in node_neigbors[u]]) + sum([wtf(v, y) for y in node_neigbors[v]]))\n",
        "\n",
        "  return result\n",
        "\n",
        "def get_pa_temp(u, v, wtf, node_neigbors):\n",
        "  # КУЧА ВОПРОСОВ ВООБЩЕ НЕПОНЯТНАЯ ФОРМУЛА ИНДЕКСЫ НЕ ТЕ!!!!!!!!!!!!!!!!!!!!!!!!!!!!!!!!!!!!!!!!!!!!\n",
        "  # КУЧА ВОПРОСОВ ВООБЩЕ НЕПОНЯТНАЯ ФОРМУЛА ИНДЕКСЫ НЕ ТЕ!!!!!!!!!!!!!!!!!!!!!!!!!!!!!!!!!!!!!!!!!!!!\n",
        "  # КУЧА ВОПРОСОВ ВООБЩЕ НЕПОНЯТНАЯ ФОРМУЛА ИНДЕКСЫ НЕ ТЕ!!!!!!!!!!!!!!!!!!!!!!!!!!!!!!!!!!!!!!!!!!!!\n",
        "  tmp1 = 0\n",
        "  for x in node_neigbors[u]:\n",
        "    tmp1 += wtf(u, x)\n",
        "  tmp2 = 0\n",
        "  for y in node_neigbors[v]:\n",
        "    tmp2 += wtf(v, y)\n",
        "\n",
        "  return tmp1 * tmp2\n"
      ],
      "metadata": {
        "id": "WDrXQ1ZcyIZ6"
      },
      "execution_count": null,
      "outputs": []
    },
    {
      "cell_type": "code",
      "source": [
        "from collections import defaultdict\n",
        "from copy import deepcopy"
      ],
      "metadata": {
        "id": "Sr9CLOg4u5rj"
      },
      "execution_count": null,
      "outputs": []
    },
    {
      "cell_type": "markdown",
      "source": [
        "![image.png](data:image/png;base64,iVBORw0KGgoAAAANSUhEUgAAAbAAAABgCAYAAAB8ByexAAAAAXNSR0IArs4c6QAAAARnQU1BAACxjwv8YQUAAAAJcEhZcwAAEnQAABJ0Ad5mH3gAAFv4SURBVHhe7Z0HXBTHF8d/1wApgqBYsERRgi1q7C2IXWPEHmPvUaMxMZZYk1hiTGKsRDFWbCjGhgoKKgoiBKOoqCBV/vSOgHBwd+8/V4CjHBygRpP9fj4n7uzu7Mx7b+bNzM7OgIODg+Ndgoi+Z783jurxHG8RPNVfDg4Ojreed8yROMt/PB5P/pfjNcA5MA4OjrcG5p++Z3++Ux5x/Iv5gTl2ua6rBefAODg4FHDOg+MNU20nxjkwDo53EM7ZcPxLqJYT4xwYB8c7Aue0OP6NMAdWZT/EV/3l4OB4S5E7LvaTT17gnBfHvw65bTOq1AvjemAcHG8xqoLNOS6O/wKVHk7kHBgHx1uMvGkq/5sdF4qotDxUNIecp18PLd4zhVCWifDbl+H1sgsmDWoKger8KyUjCJdPnoVPRA5qtbPDlHEdUaeiMR1ZFiL93OAabYmZYztAR1PYa0Qcegl7L4nRb9YotDJQBb4hMoIu4+RZH0Tk1EI7uykY17HOPzsMJg7Fpb2XIO43C6PetDDK5pXMTuTg4HgLkDswohy6OKMeCWpY0IcDRtDY8Z/RuJ4NSQA+1Ww5kD4d/ymN+rg3WdUSkqjrj/QkyZ8Ozu9OZnwBNVvoSWJlJK8UabIrffXRaLIPiie/TbZkKqhNk89mq86WjSTcnXYssqUGAh7pfnKQXmgIe72IyWeJNQkFjejzq7mqsDeBlJJdv6KPRttTULwfbbI1JUHtyVSByF47Yp8lZC0UUKPPr9KblEYFcA6Mg+PfgLI8Z5PzxHY0/WwCqwaVvDj4CelCSC2+ulXooMQPf6I+vdbS/Xx2kOlIdjWEr8mBSShwQxcy7LyeHkvYoTSR7rl5Ukim8my55LrTvMaC4s6qrLDXiDTtCV277E/x8rS/KSSBtKGLIXVe/5hJTy6ye+TmGULaiOzVkU+hPr4Uo55vaRo9uXaZ/N+oMCpGZf4Vwk3i4OB46yHk1xuMKUPMyy2wOq2nYnJn4KWMHfD54L+2FwQvcc8/EGKBEEL5Ib8OOgyyQXNDxcny4elAR6dEwsoKe43wTVqi75BOqPtaxlU18PIe/APFEAgVEmMi64BBNs2hjcheFdm+6zFl8QXEqrsHvgla9h2CTm9UGBWjrRPjHBgHx1uPAT779Sf00VUdaoJfDzN++wE9SrxEopeRuOW0Gzv3nIBXpFgVWoAUKYGucLTfhh1/nIFfbMnzxZElPsIN1wvwjcwHXoTD56ob3NzvI07uNOWIY/G3y2HYb/8djhduIzSt4ETVEMf+DZfD9tj+uyMu3A5FYXSyRDy6cQVubuz5bu64HytBerA3riiO2e+KF4LkF8vSEOQlv84d/lEFeRMj7q4rvCOkqmN2WXYkvM95IkwqRVrwDTjt3Qun21HIU50vQoL4+xfhuGcPy583glMlqnBNyJD46AZcL/hCKTIfXGXpc78fgme33RVpveIdjAx5UpMew/OKPP1X4BEQx+5UIctGpPc5eIZJIU0Lxg2nvdjrdBtRpRMHaVIg3Nn5XbuP4PLDJJZaJRl/78Sk8ZvwV8Jz+DOdud8vil8cdxeu3hHMEtQRI/ZvFxy2347fHS/gdmhaUXoUyJAd6Y1znmGQStMQfMMJe/c64XapRGUgyOM4/thzAM7u/ngQFleYpopgPqzCoUTOgXFw/IuhjDvYPHMutpy7jpM/Tkff7pNwJEZVFTEn4LF2LGYdiIRhYwtIbq1B/zY2WHUjtURlVQTlpiMhPgYp2QTKz0RSfDzi49MUvb6s+7swrjeLP70FbAd3gujmMvS07olvXGI0xqeZLNzfNQ69Jx1BegtbDO4kws1lPWHd8xu4yNPPN0SNMAfMGDYMMw4nwtxMCKO6NRG6ezqGDZuDo0l1Ub8mq974RjCTXsWKL48jmvXyom7YY2FfS7zXdRIcAphHYRV1sMt6jGlnBZvp23Bk1wLM/HY3Th1Yh6m2PTHzdGJR2pm83L7ti9H2qSwdbSE+Mxvt65miyYc26D9iI7zK9P2E3PQExMekIJt1KvIzk5i8mMzS+LBomoMzX36CYXP24ymr1fk166Gh0BvrRg+B3brryGV3i4NdsH5MO1jZTMe2I7uwYOa32H3qANZNtUXPmaeRWJi4PDw7vgAjvziB+Prd0KdJAFZ3s0K3b68hjcUUl8RHLSOWGkkWkhXPf4n8qBuwX9gXlu91xSSHAMiloSDrPnaN641JR9LRwnYwOoluYllPa/T8xgUK0xEHw2X9GLSzssH0bUewa8FMfLv7FA6smwrbnjNxuiBRsgScmzMUq562wdgpn6Bp6CaMmXsaCYVprhBu9i0Hx7uMfCilLMp6B1aM7KM0Up9Pxl2X07UE5ZuznBsLyVKoRwN2xynepaWcnUot+m6j8ILXH2knaXxtPul2Xk8P5e/RNCEJoh+7ikjUbRMFF9ybdZ2+tNKnDmvvU+Gt0lhyHGVOQtOh5BChulB8kxY1FxZ/31VGWNb1L8lKvwOtVbzQUyKNdaRR5kIyHepAiujEPrTUWkR6H22hUFX0ud7f0PsiYxq2T5lHOZkX5tDwDY8K05XuOJIM+aY06UyOKiSXLs+yIIGoJc13i1fel3WJZloIyMDuEKUprmGPu72E3tdtSct8VRJPcaJxtQVkNv4UpStDNCIJ+pG6ikTUbVOw4h2YkkTaM1CXhC2X0p0CJea609zGAtIfeZQK5nfkXp5FFgIRtZzvRvHKxNGlmSy9BnZ0SJW4nDsr6cP3JtDJRFWupdG0b5gJCRt9Toq5KtI4su+nQ6I2K8lfXbfpjjTSkE+mk86QUhpZdP1LK9LvoHqXqkBKsY6jyFxoSkMdIpTpz71Ms5h8RC3nk5syUUxkM1k6DciuIFEp+2lYzba0quCBknCyX7WdQooEoC0ae2JcD4yD418LH2ZdhqCXubKY61hboylfisTYeNarSIXLoXNITrmOdbNnYMYM9vvaGdHGpjCMfYSAF4pbtCbryn4cDzfBh11bKt+LyeHXx6jJg2GW7o4DJ0JKDFGVRxau7D+OcJMP0bVlYWwsulGYPNgM6e4HcCKExabTGVMntofM9wSOy7swDFFzazTXzcSNE6fxP0VLPwUuZzMwcFKrwnTpGhtDv9grNx4MDfXB41uiU7e6ykpRzxKWjfjIS4hDgirh6Q8fIkKaD3HBKJmJDWzaCfAiKgLJ2meuGKXXoOCVCuMZGrL08mHZqRvqKhMHS8tG4OclIE6RuExc2rUPUT1GYVjBdwx8C0w/8QBBvr9hQHlDz7rGMFYXRtYV7D8eDpMPu6JI9HzUHzUZg83S4X7gBOSiZ4mCIbuPb9kJ3ZSJYiKzRCN+HhLiEpS61m+MhiZPYT93IRwfZgCCJpi44FPUr/zrNo09MVVuOTg4/u3wBUIIWF0llbLKPu8ZHj/LRZ3+y+Fw4AAOyH8HneEVmoTk6JOYbKq6SSukiAkOQwbrE9bQVwWp0PugLVoIpIh4FlI0RFUR0hgEh2WAdGugeHR6+KBtCwikEXgWIo9NCOtJk9FL9AAnj9+HhKUjiDnl/N5dwLvthJOhUsien8R52ScYx5xR5RBAIL9FJiscQjR+vwUa4H/w9Q5VVtB8EXR0hTBv2Rr13vAcCIEycfLkAZJg3HuYDv2axsW+9+MbNoZlgxIKqQBpTDDCMgi6pRWJti0EkEY8g0L0ZSEQKByKTJEohl5frNk5F+8924tpXdui/1JnxBjWxav82oxzYBwc/0kIxCqauPAwvFSFVB0ec1x64MmSERtT/CU+T1cXItalqKHPejiqsArhMcelx4MsORbFo+NBV1fEeijsvKrXIGj8KaYOMMCzU0fgnXoDezxbYfUfCzBI3x+njj/EgyPuMB1rV/EH1lqga7MWf6zshdids7F4/0VcPrgeLoKvsHfdkFdaKVcaWR7y8mRIjggrmuRSRXjMcenxWFyxMcUnsPB0oStivUN2vnjvtTz4aDB8J7z8TmBZHxF8t0xAD9uV8ExXna4EmoYROQfGwfFOopxlrPUHMyURWsK6uS6ybxzBsTD18S8Zktx+wm/Xs1XH2sAqqh7dYSV8Cf9bPsUcoiQ6GvFkjC69OqCiSZSF8BugR3crCF/645ZPsdgQHR0PMu6CXh1UsfHNYTd1OGpH/YmtX9oj9uN56GExHJM/qY2HJ5Zhhc/7mDTgFU1W55uhZbchmLZiMYY30UPNzt/i5IWNGNqgqtWo6j5pUS9PPhkjX9tpegXotEArqxrI9TqM/YHqM0mkiLrgCFe1WRNEql6bBvgNeqC7lRAv/W+huOijER1PMO7SCwWir5DU83A8lwT9luPwk+tD+O2xg2GAPXZdzlJdUCnKHEbkHBgHxzuHDOkZWfI+FHKy5H/LQJoPiYyQn1e0/JQsT4w8Ikjy8yHj18bwaXaon+mBpUMn4tcLfggKfQQPhy8w5aARhtqU06cgMcTyYaR89lcVubDjPCwfUQ9xp7fjSOH09Je4e/oS4tovxNKRqjFJyme9BXaTVFo0nbpUmBAd5y3HiHpxOL39CIqiu4vTl+LQfuFSFEQnx3jwNIxulIhLt8wwbbJ82SwjDJoyEg3DbyGt52R0Lbk2FUt3HkkUvRYlSpmQfEiuQFiUgxy5L5BKIFWFSQI2YexXXjBqWhfG5g1gbpCPjPRcNeejGRKLFUOo+exvwSPkn0c0aFAL9D8vXHnAKnVZGu4fO4+AHJaelAQkqvJNknzks5tkRYlDjjJxkCgSVwcj5nyKxnm++GHoMCzbdxHef3njzC+zsTygKXrL31HxjWBirANKjEJUjgzZzx4jXOHr5O/02POYnSjyIeyIectHoF7caWw/UjS1/uXd07gU1x4Ll46EQvRMfvnKRBXmh3JyoBSZVBEmy4+Dy4HTeK6IxACtJ02EjUlNmJoWvdfk4OD4F6OchKVG9mM6v30VjbTSIx47za/dnWZt3EsehVMJiaRpAeS0zJbM+TwSNhlO688FUlq0FznM7UzGLEzXegLtuBnDLkwmzw0fUzMDviIunsCYWo3eTJ4FM9nKQBrrRyd/nUAtdXnE02tDk7ccJY+nqrmDL+6Rw/Su1OwDO1ryyw7avHgMDRz9A7mpln6QxvjQ4dVDqKGAR/w6NrR43w0KDS8dFq5a0+jFPQea3rUZfWC3hH7ZsZkWjxlIo39wK76ShIJ8ure2G/Xa8LBoBmS+H63oNpR+f66eFzFF3DpEqwdZkAACqj9gJTn6PKewa1tobHMRy3896rfiBN1LiCWfPVOptR7Lo1FHmnvQVzH7L/+RPQ1vUkMhK7lqFD+eiExajqQtdzStISKlWL+T9OuElqTL45Fem8m05agHFYgsN2AbDbHQIZ6oJpk360nzjpynNZ3NqLnNBFpx5D6lRF6jLWObk4gnoHr9VtCJewkU67OHprZm+ucZUce5B8lXMQswnfy2j6PWJiwfcl3qWlCfb/6kcLWZhHFOE6ihSEi1rPrQtG13KDHiFh1aPYgsBCBB/QG00tGHfKLlwn1B9xymU9dmH5Ddkl9ox+bFNGbgaPrBLUY5A1ESSde2jKXmIh4J6vWjFSfuUUKsD+2Z2pr0WB6NOs6lg77xJI3fTXYW1tR/wXY65XKW9iz6hIYsuUAxms2rXBQFogQsrxwcHG8rmgruq0SaGYNnEemo0ag53qul9UCfZvJSEf4sBlS3BSzr6KkCq05eajiexRDqtrCExuiyUpAqNINp4XkZMpJSoFenjvZDlxWQ/XA/1p7Qw5TZ7ZEXm4j0zGzk5L5ESsgVHLjXDaePz1bNEqwkuUkIC0uBflNr1NfPY706CYxM9Ks2PCbNQkxoDNDAEhZGJXs6UmREhSGjpiUam2gz6yQPqeHPEEN10cKyDiqtSfm7OZkOBLnMvkJToGPxPrOHqmujrH3DOAfGwfEW8yYcGIcWZLphbsclMDp0D7+UXOok7y42b3yGWT9MgJkqiOO1UGqleu4dGAfHWwrzXdyq3G8JstQQhMQ+g9O69Th26zGiEpIQF/EEfpf34/vFp1Bv3GjOeb1+Sk3k4HpglUS7FnEews9vwpotx3HtQRQyBXXQpEUrdB44EQu/mohOZv9Iu4HbZ+cdgut5vW28lWX6P0fJYcT/vANTtXK5NbdKwzm8CuBsh4PjzcI5MBVc5cPBwcHxzlGsYa1wYDKZTJcFyhc/5uDg4ODgeGtR74UpBm7ZcfXnunJwcHBwcLxmVKNnCgp6YHWZE4tXhHBwcHBwcLzFFPTCCnpgr+pbPw4ODg4OjjeCwoGxLtl/24FJUvDkyiEc80rSal2z8pDEPkZQUulYZGmBuPMopXj8uWF4FFylhS3VkCEz3AsnD18pWjPuX44sMxxeJw/jymvIcCn9ZUfC59wR7D/kDPe7USimrWroLzuS6WzvVqxftQo/bD0O37jKruD6eiklB2kKnnqexZFDx+HiF1V8BftXYsfvEK+ovtBUV8iRJfnipLM/UgtOvyIZa1d2xAi9tBPbzzxBZZZ0VkeS8gRXDh2Dl4b8vVJkMllb5sT+k+SHuNDGca1InyeiLhufqO2WWlkkFH1xLc1a7kxhalvkStMD6fQP46lDbT1qt/pe0VptcqSJ5PnLfFp2LJhUy79VDmkq+R+cT93N+CRotpA8y9ya99+ElFL9D9L87mbEFzSjha80w6X1l/nXFhrWWI/4fD7xePJ173So4eCfybdg2bsq6S+fwo/PokGT7emv5FxKvWdPIxuLSN9WbWfkf5TScpDGXqDFH7Wi1t16U/dW9UiPb0BWk49QWEF6q2vH7xCvpr4ou64oRBpFx8ZZkG7HH+hRQYVRbRlXouyIfWiJtZAEBbs5V4p8CnHZSONa6RNP1IU2PnktRl388x7mwDqrTvwnKdjuu+oGKaWYs59TnzEOFKRuF9IY8rvkTp77J1ITgai0A5MjTaarXw+jGU7PtXt2fij5+KoW1VSQSY52NUj4r3Vg+RTq41tsAddMRzuqIXyVDqwM/eV407KPBtCaSyH0QpxLyU8u0vrBFiRkTuzD79S3za+c/qRxh2lk3Q9pbUCRJWQ9OUu7nR+qtnSvJqXsozKUIQdWmTp+OYccHmSqAtLp1pIPSEf4Pi25rSb/ytrxO0z16gsNdUUhEgo7MJXamItIpO7A5FRaxlUtO1JKe3KNLvvHV1GXEgr6sSuJXpMDU7ktBdw7MDkCQbGdTCuLNOwPzFkajfG/zsL76suk8Rugy9D+6GXTDg01fajPN8OA7+ZB+PM8OBTbl6kssuG7fgoWX4hVLIWthA8+/9/7OV+273pMWXwBsWpmy3pEr/QDxrL0J/Zxw8tp+/H90OYw0tGFWcuPsfLAOgwxliDwlhcKt1iqlP6AHG83eKYbo3btIoMwaDkCc8e0rfxiqaUoyz60p0w7fhGFOuN+wpwPCvbUMkaXjz+CBU+MnFx1pVRODu801agvNNYVKiRBe7DezwazepdhDZWUcdXLDh8mLftiSKe6Vc6ngMnoTaDFO7AshHqewr6dW7Hz0CUEFg7KqsiLx9+u3oiQZOO5txP2Of2FwmFPaQoCXR1hv20H/jjjh1j1vdZKkYnQ2+5wc3PDFe9gZLA4ZEmP4XnFjYVdgUdAXLHx5owgDxz/Yw8OOLvD/0EYir1C0OK54oRAXDuxF3scryAoq3Rxl6Xdx5mjlxGUqQrQSBoubtiIgF5zMLGJJi9VAcYDMWtQNDavc2GxaSIDf++chPGb/kLCc39cdXPH/bgSuqCXiLzlhN079+CEV6Rib55iVEofDFkCHl6/otBJ8R+TeZTafq0VxJsX/zdcvSMgyX4Ob6d9cPorSXWG6SH2b7gctsf23x1x4XZosR1lM/7eiUnjN+GvhOfwv+oG9/vFbYBlGC8jb8Fp907sOeGFyIryUyZl60/aZCK+mdhIWUBU8M1ao1UDVnkZGsFA/YRW+stDlL8bzng8QpYsExE+V1WydMXFc6dw2OEMAoq9WMpD/N+u8I6QIPu5N5z2OeEvVcEq2/a1sI9y0WDHJj0xuGct1YEcGVJDI5DTbgom9yxRbWglhwIyEORxHH/sOQBnd388CIsr2h9Mjha2Kk0KhLvTXuzafQSXHyYVv1+OOBZ/uxyG/fbf4XjhNkLVjUuOLBuR3ufgyZyBNC0YN1hce51uQ920C6iovtCOCuoK8UNs3xiET74fh3plnFagpYyrXXbEcbgrr9fV/WR5dT2rbRICr+HE3j1wvBKEKouokhSIqezGX5YvNvXrgDk3G2LYlHFo/WwDbLrMxGl5wWCV250DizGweVN0nbITx7bOxtjPZmLOlMU4xHItS/TA2rGzcCDSEI0tJLi1pj/a2KzCjZIOsBAjNGqagzNffoJhc/bjKbNGfs16aCj0xrrRQ2C37jqUX1rLkHBuDoaueoo2Y6fgk6ah2DRmLk6rmsQVP1eC8BOz0Wf0NoTW64belgk4uHI/nhRr0EgRZD8H46eMwJQdTwo3dSsLWZILDp1LQ0eb3qj6vq9CfPBRF0jP78Of8RrkkxuHJH4tJiWCJCsZ8fHxSHupdi1l4M7mmZi75Ryun/wR0/t2x6QjMYVGW3l9MHJv4JdvHfEgLh2ZWVnISg/A3tnD8PH4H3ErU2k65cUrS7iDA4sHonnTrpiy8xi2zh6Lz2bOYa3CQ+zOLNzfNQ69Jx1BegtbDO4kws1lPWHd8xu4xMjTlIu4JD5qGbGsSbKQzPIbn/ZSrRASMu5sxsy5W3Du+kn8OL0vurO4FLdWAk3607e0xnslW8iSBMSn6KJbPxumB3W00B+zu6ykaITFZbA8iJEWG43o/0UhItgXh76dgumL9uGuohJh9n3nABYPbI6mXadg57GtmD32M8ycw3pWh8I0235F9lEB2tpx9mOWtsNG+OnkGnQt1ezVRg4MVnecmzMUq562wdgpn6Bp6CaMmXu6sFdbsa3m4dnxBRj5xQnE1++GPk0CsLqbFbp9e62wUs+6vwvjek/CkfQWsB3cCaKby9DTuie+cVGWCXGwC9aPaQcrm+nYdmQXFsz8FrtPHcC6qbboOfM0EguTr019oR3ly/gl/vplM2LGr8WIeuX1kbSRcTXKjjQKN+wXoq/le+g6yQEB8l04K6jrIQnHidl9MHpbKOp16w3LhINYub/8evOVIpPJRitHF4uTc3Em1Rea0eSzytF5SchP1F1Ug4YfSlccE6XRoeEGxNNtRQvckkmaE0m3Pe5TojSFzk5tQX23hReOoaadHE+1+brUeb3apnOlSKQ9A3VJ2HIp3SkYos11p7mNBaQ/8ihlKwJSaP+wmtR2lb8qHgmF26+i7SHyJ1X83PzAn6l3rQ9o5V9FY8C5N7+iFsLiY9ri0PO0Yek6OhNS3lgxk9GF6VRX9B7Nv6b5back9GfqKdLwDkyF5OlG6qJjQmOOa9oYj0gaZ0/9dETUZmVB3uVk09GR+sQ37krLryWQYq+4nBu00FJIegN2U5wioIr6ePEn/XE0Thknu+rxr33IWGBMfX4NVN2jRbxph2i4AY90Wy0gt2Qp5UTeJo/7iZR1/Uuy0u9Aa+8XPV0a60ijzIVkOtSBIuQRSuPIvp8OidqsJH+1RGYfHUn6fGPquvwaJSgzTDcWWpJQbwDtVmZYa7TRXwFZrrOpWcsF5F5g/mpooz+5DO+uaksinYG0O0EVRGLy+roFCXU/oYNqt6YdGk4GPF1qtcCNkqU5FHnbg+4nJpVj+5rsQzsqkoM00YccFg4kS6ZL1rQko7ZzyDmyQOtFaCWHlP00rGZbWlWgVEk42a/aTspsVGxTOXdW0ofvTaCTBRtvSqNp3zATEhZMOsi6Tl9a6VOHtervKmPJcZQ5CU2HkoPCuFi5vzyLLAQiajnfTbFhJbuRLs20IIGBHR1KU1yidX2hDeXJ+MWt1TR+mQerUeVkk9NYo9LvwFRoJeNqlZ10chxpSHzTSXSm8MWspro+nwJ/7k21PlhJRSLKpZtfMZt+U+/AGGUOIerZLsPho8ewaoC8g5aL2NAY1m6WIiM1XeXN9WBsXAN8w47oZ2MGvl4T9OjXHnXS5S2NZKRcX4fZM2ZgBvt97RwNY1NDxD4KwAvFvWVTfKlGObwSYfpo3NAET+3nYqHjQ2RAgCYTF+DT+gIgtaLn5uG2wx741emHIe2KmtfCBvVRp8RzdSyHY9XPazCyeRkD1YXIkBgewVp9BjA2qt6YL8/IiMWSjZCnYaqQysE364IhvcyVCtWxhnVTPqSJsVA00iqUiwaMRmHWxHqKOCVBu7BwgxfQew12LWrN2oEMbeLVM4ZxDT4MO/aDjRkfek16oF/7Griy/zjCTT5E15ZFm+7x64/C5MFmSHc/gBMhFbTf+GboMqQXzJUZhrV1U/CliYgtr+VfikroL+8xdm8Pxtjf16O/sSpMjeror6x3mHrGxqjBN0RH1tsz4+uhSY9+aF+H9Ug02X61qFgO/DrdMWfHZdx/dAMOcz6E4PE+fLnWhaWhOFrJQb8xGpo8hf3chXB8yGIQNMHEBZ9CkY0KbSoTl3btQ1SPURhWR1V98S0w/cQDBPn+hgGsJsu6sh/Hw03wYdeWSjuVw6+PUZMHwyzdHQdOhCh6BzxDQ+jz+LDs1E21EaUeLC0bgZ+XgLgE+RXa1xcVU46M09yxzh74YnU/mKiCyqO6dUXFZUeX1ev6Jd6VaajrJbfhsMcPdfoNQZGIhGhQv84rfU+tCZUFaNi0VN8KA8a0R5rzOixftRWuiTrMfRBkJXd6YAVQPbF5zx7jWW4d9F/ugAMHDih+B529EJqUjOiTk2Gquq5q6KHvmp2Y+94z7J3WFW37L4VzjCHqGmjxXNY99r37P1DteqhX3TKvgJDzMof9qwudar6B5+vrowZr3Ga/KM+9awlfAKGAaUQqVbwXqLY+pMHYvfAH3KTeWLNrEVqraoXKxMtXb4VIYxAclgHSrcHsSR09fNC2BQTSCDwLkY9daAsfAqGA2aAU0lIvQspDW/1lwHvTBoRNPYyNfcquYl6p/grhl2i8abb96qGtHAQwamqDObtPY2N/QyT73sKjEu+LtJKDXl+s2TkX7z3bi2ld26L/UmfEGNZllbIWNiUJxr2H6dCvaVxsggHfsDEsG8itSYqY4DBkkC5qFDcu6H3QFi0EUkQ8C4Em6xII5FWiDDLVcNqrqy80yTgNl1etx/Mu3SD+6xquXZP/buJpMnOgmVHwv3ENNx7GsxQV8WptrZJlp0RdL43yxd3/EWrXq1dMH2+KAgdWttmme2P9gI+wKmYwVm5cgVm2jVmLRXWuPJiDk8niEB5W7K30K4PfYDh2evnhxLI+EPluwYQetljpmV7xcykLzIaAF+lIeyUvGXkwqWUMPmUjO7MyLf/SyHJeIod4MGCtq1dOtfQhRajDInx/g9Br9U4sLPBecqoaL485Lj0eZMmxiClWAfKgqytilTY7r5WhVRdt9JeLR3uW43jDtdg2/j2NhfS16k8NjbZfLSppx6zH07sHa2iw+0pqSTs58NFg+E54+Z3Asj4i+G6ZgB62K6HIRkU2Jd+mPk+G5IiwYhN+iuAxx6UHniwZscWNCzxdXYhYi6AGcwBaWdcrrS80yJj1fJ4GPcHVdRMxevRo1e8z/OKdA0n4MSwaOxrjN92APBkFvClb0wbKYmlhf1+kpzHn/OYpx4FJ8GDrIqy/0wIT53eBYtRExry0/C8zsvISK7S0RnPdbNw4cgzFZnvKkuD202+4rvHzblVypKwFpPwfIw/5xVoGqTjveA5J+i0x7idXPPTbAzvDANjvuozcip4rboxmTfQgCfHAlaAymhuV1gAftVq3QmNeFtIzqqc+yshENtVAs/ebqUI0wWTPmodaVDOFVF0fTBXh8qEiD0h7rsKuL9tAOUqQDj+fR0BV4+U3QI/uVhC+9MctH/WKSoLo6HiQcRf06lA0KECkahG/cirSXx5CjyzFDvFs/DKzZdEwBatgb3kGKnq3BWivv+qg2faL1miovH1U3o5lyMx8CdMuPdGmxAi7VnJIPQ/Hc0nQbzkOP7k+hN8eOxgG2GPX5ayKbTW/BVpZ1UCu12HsD1SfOidF1AVHuCYADXp0h5XwJfxv+RRbMUQSHY14MkaXXh2KdFkewldZX2iQseB9fHM9Genp6Wq/WBwYYQhhuxXwSU5HwonPFL3TAipja6+v7CgRNm6GJnoShHhcwSupUiuJwmOU/R2YBFFRMaxbGY6HD9JZwycJ/n96IFhKSIiJRhYTohyplFlZfj7y1YTErz0c0+zqI9NjKYZO/BUX/IIQ+sgDDl9MwUGjobDROORhgAYNaoH+54UrD1iRlKXh/rHzCMghSFISkCg3aFk+4lwO4PRzpXUbtJ6EiTYmqGlqCp0Kn2uCYVNGoIHkHuyX7MBdRRbEiLzli0gZIfl5COKzlK229Bvf4WObUfjJq+Qof3F0Og6Gbb0UhAQX7+arQy9fKmZQSsvpo0siIxCj1w0DbDW3qvhGJjDWISRGRSFHlo1nj8NZqJQ5eBkon7VMC6yFtVLF7IAkSr1UWR/SCBxYtBpXJT2xyn5RUWWVdgMu15JBWsXLGj0KE8lXk48QHectx4h6cTi9/UjRVN2Xd3H6UhzaL1yKkfLxR74RTIx1QIlRiMqRIfvZY4SzOkvKWjQyymct8cIMI0+cxwqrhD1H+RRp8H5M6tQGPWccVMxo1YRm/Unxvz/n47Pd2WjGv4ODu3Zhl/y3cwvWTpuGE0kNit6vMLTRnzyd+Xn5rFBLIGE6KyA/Xy4AMcTqGxoxoTHNFuZHQTm2L09LmfYhDcb+SZ3QpucMHCxHEBrlkBmIcw6H4Pm8yFnI4s9jz40m+PbbYcqGrRrayEGWHweXA6ehzIYBWk+aCBuTmjA1FWphq3UwYs6naJznix+GDsOyfRfh/Zc3zvwyG8sDmqJ3XT6EHedh+Yh6iDu9HUeKjAt3T19CXPuFWKowLlYu5eWDmZCMlX0lhJwceT6lkLB6DtCyvqiujCuJVrZWjbIjJ18eJmF1ilpCy6rrYTIMU0Y0gOSePZbsuAuliCJxyzeSPScZz0PioRSRduWxShDR98r5HcVJdVtM7Yz4xBMZUV2rvrTE2Ym+tBKx47rUa/VpunNwGfWzEBAE5mSzeDddfJSmmrFGJE32pA0fNyMDvnzWEo8Exq1o9GZPKpg4pIncgG00xEKHPaMmmTfrSfOOnKc1nc2ouc0EWnHkPqVL42m3nQVZ919A20+50Nk9i+iTIUvoQowy4gqfK00mz43DqLmRkEQ1G1LLD/vSnPVzqbNJI+o6+iva6h7JLpJQ2Pa+ZMQ3JNttoRXMNBLT3TUdyHSIA8WWzJs0lR667KFvBzUmEY9HulZj6cfDl+lBKSGIyWdJK2o06TSlqELKRBpHThMakkhYi6z6TKNttyMpwGkZ2ZozHQmb0PD15ygwLZq8HFh+jFmYrjVN2HGT5KKpvD6kFOM4iszZ9QathtPcBQtowYIvaN7M8TSgpTl13/hUIZfy4pXG36GDy/qRhQAkMLehxbsv0qO0oge+uOdA07s2ow/sltAvOzbT4jEDafQPbmorB0gpzmkCNRQJqZZVH5q27TZFBjjRMltz4vOE1GT4ejoXmEbRXg40t7MxC9Ml6wk76CbLcK7HF9RUxNIktKLF3uXNJC1bf6nXllIHQ3meFI3IYj9Bk8/JLUt1oQJt9JdDIVe30URrZtt8E+q2YB95R7+gINet9Nn7rEzxjanz3H3kE5dP8XcO0rJ+FiSAgMxtFtPui49IIbYKbL+UfdxJZwXKg75oyuKHkKwWe7OUaqJsOeQ/3EQ9jHjEr2lFH8//jn788Tv65stVdORBWTPgtLNjafxusrOwpv4LttMpl7O0Z9EnNGTJBYWdKs5XaKvp5Ld9HLU2kecLzM4tqM83f1K4+oy9F/fIYXpXavaBHS35ZQdtXjyGBo7+gdxUxiWJvEZbxjZn5VJA9fqtoBP3EijWZw9Nba1HPJ4RdZx7kHzlUxO1qS+qKePSlDcLUcu6oqplJyKMbh1aTYMU9Xp9GrDSkXyiYiqs6zcOa05GQhHVbNiSPuw7h9bP7UwmjbrS6K+2knukpBLlsWJYGSyOTCbbpDpXCnFKOD0OjqNsVWrzU8LoSWSaltN0JfQi+gk9CIyg1IpnKReRk0ihgU8pVjFvXkzpadmFwpIrRixmT5dkUvST+/QgNLGMtcG0eG5+GkUEPqLwVBaXOJWS00u6qVyKfx6n3fI+qa40t1UnWv1X1RYDksY70YR2dvSHNovhSdLpefBzStPi0tJUUR8VUr14xcymHj0MpcQyxSeh9OfB9LzSGZZSdvJz+nPBJNoaWsG9b1J/1UIL2y/DPqTZyfT8zwU0aWsFjTENcshNeEJ3PD3J92kcZZUTgdZykIpJmY1oenL/AYUmlmU0WtiUXA5BQRT9opzaSJxCYY8esmdUTbeFVFBfVFfG2lI5W6tq2aka+WkRFPgonJQiSqbiIqpEeawAldsqgjmwrapzHFUk884GGjxgNXmV8Y1QueSH0uFpn9ASV9U3XByvCCmleP9M89ddo1RVSHn8m/UnTfGmn+evo2taCIKz46rBybgiKlcey0PltopgDux31TmOapDmu53mzdtJvmmqgIrIDSbntYvpt5uJ/8lC/1qRhNDV03cooRKNvX+n/iQUcvU03amEIDg7riycjCukCuVREyq3pUAxm5Q5sAM8Hm+6IoSjemQmIklgjjolvkEpE0kqUrJMYGZSMBmU4x+H058STg6vH07GVYL5qsKvIAoc2DEWNkERwsHBwcHB8fbyA/NXij3BCty5Vp9FcHBwcHBw/MN8p/pb6MDKXUCGg4ODg4PjbYNzYBwcHBwc7yTcECIHBwcHxzsJ58A4ODg4ON4piEgxiaNgFuJDHo/XVv7/8pDEPkaoqCWsC/bhQS4SwiKQIi6Ymi9FWkgian3cD62EuQh79Bx1275f+Z2KM4Jw+eRZ+ETkoFY7O0wZ1xGFj3yjyJAZfhuXvV6iy6RBaPpP7BfwuhGH4tLeSxD3m4VRrQoWRZQhK9IPbq7RsJw5Fh1KLNj61iBJwZNrLriv/zE+612nsDWmFbJMhN++DK+XXTBpUNPXuxWEJBaPQ0VoaV1GGlk6Iv2uw/NBAgw6jsDozjURUdVy8w6hXpdkx4ciKjVPsU5XMXg6qNW4OeoLwvDoeV20ff/fLJF/gCqVHwliH4dC1NK6sE6Wpgbjzp0AhCYB9dr1hm2HBkU9otzXp7vC6fTMgT1TfiKmCQlFX1xLs5Y7U5jaMlaSxz9SNz319eL4VG/SadWuolJK9PyF5i87RsGVWF5ImuxKX300muyD4slvky2ZCmrT5LPKvZjfKNJU8j84n7qb8UnQbCF5Vm/5rrcWsc8SshYKqNHnV5XLEknCyX3HIrJtICBeiV2C3ybyQ1xo47hWpM+r/M640lR/Oji/O5nxBdRsoWc5a9dVH0n0RVo7azk5qxccOZI48to5h2zadqNJP56lhykFOahauXl3KFGX5D+idZ10FGsaFtUjyh9P1JnWP2ZykSaS5y/zadmx4DKWjeOoClUqP5Jourh2Fi13DlOVmXwKPT6Lenw0k+wv+dJdn/P06/iO1H7SAXpasLrXa9QdsxElzIE9V4WVgZRizn5OfcY4UFCxMphJbvP70LjNx+jEiROKn5PTOfKNUV+XTErJV7+mYTOc6Ll2EqLADV3IsPN6ktutPPP33DwpJFN59rWTH0o+vjFqyswkR7saJPzXODBmcD6+aovlMqRp9OTaZfKPVw/MJfd5jUnwFjswOZKgH6mrSLsCmB/qw2xT7apMR7KrIXytDkwac5Y+7zOGHIoXHKLsQPrj0xZU0/JT2v+4rMZZZcvNu0LpuiTXazn1H76WDl/0IE9Pz8LfxTUfkUnH7+lhYUWYTFe/HkYznJ5rV9lyVEhlyg8zZjr7eR8a4xBUWF6kiUdoVG0LmuGiZsNpJ2l8nTr06Um1JUZek+5U7kvhwOJVYaWQhO6hj5t/THsiiy9gIo3aSyNsv6P7FZb+dLo050Maal/Rqu5yXjCHoU+ibpso+I1baRbdWduDuq30V1uoOJuOjtT/1ziwrDtrqUe3leSv3sYoEzHdXNSchG+7AwvZTD20KYBZd2htj260Uj3j2UdppP5rdGCSUNrzcXP6eE8kq7bVkCaQyxwr0tXvRGv9yhtZqEy5eTcoXZdIKPisE/mUsrE0OjW+Pn24NqD4ouHpl2jOh0PJvpqLwXIo0br8sLOhez6m5h/vIXU3kO/3LbUW1aWp59S2ZhB70ddWNajPtihVgIrXoDu571KMYvJ4PA3T6NNwccNGBPSag4lN1EdI83DPYRcuea5Dl7qW6Dp8Hn52eVZs87gijDFw1iBEb14HlzRVUBnIEh/hhusF+EbmAy/C4XPVDW7u9xFXsPeMOBZ/uxyG/fbf4XjhNkLVtmPNDL0Ndzd2/RVvBGewcFkSHntegRsLu+IRUBQHIy/+b7h6R0CS/RzeTvvg9FcSC83A3zsnYfymv5Dw3B9X3dxxX/0mOfQSkbecsHvnHpzwioT6VnrlkZcShFtn9sN+9xG4BqZCkvEEfoFp8rdrCL3trkyjdzCUyX4MzyssH25X4BEQV3zPoKxQeJ7ah51bd+LQpUCkFjspQ3akN855hkEqTUPwDSfs3euE21FFO9Jm/L0Tk8Zvwl8Jz+HPZOt+vyh+cdxdhUwKdk4qD2lKIFwd7bFtxx844xerpRyyEOp5Cvt2bsXOQ5cQWDzxLPnZiPQ+B88wKaRpwbjhtBd7nW5DLfmFiBMCce3EXuxxvIKgrKJGmEYy/sbOSeOx6a8EPPe/WtymVNDLSNxy2o2de07AK7KMHElTEOjqCPttO/DHGT/EapHptIsbsDGgF+ZMbFLs3UL2rY345kAYao//Dku6lLeGkHblpoCMIA8c/2MPDji7w/9BGOLkey5lhuK2u9KevIMzmL5lSHrsiSuKsuKBAHVBiONx98IVBL5klhnmhT/322P3KT/EK/ZuYmGRfnA55ICDFx+VsD1tKasuEcBqxKfoXnJbq3R3nPGsi49HtC625xqMB2LWoGhsXufCYquAauVHipRAVzjab8OOP87ArwyFZ4V64tS+ndi68xAusXJdLIpK2LO2vKrnVbr8yEm7iA0bA9BrzkSouwH+e9ZoYZCMc1u24a5qR9XcR1dxK6k9BvatrwwooDK6qyysB1bm8KQ08TCNMDGk4QdLrB/MuoTe+76jZQsm05APLagGD4o9jjp+40oJZa00metKsyyM6eM/4lQBpZE8v0UnDmymT5sLSdhiPP184CAddLxGoawJlnlvJ43tbEuLHG/T4yA/Or64B5mbd6PFF6KVrdvcGDo/uwUJhS1p6R15ezqXkkM8aFV3feLpj6SjrKErjfeh/V8PoEZ6Aqo9bj39/FlnaqjPI1HPn4lynpLrrunURiSgRnbraP9BR7omf3BBD6zpFNr0w3gaNPxTGtOzEekK69EYR9WzNSKm4KOzqGuXCfTreV969OAa7fqsPdU1MaCOPzxStCxzY87T7BYsvy2XkjLZyRTisYq6s3TpjzzKnq4k886P1Le5LX1/O47So6/Rim6mZDnNWbmnUG4QXVg3kixFfDKx+462zR1JI8aOpK4WOiRqOImcFQrJoaeuu2h6GxEJGtnRuv0HyfFaKOU+v067FtiShQ6fTCedUds6pqwemJQS3NfQyBFf0+9/XqBTWyZRK8Na1HXldUopTxCZd+jHvs3J9vvbFJceTddWdCNTy2nkrNoQKTfoAq0baUkiZj92322juSNH0NiRXVmaRNRwkrOaPeVT2PFZ1K3nTNpz/QEFeh+mb4a0IBN++S3InKeutGt6GxIJGpHduv2FNlXQA2s6ZRP9MH4QDf90DPVspEvCemPIMbooQ9IEd1rD0vT173/ShVNbaFIrQ6rVdSVdLy/T0kQ6PMKEDIcfLLHydjo5fWpKfH4dGrZyE80Z2oPat2lHPYbNpd+uqw9dq9Ci3Mj1En92NvUYtYMepGVTov/vNLJ5f9qhyEMuxZyfTS2EQmq59I6ip5mbHEIeq7qTPk+fRsoLBntq+NXfaGo7Q+Lp9KQFGz+nkSMn0syJPclCpEutFp+n63u+odmz59OcUR3ITGhMvX56ULxnpAUa65IySDs1nup9UPZIQa7rLLIw/pj+iNMk/2rmh/WQ3dewMvT17/TnhVO0ZVIrMqzVlVZeT1GV90y682Nfam77Pd2OS6foayuom6klTXOOVZzX3p615VU9r2rlR25fiYdHkInhcCqtuhy6/4ut4l2yec+v6cDJLTTR9hNafSmqzPgq1l2l+V7uvHRVB6XIuTCd6oreo/nXynv9lktRHptZodFjTqwujSqrYpc8pY1ddMhkzHFVgAYkQfRjV1HxIcSs6/SllT51WHtfzchiyXGUOQlNh5JDhPLCxD0DmWMpcGBycsl9bmMSqByYgrRDNNyAR7qtFpBbspRyIm+Tx/1ExSlpnD31Y0pvU8YQIt+4Ky2/ptrCIOcGLbQUkt6A3VSeHsR3v6dOJh1ozb2i2PID1lIH1mUvcGAs1bRnIKs0CxyYnFx3mttYoObAcujizPokNJtMZxUeRkIhP3UnUY3hdKhgO4bcy6yiE5Co5Xxyk2/Cx8i6NJMsBAZkd0g1Fi2NI/t+zKm1KVExpDvSSEMtHFjKWZraoi9tK9yHKI1Ojq9NfN3OtL7wRUVpci7OpPpCM5qsTDxJQn6i7qIaNLww8fLkM8MWiKjlfDdSJj+LLs20IIGBHRUkPz/wZ+pd6wNa+VeBoNh9N79ilXPFBTDOvh/piNqUMYTIJ+Ouy+maqpTn3FhIlkI9GrA7TmXDKXR2agvquy28MP60k+OpNl+XOq9/qGYnJci5QNPriui9+deYFaoh120jgWLz0ZHbblJEejalBrvQmj7mJNBrTV9fL7G/hlblJoX2D6tJbVcV2C2rwO1X0fYQVYoT99BA3SIHJifXfS41FhQ4MDn5FLC2PXPyTWjKaWXFSJRMjiNNiC9qSfMuq2xfGklbbXRJ1GEtBWhWeZloV5fIkQ8f1qM23/qVKV/J043URceExhwvb2y76vlJOTuVWvTdRkVmfpLG1+aTbuf1yvdxORdpZn0hmU0+qywvkhD6qbuIagw/xJonSrSxZ615Rc+revnJoQvT65LovflUturS6M4vg6iBkEfg1yabtTdUaSiNdrqrHHzNw4cyJIZHsO6eAYyNyptkrItG/ZbhlOsWDDJJgquTW+kuIs8IRgZAdshTVYD2ZF3Zj+PhJviwa8ui4QR+fYyaPBhm6e44cCJEOfRVtEBxIQWzLAvRM4ZxDT4MO/aDjRkfek16oF/7OqqTmuGbdcGQXubKoSAda1g35UOaGIt4jUMp2XDb5YCHzUfi0w+KBkH4xsalpkaXTjavRJgebJcdxtFjqzBArqncWITGsP66NAOp6aoE8AxhqM8D37ITutVV9vH1LC3RiJ+HhLiE8ocGdZlM2L0VkepyCOeSU3B93WzMmDGD/b6Gc7QxTA1j8Sjgheqq0ujZLsPho8ewSpl4xIbGIIulKCM1vXAYhGdoCH0eH5adukGZfD1YWjYCPy8BcQny1OfhtsMe+NXphyHtiub0CxvUR52Kk14OfJh1GYJe5kqZ6VhboylfisRY1ZbvqS44dC4ZKdfXYbYizzPwtXM0jE0NEfsoAJpyLUsMRwQrBAbGRsWn5+fFIDZZBlGPRfht4Ud4z1gftayG4TuHpejBe4r9W88gUd2mtCo3+mjc0ARP7edioeNDZLAnNpm4AJ/WL3gysyfV/wphBlY8jAcjI2aZ/HqwbqOycxihuWU98PlN0KGrKoxfF+81NgLFRyO6UtvCa1uXMBTDh6YYate++PChCp6REYslGyFPw1QhZVHV/KTC5dA5JKdcx7rZSn3P+NoZ0camMIx9BIWZ69li2eGjOLZqgGL5otzYUCiLYyqKimNF9lwJXsnzqlF+ZIkIVxozylRd+jP89bcUfRZ/hcGNs3Br/RD0nuKI0DKGL7XTXeXgMyemwYERcl7msH91oaPhCnWEzafi82G1WcUeh1I64utDXz7OmK25oisbKWKCw5BBuqhR4nWB3gdt0UIgRcSzEOSrwrSFeW3V/6oAXwChgN0vlUJjGZY8ge/dZPBq10O9CsqrNuhbDcCY9mlwXrccq7a6IlGHCYNkKGNrtyIEAkUhZT1s5XG1yMOzx8+QW6c/ljscwIED8t9BOHuFIik5Gicnm6quKwN9KwwY0x5pzuuwfNVWuCbqsCqXICs38fLkK1LP0s/+SKOYPP8HekXy1ARfIIRStUrN5j17jGe5ddB/uYMqzwdw0NkLoUnJiD45GZpyTTkvkcOyp1uy4KgcB8/AEDUVFY0SQTMb9GomQPbj+3iqblRalRs99F2zE3Pfe4a907qibf+lcI4xRN2CT/qqDB8CYWlhC1kY5eZq/Q5YifZ1Sbr7GXjWGgq7D8v++JCvr48arLGf/aKydYkW+cl7hsfPclGn/3I4qPR94KAzvEKTkBx9Ekoz14fVgDFon+aMdctXYatrIpTFkVj+NFPMnivFK3hedcoP5eCl0pgVDrQY0iDYfzoSB5qsxx+bf8Olv9zx40AzRBz/AtO3P1FdVETVdacZeQ9MwyocPJjUMmYeLhvZmdpIXRcNG9aFqKYJTEr6B5lSCDyDkm9rK4LHHJceeLJkxMYUd+k8XV2IWIVQgwmlGu7o9SB7iayXzHjSk5FcyQZXWaR7r8eAj1YhZvBKbFwxC7aN33yeiTlMWVw4wsqeqaOZdG+sH/ARVsUMxsqNKzDLtjFrLarOaQtlMfthf1+kI618v/dqYU5WJotDeCUzzTOpBWM+K6jZmcqeXAE6lrBsJIAsJal4I49nBtNa7E/JhpWW5YbfYDh2evnhxLI+EPluwYQetljpma46+zagbV2SDvczN1BzsB06afh4XqZoHPBgwFrzrx7mFFiNHxcepmFCmpx0eK8fgI9WxWDwyo1YMcsWjStt0JXhFTyvOuWHZ4JaxnzWiMpGSdXl+f6BHTfNMGxsJ+ZmmR3W6YVvT+7HrGa58LvgqrxIjdehO3kPTIMD46NW61ZozMtCeoY2uc5AUFAiWtrYQDUiUwRlIDObUKPZ+6oAbeGjQY/usBK+hP8tn2JGJYmORjwZo0uvDoqvvpWPlBZr4eTlV2qcg6E0YG3cdbkIGuO9hgJIHnviemxRbPK4i0tSJSip+jPzUCzZkgfYumg97rSYiPldjBVBMtb7k8N0p/hbGRSOqNIZFMLSujl0s2/gyLGwYkOSsiQ3/PTbdWSrjosjwYOti7D+TgtMnN8FitTLpMr7Wdq1Tr2wMZo10YMkxANXgsrQqTYRKZxR5TIutLRGc91s3DhyDGHFMw23n37D9bIzDX6t1mjVmIes9IziSdPpgIF96oNC/sY9df9CqUhjxzWsP4C1+riZVuUmFecdzyFJvyXG/eSKh357YGcYAPtdl6GYGFZoYmp5z8vXPHrwWtCyLpEPH94wxpARnaFp8RfKyEQ21UCz95upQl4hQktYN9dF9o0jOFZc4Uhy+wm/MYVLHmzFovV30GLifCiLo0w+GMNg9lz54lghr+R51Sk//Fpo3aoxeFnpKKk6WUoKc4i60NVTc6jGNhjUwxi8HNW0RDVeh+7k5q2xU6/TcTBs66UgJFj1TkBF7qMjWP3ND3D0L5jOKUOq54/YGfkpNixoW3rsWhKJiBg9dBtgqwrQAIkhlo8H5rO/KmEJO87D8hH1EHd6O45EFBjVS9w9fQlx7Rdi6UjlQI5BgwaoRf+D15UHrODKkHb/GM4H5IAkKUhILLiPVZ7sv/n5+cXyI4dvZAJjHUJiVBRyZNl49jichUqZM2FOJz8PeQXKk+VBzA5Iko98TfUhc2B2o3vBKOs6Nn25C35JEtYpew7PEx4IK3aPARo0qAX6nxeuPGAKl6Xh/rHzCGCtbklKAhTJlkQhKkYKSfhDPEiXIS/JH396BENKCYiJzkJGJuuZkoTliSVQzUFSTo5iWEQqkSrD+EYwMdYBJbL4cmTIfvYY4Ypxk3xFfiR5eWoyIeSzY5LLS2HvfNQePg129TPhsXQoJv56AX5BoXjk4YAvphyE0VAblpOykCAqKobFEY6HD9KZ6JLg/6cHgqWEhJhoZDGDlqOQpSL5halHTo4i9ZCwawETDJsyAg0k92C/ZAfuKm4TI/KWLyLZPcnPQxCfpWmOMh9GJsbQoUSWlhzIsp/hsTzjUlaJs3uV+VQiyxMzPTNZqOyDX3s4ptnVR6bHUgyd+Csu+AUh9JEHHL6YgoNGQ2GjaZhOpyMG29ZDSkhwifek+ui3cAG6y67j4NHgQicifXYV18ItMG7uSNU7DBXalBtZPuJcDuD0c6WNG7SehIk2JqhpaqoshwYN0KAW4X9eV6A0sfs4dj6AtYQlSElIVDYmGPkSeWrkDTjlMbuSlRV2lvKRJy7KhITZk/yiAn8oDd6PSZ3aoOeMg8WHP0ugqS5RRz58eMNoEEZ01bw0qyQyAjF63TDAtvxWfJXyw6+N4dPsUD/TA0uHTsSvF/wQFPoIHg5fYMpBIwxlCpew+iGGFYrwhw+QzuqCJP8/4RHMylhCDKKzWINDURwrsmft5fZqnled8qODjoNtUS8lBMElXvrrdOmHXsbB8HBTzUOQI41BaEQumvXprwooQlvdVQrWKu0sn81RNmK6u6YDmQ5xUE7ZVpHqMo+savCIp2NBvad/SysXz6GZC36la8WWeChCvlxRq0aT6HSKKqAMpLF+dPLXCdRSl8Wr14YmbzlKHk9Vs1Ve3COH6V2p2Qd2tOSXHbR58RgaOPoHclN/Xm4AbRtiQTo8EdU0b0Y95x2h82s6k1lzG5qw4gj9/ewOHVzWjywEIIG5DS3efZEepallShpHThMakkhYi6z6TKNttyMpwGkZ2ZrzFbPGhq8/R4Fp0eTlMJc6G7MwXWuasOMmxWiYcUPiUHKa3Z5MBCw/QkOq33ECbTu9lnoVm4UoT/Y2GmKhQzxRTTJv1pPmHTlPazqbUXObCbTiyH1Kp1RyW9yOjPg8EhnVJau+S8jZ6UuyErHjur1ojfsDurZlLDVnx4J6/WjFiXuUEOtDe6a2Jj0ej4w6zqWDvvLv1KUU5zSBGoqEVMuqD03bdocSI27RodWDlDKpP4BWOvpQdF4M+RxeTUMaCojHr0M2i/fRjXD59CMpJXtuoI+bGRCfx0oIT0DGrUbTZs9E1Syvskl1W0ztjJi8REZU16ovLXF2oi+tROy4LvVac50kkddoy9jmJGLx1eu3gk7cS6BYnz00tbUe8XhG1HHuQfKVT2uSJpPnxmHU3EhIopoNqeWHfWnOeqYLk0bUdfRXtNU9UvXE0kjjnGhCQxEJa1lRn2nb6HZkADktsyVzJlNhk+G0/lwgpUV7kcPczmTMwnStJ9COmzHKe5M9acPHzciAhQNMxsataPRmT0osL9MM8d011MF0CDmoFxwF+RRxdjH1ad6eRq3+nY4c+plm2PagSb/fpZILzmhTbkgaT7vtLMi6/wLafsqFzu5ZRJ8MWUIXCg0zlwK2DSELHWYvNc2pWc95dOT8Gups1pxsJqygI/cTKcJzL83vUpP4fBPqsWgf3YxIp2B3e5rZrobi85geX/7BwlLp8fn1NLyxgCBsRmN+Pkv3mRByPb6gpsz2ILSixd5FM9xKU3ZdUoR89mFdavZFiZmbxRCTz5JW1GjSadIsEnG18qOwsw0fUzMDZrPME/AExtRq9GbyLFB4qhstbmfEyoCIjOpaUd8lzuT0pRWzXxHV7bWG3B9oZ89ay+0VPa865YcZM63pYEpDHApmdBYgpdjLK6l/yw9p7Nq95OTsSJtn9aVen+0k/1ITDbXRXaX5nnVDqZfy/xpIdaW5rTrR6r+KJlnLyU8Job9uXqdb/k8pOq0cBbAC5jShHdn9UTQVucqIUyjs0UMKTSyeliJyKDE0kJ7GKqcHi9PTKLvMwqIBSTo9D35OadVOaBG5iWEUEpOlULw0Ygv1LuHAFOQkUmjgU1ImW0zpadklDEVMKeGPKTiuIDyfUsKeUGRaWRONy0NC6c+D6Xl1Mih5QdFPHlAgqwAqmhBdgDglnB4HxxXqIj8ljJ5EphWXgbbkp1FE4CMKT2V3i1MpOV27vEjSn1Pw87Qq2qCEXkQ/oQeBEZSqbaZZw8N1bivqtPovtc8T1BAnUvBft+iG9wOKVlvIoBCty42UxGImC0km08t9ehCaWKZechJDKfBprPLTDHE6pVWqYJSHlLKTn9OfCybR1opWWdBQlyjJpcSwp8w2NadLGs8aIu3s6I/COe6vD8mLaHryIJAiylI4q4fCHwdTXJFBU9iTSKpccayE3F7J81RUsfykus6lVp1WU5mqy2d1wmNfunU7gMKSc0rUXUpeg+4Uq9HLe2D9VAEaybyzgQYPWE1eJT5TqZh8Cj08jT5ZouED5/8YGh0Yx7+TzDu0YfAAWl3pgvMulRsppXj/TPPXXSvx0XbZVLkuyQ+lw9M+oSWuqm+43nkqJ7d/nky6s2EwDVjtVfj9mda8Bt0pnJcc5sA+VoWVS5rvdpo3byf5av0hXi4FO6+lxb/drHC45b+C5MlG6sIc2IffVX4lA453lDRf2j5vHu3UuuC8Y+VGEkJXT9+hhEo0rCtdl+QGk/PaxfTbzfKHq98pqiC3f5408t0+j+bt9GX/05LXoztl74vBYw5sNI/HO606Lp/MRCQJzFGnxDdZZSNBakoWTMxMCiZC/YcR45nbPhz6fRu2uT2HTpuJ+OGX77GoXxPVeY5/N5lITBLAXKuC8x8pN5WpSySpSMkygZkJV5O8DWQmJkFgXkcxdb5CXoPumL8qnPYod2AT2PEx1TEHBwcHB8fbyA/MVxX2vuTI3aLmOascHByvFXlr8nXAov5B+YR3FnllxaEFclkpRfavpcAWijkvOXIHpsVCURwcHK+B11bxyAu7sswXh536xys7VVIqolRlxVE2clkpRVYcdupddWwlGy8abYFzYBwc/wylhkPeBPJnKqoENVjwm6roFBWT6v8crxkm6jIdW0nYpW+Lo9PY09IEj4i+ZX83KQ85ODjeBPJSqvovB8dbj2rm33fKo1dGtRtx/3gPTBx6CTu3n8ETDevK/SvICMLlvZuwesVabHH6G0ma1tKpEBmyIu/g9G5n3Fdf+UWWhcg7p7Hb+T40LQjzX6PqdiVDZrgXTh6+gsKVyzg4/uPIHY280fWKqf4IhEwm26SYWf+PIF9exJqEgkb0+VWtlzh4p5Amu9JXH40m+6B48ttkS6aC2jT5bMFGgpVAEk7uOxaRbQMB8dQ2mpSEu9OORbbUQMAj3U8O0qvbKu5dpop2JU0l/4PzqbsZnwTNFpJneSsjVRNV8ePg4KgOzIFtVZWpfwRp2hO6dtmf4t+pD/q0RUKBG7qQYef19FieP2ki3XPzpJCSi95pTS65z2tMgmJb/TNy3WleY8Fb5cDyQ33IV8PamG+CqttVJjna1SChFg6sOnlUFT8ODo5q8I9Po+ebtETfIZ1Q9zVuVPjP8RL3/AMhFgiVK4Pz66DDIBs0L7kts9bwoKOjU3ovMJ4OC3+LXqlk+2L9lMW4EPvP1dNVtys++HwtZPkW5JGD47+O4LvvvpOvxNFBdVyELA4B13wQ8CwUoaFhiHpphCZ1DcHLCsedm354HBKBVJEFLEyUm6dkhXri3BkXXL39FKkGjdHcvIZaRZuH+L+vIkDcFGYvfHDmtA9eNmoFCwP5FWLE3XXHA3EzNK4l96cqskLhee4MXK7extNUAzRubo4aavWKLDsSty8HIL9FI/BCbuL8GXcE5taBVWPj4tu4Q4qkwGtwOecKryfJ0G3QFHUN1J7DzqcEXsFp50u4+SAWqN8MDY1KbQhTNuJY/O16BmfdfBCUmAcD84YwVSVSlvgInrdu4eqfZ3AvpwnaW4oQH5kJg6b1YVRe/VhuvqV47vY7HO/WwfBln6F9QdND+hxuvzvibp3hWPZZ+wpaJLmI9buKB5KmMH/5AO7nXOAVlgfTxo1gUmwTpiyEep7DGZeruP00FQaNm8NcXQHy/d88WN6v+iM8TQIJq/hrmxqBn/E3dk4ZhzU3XqJhu/ehn56lMc8KGXnfR3Aos7GITOg3qYFYn5u4+0Ruc6EIi5PArFFt6KYHwfvWXTyNSINOQwsYK9RTkd402BVLafz9yzhz/joexOZCr04D1K6hfj4fj07+gnMJH2LKFzaAz584ccEboXm1YdXERNkQKS+PGUHwOHMWV/3DkSbf0oNfG6ZG6vEr+YGh+i8HB0cVkZessus7vinq8q5jzeih+OTrS5DVr6W4GPrmMH24BbN3PIG+mbzGy4Lvpn7oMOcmGg6bgnGtn2GDTRfMPB0H+TaNCXcOYPHA5mjadQp2HtuK2WM/w8w5U7D4UCiibthjYV9LvNd1EhwC5BuBKcny3YR+HebgZsNhmDKuNZ5tsEGXmacRp5j8IEawy3qMaWcFm+nbcGTXAsz8djdOHViHqbY92XMT2VNV5D3D8QUj8cWJeNTv1gdNAlajm1U3fHstTXlelgiPtWMx60AkDBtbQHJrDfq3scGqGwX7nGkm6/4ujOs9CUfSW8B2cCeIbi5DT+ue+MYlRnEv5aYjIT4GKdkEys9EUnw84uPT8LKciMvPd3WRIdVvPxb0YbroOR2/7l4Ju2GfY8O2DfhqXC+077MElwv2+8nyxaZ+HTDnZkMMYxV162cbYNNlJk4XJESWgHNzhmLV0zYYO+UTNA3dhDFzTyOBnc6NSwK/lpF8kyJkJZefZ75hDYQ5zMCwYTNwONEcZkIj1K0Zit3Th2HYnKNIqltfsfU+38gM0qsr8OXxaOjIPUi5epNqtCv5fW7f9sVo+1RY92wL8ZnZaF/PFE0+tEH/ERvhpdgfTQVl4M7mmZi75Ryun/wR0/t2x6QjSt1qyqMs4RzmDF2Fp23GYsonTRG6aQzmnk6o0JY4ODiqiEwmO60ali+DdLow3YIEhgPI/nnBUoxi8vl2GH11XbWufs5FmllfSGaTzyq3jZCE0E/dRVRj+KHCVYvTDg0nA54utVrgRsnSHIq87aHce4eR7jiSDPmmNOlMwTr9OXRxZn0Smk2ms8oIKeSn7iSqMZwOFS6DnEuXZ7F0iVrSfLd45SKRWZdopoWADOwOqRaazKE7Kz+k9yacLFwUVRq9j4aZCKnR51dZDEQpZ6dSi77bqHCF/7STNL42n3Q7r6eH5a22m3WdvrTSpw5r7xctyiuNJcdR5iQ0HUoOEaoIJUH0Y1cRibptouAKX5Vok28x3VzUnIQl34GJb9Ki5kKt3oG9OCqXdw3qstqHlDtXZNH9n23JlC9Q7MUkn16Sc3Em1Rea0WRlQphKf6Luoho0vCAhKftpWM22tMpflXtJONmv2k4hijxKKc6+H+mI2tDKgvPlIPZZStYiPfpoS6hq25Bc8v7mfRIZD6N9cQU2l0kX5gynDY+U8Wmjt9J2xZ51ewm9r9uSlvmqXm6lONG42gIyG39KbYXtbDo6Up/4xl1p+TXV6tk5N2ihpZD0BuwmZZLKzmPK/mFUs+0qKhKLPa3aHlLmdiiq4sfBwVEN5J2qcqbRG2PQvCloJb4Fx6NBrG3LeHkLTsGdMLW36jY9Wyw7fBTHVg1QRJQbG4qYLECakYp0VdNTz9gYNfiG6NjPBmZ8PTTp0Q/t6yiHVXTZOf1iw0t6sF12GEePrcIAZYQIVUaI1IIIwYOhoT54fEt06lZX2TPUs4RlIz7yEuKQIE9o5iXs2heFHqOGQfUo8C2m48SDIPj+NoB1O1PhcugcklOuY93sGZgxg/2+dka0sSkMYx8h4IXynrLIurIfx8NN8GHXlkW7T/PrY9TkwTBLd8eBE2o7lGqNNvmuPiJdPQh5JmjTrQOU62saoP0XKzCuERDlfhkBeXKVLsPho8ewSpkQxIbGsH62FBmp6crehH5jNDR5Cvu5C+H4MAMQNMHEBZ+ifhXeY+p0noqJ7WXwPXFctTOtCM2tm0M38wZOnP6f8nkpLjibMRCTWsmlrZ3eStsVkP7wISKk8h2oVQEmNrBpJ8CLqAgkl1AY36wLhvQyV9qWjjWsm/IhTYwtscNycfQbN4TJU3vMXegIpVgmYsGn9UsMaXNwcLwq5OVT5YnKRufDmZjeQ4B7Rw/DnxX8jKunkfDRJLQtrLn1YTVgDNqnOWPd8lXY6poIHX2AZITizUw+tP10U99qAMa0T4PzuuVYtdUVicoIUX67VQCBPDcy+cAlIAm+h4fp+qhprF598GHY2BIN5Mso5z3D42e5qNN/ORwOHMAB+e+gM7xCk5AcfRKTTZV3lEaKmOAwZJAuapRYjlnvg7ZoIZAi4lkI1AautKZq+X4F6LdHB2shZGlJym/U9K0wYEx7pDmvw/JVW+GaqMO0TJAVJESvL9bsnIv3nu3FtK5t0X+pM2IM6zJXWAWE1pg0uRdED07i+H3mwaRBOHQuH7278HDb6SRCpTI8P3kesk/GgbVPqqE31hx7vwUa4H/w9Q5VNjD4IujoCmHesjXqledl+AIIBcx4pVKUs/s7E8sa7Jz7Hp7tnYaubftjqXMMDOtWSSocHBxaIK8Syn/nL2iKibMGwyjkBA54PMfFi3kYMr6pWqsyHd7rB+CjVTEYvHIjVsyyReOSTd9Kku69HgM+WoWYwSuxccUs2DZmvS3VOW2R5eUhT5aMiLA0De8gmINlzi4uPAwvVSHawWOOSw88FndsTPHPhnm6uhAxL11Dv/LplfMq8l01akBfXwi+qbmyt5rujfUDPsKqmMFYuXEFZtk2LtGb4aPB8J3w8juBZX1E8N0yAT1sV8IzXXW6UgjQ+NOpGGDwDKeOeCP1xh54tlqNPxYMgr7/KRx/+ABH3E0x1q6Owlirrjdm6DZr8cfKXojdORuL91/E5YPr4SL4CnvXDama8y0JvwGG7/SC34ll6CPyxZYJPWC70pOVEA4OjtdBxQ6MXWI+cjbGNIjHn78uwBmd4RhRT1mVyJE82IpF6++gxcT56GIsD5HJG6oMVtFUpecgeYCti9bjTouJmK+MEDJlhPLlTBR/tUGnRStY1ciF1+H9CFR/OS+NwgVHVyTwLWHdXBfZN47gWJj6+JEMSW4/4bfrmpZwYJV3j+6wEr6E/y2fYpWoJDoa8WSMLr06VCTU0ryifFcJSQTCoiSo17sv2ulI8GDrIqy/0wIT53eBUqVSZY+FpUORktTzcDyXBP2W4/CT60P47bGDYYA9dl3Okp9Vwq6VMUejDXxzO0wdXhtRf27Fl/ax+HheD1gMn4xPaj/EiWUr4PP+JAwo+PRAWFW9MfhmaNltCKatWIzhTfRQs/O3OHlhI4Y2KLLnSlEij6nnHXEuSR8tx/0E14d+2GNniAD7XVAXCwcHx6tDXnLLHUJUYNAfsye3RKZXEBp+OlhZqamQREUhRipBOGspp8vykOT/JzyCpaCEGERnZSBT3klhFbEU+cjPL6NCyxcjjyTIy1Odk0QhKkYKSfhDPEiXIS/JH396BENKCYiJzkKGIkKCJD+f/SuDrKBupxzkyB0VS4tUHlZnBOZ82hh5vj9g6LBl2HfRG395n8Evs5cjoGlv1BXWxvBpdqif6YGlQyfi1wt+CAp9BA+HLzDloBGG2mhukws7zsPyEfUQd3o7jhSuN/QSd09fQlz7hVg6UjWORWKI5WOJLI/iinyQlvnOZz1LYtJk2SyC8pn82AMqGOIqIgepyS8Ke6YZt/fjVFRvLP1mAOuJSBAVFcPiD8fDB+msJ5sE/z89EMyEmhATjayMTMjy4+By4DSeK7JugNaTJsLGpCZMTeXjynwYmRhDhxJZPDmQZT/D43D1FkRZGGPwtNFolHgJt8ymYXJT1r83GoQpIxsi/FYaek7uisIZ/nwt9VbSrhiSgE0Y+5UXjJrWhbF5A5gb5CMjPbdQDkqYpUpkTKSsB1+gM2bXYnZAEmbDiovLymMO8uNccOD0c6WzN2iNSRNtYFLTFAqxMCSP92Jy3yH45kyUMoCDg6N6sBbkM8W0qAqQhP5G/Xt9TwElJ5alutHidkbE54nIqK4V9V3iTE5fWpGIHdfttZpOXzlIy/pZkAACMrdZTLsvPlLNfhNTxK1DtHqQ8lz9ASvJ0SeaJJRKbovbkRGfRyKjumTVdwk5O31JViJ2XLcXrbmeRJHXttDY5iLiCepRvxUn6F5CLPnsmUqt9XjEM+pIcw/6Urz8Gel+tH1cazJh9wI80rXoQ9/8Ga42czCZPDd8TM0M+MRjboAnMKZWozeTpzZ7ub+4Rw7Tu1KzD+xoyS87aPPiMTRw9A/kplqZQRrrRyd/nUAtdVma9NrQ5C1HyeNpeXMEK8i3x2PyObyahjQUEI9fh2wW76Mb4bkkjfGhw6uHUEMBj/h1bGjxvhvEgjWS4/wZmQiMqM3A0TR66je0etl0GtRnFG28oZpxx0h1W0ztjJhMREZU16ovLXF2oi+tmLxFdanXmuskjd9NdhbW1H/Bdjrlcpb2LPqEhiy5QDGqCKRxTjShoYiEtayoz7RtdKdoip9m8u/R2m69aIPa9M98vxXUbejvVDgBtoBy9abJrlh8j+xpeJMainuY6St/zE5NWo6kLXeYbqRpFOC0jGzNWbzCJjR8/TkKTIsmL4e51NmYhela04QdNxX5LJ1HKcXvtiML6/60YPspcjm7hxZ9MoSWXIgplGvmmclkzhdRi69uFrhGDg6O6sAc2HNV+aqAbEpO1LAGkjiFwh8HU1y2qqjmp1DYk0hKK+nstEZMKeGPKTguW1X48ykl7AlFVjFCSWY0BQVF0wsNt0teRNOTB4EUkVqF9RhZ3sMePaTQxKLp2lXn1ea7LJQOrD7NuJhJqeGP6HF0ZmEFq444JZweB8dRkUrD6ElkmtL5S8UkZv+Ry/XJ/Qcs76XlJkl/TsHP08qcQq6JzOQU5acYBUjTKbGMuAuorN6yHuyjxd8epYCwQPrL6zpdvexC58+cpAObZ1CvT/cqGz2VoGQepWIxk4+EMqOf0P0HoVQ66dkUExxJzNdxDoyD41XAHFi8qnRx/AcocmCvwuG+Q7xwpc9btKYlt8tY4FDsTz+tPUbJqsM3wBvfB4yD498In8fjVfwOjONfg0zxjjAP+VWZ5/8OI0sNQUjsMzitW49jtx4jKiEJcRFP4Hd5P75ffAr1xo2Gmera18w/spElB8e/EtYDq8K4Gce7h5Ribu2lr20bkI5Qhyxsv6LfTqjeFf4nEFPYue9pQm8rqltTj/RrNaKWXQbRlNWO5J/8ZoSgKnIcHByviDfzmdE7BlfZcFQX1sviyhYHx2umih/A/LuRVz7/Vlj2uFXQXx/y4UEFqmMODg4Ojrcd1mn9Xt5z/Y/Bvcvi4PjHAP4PfxktCgxs6fEAAAAASUVORK5CYII=)"
      ],
      "metadata": {
        "id": "HHET2-z0v-ex"
      }
    },
    {
      "cell_type": "code",
      "source": [
        "def get_zeroth(w):\n",
        "  return w[0]\n",
        "\n",
        "def get_first(w):\n",
        "  indx = math.floor(len(w) / 4)\n",
        "  return w[indx]\n",
        "\n",
        "def get_second(w):\n",
        "  indx = len(w) // 2\n",
        "  if len(w) % 2:\n",
        "    return w[indx]\n",
        "  else:\n",
        "    return (w[indx] + w[indx - 1]) / 2\n",
        "\n",
        "def get_third(w):\n",
        "  indx = math.floor(len(w) * 3 / 4)\n",
        "  return w[indx]\n",
        "\n",
        "def get_fourth(w):\n",
        "  return w[-1]\n",
        "\n",
        "def get_sum(w):\n",
        "  return np.sum(np.array(w))\n",
        "\n",
        "def get_mean(w):\n",
        "  return np.mean(np.array(w))\n",
        "\n",
        "def get_variance(w):\n",
        "  return weighted_avg_and_std(w)"
      ],
      "metadata": {
        "id": "4hqJCeOLNGAV"
      },
      "execution_count": null,
      "outputs": []
    },
    {
      "cell_type": "code",
      "source": [
        "def weighted_avg_and_std(weights):\n",
        "  # КУЧА ВОПРОСОВ ВООБЩЕ НЕПОНЯТНАЯ ФОРМУЛА ВРОДЕ БЫ СЧИТАЕТ variance!!!!!!!!!!!!!!!!!!!!!!!!!!!!!!!!!!!!!!!!!!!!\n",
        "  # КУЧА ВОПРОСОВ ВООБЩЕ НЕПОНЯТНАЯ ФОРМУЛА ВРОДЕ БЫ СЧИТАЕТ variance!!!!!!!!!!!!!!!!!!!!!!!!!!!!!!!!!!!!!!!!!!!!\n",
        "  # КУЧА ВОПРОСОВ ВООБЩЕ НЕПОНЯТНАЯ ФОРМУЛА ВРОДЕ БЫ СЧИТАЕТ variance!!!!!!!!!!!!!!!!!!!!!!!!!!!!!!!!!!!!!!!!!!!!\n",
        "    \"\"\"\n",
        "    Return the weighted average and standard deviation.\n",
        "    values, weights -- NumPy ndarrays with the same shape.\n",
        "    \"\"\"\n",
        "    average = np.average(weights, weights=weights)\n",
        "    # Fast and numerically precise:\n",
        "    variance = np.average((weights-average)**2, weights=weights)\n",
        "    return math.sqrt(variance)"
      ],
      "metadata": {
        "id": "EWQMNatPx6TF"
      },
      "execution_count": null,
      "outputs": []
    },
    {
      "cell_type": "code",
      "source": [
        "# 4.1.3\n",
        "all_nodes = np.sort(adj_graph(graph).v1.unique())\n",
        "print(all_nodes)\n",
        "\n",
        "posibility_edges = itertools.combinations_with_replacement(all_nodes, 2)\n",
        "temporal_weighting = {'w_lin': list(), 'w_exp': list(), 'w_sqrt': list()}\n",
        "quantiles_plus = {'zeroth': 0, 'first': 0, 'second': 0, 'third': 0, 'fourth': 0, 'sum': 0, 'mean': 0}\n",
        "сombining = {'sum': 0, 'abs_diff': 0, 'min': 0, 'max': 0}\n",
        "\n",
        "params = {'lin': {'w_lin': list(), 'quant_p': deepcopy(quantiles_plus)},\n",
        "          'exp': {'w_exp': list(), 'quant_p': deepcopy(quantiles_plus)},\n",
        "          'sqrt': {'w_sqrt': list(), 'quant_p': deepcopy(quantiles_plus)}} \n",
        "\n",
        "params2 = {'zeroth': deepcopy(сombining), 'first': deepcopy(сombining), \n",
        "           'second': deepcopy(сombining), 'third': deepcopy(сombining), \n",
        "           'fourth': deepcopy(сombining), 'sum': deepcopy(сombining), \n",
        "           'mean': deepcopy(сombining)}\n",
        "           \n",
        "params3 = {'lin': deepcopy(params2), 'exp': deepcopy(params2), 'sqrt': deepcopy(params2)}\n",
        "\n",
        "edges_with_params = defaultdict(None)\n",
        "nodes_with_params = defaultdict(None)\n",
        "edges_with_сombining = defaultdict(None)\n",
        "for edge in tqdm(edges):\n",
        "  edges_with_params[edge] = deepcopy(temporal_weighting)\n",
        "for node in tqdm(all_nodes):\n",
        "  nodes_with_params[node] = deepcopy(params)\n",
        "for edge in tqdm(edges):\n",
        "  edges_with_сombining[edges] = deepcopy(params3)"
      ],
      "metadata": {
        "id": "2f8SrV8piLIn"
      },
      "execution_count": null,
      "outputs": []
    },
    {
      "cell_type": "code",
      "source": [
        "# 4.1.2\n",
        "all_nodes = np.sort(adj_graph(graph).v1.unique())\n",
        "print(all_nodes)\n",
        "\n",
        "posibility_edges = itertools.combinations_with_replacement(all_nodes, 2)\n",
        "temporal_weighting = {'w_lin': list(), 'w_exp': list(), 'w_sqrt': list()}\n",
        "quantiles_plus = {'zeroth': 0, 'first': 0, 'second': 0, 'third': 0, 'fourth': 0, 'sum': 0, 'mean': 0, 'variance': list()}\n",
        "weighted_topological_features = {'aa_temp': 0, 'cn_temp': 0, 'jc_temp': 0, 'pa_temp': 0}\n",
        "\n",
        "params = {'lin': {'w_lin': list(), 'quant_p': deepcopy(quantiles_plus), 'features': deepcopy(weighted_topological_features)},\n",
        "          'exp': {'w_exp': list(), 'quant_p': deepcopy(quantiles_plus), 'features': deepcopy(weighted_topological_features)},\n",
        "          'sqrt': {'w_sqrt': list(), 'quant_p': deepcopy(quantiles_plus), 'features': deepcopy(weighted_topological_features)}} \n",
        "\n",
        "edges_with_params = defaultdict(None)\n",
        "for edge in tqdm(edges):\n",
        "  edges_with_params[edge] = deepcopy(params)"
      ],
      "metadata": {
        "id": "1hE2dhown8KD"
      },
      "execution_count": null,
      "outputs": []
    },
    {
      "cell_type": "code",
      "source": [
        "def time_normalization(timestemp, t_min, delta_t):\n",
        "  return (timestemp - t_min) / delta_t"
      ],
      "metadata": {
        "id": "GFqDqomF4Tqw"
      },
      "execution_count": null,
      "outputs": []
    },
    {
      "cell_type": "code",
      "source": [
        "l = 0.2\n",
        "t_min = graph.timestamp.min()\n",
        "t_max = graph.timestamp.max()\n",
        "delta_t = t_max - t_min\n",
        "\n",
        "df1 = df1.sort_values(by=['timestamp'])"
      ],
      "metadata": {
        "id": "jMa7yuOhlsTW"
      },
      "execution_count": null,
      "outputs": []
    },
    {
      "cell_type": "code",
      "source": [
        "# 4.1.3\n",
        "def get_temporal_weighting(graph, edges_with_params):\n",
        "  for _, edge in tqdm(graph.iterrows()):\n",
        "    params = edges_with_params[(min(edge.v1, edge.v2), max(edge.v1, edge.v2))]\n",
        "\n",
        "    norm_t = time_normalization(edge.timestamp, t_min, delta_t)\n",
        "    sub_f = get_sub_f(norm_t, 0, 1)\n",
        "\n",
        "    params['w_lin'].append(get_w_lin(l, sub_f))\n",
        "    params['w_exp'].append(get_w_exp(l, sub_f))\n",
        "    params['w_sqrt'].append(get_w_sqrt(l, sub_f))\n"
      ],
      "metadata": {
        "id": "F3_VOjcQj1VQ"
      },
      "execution_count": null,
      "outputs": []
    },
    {
      "cell_type": "code",
      "source": [
        "# 4.1.2\n",
        "def get_temporal_weighting(graph, edges_with_params):\n",
        "  for _, edge in tqdm(graph.iterrows()):\n",
        "    params = edges_with_params[(min(edge.v1, edge.v2), max(edge.v1, edge.v2))]\n",
        "\n",
        "    norm_t = time_normalization(edge.timestamp, t_min, delta_t)\n",
        "    sub_f = get_sub_f(norm_t, 0, 1)\n",
        "\n",
        "    params['lin']['w_lin'].append(get_w_lin(l, sub_f))\n",
        "    params['exp']['w_exp'].append(get_w_exp(l, sub_f))\n",
        "    params['sqrt']['w_sqrt'].append(get_w_sqrt(l, sub_f))"
      ],
      "metadata": {
        "id": "iSB5xuYc4fxs"
      },
      "execution_count": null,
      "outputs": []
    },
    {
      "cell_type": "code",
      "source": [],
      "metadata": {
        "id": "A6yNmVvDM1-F"
      },
      "execution_count": null,
      "outputs": []
    },
    {
      "cell_type": "code",
      "source": [
        "# 4.1.3\n",
        "def fill_nodes(edges_with_params, nodes_with_params):\n",
        "  for key in tqdm(edges_with_params):\n",
        "    params = edges_with_params[key]\n",
        "    u, v = key\n",
        "\n",
        "    for w_type in ['lin', 'exp', 'sqrt']:\n",
        "      nodes_with_params[u][w_type]['w_' + w_type].append(params['w_' + w_type])\n",
        "      nodes_with_params[v][w_type]['w_' + w_type].append(params['w_' + w_type])\n",
        "\n",
        "    params = None #!!!!!!!!!!!!!!!!!!!!!!!!!!!!!!!!!!!!!!!!!!!!!!!!!!!!!!!!!!!!!!!!!!!!!!!!!!!!!!!!!!!!!!!!!!!!!!!!!!!!!!!!!!!!!\n",
        "\n",
        "  for key in tqdm(nodes_with_params):\n",
        "    for w_type in ['lin', 'exp', 'sqrt']:\n",
        "      nodes_with_params[key][w_type]['w_' + w_type].sort()\n"
      ],
      "metadata": {
        "id": "OaZw8deDlGbQ"
      },
      "execution_count": null,
      "outputs": []
    },
    {
      "cell_type": "code",
      "source": [
        "# 4.1.3\n",
        "# temporal_weighting = {'w_lin': list(), 'w_exp': list(), 'w_sqrt': list()}\n",
        "# quantiles_plus = {'zeroth': 0, 'first': 0, 'second': 0, 'third': 0, 'fourth': 0, 'sum': 0, 'mean': 0}\n",
        "# сombining = {'sum': 0, 'abs_diff': 0, 'min': 0, 'max': 0}\n",
        "\n",
        "def quantiles_plus(edges_with_params, nodes_with_params):\n",
        "  fill_nodes(edges_with_params, nodes_with_params)\n",
        "\n",
        "  for key in tqdm(nodes_with_params):\n",
        "    params = nodes_with_params[key]\n",
        "\n",
        "    for w_type in ['lin', 'exp', 'sqrt']:\n",
        "      tmp = params[w_type]\n",
        "      tmp2 = params[w_type]['w_' + w_type]\n",
        "\n",
        "      tmp['quant_p']['zeroth'] = get_zeroth(tmp2)\n",
        "      tmp['quant_p']['first'] = get_first(tmp2)\n",
        "      tmp['quant_p']['second'] = get_second(tmp2)\n",
        "      tmp['quant_p']['third'] = get_third(tmp2)\n",
        "      tmp['quant_p']['fourth'] = get_fourth(tmp2)\n",
        "      tmp['quant_p']['sum'] = get_sum(tmp2)\n",
        "      tmp['quant_p']['mean'] = get_mean(tmp2)"
      ],
      "metadata": {
        "id": "Sgv8-0OBkZi3"
      },
      "execution_count": null,
      "outputs": []
    },
    {
      "cell_type": "code",
      "source": [
        "# 4.1.2\n",
        "# temporal_weighting = {'w_lin': list(), 'w_exp': list(), 'w_sqrt': list()}\n",
        "# quantiles_plus = {'zeroth': 0, 'first': 0, 'second': 0, 'third': 0, 'fourth': 0, 'sum': 0, 'mean': 0, 'variance': list()}\n",
        "# weighted_topological_features = {'aa_temp': 0, 'cn_temp': 0, 'jc_temp': 0, 'pa_temp': 0}\n",
        "\n",
        "def proposed_approach(edges_with_params):\n",
        "  for key in tqdm(edges_with_params):\n",
        "    params = edges_with_params[key]\n",
        "\n",
        "    for w_type in ['lin', 'exp', 'sqrt']:\n",
        "      tmp = params[w_type]\n",
        "      tmp2 = params[w_type]['w_' + w_type]\n",
        "\n",
        "      tmp['quant_p']['zeroth'] = get_zeroth(tmp2)\n",
        "      tmp['quant_p']['first'] = get_first(tmp2)\n",
        "      tmp['quant_p']['second'] = get_second(tmp2)\n",
        "      tmp['quant_p']['third'] = get_third(tmp2)\n",
        "      tmp['quant_p']['fourth'] = get_fourth(tmp2)\n",
        "      tmp['quant_p']['sum'] = get_sum(tmp2)\n",
        "      tmp['quant_p']['mean'] = get_mean(tmp2)\n",
        "      tmp['quant_p']['variance'] = get_variance(tmp2)"
      ],
      "metadata": {
        "id": "bT2y3X8ZZz4N"
      },
      "execution_count": null,
      "outputs": []
    },
    {
      "cell_type": "code",
      "source": [],
      "metadata": {
        "id": "FgCdAaFkZ28x"
      },
      "execution_count": null,
      "outputs": []
    },
    {
      "cell_type": "code",
      "source": [
        "# сombining = {'sum': 0, 'abs_diff': 0, 'min': 0, 'max': 0}\n",
        "\n",
        "def get_sum(a, b):\n",
        "  return a + b\n",
        "  \n",
        "def get_abs_diff(a, b):\n",
        "  return math.abs(a - b)\n",
        "  \n",
        "def get_min(a, b):\n",
        "  return min(a, b)\n",
        "  \n",
        "def get_max(a, b):\n",
        "  return max(a, b)"
      ],
      "metadata": {
        "id": "ZyVod202pidW"
      },
      "execution_count": null,
      "outputs": []
    },
    {
      "cell_type": "code",
      "source": [
        "# 4.1.3\n",
        "# params2 = {'zeroth': deepcopy(сombining), 'first': deepcopy(сombining), \n",
        "#            'second': deepcopy(сombining), 'third': deepcopy(сombining), \n",
        "#            'fourth': deepcopy(сombining), 'sum': deepcopy(сombining), \n",
        "#            'mean': deepcopy(сombining)}\n",
        "\n",
        "def combining_node_activity(edges_with_сombining, nodes_with_params):\n",
        "  for key in edges_with_combining:\n",
        "    u, v = key\n",
        "\n",
        "    for w_type in ['lin', 'exp', 'sqrt']:\n",
        "      edge = edges_with_combining[key][w_type]\n",
        "      u_node = nodes_with_params[u][w_type]\n",
        "      v_node = nodes_with_params[v][w_type]\n",
        "    \n",
        "      for p_type in ['zeroth', 'first', 'second', 'third', 'fourth', 'sum', 'mean']:\n",
        "        p_edge = edge[p_type]\n",
        "        p_u_node = u_node[p_type]\n",
        "        p_v_node = v_node[p_type]\n",
        "        p_edge['sum'] = get_sum(p_u_node, p_v_node) \n",
        "        p_edge['abs_dif'] = get_abs_dif(p_u_node, p_v_node) \n",
        "        p_edge['min'] = get_min(p_u_node, p_v_node) \n",
        "        p_edge['max'] = get_max(p_u_node, p_v_node) "
      ],
      "metadata": {
        "id": "6kX9nI7xAt5u"
      },
      "execution_count": null,
      "outputs": []
    },
    {
      "cell_type": "code",
      "source": [],
      "metadata": {
        "id": "HCV04L7iAt3c"
      },
      "execution_count": null,
      "outputs": []
    },
    {
      "cell_type": "code",
      "source": [],
      "metadata": {
        "id": "4tic-UWZAt0t"
      },
      "execution_count": null,
      "outputs": []
    },
    {
      "cell_type": "code",
      "source": [
        "get_temporal_weighting(graph, edges_with_params)\n",
        "edges_with_params"
      ],
      "metadata": {
        "id": "lJ_uU84EAtyX"
      },
      "execution_count": null,
      "outputs": []
    },
    {
      "cell_type": "code",
      "source": [
        "proposed_approach(nodes_with_params)\n",
        "nodes_with_params"
      ],
      "metadata": {
        "id": "Rc3Hdz4FAtv2"
      },
      "execution_count": null,
      "outputs": []
    },
    {
      "cell_type": "markdown",
      "source": [
        "**ТУТ ОБУЧЕНИЕ, НО ПОКА ПРОСТО ФИГНЯ**"
      ],
      "metadata": {
        "id": "J3dG7F9wAunc"
      }
    },
    {
      "cell_type": "markdown",
      "source": [
        "https://medium.com/nuances-of-programming/пошаговое-построение-логистической-регрессии-в-python-a7c650ae77c2"
      ],
      "metadata": {
        "id": "EYW8zk_GBLv9"
      }
    },
    {
      "cell_type": "code",
      "source": [],
      "metadata": {
        "id": "6Tk_zxHaBwCP"
      },
      "execution_count": null,
      "outputs": []
    },
    {
      "cell_type": "code",
      "source": [
        "data_final_vars=data_final.columns.values.tolist()\n",
        "y=['y']\n",
        "X=[i for i in data_final_vars if i not in y]\n",
        "from sklearn.feature_selection import RFE\n",
        "from sklearn.linear_model import LogisticRegression\n",
        "logreg = LogisticRegression()\n",
        "rfe = RFE(logreg, 96)\n",
        "rfe = rfe.fit(os_data_X, os_data_y.values.ravel())\n",
        "print(rfe.support_)\n",
        "print(rfe.ranking_)"
      ],
      "metadata": {
        "id": "W5lLIfbWBoH9"
      },
      "execution_count": null,
      "outputs": []
    },
    {
      "cell_type": "code",
      "source": [
        "cols=['euribor3m', 'job_blue-collar', 'job_housemaid', 'marital_unknown', 'education_illiterate', 'default_no', 'default_unknown', \n",
        "      'contact_cellular', 'contact_telephone', 'month_apr', 'month_aug', 'month_dec', 'month_jul', 'month_jun', 'month_mar', \n",
        "      'month_may', 'month_nov', 'month_oct', \"poutcome_failure\", \"poutcome_success\"] \n",
        "X=os_data_X[cols]\n",
        "y=os_data_y['y']"
      ],
      "metadata": {
        "id": "H7jWVb--BmN4"
      },
      "execution_count": null,
      "outputs": []
    },
    {
      "cell_type": "code",
      "source": [
        "import statsmodels.api as sm\n",
        "logit_model=sm.Logit(y,X)\n",
        "result=logit_model.fit()\n",
        "print(result.summary2())"
      ],
      "metadata": {
        "id": "8frZV7RjBkP8"
      },
      "execution_count": null,
      "outputs": []
    },
    {
      "cell_type": "code",
      "source": [
        "cols=['euribor3m', 'job_blue-collar', 'job_housemaid', 'marital_unknown', 'education_illiterate', \n",
        "      'month_apr', 'month_aug', 'month_dec', 'month_jul', 'month_jun', 'month_mar', \n",
        "      'month_may', 'month_nov', 'month_oct', \"poutcome_failure\", \"poutcome_success\"] \n",
        "X=os_data_X[cols]\n",
        "y=os_data_y['y']\n",
        "logit_model=sm.Logit(y,X)\n",
        "result=logit_model.fit()\n",
        "print(result.summary2())"
      ],
      "metadata": {
        "id": "-oi-T1lVBbkG"
      },
      "execution_count": null,
      "outputs": []
    },
    {
      "cell_type": "code",
      "source": [
        "from sklearn.linear_model import LogisticRegression\n",
        "from sklearn import metrics\n",
        "X_train, X_test, y_train, y_test = train_test_split(X, y, test_size=0.3, random_state=0)\n",
        "logreg = LogisticRegression()\n",
        "logreg.fit(X_train, y_train)"
      ],
      "metadata": {
        "id": "gI7IlyPDBawG"
      },
      "execution_count": null,
      "outputs": []
    },
    {
      "cell_type": "code",
      "source": [
        "y_pred = logreg.predict(X_test)\n",
        "print('Accuracy of logistic regression classifier on test set: {:.2f}'.format(logreg.score(X_test, y_test)))"
      ],
      "metadata": {
        "id": "4Em6FgF1BOp9"
      },
      "execution_count": null,
      "outputs": []
    },
    {
      "cell_type": "code",
      "source": [
        "from sklearn.metrics import confusion_matrix\n",
        "confusion_matrix = confusion_matrix(y_test, y_pred)\n",
        "print(confusion_matrix)"
      ],
      "metadata": {
        "id": "ER_uFW-1BJnx"
      },
      "execution_count": null,
      "outputs": []
    },
    {
      "cell_type": "code",
      "source": [
        "from sklearn.metrics import classification_report\n",
        "print(classification_report(y_test, y_pred))"
      ],
      "metadata": {
        "id": "lncDD2iZBAgJ"
      },
      "execution_count": null,
      "outputs": []
    },
    {
      "cell_type": "code",
      "source": [
        "from sklearn.metrics import roc_auc_score\n",
        "from sklearn.metrics import roc_curve\n",
        "logit_roc_auc = roc_auc_score(y_test, logreg.predict(X_test))\n",
        "fpr, tpr, thresholds = roc_curve(y_test, logreg.predict_proba(X_test)[:,1])\n",
        "plt.figure()\n",
        "plt.plot(fpr, tpr, label='Logistic Regression (area = %0.2f)' % logit_roc_auc)\n",
        "plt.plot([0, 1], [0, 1],'r--')\n",
        "plt.xlim([0.0, 1.0])\n",
        "plt.ylim([0.0, 1.05])\n",
        "plt.xlabel('False Positive Rate')\n",
        "plt.ylabel('True Positive Rate')\n",
        "plt.title('Receiver operating characteristic')\n",
        "plt.legend(loc=\"lower right\")\n",
        "plt.savefig('Log_ROC')\n",
        "plt.show()"
      ],
      "metadata": {
        "id": "icPlbkzfAttl"
      },
      "execution_count": null,
      "outputs": []
    },
    {
      "cell_type": "code",
      "source": [],
      "metadata": {
        "id": "GwKrvt4ZAtq8"
      },
      "execution_count": null,
      "outputs": []
    },
    {
      "cell_type": "code",
      "source": [],
      "metadata": {
        "id": "ysgHAzzIAtlc"
      },
      "execution_count": null,
      "outputs": []
    },
    {
      "cell_type": "code",
      "source": [],
      "metadata": {
        "id": "a6X2dvzbAtgX"
      },
      "execution_count": null,
      "outputs": []
    },
    {
      "cell_type": "code",
      "source": [],
      "metadata": {
        "id": "J4JvLOGlAtJp"
      },
      "execution_count": null,
      "outputs": []
    }
  ]
}
