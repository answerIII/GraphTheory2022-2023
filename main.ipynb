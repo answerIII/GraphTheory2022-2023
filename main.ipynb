{
  "nbformat": 4,
  "nbformat_minor": 0,
  "metadata": {
    "colab": {
      "provenance": []
    },
    "kernelspec": {
      "name": "python3",
      "display_name": "Python 3"
    },
    "language_info": {
      "name": "python"
    }
  },
  "cells": [
    {
      "cell_type": "code",
      "execution_count": 62,
      "metadata": {
        "id": "zC7SHAwSUCxt"
      },
      "outputs": [],
      "source": [
        "import pandas as pd\n",
        "import numpy as np\n",
        "import math \n",
        "import random"
      ]
    },
    {
      "cell_type": "code",
      "source": [
        "def bfs(adjList, start, l = math.inf):\n",
        "    visited, queue = set(), [start]\n",
        "    while queue:\n",
        "        vertex = queue.pop(0)\n",
        "        if(len(visited) < l):\n",
        "          if vertex not in visited:\n",
        "              visited.add(vertex)\n",
        "              queue.extend(set(i['to'] for i in adjList[vertex]) - visited)\n",
        "    return visited"
      ],
      "metadata": {
        "id": "4bHr7lafWhON"
      },
      "execution_count": 63,
      "outputs": []
    },
    {
      "cell_type": "markdown",
      "source": [
        "## **Импорт данных**"
      ],
      "metadata": {
        "id": "GvpY0x8bE9df"
      }
    },
    {
      "cell_type": "code",
      "source": [
        "from itertools import takewhile\n",
        "filepath = './datasets/'\n",
        "dataset = 'emails.csv'\n",
        "headers = ['From',\"To\", 'weight', 'timestamp']\n",
        "\n",
        "with open(filepath + dataset) as f:\n",
        "  skip_rows = len(list(\n",
        "      takewhile(lambda s: s.startswith(\"%\"), f)\n",
        "  ))\n",
        "\n",
        "df = pd.read_csv(filepath + dataset, names=headers, skiprows=skip_rows, index_col=False, delimiter=r'\\s+')\\\n",
        ".drop(columns=[\"weight\"])\\\n",
        ".sort_values(by=\"timestamp\")"
      ],
      "metadata": {
        "id": "dnJUHDPCjbZg"
      },
      "execution_count": 64,
      "outputs": []
    },
    {
      "cell_type": "markdown",
      "source": [
        "# **Характеристики графа:**"
      ],
      "metadata": {
        "id": "IoQCXf18FFFX"
      }
    },
    {
      "cell_type": "markdown",
      "source": [
        "## **Число вершин**"
      ],
      "metadata": {
        "id": "x6ahHeZlFSVj"
      }
    },
    {
      "cell_type": "code",
      "source": [
        "V_num = pd.unique(df[['From', 'To']].values.ravel()).size\n",
        "print(V_num)"
      ],
      "metadata": {
        "colab": {
          "base_uri": "https://localhost:8080/"
        },
        "id": "9KarKaIxuMBh",
        "outputId": "50b04d04-2a25-4284-c43c-d70e75da2f7c"
      },
      "execution_count": 65,
      "outputs": [
        {
          "output_type": "stream",
          "name": "stdout",
          "text": [
            "167\n"
          ]
        }
      ]
    },
    {
      "cell_type": "markdown",
      "source": [
        "## **Число рёбер**"
      ],
      "metadata": {
        "id": "tb3aF-IPFZSU"
      }
    },
    {
      "cell_type": "code",
      "source": [
        "adjList = [[] for _ in range(V_num + 1)]\n",
        "E_num = 0 # количество ребер\n",
        "for line in df.itertuples():\n",
        "  [From, To, time] = [line.From, line.To, line.timestamp]\n",
        "  if From != To and To not in [i['to'] for i in adjList[From]]: \n",
        "    adjList[From].append({'to' : To, 'time': time})\n",
        "    adjList[To].append({'to' : From, 'time': time})\n",
        "    E_num += 1\n",
        "print(E_num)\n",
        "  "
      ],
      "metadata": {
        "id": "3-np1hbYD-fG",
        "colab": {
          "base_uri": "https://localhost:8080/"
        },
        "outputId": "2573b358-7f88-4985-b967-113f0aadadf6"
      },
      "execution_count": 66,
      "outputs": [
        {
          "output_type": "stream",
          "name": "stdout",
          "text": [
            "3250\n"
          ]
        }
      ]
    },
    {
      "cell_type": "markdown",
      "source": [
        "## **Плотность**"
      ],
      "metadata": {
        "id": "t6_eOhRjFhLQ"
      }
    },
    {
      "cell_type": "code",
      "source": [
        "density = E_num / (V_num*(V_num - 1) / 2)\n",
        "print(density)"
      ],
      "metadata": {
        "colab": {
          "base_uri": "https://localhost:8080/"
        },
        "id": "RdCnJjkYVbSG",
        "outputId": "7b9ef892-fe9b-411a-b5ea-7703dea2af8f"
      },
      "execution_count": 67,
      "outputs": [
        {
          "output_type": "stream",
          "name": "stdout",
          "text": [
            "0.2344708174013419\n"
          ]
        }
      ]
    },
    {
      "cell_type": "markdown",
      "source": [
        "## **Статистика по КСС**"
      ],
      "metadata": {
        "id": "8m3ApewKFpbE"
      }
    },
    {
      "cell_type": "code",
      "source": [
        "Vertexes = set(range(1, V_num))\n",
        "count = 0\n",
        "max_size = 0\n",
        "max_WCC = set()\n",
        "\n",
        "while len(Vertexes) > 0:\n",
        "  WCC = bfs(adjList ,Vertexes.pop())\n",
        "  size = len(WCC)\n",
        "  if size > max_size:\n",
        "    max_size = size\n",
        "    max_WCC = WCC\n",
        "  count += 1\n",
        "  Vertexes -= WCC\n",
        "\n",
        "print(\"Количество компонент слабой связности: \", count)\n",
        "print(\"Наибольшая КСС: \", max_WCC)\n",
        "print(\"Мощность наибольшей КСС: \", max_size)\n",
        "print(\"Отношение мощности наибольшей КСС к общему количеству вершин: \", max_size / V_num)\n"
      ],
      "metadata": {
        "colab": {
          "base_uri": "https://localhost:8080/"
        },
        "id": "pJmwBpTHVh4c",
        "outputId": "99ac3f78-74a9-472e-93d0-1eb43956fc23"
      },
      "execution_count": 68,
      "outputs": [
        {
          "output_type": "stream",
          "name": "stdout",
          "text": [
            "Количество компонент слабой связности:  1\n",
            "Наибольшая КСС:  {1, 2, 3, 4, 5, 6, 7, 8, 9, 10, 11, 12, 13, 14, 15, 16, 17, 18, 19, 20, 21, 22, 23, 24, 25, 26, 27, 28, 29, 30, 31, 32, 33, 34, 35, 36, 37, 38, 39, 40, 41, 42, 43, 44, 45, 46, 47, 48, 49, 50, 51, 52, 53, 54, 55, 56, 57, 58, 59, 60, 61, 62, 63, 64, 65, 66, 67, 68, 69, 70, 71, 72, 73, 74, 75, 76, 77, 78, 79, 80, 81, 82, 83, 84, 85, 86, 87, 88, 89, 90, 91, 92, 93, 94, 95, 96, 97, 98, 99, 100, 101, 102, 103, 104, 105, 106, 107, 108, 109, 110, 111, 112, 113, 114, 115, 116, 117, 118, 119, 120, 121, 122, 123, 124, 125, 126, 127, 128, 129, 130, 131, 132, 133, 134, 135, 136, 137, 138, 139, 140, 141, 142, 143, 144, 145, 146, 147, 148, 149, 150, 151, 152, 153, 154, 155, 156, 157, 158, 159, 160, 161, 162, 163, 164, 165, 166, 167}\n",
            "Мощность наибольшей КСС:  167\n",
            "Отношение мощности наибольшей КСС к общему количеству вершин:  1.0\n"
          ]
        }
      ]
    },
    {
      "cell_type": "markdown",
      "source": [
        "## **Средний кластерный коэффициент**"
      ],
      "metadata": {
        "id": "s2_DMoE1G4hJ"
      }
    },
    {
      "cell_type": "code",
      "source": [
        "def local_clustering_coefficient(adjList, u):\n",
        "    #print(\"u =\", u, end=\": \")\n",
        "\n",
        "    # сет соседей вершины u\n",
        "    adj2u_set = set()\n",
        "    for v_tuple in adjList[u]:\n",
        "        to = v_tuple['to']\n",
        "        adj2u_set.add(to)\n",
        "\n",
        "    gamma_u = len(adj2u_set)\n",
        "    #print(\"length of adj2u =\", gamma_u, end=\", \")\n",
        "    if (gamma_u < 2):\n",
        "        #print(\"Only one adj node => Return 0\")\n",
        "        return 0\n",
        "\n",
        "    L_u = countEdgesInSet(adjList, adj2u_set)\n",
        "\n",
        "    #print(\"L_u =\", L_u, end=\", \")\n",
        "\n",
        "    Cl_u = 2 * L_u / (gamma_u * (gamma_u - 1))\n",
        "\n",
        "    #print(\"Cl_u =\", Cl_u)\n",
        "\n",
        "    return Cl_u\n",
        "\n",
        "# считает количество ребер между вершинами в сете\n",
        "def countEdgesInSet(adjList, vertexes_set):\n",
        "    sum = 0\n",
        "    for node in vertexes_set:\n",
        "        for neighbour_node in adjList[node]:\n",
        "            to = neighbour_node['to'] # neighbour_node - это tuple(to, time)\n",
        "            if to in vertexes_set:\n",
        "                sum+=1\n",
        "    return sum // 2\n",
        "\n",
        "sum_Cl = 0\n",
        "for vertex in max_WCC:\n",
        "    sum_Cl+=local_clustering_coefficient(adjList, vertex)\n",
        "\n",
        "average_Cl = sum_Cl / len(max_WCC)\n",
        "\n",
        "print(\"Средний кластерный коэффициент для наибольшей КСС:\", average_Cl)"
      ],
      "metadata": {
        "id": "1E8DRtxihKE7",
        "colab": {
          "base_uri": "https://localhost:8080/"
        },
        "outputId": "40365ed1-c86c-45e2-9ab8-7f9bac11114f"
      },
      "execution_count": 69,
      "outputs": [
        {
          "output_type": "stream",
          "name": "stdout",
          "text": [
            "Средний кластерный коэффициент для наибольшей КСС: 0.5918632085486949\n"
          ]
        }
      ]
    },
    {
      "cell_type": "markdown",
      "source": [
        "## **Коэффициент корреляции Пирсона**"
      ],
      "metadata": {
        "id": "z-hzE3JgHEfN"
      }
    },
    {
      "cell_type": "code",
      "source": [
        "from statistics import mean\n",
        "\n",
        "def pearson_correlation(adjList):\n",
        "  X = []\n",
        "  Y = []\n",
        "\n",
        "  for i in range(1, len(adjList)):\n",
        "    for j in adjList[i]:\n",
        "      X.append(len(adjList[i]))\n",
        "      Y.append(len(adjList[j['to']]))\n",
        "\n",
        "  avgX = mean(X)\n",
        "  avgY = mean(Y)\n",
        "\n",
        "  XminusAvgX = [i - avgX for i in X]\n",
        "  YminusAvgY = [i - avgY for i in Y]\n",
        "\n",
        "  Z = [i*j for i,j in zip(XminusAvgX, YminusAvgY)]\n",
        "\n",
        "  XminusAvgX_sq = [i**2 for i in XminusAvgX]\n",
        "  YminusAvgY_sq = [i**2 for i in YminusAvgY]\n",
        "\n",
        "  amounts = [sum(Z), sum(XminusAvgX_sq), sum(YminusAvgY_sq)]\n",
        "\n",
        "  print(np.corrcoef(X, Y)[0][1])\n",
        "  return amounts[0]/((amounts[1]*amounts[2])**0.5)\n",
        "\n",
        "PC = pearson_correlation(adjList)\n",
        "\n",
        "print(\"my_pearson_correlation:!\", PC)"
      ],
      "metadata": {
        "id": "QYEqb2gLjMjw",
        "colab": {
          "base_uri": "https://localhost:8080/"
        },
        "outputId": "819af7ce-9c93-4c0d-d51f-663671825da4"
      },
      "execution_count": 70,
      "outputs": [
        {
          "output_type": "stream",
          "name": "stdout",
          "text": [
            "-0.29517729789302094\n",
            "my_pearson_correlation:! -0.29517729789301744\n"
          ]
        }
      ]
    },
    {
      "cell_type": "markdown",
      "source": [
        "## **Вычисление диаметра, радиуса, рассояний, 90-го персентиля**"
      ],
      "metadata": {
        "id": "AvXuea6dHVYC"
      }
    },
    {
      "cell_type": "code",
      "source": [
        "def Perc(l, p):\n",
        "  l.sort()\n",
        "  if p < 100:\n",
        "    return l[math.floor(len(l) * p / 100)]\n",
        "  elif p == 100:\n",
        "    return l[-1]\n",
        "  return -1\n",
        "\n",
        "#алгоритм Флойда-Уоршелла\n",
        "def floyd_warshall(adjMat):\n",
        "  n = len(adjMat)\n",
        "  disM = adjMat.copy()\n",
        "  for k in range(1, n):\n",
        "    for i in range(1, n):\n",
        "      for j in range(1, n):\n",
        "        disM[i][j] = min(disM[i][j], disM[i][k] + disM[k][j]);\n",
        "  return disM\n",
        "\n",
        "def calcRadDimPerc(disM):\n",
        "  rad = math.inf\n",
        "  dim = 0\n",
        "  dist = []\n",
        "#Диаметр и радиус\n",
        "  for i in range(1, n):\n",
        "    max = 0\n",
        "    for j in range(1, n):\n",
        "      if disM != math.inf:\n",
        "        if disM[i][j] > max:\n",
        "          max = disM[i][j]\n",
        "        dist.append(disM[i][j])\n",
        "    if max != 0:\n",
        "      if max < rad:\n",
        "        rad = max\n",
        "      if max > dim:\n",
        "        dim = max\n",
        "  perc90 = Perc(dist, 90)\n",
        "  print('radius :', rad)\n",
        "  print('diameter :', dim)\n",
        "  print('perc90 :', perc90)\n",
        "  return [rad, dim, perc90]"
      ],
      "metadata": {
        "id": "fQ4Ecz_1zB3e"
      },
      "execution_count": 126,
      "outputs": []
    },
    {
      "cell_type": "code",
      "source": [
        "n = len(adjList)\n",
        "#Матрица смежности\n",
        "adjL = [[math.inf for i in range(n)] for _ in range(n)]\n",
        "for i in range(n):\n",
        "  adjL[i][i] = 0\n",
        "  if i in max_WCC:\n",
        "    for j in adjList[i]:\n",
        "      if j['to'] in max_WCC:\n",
        "        adjL[i][j['to']] = 1\n",
        "\n",
        "disM = floyd_warshall(adjL)"
      ],
      "metadata": {
        "id": "20uB2JoschHv"
      },
      "execution_count": 127,
      "outputs": []
    },
    {
      "cell_type": "markdown",
      "source": [
        "## **Снефжный ком, случайные выборки**"
      ],
      "metadata": {
        "id": "ea8PME3OI9h2"
      }
    },
    {
      "cell_type": "code",
      "source": [
        "#2a, 2b\n",
        "def rand_sample_metrics(adjList, max_comp, size):\n",
        "  if len(max_comp) > size:\n",
        "    rand_sample = random.sample(max_comp, size)\n",
        "  else:\n",
        "    rand_sample = max_comp\n",
        "  calcRadDimPerc(adjList, rand_sample)\n",
        "\n",
        "def snowball(adjList, max_comp, size):\n",
        "  if len(max_comp) > size:\n",
        "    sample = bfs(adjList, random.sample(max_comp, 3), size)\n",
        "  else:\n",
        "    sample = max_comp\n",
        "  calcRadDimPerc(adjList, sample)"
      ],
      "metadata": {
        "id": "R_4vksnWbPM1"
      },
      "execution_count": 73,
      "outputs": []
    },
    {
      "cell_type": "markdown",
      "source": [
        "## **Результаты по характеристикам**"
      ],
      "metadata": {
        "id": "e5YldwKcJp9n"
      }
    },
    {
      "cell_type": "code",
      "source": [
        "print(\n",
        "    f'Характеристика датасета {dataset}: \\n'\\\n",
        "    f'Число вершин: {V_num} \\n'\n",
        "    f'Число рёбер: {E_num} \\n'\\\n",
        "    f'Плотность: {density} \\n'\\\n",
        "    f'Количество компонент слабой связности: {count} \\n'\\\n",
        "    f'Наибольшая КСС: {max_WCC}'\n",
        "    #...\n",
        ")"
      ],
      "metadata": {
        "colab": {
          "base_uri": "https://localhost:8080/"
        },
        "id": "ZcEAJxb-J2JC",
        "outputId": "4be6f4eb-559f-4ba9-f661-3866e09a9340"
      },
      "execution_count": 20,
      "outputs": [
        {
          "output_type": "stream",
          "name": "stdout",
          "text": [
            "Характеристика датасета emails.csv: \n",
            "Число вершин: 167 \n",
            "Число рёбер: 3250 \n",
            "Плотность: 0.2344708174013419 \n",
            "Количество компонент слабой связности: 1 \n",
            "Наибольшая КСС: {1, 2, 3, 4, 5, 6, 7, 8, 9, 10, 11, 12, 13, 14, 15, 16, 17, 18, 19, 20, 21, 22, 23, 24, 25, 26, 27, 28, 29, 30, 31, 32, 33, 34, 35, 36, 37, 38, 39, 40, 41, 42, 43, 44, 45, 46, 47, 48, 49, 50, 51, 52, 53, 54, 55, 56, 57, 58, 59, 60, 61, 62, 63, 64, 65, 66, 67, 68, 69, 70, 71, 72, 73, 74, 75, 76, 77, 78, 79, 80, 81, 82, 83, 84, 85, 86, 87, 88, 89, 90, 91, 92, 93, 94, 95, 96, 97, 98, 99, 100, 101, 102, 103, 104, 105, 106, 107, 108, 109, 110, 111, 112, 113, 114, 115, 116, 117, 118, 119, 120, 121, 122, 123, 124, 125, 126, 127, 128, 129, 130, 131, 132, 133, 134, 135, 136, 137, 138, 139, 140, 141, 142, 143, 144, 145, 146, 147, 148, 149, 150, 151, 152, 153, 154, 155, 156, 157, 158, 159, 160, 161, 162, 163, 164, 165, 166, 167}\n"
          ]
        }
      ]
    },
    {
      "cell_type": "markdown",
      "source": [
        "# **Графики...**"
      ],
      "metadata": {
        "id": "IzJlVo_xO8Oz"
      }
    },
    {
      "cell_type": "markdown",
      "source": [
        "# **Статические признаки**"
      ],
      "metadata": {
        "id": "saKjqVbWJRof"
      }
    },
    {
      "cell_type": "code",
      "source": [
        "# Common Neighbours (CN) - количество общих соседей у двух вершин\n",
        "def common_neighbours(adjList, u, v):\n",
        "    set_u = set(i['to'] for i in adjList[u])\n",
        "    set_v = set(i['to'] for i in adjList[v])\n",
        "    return len(set_u.intersection(set_v))\n",
        "\n",
        "# Adamic-Adar (AA) - сумма обратных логарифмов степеней общих соседей\n",
        "def adamic_adar(adjList, u, v):\n",
        "    set_u = set(i['to'] for i in adjList[u])\n",
        "    set_v = set(i['to'] for i in adjList[v])\n",
        "    common = set_u.intersection(set_v)\n",
        "    aa = 0\n",
        "    for c in common:\n",
        "        degree = len(adjList[c])\n",
        "        if degree > 1:\n",
        "            aa += 1 / math.log(degree)\n",
        "    return aa\n",
        "\n",
        "# Jaccard Coefficient (JC) - отношение числа общих соседей к числу уникальных соседей\n",
        "def jaccard_coefficient(adjList, u, v):\n",
        "    set_u = set(i['to'] for i in adjList[u])\n",
        "    set_v = set(i['to'] for i in adjList[v])\n",
        "    intersection = set_u.intersection(set_v)\n",
        "    union = set_u.union(set_v)\n",
        "    if len(union) == 0:\n",
        "        return 0\n",
        "    return len(intersection) / len(union)\n",
        "\n",
        "# Preferential Attachment (PA) - произведение степеней двух вершин\n",
        "def preferential_attachment(adjList, u, v):\n",
        "    return len(adjList[u]) * len(adjList[v])\n",
        "\n",
        "\n",
        "\n",
        "def get_static_feat(adjList, u, v):\n",
        "  return [common_neighbours(adjList, u, v), adamic_adar(adjList, u, v), jaccard_coefficient(adjList, u, v), preferential_attachment(adjList, u, v)]\n",
        "\n",
        "# Создаем пустой словарь для хранения признаков для каждой пары вершин\n",
        "features = {}\n",
        "\n",
        "# Итерируемся по всем парам вершин в наибольшей КСС\n",
        "for u in max_WCC:\n",
        "    for v in max_WCC:\n",
        "        if u != v:\n",
        "            # Проверяем, что еще не вычисляли признаки для этой пары вершин\n",
        "            if (u, v) not in features and (v, u) not in features:\n",
        "                # Считаем признаки для пары вершин\n",
        "                cn = common_neighbours(adjList, u, v)\n",
        "                aa = adamic_adar(adjList, u, v)\n",
        "                jc = jaccard_coefficient(adjList, u, v)\n",
        "                pa = preferential_attachment(adjList, u, v)\n",
        "                # Сохраняем результаты в словаре\n",
        "                features[(u, v)] = {'CN': cn, 'AA': aa, 'JC': jc, 'PA': pa}\n",
        "    \n",
        "# Выводим признаки для первых 10 пар вершин в словаре\n",
        "for pair, feature in list(features.items())[:10]:\n",
        "    print(pair, feature)\n",
        "\n",
        "# на случайной паре вершин\n",
        "n = random.randint(5, len(max_WCC))\n",
        "randVertexes = random.sample(max_WCC, n)\n",
        "u = random.choice(randVertexes)\n",
        "v = random.choice(randVertexes)\n",
        "print(\"u =\", u)\n",
        "print(\"v =\", v)\n",
        "print(\"CN =\", common_neighbours(adjList, u, v))\n",
        "print(\"AA =\", adamic_adar(adjList, u, v))\n",
        "print(\"JC =\", jaccard_coefficient(adjList, u, v))\n",
        "print(\"PA =\", preferential_attachment(adjList, u, v))"
      ],
      "metadata": {
        "id": "EHhF0wPPi2zb",
        "colab": {
          "base_uri": "https://localhost:8080/"
        },
        "outputId": "10badac9-3333-42b4-d16c-bcd27e9e8d05"
      },
      "execution_count": 216,
      "outputs": [
        {
          "output_type": "stream",
          "name": "stdout",
          "text": [
            "(1, 2) {'CN': 67, 'AA': 16.885895339959788, 'JC': 0.5075757575757576, 'PA': 8970}\n",
            "(1, 3) {'CN': 67, 'AA': 17.25814041726422, 'JC': 0.5114503816793893, 'PA': 8840}\n",
            "(1, 4) {'CN': 64, 'AA': 16.228125237448655, 'JC': 0.48854961832061067, 'PA': 8450}\n",
            "(1, 5) {'CN': 53, 'AA': 13.257775503821485, 'JC': 0.40458015267175573, 'PA': 7020}\n",
            "(1, 6) {'CN': 47, 'AA': 12.28103918506532, 'JC': 0.35877862595419846, 'PA': 6240}\n",
            "(1, 7) {'CN': 75, 'AA': 18.869077030932047, 'JC': 0.5725190839694656, 'PA': 9880}\n",
            "(1, 8) {'CN': 56, 'AA': 13.9686378779357, 'JC': 0.42748091603053434, 'PA': 7410}\n",
            "(1, 9) {'CN': 61, 'AA': 14.909584470403765, 'JC': 0.4621212121212121, 'PA': 8190}\n",
            "(1, 10) {'CN': 60, 'AA': 15.184497124972571, 'JC': 0.4580152671755725, 'PA': 7930}\n",
            "(1, 11) {'CN': 24, 'AA': 5.842502263248883, 'JC': 0.183206106870229, 'PA': 3250}\n",
            "u = 162\n",
            "v = 26\n",
            "CN = 0\n",
            "AA = 0\n",
            "JC = 0.0\n",
            "PA = 54\n"
          ]
        },
        {
          "output_type": "stream",
          "name": "stderr",
          "text": [
            "<ipython-input-216-cd925c68258a>:61: DeprecationWarning: Sampling from a set deprecated\n",
            "since Python 3.9 and will be removed in a subsequent version.\n",
            "  randVertexes = random.sample(max_WCC, n)\n"
          ]
        }
      ]
    },
    {
      "cell_type": "code",
      "source": [
        "#Вычисление весов (Temporal weighting) features(3) \n",
        "l = 0.2\n",
        "t_min = df['timestamp'].min()\n",
        "t_max = df['timestamp'].max()\n",
        "delta_t = t_min + (t_max - t_min) * 0.66\n",
        "\n",
        "def get_sub_f(t):\n",
        "  return (t - t_min) / delta_t\n",
        "\n",
        "def get_w_lin(l, t):\n",
        "  sub_f = get_sub_f(t)\n",
        "  return l + (1 - l) * sub_f\n",
        "\n",
        "def get_w_exp(l, t):\n",
        "  sub_f = get_sub_f(t)\n",
        "  return l + (1 - l) * (math.exp(-3 * sub_f) - 1) / (math.pow(math.e, -3) - 1)\n",
        "\n",
        "def get_w_sqrt(l, t):\n",
        "  sub_f = get_sub_f(t)\n",
        "  return l + (1 - l) * math.sqrt(sub_f) "
      ],
      "metadata": {
        "id": "z-Bfn64xzAbh"
      },
      "execution_count": 217,
      "outputs": []
    },
    {
      "cell_type": "code",
      "source": [
        "def get_zeroth(w):\n",
        "  return Perc(w, 0)\n",
        "\n",
        "def get_first(w):\n",
        "  return Perc(w, 25)\n",
        "\n",
        "def get_second(w):\n",
        "  return Perc(w, 50)\n",
        "\n",
        "def get_third(w):\n",
        "  return Perc(w, 75)\n",
        "\n",
        "def get_fourth(w):\n",
        "  return Perc(w, 100)\n",
        "\n",
        "def get_sum(w):\n",
        "  return sum(w)\n",
        "\n",
        "def get_mean(w):\n",
        "  return mean(w)\n",
        "\n",
        "\n",
        "def agg_node_activity(w):\n",
        "  return [get_zeroth(w), get_first(w), get_second(w), get_third(w), get_fourth(w), get_sum(w), get_mean(w)]"
      ],
      "metadata": {
        "id": "lcvSFz8sCeW2"
      },
      "execution_count": 219,
      "outputs": []
    },
    {
      "cell_type": "code",
      "source": [
        "def get_sum_1(a, b):\n",
        "  return a + b\n",
        "  \n",
        "def get_abs_diff(a, b):\n",
        "  return abs(a - b)\n",
        "  \n",
        "def get_min(a, b):\n",
        "  return min(a, b)\n",
        "  \n",
        "def get_max(a, b):\n",
        "  return max(a, b)\n",
        "\n",
        "def combine(a, b):\n",
        "  feat = []\n",
        "  for a, b in zip(a, b):\n",
        "    feat.extend([get_sum_1(a, b), get_abs_diff(a, b), get_min(a, b), get_max(a, b)])\n",
        "  return feat"
      ],
      "metadata": {
        "id": "sEezfDqRKPla"
      },
      "execution_count": 254,
      "outputs": []
    },
    {
      "cell_type": "code",
      "source": [
        "#node_activity\n",
        "f_mat = {i: dict() for i in range(V_num + 1)}\n",
        "\n",
        "for _, fr, to, timestamp in df.itertuples():\n",
        "  if fr == to or timestamp > delta_t:\n",
        "      continue\n",
        "  if f_mat[fr].get(to): \n",
        "      f_mat[fr][to].append(timestamp)\n",
        "  else:\n",
        "      f_mat[fr][to] = [timestamp]\n",
        "  \n",
        "  if f_mat[to].get(fr): \n",
        "      f_mat[to][fr].append(timestamp)\n",
        "  else:\n",
        "      f_mat[to][fr] = [timestamp]\n",
        "print(f_mat)"
      ],
      "metadata": {
        "colab": {
          "base_uri": "https://localhost:8080/"
        },
        "id": "asdncSI7KiS0",
        "outputId": "722f1cf3-547e-4e08-d5d3-3e832918cc39"
      },
      "execution_count": 281,
      "outputs": []
    },
    {
      "cell_type": "code",
      "source": [
        "def get_temporal_feat(l, t):\n",
        "  return [get_w_lin(l, t), get_w_exp(l, t), get_w_sqrt(l, t)]\n",
        "\n",
        "for x in f_mat.values():\n",
        "  for to, times in x.items():\n",
        "    for i, t in enumerate(times):\n",
        "      x[to][i] = get_temporal_feat(l, t)"
      ],
      "metadata": {
        "id": "iZHxyxJsRLLk"
      },
      "execution_count": 282,
      "outputs": []
    },
    {
      "cell_type": "code",
      "source": [
        "node_activity = {i: list() for i in range(V_num + 1)}\n",
        "\n",
        "for fr, feat in f_mat.items():\n",
        "  if len(feat) == 0:\n",
        "    continue\n",
        "  lin = []\n",
        "  exp = []\n",
        "  squar = []\n",
        "  for to, fw in feat.items():\n",
        "    lin.extend([w[0] for w in fw])\n",
        "    exp.extend([w[1] for w in fw])\n",
        "    squar.extend([w[2] for w in fw])\n",
        "  for w in (lin, exp, squar):\n",
        "    node_activity[fr].extend(agg_node_activity(w))"
      ],
      "metadata": {
        "id": "c1wlwBLVu--j"
      },
      "execution_count": 283,
      "outputs": []
    },
    {
      "cell_type": "code",
      "source": [
        "pairs = set()\n",
        "for u in range(V_num + 1):\n",
        "    u_adj = set(f_mat[u].keys())\n",
        "    for v in range(V_num + 1):\n",
        "        v_adj = set(f_mat[v].keys())\n",
        "        if u not in f_mat[v].keys() and u_adj.intersection(v_adj):\n",
        "            if u < v:\n",
        "                pairs.add((u, v))"
      ],
      "metadata": {
        "id": "l7tp47htzrph"
      },
      "execution_count": 290,
      "outputs": []
    },
    {
      "cell_type": "code",
      "source": [
        "con_pairs = list()\n",
        "non_pairs = list()\n",
        "\n",
        "for i,j in pairs:\n",
        "  if j in [k['to'] for k in adjList[i]]:\n",
        "    con_pairs.append((i, j))\n",
        "  else:\n",
        "    non_pairs.append((i, j))\n",
        "print(len(con_pairs), len(non_pairs))\n",
        "\n"
      ],
      "metadata": {
        "colab": {
          "base_uri": "https://localhost:8080/"
        },
        "id": "rjQhQVvzjaej",
        "outputId": "a8da9946-6f09-45cf-ce91-b8b9b6af2588"
      },
      "execution_count": 291,
      "outputs": [
        {
          "output_type": "stream",
          "name": "stdout",
          "text": [
            "260 7839\n"
          ]
        }
      ]
    },
    {
      "cell_type": "code",
      "source": [
        "sample_size = 10000\n",
        "\n",
        "x_t = random.choices(con_pairs, k=sample_size)\n",
        "x_n = random.choices(non_pairs, k=sample_size)\n",
        "\n",
        "x = list(x_t)\n",
        "x.extend(x_n)\n",
        "y = [1]*sample_size\n",
        "y.extend([0]*sample_size)"
      ],
      "metadata": {
        "id": "9tjTIPTm7I79"
      },
      "execution_count": 292,
      "outputs": []
    },
    {
      "cell_type": "code",
      "source": [
        "static_feat = dict.fromkeys(x)\n",
        "temp_feat = dict.fromkeys(x)\n",
        "\n",
        "for u, v in static_feat.keys():\n",
        "  static_feat[(u, v)] = get_static_feat(adjList, u, v)\n",
        "  temp_feat[(u, v)] = combine(\n",
        "      node_activity[u], node_activity[v]\n",
        "  )\n",
        "print(node_activity[42])\n",
        "print(combine(node_activity[42], node_activity[58]))\n",
        "print(static_feat)\n",
        "print(temp_feat)"
      ],
      "metadata": {
        "colab": {
          "base_uri": "https://localhost:8080/"
        },
        "id": "SVmMZUN38Hly",
        "outputId": "d1a95093-1767-47df-a9bf-ce0fb51a6a4b"
      },
      "execution_count": 293,
      "outputs": []
    },
    {
      "cell_type": "code",
      "source": [
        "from sklearn.model_selection import train_test_split"
      ],
      "metadata": {
        "id": "KNCCyX8KBQ0Y"
      },
      "execution_count": 153,
      "outputs": []
    },
    {
      "cell_type": "code",
      "source": [
        "static_x = []\n",
        "temp_x = []\n",
        "for i in x:\n",
        "  static_x.append(static_feat[i])\n",
        "  temp_x.append(temp_feat[i])\n",
        "\n",
        "x_static_train, x_static_test, y_static_train_labels, y_static_test_labels = train_test_split(static_x, y, test_size=0.25, random_state=42)\n",
        "x_temp_train, x_temp_test, y_temp_train_labels, y_temp_test_labels = train_test_split(temp_x, y, test_size=0.25, random_state=42)"
      ],
      "metadata": {
        "id": "MZWrniQtAPdx"
      },
      "execution_count": 294,
      "outputs": []
    },
    {
      "cell_type": "code",
      "source": [
        "from sklearn.linear_model import LogisticRegression\n",
        "from sklearn import metrics"
      ],
      "metadata": {
        "id": "8tO_bIOsEAu5"
      },
      "execution_count": 185,
      "outputs": []
    },
    {
      "cell_type": "code",
      "source": [
        "static_model = LogisticRegression(max_iter=10000)\n",
        "static_model.fit(x_static_train, y_static_train_labels)\n",
        "y_pred_static = static_model.predict(x_static_test)\n",
        "print(metrics.accuracy_score(y_static_test_labels, y_pred_static))"
      ],
      "metadata": {
        "colab": {
          "base_uri": "https://localhost:8080/"
        },
        "id": "e2FIcuUhEEZY",
        "outputId": "405a2db0-93db-4160-d728-f7ff7f12a7d3"
      },
      "execution_count": 295,
      "outputs": [
        {
          "output_type": "stream",
          "name": "stdout",
          "text": [
            "0.7864\n"
          ]
        }
      ]
    },
    {
      "cell_type": "code",
      "source": [
        "temp_model = LogisticRegression(max_iter=10000)\n",
        "temp_model.fit(x_temp_train, y_temp_train_labels)\n",
        "y_pred_temp = temp_model.predict(x_temp_test)\n",
        "print(metrics.accuracy_score(y_temp_test_labels, y_pred_temp))"
      ],
      "metadata": {
        "colab": {
          "base_uri": "https://localhost:8080/"
        },
        "id": "oCQBkw__PHvg",
        "outputId": "4309e271-9533-427a-a460-980c90baa70c"
      },
      "execution_count": 296,
      "outputs": [
        {
          "output_type": "stream",
          "name": "stdout",
          "text": [
            "0.7276\n"
          ]
        }
      ]
    }
  ]
}
