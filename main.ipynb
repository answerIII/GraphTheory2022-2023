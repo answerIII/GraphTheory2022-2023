{
 "cells": [
  {
   "cell_type": "code",
   "execution_count": 2,
   "metadata": {
    "collapsed": false,
    "pycharm": {
     "name": "#%%\n"
    }
   },
   "outputs": [],
   "source": [
    "import pandas as pd\n",
    "import numpy as np\n",
    "import random"
   ]
  },
  {
   "attachments": {},
   "cell_type": "markdown",
   "metadata": {
    "collapsed": false,
    "pycharm": {
     "name": "#%% md\n"
    }
   },
   "source": [
    "# Importing dataset"
   ]
  },
  {
   "cell_type": "code",
   "execution_count": 346,
   "metadata": {
    "collapsed": false,
    "pycharm": {
     "name": "#%%\n"
    }
   },
   "outputs": [
    {
     "name": "stdout",
     "output_type": "stream",
     "text": [
      "n = 5881, volume = 35592\n"
     ]
    }
   ],
   "source": [
    "datasets = [\n",
    "    \"data/opsahl-ucsocial/out.opsahl-ucsocial\",\n",
    "    \"data/emails/email-Eu-core-temporal_processed.txt\",\n",
    "    \"data/soc-sign-bitcoinalpha/out.soc-sign-bitcoinalpha\",\n",
    "    \"data/soc-sign-bitcoinotc/out.soc-sign-bitcoinotc\",\n",
    "    \"data/munmun_digg_reply/out.munmun_digg_reply\",\n",
    "    \"data/sx-mathoverflow/out.sx-mathoverflow\"\n",
    "]\n",
    "dataset_names = [\n",
    "    \"opsahl-ucsocial\",\n",
    "    \"email-Eu-core-temporal\",\n",
    "    \"soc-sign-bitcoinalpha\",\n",
    "    \"soc-sign-bitcoinotc\",\n",
    "    \"munmun_digg_reply\",\n",
    "    \"sx-mathoverflow\"\n",
    "]\n",
    "skiprows = [[0, 1], [], [0], [0], [0], [0]]\n",
    "current = 3 # 0 1 2 3 4 5\n",
    "graph = pd.read_csv(\n",
    "    datasets[current],\n",
    "    names=[\"_from\", \"_to\", \"_weight\", \"_timestamp\"],\n",
    "    sep=\" |\\t\",\n",
    "    engine ='python',\n",
    "    skiprows=skiprows[current]\n",
    ")\n",
    "V = np.unique(graph[\"_from\"]._append(graph[\"_to\"])).astype(int)\n",
    "V.sort()\n",
    "n = V.size\n",
    "volume = graph[\"_timestamp\"].size\n",
    "print(f\"{n = }, {volume = }\")\n"
   ]
  },
  {
   "attachments": {},
   "cell_type": "markdown",
   "metadata": {},
   "source": [
    "# Tools"
   ]
  },
  {
   "cell_type": "code",
   "execution_count": 56,
   "metadata": {},
   "outputs": [],
   "source": [
    "def write_results(number_of_task: int, lines: list[str]):\n",
    "    \"\"\"Writes results to .txt files.\n",
    "    Args:\n",
    "        number_of_task (int): 1 or 2.\n",
    "        lines (list[str]): Lines to write.\n",
    "    \"\"\"\n",
    "    with open(f\"results/task_{number_of_task}/dataset_{current}.txt\", \"w\") as f:\n",
    "        f.writelines(line + '\\n' for line in lines)"
   ]
  },
  {
   "attachments": {},
   "cell_type": "markdown",
   "metadata": {
    "collapsed": false,
    "pycharm": {
     "name": "#%% md\n"
    }
   },
   "source": [
    "# Chapter 1"
   ]
  },
  {
   "attachments": {},
   "cell_type": "markdown",
   "metadata": {
    "collapsed": false,
    "pycharm": {
     "name": "#%% md\n"
    }
   },
   "source": [
    "## Preparing static graph"
   ]
  },
  {
   "cell_type": "code",
   "execution_count": 39,
   "metadata": {
    "collapsed": false,
    "pycharm": {
     "name": "#%%\n"
    }
   },
   "outputs": [],
   "source": [
    "graph_static = dict.fromkeys(V)\n",
    "for u in V:\n",
    "    graph_static[u] = set()\n",
    "for _index, _from, _to, _weight, _timestamp in graph.itertuples():\n",
    "    if _from == _to:\n",
    "        continue\n",
    "    if not _to in V:\n",
    "        print(_from, _to)\n",
    "    graph_static[_from].add(_to)\n",
    "    graph_static[_to].add(_from)\n"
   ]
  },
  {
   "attachments": {},
   "cell_type": "markdown",
   "metadata": {
    "collapsed": false,
    "pycharm": {
     "name": "#%% md\n"
    }
   },
   "source": [
    "## Task 1.1"
   ]
  },
  {
   "attachments": {},
   "cell_type": "markdown",
   "metadata": {},
   "source": [
    "### |E| and density"
   ]
  },
  {
   "cell_type": "code",
   "execution_count": 40,
   "metadata": {
    "collapsed": false,
    "pycharm": {
     "name": "#%%\n"
    }
   },
   "outputs": [],
   "source": [
    "E_count = 0\n",
    "for u in graph_static.keys():\n",
    "    E_count += len(graph_static[u])\n",
    "E_count //= 2\n",
    "#print(E_count)\n",
    "\n",
    "density = E_count * 2 / (n * (n - 1))\n",
    "#print(density)"
   ]
  },
  {
   "attachments": {},
   "cell_type": "markdown",
   "metadata": {},
   "source": [
    "### Connectivity components"
   ]
  },
  {
   "cell_type": "code",
   "execution_count": 41,
   "metadata": {
    "collapsed": false,
    "pycharm": {
     "name": "#%%\n"
    }
   },
   "outputs": [],
   "source": [
    "V_to_visit = set(V)\n",
    "connectivity_components = []\n",
    "while(V_to_visit):\n",
    "    V_seen = set()\n",
    "    queue = []\n",
    "    for u in V_to_visit:\n",
    "        queue.append(u)\n",
    "        V_seen.add(u)\n",
    "        break\n",
    "    while queue:\n",
    "        u = queue.pop()\n",
    "        u_adjacent_to_visit = graph_static[u].difference(V_seen)\n",
    "        for v in u_adjacent_to_visit:\n",
    "            V_seen.add(v)\n",
    "            queue.append(v)\n",
    "    V_to_visit = V_to_visit.difference(V_seen)\n",
    "    connectivity_components.append(V_seen)\n",
    "\n",
    "sizes = list(map(lambda x: len(x), connectivity_components))\n",
    "max_component_size = max(sizes)\n",
    "max_connectivity_component_index = sizes.index(max_component_size)\n",
    "proportion = max_component_size / len(V)\n",
    "#print(f\"{max_val = }, {max_connectivity_component_index = }, {proportion = }\")\n"
   ]
  },
  {
   "cell_type": "code",
   "execution_count": 42,
   "metadata": {
    "collapsed": false,
    "pycharm": {
     "name": "#%%\n"
    }
   },
   "outputs": [
    {
     "name": "stdout",
     "output_type": "stream",
     "text": [
      "|V| = 24818, |E| = 187986, p = 0.000610, number of components = 104, max component size = 24668, max component proportion = 0.993956\n"
     ]
    }
   ],
   "source": [
    "# 1.1\n",
    "print(\"|V| = %i, |E| = %i, p = %f, number of components = %i, max component size = %i, max component proportion = %f\"\n",
    "      % (n, E_count, density, len(connectivity_components), max_component_size, proportion))\n"
   ]
  },
  {
   "attachments": {},
   "cell_type": "markdown",
   "metadata": {
    "collapsed": false,
    "pycharm": {
     "name": "#%% md\n"
    }
   },
   "source": [
    "## Task 1.2"
   ]
  },
  {
   "attachments": {},
   "cell_type": "markdown",
   "metadata": {},
   "source": [
    "### Diameter, radius, all distances"
   ]
  },
  {
   "cell_type": "code",
   "execution_count": 43,
   "metadata": {
    "collapsed": false,
    "pycharm": {
     "name": "#%%\n"
    }
   },
   "outputs": [
    {
     "name": "stdout",
     "output_type": "stream",
     "text": [
      "0 = 304242778 False\n"
     ]
    }
   ],
   "source": [
    "component = list(connectivity_components[max_connectivity_component_index])\n",
    "distances = [0] * (n + 2)\n",
    "diameter = 0\n",
    "radius = n + 1\n",
    "n_limit = 10000\n",
    "if n < n_limit:\n",
    "    for start in component:\n",
    "        distances_tmp = dict.fromkeys(V, n + 1)\n",
    "        V_visited = set()\n",
    "        queue = [(start, 0)]\n",
    "        queued = set([start])\n",
    "        depth = 0\n",
    "        u = start\n",
    "        while queued:\n",
    "            (u, depth) = queue.pop(0)\n",
    "            queued.remove(u)\n",
    "            V_visited.add(u)\n",
    "            u_adjacent_to_visit = graph_static[u].difference(V_visited)\n",
    "            for v in u_adjacent_to_visit:\n",
    "                distances_tmp[v] = min(distances_tmp[v], depth + 1)\n",
    "                if v not in queued:\n",
    "                    queue.append((v, depth + 1))\n",
    "                    queued.add(v)\n",
    "        for u in V:\n",
    "            if u > start:\n",
    "                distances[distances_tmp[u]] += 1\n",
    "        diameter = max(diameter, depth)\n",
    "        radius = min(radius, depth)\n",
    "        if not start % 10:\n",
    "            #print(start, \"/\", n)\n",
    "            pass\n",
    "all_dist = 0\n",
    "for i in range(diameter + 1):\n",
    "    all_dist += distances[i]\n",
    "print(all_dist, \"=\", max_component_size * (max_component_size - 1) // 2,\n",
    "      all_dist == max_component_size * (max_component_size - 1) // 2)\n"
   ]
  },
  {
   "attachments": {},
   "cell_type": "markdown",
   "metadata": {},
   "source": [
    "### 90 percentille"
   ]
  },
  {
   "cell_type": "code",
   "execution_count": 44,
   "metadata": {
    "collapsed": false,
    "pycharm": {
     "name": "#%%\n"
    }
   },
   "outputs": [],
   "source": [
    "#percentile_90 = np.percentile(all_distances, 90)\n",
    "percentile_90_ind = int(0.9 * all_dist)\n",
    "percentile_90 = 0\n",
    "ind_tmp = 0\n",
    "for i in range(diameter + 1):\n",
    "    ind_tmp += distances[i]\n",
    "    if ind_tmp >= percentile_90_ind:\n",
    "        percentile_90 = i\n",
    "        break"
   ]
  },
  {
   "attachments": {},
   "cell_type": "markdown",
   "metadata": {},
   "source": [
    "### Distance matrix for a set of vertices function definition"
   ]
  },
  {
   "cell_type": "code",
   "execution_count": 45,
   "metadata": {
    "collapsed": false,
    "pycharm": {
     "name": "#%%\n"
    }
   },
   "outputs": [],
   "source": [
    "def calculate_matrix(vertices):\n",
    "\n",
    "    vertices_list = list(vertices)\n",
    "\n",
    "    distances = []\n",
    "    distance_matrix = dict()\n",
    "    for u in vertices_list:\n",
    "        distance_matrix[u] = dict()\n",
    "        for v in vertices_list:\n",
    "            if u != v:\n",
    "                distance_matrix[u][v] = n + 1\n",
    "\n",
    "    for start in vertices_list:\n",
    "        V_to_calculate = set(vertices)\n",
    "        V_to_calculate.discard(start)\n",
    "        V_visited = set()\n",
    "        queue = [(start, 0)]\n",
    "        queued = set([start])\n",
    "        max_depth = 0\n",
    "        while queued and V_to_calculate:\n",
    "            u, depth = queue.pop(0)\n",
    "            max_depth = max(max_depth, depth)\n",
    "            queued.discard(u)\n",
    "            V_visited.add(u)\n",
    "            u_adjacent_to_visit = graph_static[u].difference(V_visited)\n",
    "            for v in u_adjacent_to_visit:\n",
    "                if v in V_to_calculate:\n",
    "                    distance = distance_matrix[start][v]\n",
    "                    if depth + 1 < distance:\n",
    "                        distance_matrix[start][v] = depth + 1\n",
    "                        distance_matrix[v][start] = depth + 1\n",
    "                        V_to_calculate.discard(v)\n",
    "                if v not in queued:\n",
    "                    queue.append((v, depth + 1))\n",
    "                    queued.add(v)\n",
    "    \n",
    "    for u in vertices_list:\n",
    "        for v in vertices_list:\n",
    "            if u > v:\n",
    "                distances.append(distance_matrix[u][v])\n",
    "    eccentricities = dict()\n",
    "    for u in distance_matrix:\n",
    "        eccentricities[u] = max(distance_matrix[u].values())\n",
    "\n",
    "    return (distance_matrix, eccentricities, distances)\n"
   ]
  },
  {
   "attachments": {},
   "cell_type": "markdown",
   "metadata": {},
   "source": [
    "### Diameter, radius, percentille from random vertices"
   ]
  },
  {
   "cell_type": "code",
   "execution_count": 46,
   "metadata": {
    "collapsed": false,
    "pycharm": {
     "name": "#%%\n"
    }
   },
   "outputs": [
    {
     "name": "stdout",
     "output_type": "stream",
     "text": [
      "diameter_from_random_500 = 6, radius_from_random_500 = 4, percentile_90_from_random_500 = 4.0\n",
      "diameter_from_random_1000 = 7, radius_from_random_1000 = 4, percentile_90_from_random_1000 = 4.0\n"
     ]
    }
   ],
   "source": [
    "component = list(connectivity_components[max_connectivity_component_index])\n",
    "diameter_from_random_500 = 0\n",
    "radius_from_random_500 = 0\n",
    "percentile_90_from_random_500 = 0\n",
    "diameter_from_random_1000 = 0\n",
    "radius_from_random_1000 = 0\n",
    "percentile_90_from_random_1000 = 0\n",
    "if n >= 500:\n",
    "    random_500_vertices = sorted(random.sample(component, 500))\n",
    "    random_500_matrix, random_500_eccentricities, random_500_distances = calculate_matrix(\n",
    "        random_500_vertices)\n",
    "    diameter_from_random_500 = max(random_500_eccentricities.values())\n",
    "    radius_from_random_500 = min(random_500_eccentricities.values())\n",
    "    percentile_90_from_random_500 = np.percentile(random_500_distances, 90)\n",
    "    print(f\"{diameter_from_random_500 = }, {radius_from_random_500 = }, {percentile_90_from_random_500 = }\")\n",
    "if n >= 1000:\n",
    "    random_1000_vertices = sorted(random.sample(component, 1000))\n",
    "    random_1000_matrix, random_1000_eccentricities, random_1000_distances = calculate_matrix(\n",
    "        random_1000_vertices)\n",
    "    diameter_from_random_1000 = max(random_1000_eccentricities.values())\n",
    "    radius_from_random_1000 = min(random_1000_eccentricities.values())\n",
    "    percentile_90_from_random_1000 = np.percentile(random_1000_distances, 90)\n",
    "    print(f\"{diameter_from_random_1000 = }, {radius_from_random_1000 = }, {percentile_90_from_random_1000 = }\")\n",
    "\n",
    "                    "
   ]
  },
  {
   "attachments": {},
   "cell_type": "markdown",
   "metadata": {},
   "source": [
    "### Diameter, radius, percentille from snowball vertices"
   ]
  },
  {
   "cell_type": "code",
   "execution_count": 47,
   "metadata": {
    "collapsed": false,
    "pycharm": {
     "name": "#%%\n"
    }
   },
   "outputs": [
    {
     "name": "stdout",
     "output_type": "stream",
     "text": [
      "diameter_from_snowball_500 = 4, radius_from_snowball_500 = 2, percentile_90_from_snowball_500 = 2.0\n",
      "diameter_from_snowball_1000 = 5, radius_from_snowball_1000 = 3, percentile_90_from_snowball_1000 = 3.0\n"
     ]
    }
   ],
   "source": [
    "component = list(connectivity_components[max_connectivity_component_index])\n",
    "\n",
    "def snowball(limit, component):\n",
    "    vertices = set(random.sample(component, 2))\n",
    "    while len(vertices) < limit:\n",
    "        for v in vertices:\n",
    "            if len(vertices) < limit:\n",
    "                vertices = vertices.union(graph_static[v])\n",
    "    return sorted(list(vertices))\n",
    "\n",
    "diameter_from_snowball_500 = 0\n",
    "radius_from_snowball_500 = 0\n",
    "percentile_90_from_snowball_500 = 0\n",
    "diameter_from_snowball_1000 = 0\n",
    "radius_from_snowball_1000 = 0\n",
    "percentile_90_from_snowball_1000 = 0\n",
    "if n >= 500:\n",
    "    snowball_500_vertices = snowball(500, component)\n",
    "    snowball_500_matrix, snowball_500_eccentricities, snowball_500_distances = calculate_matrix(\n",
    "        snowball_500_vertices)\n",
    "    diameter_from_snowball_500 = max(snowball_500_eccentricities.values())\n",
    "    radius_from_snowball_500 = min(snowball_500_eccentricities.values())\n",
    "    percentile_90_from_snowball_500 = np.percentile(snowball_500_distances, 90)\n",
    "    print(f\"{diameter_from_snowball_500 = }, {radius_from_snowball_500 = }, {percentile_90_from_snowball_500 = }\")\n",
    "\n",
    "if n >= 1000:\n",
    "    snowball_1000_vertices = snowball(1000, component)\n",
    "    snowball_1000_matrix, snowball_1000_eccentricities, snowball_1000_distances = calculate_matrix(\n",
    "        snowball_1000_vertices)\n",
    "    diameter_from_snowball_1000 = max(snowball_1000_eccentricities.values())\n",
    "    radius_from_snowball_1000 = min(snowball_1000_eccentricities.values())\n",
    "    percentile_90_from_snowball_1000 = np.percentile(snowball_1000_distances, 90)\n",
    "    print(f\"{diameter_from_snowball_1000 = }, {radius_from_snowball_1000 = }, {percentile_90_from_snowball_1000 = }\")\n"
   ]
  },
  {
   "cell_type": "code",
   "execution_count": 48,
   "metadata": {
    "collapsed": false,
    "pycharm": {
     "name": "#%%\n"
    }
   },
   "outputs": [
    {
     "name": "stdout",
     "output_type": "stream",
     "text": [
      "diameter = 0, raduis = 24819, percentile_90 = 0\n"
     ]
    }
   ],
   "source": [
    "# 1.2\n",
    "print(\"diameter = %i, raduis = %i, percentile_90 = %i\" \n",
    "      % (diameter, radius, percentile_90))"
   ]
  },
  {
   "attachments": {},
   "cell_type": "markdown",
   "metadata": {
    "collapsed": false,
    "pycharm": {
     "name": "#%% md\n"
    }
   },
   "source": [
    "## Task 1.3"
   ]
  },
  {
   "cell_type": "code",
   "execution_count": 49,
   "metadata": {
    "collapsed": false,
    "pycharm": {
     "name": "#%%\n"
    }
   },
   "outputs": [],
   "source": [
    "component = list(connectivity_components[max_connectivity_component_index])\n",
    "\n",
    "Cl = dict()\n",
    "for u in component:\n",
    "    u_neighbors = graph_static[u]\n",
    "\n",
    "    if len(u_neighbors) < 2:\n",
    "        Cl[u] = 0\n",
    "        continue\n",
    "\n",
    "    Lu_doubled = 0\n",
    "    for neighbor in u_neighbors:\n",
    "        Lu_doubled += len(graph_static[neighbor].intersection(u_neighbors))\n",
    "    Cl[u] = Lu_doubled / (len(u_neighbors) * (len(u_neighbors) - 1))\n",
    "\n",
    "Cl_average = sum(Cl.values()) / len(Cl.values())"
   ]
  },
  {
   "cell_type": "code",
   "execution_count": 50,
   "metadata": {
    "collapsed": false,
    "pycharm": {
     "name": "#%%\n"
    }
   },
   "outputs": [
    {
     "name": "stdout",
     "output_type": "stream",
     "text": [
      "Cl_average = 0.313994\n"
     ]
    }
   ],
   "source": [
    "#1.3\n",
    "print(\"Cl_average = %f\" % (Cl_average))"
   ]
  },
  {
   "attachments": {},
   "cell_type": "markdown",
   "metadata": {
    "collapsed": false,
    "pycharm": {
     "name": "#%% md\n"
    }
   },
   "source": [
    "## Task 1.4"
   ]
  },
  {
   "cell_type": "code",
   "execution_count": 51,
   "metadata": {
    "collapsed": false,
    "pycharm": {
     "name": "#%%\n"
    }
   },
   "outputs": [],
   "source": [
    "R1 = 0\n",
    "R2 = 0\n",
    "R3 = 0\n",
    "Re = 0\n",
    "for u in V:\n",
    "    ku = len(graph_static[u])\n",
    "    R1 += ku\n",
    "    R2 += ku**2\n",
    "    R3 += ku**3\n",
    "    for v in graph_static[u]:\n",
    "        kv = len(graph_static[v])\n",
    "        Re += ku * kv\n",
    "degree_associativity = (Re * R1 - R2**2) / (R3 * R1 - R2**2)"
   ]
  },
  {
   "cell_type": "code",
   "execution_count": 52,
   "metadata": {
    "collapsed": false,
    "pycharm": {
     "name": "#%%\n"
    }
   },
   "outputs": [
    {
     "name": "stdout",
     "output_type": "stream",
     "text": [
      "Degree associativity = -0.215181\n"
     ]
    }
   ],
   "source": [
    "print(\"Degree associativity = %f\" % (degree_associativity))"
   ]
  },
  {
   "attachments": {},
   "cell_type": "markdown",
   "metadata": {},
   "source": [
    "## Writing results down for task 1"
   ]
  },
  {
   "cell_type": "code",
   "execution_count": 53,
   "metadata": {},
   "outputs": [],
   "source": [
    "lines = [\n",
    "    \"Task 1.1\",\n",
    "    f\"Число вершин: |V| = {n}\",\n",
    "    f\"Число ребер: |E| = {E_count}\",\n",
    "    f\"Плотность: p = {density}\",\n",
    "    f\"Число компонент слабой связности: {len(connectivity_components)}\",\n",
    "    f\"Доля вершин в максимальной по мощности компоненте слабой связности: {proportion}\",\n",
    "    \"\\nTask 1.2\",\n",
    "    f\"Оценки для 500 вершин (случайные вершины): {diameter_from_random_500 = }, {radius_from_random_500 = }, {percentile_90_from_random_500 = }\",\n",
    "    f\"Оценки для 1000 вершин (случайные вершины): {diameter_from_random_1000 = }, {radius_from_random_1000 = }, {percentile_90_from_random_1000 = }\",\n",
    "    f\"Оценки для 500 вершин (снежный ком): {diameter_from_snowball_500 = }, {radius_from_snowball_500 = }, {percentile_90_from_snowball_500 = }\",\n",
    "    f\"Оценки для 1000 вершин (снежный ком): {diameter_from_snowball_1000 = }, {radius_from_snowball_1000 = }, {percentile_90_from_snowball_1000 = }\",\n",
    "    f\"Вычисленные значения: {diameter = }, {radius = }, {percentile_90 = }\" if n < n_limit else \"Для этого датасета диаметр, радиус и 90-ый перцентиль будут вычисляться долго\",\n",
    "    \"\\nTask 1.3\",\n",
    "    f\"Cредний кластерный коэффициент сети: {Cl_average = }\",\n",
    "    \"\\nTask 1.4\",\n",
    "    f\"Коэффициент корреляции Пирсона: {degree_associativity}\"\n",
    "]\n",
    "write_results(1, lines)"
   ]
  },
  {
   "cell_type": "code",
   "execution_count": 54,
   "metadata": {},
   "outputs": [
    {
     "ename": "AssertionError",
     "evalue": "",
     "output_type": "error",
     "traceback": [
      "\u001b[1;31m---------------------------------------------------------------------------\u001b[0m",
      "\u001b[1;31mAssertionError\u001b[0m                            Traceback (most recent call last)",
      "Cell \u001b[1;32mIn[54], line 1\u001b[0m\n\u001b[1;32m----> 1\u001b[0m \u001b[39massert\u001b[39;00m \u001b[39mFalse\u001b[39;00m\n",
      "\u001b[1;31mAssertionError\u001b[0m: "
     ]
    }
   ],
   "source": [
    "assert False"
   ]
  },
  {
   "attachments": {},
   "cell_type": "markdown",
   "metadata": {
    "collapsed": false,
    "pycharm": {
     "name": "#%% md\n"
    }
   },
   "source": [
    "# Chapter 2"
   ]
  },
  {
   "attachments": {},
   "cell_type": "markdown",
   "metadata": {},
   "source": [
    "### Preparing data structures"
   ]
  },
  {
   "cell_type": "code",
   "execution_count": 347,
   "metadata": {
    "collapsed": false,
    "pycharm": {
     "name": "#%%\n"
    }
   },
   "outputs": [],
   "source": [
    "t_min = graph[\"_timestamp\"].min()\n",
    "t_max = graph[\"_timestamp\"].max()\n",
    "s = 2.0 / 3.0\n",
    "t_s = t_min + (t_max - t_min) * s\n",
    "l = 0.2\n",
    "\n",
    "t_matrix = dict.fromkeys(V)\n",
    "for u in V:\n",
    "    t_matrix[u] = dict()\n",
    "\n",
    "for _index, _from, _to, _weight, _timestamp in graph.itertuples():\n",
    "    if _from == _to or _timestamp > t_s:\n",
    "        continue\n",
    "    \n",
    "    if t_matrix[_from].get(_to) is not None: \n",
    "        t_matrix[_from][_to].append(_timestamp)\n",
    "    else:\n",
    "        t_matrix[_from][_to] = [_timestamp]\n",
    "    \n",
    "    if t_matrix[_to].get(_from) is not None: \n",
    "        t_matrix[_to][_from].append(_timestamp)\n",
    "    else:\n",
    "        t_matrix[_to][_from] = [_timestamp]\n",
    "\n",
    "graph_static = dict.fromkeys(V)\n",
    "for u in V:\n",
    "    graph_static[u] = set()\n",
    "for _index, _from, _to, _weight, _timestamp in graph.itertuples():\n",
    "    if _from == _to:\n",
    "        continue\n",
    "    if not _to in V:\n",
    "        print(_from, _to)\n",
    "    graph_static[_from].add(_to)\n",
    "    graph_static[_to].add(_from)\n",
    "    "
   ]
  },
  {
   "attachments": {},
   "cell_type": "markdown",
   "metadata": {
    "collapsed": false,
    "pycharm": {
     "name": "#%% md\n"
    }
   },
   "source": [
    "## Features"
   ]
  },
  {
   "attachments": {},
   "cell_type": "markdown",
   "metadata": {},
   "source": [
    "### Static features functions definitions"
   ]
  },
  {
   "cell_type": "code",
   "execution_count": 348,
   "metadata": {
    "collapsed": false,
    "pycharm": {
     "name": "#%%\n"
    }
   },
   "outputs": [],
   "source": [
    "def get_static_topological_features(u, v):\n",
    "    gamma_u = set(t_matrix[u].keys())\n",
    "    gamma_v = set(t_matrix[v].keys())\n",
    "    \n",
    "    intersection_u_v = gamma_u.intersection(gamma_v)\n",
    "    \n",
    "    CN_static = len(intersection_u_v)\n",
    "    JC_static = CN_static / len(gamma_u.union(gamma_v))\n",
    "    PA_static = len(gamma_u) * len(gamma_v)\n",
    "    AA_static = sum(\n",
    "        [1.0 / np.log(len(set(t_matrix[z].keys()))) for z in intersection_u_v]\n",
    "    )\n",
    "    return CN_static, AA_static, JC_static, PA_static"
   ]
  },
  {
   "attachments": {},
   "cell_type": "markdown",
   "metadata": {},
   "source": [
    "### Temporal features functions definitions"
   ]
  },
  {
   "attachments": {},
   "cell_type": "markdown",
   "metadata": {
    "collapsed": false,
    "pycharm": {
     "name": "#%% md\n"
    }
   },
   "source": [
    "#### Step 1: Temporal weighting"
   ]
  },
  {
   "cell_type": "code",
   "execution_count": 349,
   "metadata": {
    "collapsed": false,
    "pycharm": {
     "name": "#%%\n"
    }
   },
   "outputs": [],
   "source": [
    "def get_temporal_weighting(l, t):\n",
    "    time_var = (t - t_min) / (t_s - t_min)\n",
    "    w_linear = l + (1 - l) * time_var\n",
    "    w_exponential = l + (1 - l) * (np.exp(3 * time_var) - 1) / (np.exp(3) - 1)\n",
    "    w_square_root = l + (1 - l) * np.sqrt(time_var)\n",
    "    return [w_linear, w_exponential, w_square_root]\n",
    "    "
   ]
  },
  {
   "attachments": {},
   "cell_type": "markdown",
   "metadata": {
    "collapsed": false,
    "pycharm": {
     "name": "#%% md\n"
    }
   },
   "source": [
    "#### Step 2: Aggregation of node activity"
   ]
  },
  {
   "cell_type": "code",
   "execution_count": 350,
   "metadata": {
    "collapsed": false,
    "pycharm": {
     "name": "#%%\n"
    }
   },
   "outputs": [],
   "source": [
    "class AggregationOfNodeActivity:  \n",
    "    @staticmethod\n",
    "    def zeroth_quantile(weights):\n",
    "        return np.quantile(weights, 0)\n",
    "    \n",
    "    @staticmethod\n",
    "    def first_quantile(weights):\n",
    "        return np.quantile(weights, 0.25)\n",
    "    \n",
    "    @staticmethod\n",
    "    def second_quantile(weights):\n",
    "        return np.quantile(weights, 0.50)\n",
    "    \n",
    "    @staticmethod\n",
    "    def third_quantile(weights):\n",
    "        return np.quantile(weights, 0.75)\n",
    "    \n",
    "    @staticmethod\n",
    "    def fourth_quantile(weights):\n",
    "        return np.quantile(weights, 1)\n",
    "    \n",
    "    @staticmethod\n",
    "    def get_sum(weights):\n",
    "        return sum(weights)\n",
    "    \n",
    "    @staticmethod\n",
    "    def get_mean(weights):\n",
    "        return np.mean(weights)\n",
    "    \n",
    "    @staticmethod\n",
    "    def aggregate(weights):\n",
    "        return [\n",
    "            AggregationOfNodeActivity.zeroth_quantile(weights),\n",
    "            AggregationOfNodeActivity.first_quantile(weights),\n",
    "            AggregationOfNodeActivity.second_quantile(weights),\n",
    "            AggregationOfNodeActivity.third_quantile(weights),\n",
    "            AggregationOfNodeActivity.fourth_quantile(weights),\n",
    "            AggregationOfNodeActivity.get_sum(weights),\n",
    "            AggregationOfNodeActivity.get_mean(weights)\n",
    "        ]"
   ]
  },
  {
   "attachments": {},
   "cell_type": "markdown",
   "metadata": {
    "collapsed": false,
    "pycharm": {
     "name": "#%% md\n"
    }
   },
   "source": [
    "#### Step 3: Combining node activity"
   ]
  },
  {
   "cell_type": "code",
   "execution_count": 351,
   "metadata": {
    "collapsed": false,
    "pycharm": {
     "name": "#%%\n"
    }
   },
   "outputs": [],
   "source": [
    "class CombiningNodeActivity:\n",
    "    @staticmethod\n",
    "    def get_sum(a, b):\n",
    "        return a + b\n",
    "    \n",
    "    @staticmethod\n",
    "    def get_absolute_differrence(a, b):\n",
    "        return abs(a - b)\n",
    "    \n",
    "    @staticmethod\n",
    "    def get_minimum(a, b):\n",
    "        return min(a, b)\n",
    "    \n",
    "    @staticmethod\n",
    "    def get_maximum(a, b):\n",
    "        return max(a, b)\n",
    "    \n",
    "    @staticmethod\n",
    "    def combine(u_list, v_list):\n",
    "        feature = []\n",
    "        for a, b in zip(u_list, v_list):\n",
    "            feature.append(CombiningNodeActivity.get_sum(a, b))\n",
    "            feature.append(CombiningNodeActivity.get_absolute_differrence(a, b))\n",
    "            feature.append(CombiningNodeActivity.get_minimum(a, b))\n",
    "            feature.append(CombiningNodeActivity.get_maximum(a, b))\n",
    "        return feature\n",
    "\n"
   ]
  },
  {
   "attachments": {},
   "cell_type": "markdown",
   "metadata": {},
   "source": [
    "### Calculating features"
   ]
  },
  {
   "attachments": {},
   "cell_type": "markdown",
   "metadata": {},
   "source": [
    "#### Step 1 Calculating temporal weights"
   ]
  },
  {
   "cell_type": "code",
   "execution_count": 352,
   "metadata": {},
   "outputs": [],
   "source": [
    "for vt in t_matrix.values():\n",
    "    for v, times in vt.items():\n",
    "        for i, t in enumerate(times):\n",
    "            vt[v][i] = get_temporal_weighting(l, t)"
   ]
  },
  {
   "attachments": {},
   "cell_type": "markdown",
   "metadata": {},
   "source": [
    "#### Step 2 Calculating Node Activity"
   ]
  },
  {
   "cell_type": "code",
   "execution_count": 353,
   "metadata": {},
   "outputs": [],
   "source": [
    "node_activity_feature_graph = dict()\n",
    "for u in V:\n",
    "    node_activity_feature_graph[u] = list()\n",
    "\n",
    "for u, vt in t_matrix.items():\n",
    "    if len(vt) == 0:\n",
    "        continue\n",
    "    linears = []\n",
    "    exponentials = []\n",
    "    squares = []\n",
    "    for v, weights in vt.items():\n",
    "        if not linears:\n",
    "            linears = [w[0] for w in weights]\n",
    "            exponentials = [w[1] for w in weights]\n",
    "            squares = [w[2] for w in weights]\n",
    "            continue\n",
    "        linears.extend([w[0] for w in weights])\n",
    "        exponentials.extend([w[1] for w in weights])\n",
    "        squares.extend([w[2] for w in weights])\n",
    "    for weights in (linears, exponentials, squares):\n",
    "        node_activity_feature_graph[u].extend(\n",
    "            AggregationOfNodeActivity.aggregate(weights)\n",
    "        )\n"
   ]
  },
  {
   "attachments": {},
   "cell_type": "markdown",
   "metadata": {},
   "source": [
    "#### Step 3.1 Choosing pairs of nodes for feature calculating"
   ]
  },
  {
   "attachments": {},
   "cell_type": "markdown",
   "metadata": {},
   "source": [
    "##### 3.1.1 All pairs at distance two"
   ]
  },
  {
   "cell_type": "code",
   "execution_count": 354,
   "metadata": {
    "collapsed": false,
    "pycharm": {
     "name": "#%%\n"
    }
   },
   "outputs": [],
   "source": [
    "pairs = set()\n",
    "\n",
    "for u in V:\n",
    "    u_adj = set(t_matrix[u].keys())\n",
    "    for v in V:\n",
    "        if u >= v or v in u_adj:\n",
    "            continue\n",
    "        v_adj = set(t_matrix[v].keys())\n",
    "        if v_adj.intersection(u_adj):\n",
    "            pairs.add((u, v))\n"
   ]
  },
  {
   "attachments": {},
   "cell_type": "markdown",
   "metadata": {},
   "source": [
    "##### 3.1.2 Lables for pairs"
   ]
  },
  {
   "cell_type": "code",
   "execution_count": 355,
   "metadata": {
    "collapsed": false,
    "pycharm": {
     "name": "#%%\n"
    }
   },
   "outputs": [
    {
     "name": "stdout",
     "output_type": "stream",
     "text": [
      "821 1021273\n"
     ]
    }
   ],
   "source": [
    "connecting = list()\n",
    "non_connecting = list()\n",
    "\n",
    "for u, v in pairs:\n",
    "    if v in graph_static[u]:\n",
    "        connecting.append((u, v))\n",
    "    else:\n",
    "        non_connecting.append((u, v))\n",
    "\n",
    "print(len(connecting), len(non_connecting))"
   ]
  },
  {
   "attachments": {},
   "cell_type": "markdown",
   "metadata": {},
   "source": [
    "##### 3.1.3 Sampling with replacement"
   ]
  },
  {
   "cell_type": "code",
   "execution_count": 356,
   "metadata": {
    "collapsed": false,
    "pycharm": {
     "name": "#%%\n"
    }
   },
   "outputs": [],
   "source": [
    "m = 10000\n",
    "x_y = random.choices(connecting, k=m)\n",
    "x_n = random.choices(non_connecting, k=m)\n",
    "\n",
    "x_pairs = list(x_y)\n",
    "x_pairs.extend(x_n)\n",
    "\n",
    "y_all = [1] * m\n",
    "y_all.extend([0] * m)\n"
   ]
  },
  {
   "attachments": {},
   "cell_type": "markdown",
   "metadata": {},
   "source": [
    "#### Step 3.2 Calculating static and temporal features for sampled pairs"
   ]
  },
  {
   "cell_type": "code",
   "execution_count": 357,
   "metadata": {},
   "outputs": [],
   "source": [
    "features_temporal = dict.fromkeys(list(set(x_y).union(set(x_n))))\n",
    "features_static = dict.fromkeys(list(set(x_y).union(set(x_n))))\n",
    "\n",
    "for u, v in features_temporal.keys():\n",
    "    features_static[(u, v)] = get_static_topological_features(u, v)\n",
    "    features_temporal[(u, v)] = CombiningNodeActivity.combine(\n",
    "        node_activity_feature_graph[u], node_activity_feature_graph[v]\n",
    "    )"
   ]
  },
  {
   "attachments": {},
   "cell_type": "markdown",
   "metadata": {},
   "source": [
    "### Preparing Dataset for regression"
   ]
  },
  {
   "cell_type": "code",
   "execution_count": 358,
   "metadata": {},
   "outputs": [],
   "source": [
    "x_all_static = []\n",
    "x_all_temporal = []\n",
    "\n",
    "for pair in x_pairs:\n",
    "    x_all_static.append(features_static[pair])\n",
    "    x_all_temporal.append(features_temporal[pair])\n",
    "\n",
    "y_train = []\n",
    "y_test = []\n",
    "x_train_static = []\n",
    "x_test_static = []\n",
    "x_train_temporal = []\n",
    "x_test_temporal = []\n",
    "x_pairs_train = []\n",
    "x_pairs_test = []\n",
    "\n",
    "for i in range(2 * m):\n",
    "    if random.random() > 0.75:\n",
    "        y_test.append(y_all[i])\n",
    "        x_test_static.append(x_all_static[i])\n",
    "        x_test_temporal.append(x_all_temporal[i])\n",
    "        x_pairs_test.append(x_pairs[i])\n",
    "    else:\n",
    "        y_train.append(y_all[i])\n",
    "        x_train_static.append(x_all_static[i])\n",
    "        x_train_temporal.append(x_all_temporal[i])\n",
    "        x_pairs_train.append(x_pairs[i])\n"
   ]
  },
  {
   "attachments": {},
   "cell_type": "markdown",
   "metadata": {},
   "source": [
    "## Regression"
   ]
  },
  {
   "cell_type": "code",
   "execution_count": 359,
   "metadata": {
    "collapsed": false,
    "pycharm": {
     "name": "#%%\n"
    }
   },
   "outputs": [],
   "source": [
    "from sklearn.linear_model import LogisticRegression\n",
    "from matplotlib import pyplot as plt\n",
    "from sklearn import metrics"
   ]
  },
  {
   "attachments": {},
   "cell_type": "markdown",
   "metadata": {},
   "source": [
    "#### Regression for temporal features"
   ]
  },
  {
   "cell_type": "code",
   "execution_count": 360,
   "metadata": {
    "collapsed": false,
    "pycharm": {
     "name": "#%%\n"
    }
   },
   "outputs": [
    {
     "name": "stdout",
     "output_type": "stream",
     "text": [
      "0.9219123505976096\n"
     ]
    }
   ],
   "source": [
    "model_temporal = LogisticRegression(max_iter=10000)\n",
    "model_temporal.fit(x_train_temporal, y_train)\n",
    "y_pred_proba_temporal = model_temporal.predict_proba(x_test_temporal)\n",
    "y_pred_temporal = model_temporal.predict(x_test_temporal)\n",
    "print(metrics.accuracy_score(y_test, y_pred_temporal))"
   ]
  },
  {
   "attachments": {},
   "cell_type": "markdown",
   "metadata": {},
   "source": [
    "#### Regression for static features"
   ]
  },
  {
   "cell_type": "code",
   "execution_count": 361,
   "metadata": {
    "collapsed": false,
    "pycharm": {
     "name": "#%%\n"
    }
   },
   "outputs": [
    {
     "name": "stdout",
     "output_type": "stream",
     "text": [
      "0.8123505976095617\n"
     ]
    }
   ],
   "source": [
    "model_static = LogisticRegression(max_iter=1000)\n",
    "model_static.fit(x_train_static, y_train)\n",
    "y_pred_proba_static = model_static.predict_proba(x_test_static)\n",
    "y_pred_static = model_static.predict(x_test_static)\n",
    "print(metrics.accuracy_score(y_test, y_pred_static))"
   ]
  },
  {
   "attachments": {},
   "cell_type": "markdown",
   "metadata": {},
   "source": [
    "### ROC AUC curve"
   ]
  },
  {
   "cell_type": "code",
   "execution_count": 362,
   "metadata": {},
   "outputs": [
    {
     "data": {
      "image/png": "[encoded data removed]",
      "text/plain": [
       "<Figure size 640x480 with 1 Axes>"
      ]
     },
     "metadata": {},
     "output_type": "display_data"
    }
   ],
   "source": [
    "fpr_t, tpr_t, thresholds_t = metrics.roc_curve(y_test, y_pred_proba_temporal[:, 1])\n",
    "roc_auc_t = metrics.auc(fpr_t, tpr_t)\n",
    "\n",
    "plt.title('Receiver Operating Characteristic for temporal features\\n' +\n",
    "          \"Dataset: \" + dataset_names[current])\n",
    "plt.plot(fpr_t, tpr_t, 'b', label='AUC = %0.2f' % roc_auc_t)\n",
    "plt.legend(loc='lower right')\n",
    "plt.plot([0, 1], [0, 1], 'r--')\n",
    "plt.xlim([0, 1])\n",
    "plt.ylim([0, 1])\n",
    "plt.ylabel('True Positive Rate')\n",
    "plt.xlabel('False Positive Rate')\n",
    "plt.savefig(\"results/task_2/dataset_\"+str(current)+\"/roct\"+str(current))\n",
    "plt.show()\n",
    "\n"
   ]
  },
  {
   "cell_type": "code",
   "execution_count": 363,
   "metadata": {},
   "outputs": [
    {
     "data": {
      "image/png": "[encoded data removed]",
      "text/plain": [
       "<Figure size 640x480 with 1 Axes>"
      ]
     },
     "metadata": {},
     "output_type": "display_data"
    }
   ],
   "source": [
    "fpr_s, tpr_s, thresholds_s = metrics.roc_curve(y_test, y_pred_proba_static[:, 1])\n",
    "roc_auc_s = metrics.auc(fpr_s, tpr_s)\n",
    "\n",
    "plt.title('Receiver Operating Characteristic for static features\\n' +\n",
    "          \"Dataset: \" + dataset_names[current])\n",
    "plt.plot(fpr_s, tpr_s, 'b', label='AUC = %0.2f' % roc_auc_s)\n",
    "plt.legend(loc='lower right')\n",
    "plt.plot([0, 1], [0, 1], 'r--')\n",
    "plt.xlim([0, 1])\n",
    "plt.ylim([0, 1])\n",
    "plt.ylabel('True Positive Rate')\n",
    "plt.xlabel('False Positive Rate')\n",
    "plt.savefig(\"results/task_2/dataset_\"+str(current)+\"/rocs\"+str(current))\n",
    "plt.show()\n"
   ]
  },
  {
   "attachments": {},
   "cell_type": "markdown",
   "metadata": {},
   "source": [
    "### Confusion Matrix"
   ]
  },
  {
   "cell_type": "code",
   "execution_count": 364,
   "metadata": {},
   "outputs": [
    {
     "data": {
      "image/png": "[encoded data removed]",
      "text/plain": [
       "<Figure size 640x480 with 2 Axes>"
      ]
     },
     "metadata": {},
     "output_type": "display_data"
    }
   ],
   "source": [
    "cm_t = metrics.confusion_matrix(\n",
    "    y_test, y_pred_temporal, labels=model_temporal.classes_)\n",
    "disp_t = metrics.ConfusionMatrixDisplay(\n",
    "    confusion_matrix=cm_t, display_labels=model_temporal.classes_)\n",
    "disp_t.plot()\n",
    "disp_t.ax_.set_title('Confusion Matrix for temporal features\\n' +\n",
    "                   \"Dataset: \" + dataset_names[current])\n",
    "plt.savefig(\"results/task_2/dataset_\"+str(current)+\"/cmt\"+str(current))\n",
    "plt.show()\n"
   ]
  },
  {
   "cell_type": "code",
   "execution_count": 365,
   "metadata": {},
   "outputs": [
    {
     "data": {
      "image/png": "[encoded data removed]",
      "text/plain": [
       "<Figure size 640x480 with 2 Axes>"
      ]
     },
     "metadata": {},
     "output_type": "display_data"
    }
   ],
   "source": [
    "cm_s = metrics.confusion_matrix(\n",
    "    y_test, y_pred_static, labels=model_static.classes_)\n",
    "disp_s = metrics.ConfusionMatrixDisplay(\n",
    "    confusion_matrix=cm_s, display_labels=model_static.classes_)\n",
    "disp_s.plot()\n",
    "disp_s.ax_.set_title('Confusion Matrix for static features\\n' +\n",
    "                   \"Dataset: \" + dataset_names[current])\n",
    "plt.savefig(\"results/task_2/dataset_\"+str(current)+\"/cms\"+str(current))\n",
    "plt.show()\n"
   ]
  },
  {
   "attachments": {},
   "cell_type": "markdown",
   "metadata": {},
   "source": [
    "### Other Metrics"
   ]
  },
  {
   "cell_type": "code",
   "execution_count": 366,
   "metadata": {},
   "outputs": [],
   "source": [
    "accuracy_t = metrics.accuracy_score(y_test, y_pred_temporal)\n",
    "accuracy_s = metrics.accuracy_score(y_test, y_pred_static)\n",
    "\n",
    "precision_t = metrics.precision_score(y_test, y_pred_temporal)\n",
    "precision_s = metrics.precision_score(y_test, y_pred_static)\n",
    "\n",
    "recall_t = metrics.recall_score(y_test, y_pred_temporal)\n",
    "recall_s = metrics.recall_score(y_test, y_pred_static)\n",
    "\n",
    "f1_t = metrics.f1_score(y_test, y_pred_temporal)\n",
    "f1_s = metrics.f1_score(y_test, y_pred_static)\n",
    "\n",
    "log_loss_t = metrics.log_loss(y_test, y_pred_temporal)\n",
    "log_loss_s = metrics.log_loss(y_test, y_pred_static)\n",
    "\n",
    "mcc_t = metrics.matthews_corrcoef(y_test, y_pred_temporal)\n",
    "mcc_s = metrics.matthews_corrcoef(y_test, y_pred_static)"
   ]
  },
  {
   "attachments": {},
   "cell_type": "markdown",
   "metadata": {
    "collapsed": false,
    "pycharm": {
     "name": "#%% md\n"
    }
   },
   "source": [
    "## Writing results down for task 2"
   ]
  },
  {
   "cell_type": "code",
   "execution_count": 367,
   "metadata": {},
   "outputs": [],
   "source": [
    "lines = [\n",
    "    \"Temporal:\",\n",
    "    \"Accuracy score = %f\" % (accuracy_t),\n",
    "    \"Precision score = %f\" % (precision_t),\n",
    "    \"Recall score = %f\" % (recall_t),\n",
    "    \"F1 score = %f\" % (f1_t),\n",
    "    \"Log Loss = %f\" % (log_loss_t),\n",
    "    \"Matthews Correlation Coefficient = %f\" % (mcc_t),\n",
    "    \"AUC = %f\" % (roc_auc_t),\n",
    "    \"\",\n",
    "    \"Static:\",\n",
    "    \"Accuracy score = %f\" % (accuracy_s),\n",
    "    \"Precision score = %f\" % (precision_s),\n",
    "    \"Recall score = %f\" % (recall_s),\n",
    "    \"F1 score = %f\" % (f1_s),\n",
    "    \"Log Loss = %f\" % (log_loss_s),\n",
    "    \"Matthews Correlation Coefficient = %f\" % (mcc_s),\n",
    "    \"AUC = %f\" % (roc_auc_s)\n",
    "]\n",
    "write_results(2, lines)"
   ]
  }
 ],
 "metadata": {
  "kernelspec": {
   "display_name": "Python 3 (ipykernel)",
   "language": "python",
   "name": "python3"
  },
  "language_info": {
   "codemirror_mode": {
    "name": "ipython",
    "version": 3
   },
   "file_extension": ".py",
   "mimetype": "text/x-python",
   "name": "python",
   "nbconvert_exporter": "python",
   "pygments_lexer": "ipython3",
   "version": "3.10.7"
  }
 },
 "nbformat": 4,
 "nbformat_minor": 1
}
