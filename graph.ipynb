{
 "cells": [
  {
   "cell_type": "code",
   "execution_count": 5,
   "id": "1f95250f-8450-4de1-a3bf-69ed04c8fd0a",
   "metadata": {},
   "outputs": [],
   "source": [
    "import os\n",
    "import weakref\n",
    "from dataclasses import dataclass\n",
    "from itertools import takewhile\n",
    "from typing import Dict, List\n",
    "\n",
    "import numpy as np\n",
    "import pandas as pd\n",
    "from numba import njit\n",
    "from numpy.typing import ArrayLike\n",
    "\n",
    "class Node:\n",
    "    def __init__(self, u_id: int, neighbors: ArrayLike, skip_unique: False = False):\n",
    "        self._u_id = u_id\n",
    "        # produces sorted array\n",
    "        self.neighbors = np.unique(neighbors) if not skip_unique else neighbors\n",
    "        \n",
    "    @property\n",
    "    def u_id(self):\n",
    "        return self._u_id\n",
    "    \n",
    "    @property\n",
    "    def deg(self):\n",
    "        return len(self.neighbors)\n",
    "    \n",
    "    def subgraph(self, other_nodes: np.ndarray):\n",
    "        return Node(self.u_id, get_intersection(self.neighbors, other_nodes), skip_unique=True)\n",
    "    \n",
    "\n",
    "class Network:\n",
    "    def __init__(self, path: str):\n",
    "        if not os.path.isfile(path):\n",
    "            raise OSError(\"wrong graph path\")\n",
    "        \n",
    "        with open(path) as f:\n",
    "            skip_rows = len(list(\n",
    "                takewhile(lambda s: s.startswith(\"%\"), f)\n",
    "            ))\n",
    "                \n",
    "        self.data = pd.read_csv(path, sep=r'\\s+', header=None,\n",
    "                                names=[\"fr\", \"to\", \"weight\", \"timestamp\"], skiprows=skip_rows)\\\n",
    "                        .drop(columns=[\"weight\"])\\\n",
    "                        .sort_values(by=\"timestamp\")\n",
    "        \n",
    "        self.edges = np.sort(self.data[[\"fr\", \"to\"]].values)\n",
    "        self.total_nodes = self.edges.max()\n",
    "        self.timestamps = self.data.timestamp.values\n",
    "\n",
    "    def __str__(self):\n",
    "        ans = \"from\\tto\\tweight\\ttimestamp\\n\"\n",
    "\n",
    "        for key in sorted(self.__graph.keys()):\n",
    "            node = self.__graph[key]\n",
    "\n",
    "            for j in node.edges_to:\n",
    "                ans += f\"{node.u_id}\\t{j.node.u_id}\\n\"\n",
    "\n",
    "        return ans\n",
    "\n",
    "\n",
    "class Graph:\n",
    "    def __init__(self, network: Network, edges: np.ndarray, nodes: dict[int, Node]):\n",
    "        self.network = network\n",
    "        self.edges = edges\n",
    "        self.edges_set: np.ndarray = np.unique(self.edges, axis=0)\n",
    "        self.nodes = nodes\n",
    "    \n",
    "    def get_subgraph(self, nodes_ids: ArrayLike) -> \"Graph\":\n",
    "        nodes_ids = np.unique(nodes_ids)\n",
    "        new_nodes = {u_id : self.nodes[u_id].subgraph(nodes_ids)\n",
    "                     for u_id in nodes_ids}\n",
    "        new_edges = np.array([\n",
    "            [u_id, neighbor] for u_id, node in new_nodes.items() for neighbor in node.neighbors\n",
    "        ])\n",
    "        \n",
    "        return Graph(self.network, new_edges, new_nodes)\n",
    "    \n",
    "    @property\n",
    "    def density(self):\n",
    "        if len(self.nodes) > 1:\n",
    "            return 2 * len(self.edges_set) / len(self.nodes) / (len(self.nodes) - 1) \n",
    "        return np.nan\n",
    "\n",
    "class StaticGraph(Graph):\n",
    "    def __init__(self, timestamps, quantile_end, *args, **kwargs):\n",
    "        self.timestamps = timestamps\n",
    "        self.quantile_end = quantile_end\n",
    "        super().__init__(*args, **kwargs)\n",
    "        \n",
    "    @staticmethod\n",
    "    def from_time_slice(network, quantile_end, quantile_start=0) -> \"Graph\":\n",
    "        assert 0 <= quantile_start <= quantile_end <= 1, \"Incorrect quantiles\"\n",
    "        \n",
    "        timestamps = network.timestamps\n",
    "        left, right = np.quantile(timestamps, [quantile_start, quantile_end])\n",
    "        mask = (left <= timestamps) & (timestamps <= right)\n",
    "        edges = network.edges[mask]\n",
    "        timestamps = timestamps[mask]\n",
    "        \n",
    "        undirected = np.vstack([edges, edges[:, ::-1]])\n",
    "        adj_lists = pd.DataFrame(undirected, columns=[\"v1\", \"v2\"])\\\n",
    "            .groupby(\"v1\")\\\n",
    "            .v2.apply(np.array)\n",
    "        \n",
    "        nodes = {u_id : Node(u_id,np.empty(0, dtype=int)) for u_id in np.arange(1, network.total_nodes + 1)}\n",
    "        nodes |= {u_id : Node(u_id, neighbors) for u_id, neighbors in adj_lists.items()}\n",
    "        \n",
    "        return StaticGraph(timestamps, quantile_end, network, edges, nodes)"
   ]
  },
  {
   "cell_type": "code",
   "execution_count": 2,
   "id": "70486c71-e8d2-444c-aaa2-a26017f12150",
   "metadata": {},
   "outputs": [],
   "source": [
    "def get_all_pairs(current_graph: StaticGraph, future_graph: StaticGraph):\n",
    "    has_link = []\n",
    "    no_link = []\n",
    "    \n",
    "    visited = np.zeros(len(current_graph.nodes) + 1, dtype=bool)\n",
    "    for node in current_graph.nodes.values():\n",
    "        if node.deg <= 1:\n",
    "            continue\n",
    "        \n",
    "        visited[np.concatenate([current_graph.nodes[neighbor_id].neighbors\n",
    "                                for neighbor_id in node.neighbors])] = True\n",
    "        visited[node.u_id] = False\n",
    "        intersection = get_intersection(future_graph.nodes[node.u_id].neighbors, visited.nonzero()[0]).astype(int)\n",
    "        has_link.append(np.vstack([np.full_like(intersection, node.u_id), intersection]))\n",
    "        visited[intersection] = False\n",
    "        \n",
    "        no_link_t = visited.nonzero()[0]\n",
    "        no_link.append(np.vstack([np.full_like(no_link_t, node.u_id), no_link_t]))\n",
    "        visited[no_link_t] = False\n",
    "    has_link, no_link = [np.hstack(arrs).T for arrs in [has_link, no_link]]\n",
    "    return has_link, no_link\n",
    "\n",
    "def get_train_set(graph: StaticGraph, seed: int = 42, size: int = 10_000):\n",
    "    rng = np.random.RandomState(seed=seed)\n",
    "    \n",
    "    future_graph = StaticGraph.from_time_slice(graph.network, 1, graph.quantile_end)\n",
    "    has_link, no_link = get_all_pairs(graph, future_graph)\n",
    "    train_edges = np.hstack([\n",
    "        np.vstack([\n",
    "            has_link[rng.choice(len(has_link), size)],\n",
    "            no_link[rng.choice(len(no_link), size)]\n",
    "        ]),\n",
    "        np.repeat([1, 0], size).reshape(-1, 1)\n",
    "    ])\n",
    "    return train_edges"
   ]
  },
  {
   "cell_type": "code",
   "execution_count": 3,
   "id": "deac52f1-db20-4539-bace-82b7dda30f9f",
   "metadata": {
    "tags": []
   },
   "outputs": [],
   "source": [
    "network = Network(\"data/opsahl-ucsocial/out.opsahl-ucsocial\")\n",
    "time_quantile = .8\n",
    "\n",
    "graph = StaticGraph.from_time_slice(network, time_quantile)"
   ]
  },
  {
   "cell_type": "code",
   "execution_count": 6,
   "id": "177a553e-6607-4be0-bd15-9af46ac43c74",
   "metadata": {},
   "outputs": [],
   "source": [
    "@njit\n",
    "def get_static_features_for_pair(first_neighbors, second_neighbors, degrees):\n",
    "    intersection = get_intersection(first_neighbors, second_neighbors)\n",
    "    first_deg, second_deg = first_neighbors.size, second_neighbors.size\n",
    "    return np.array([\n",
    "        intersection.size, # CN\n",
    "        (1 / np.log(degrees[intersection])).sum(), # AA\n",
    "        intersection.size / (first_deg + second_deg - intersection.size), ## JC\n",
    "        first_deg * second_deg # PA\n",
    "    ])"
   ]
  },
  {
   "cell_type": "code",
   "execution_count": 7,
   "id": "da31215d-12a6-41c5-9b2a-c32a392209fd",
   "metadata": {},
   "outputs": [],
   "source": [
    "def compute_static_features(graph: StaticGraph, edges: np.ndarray):\n",
    "    ids = list(graph.nodes.keys())\n",
    "    degrees_raw = [node.deg for node in graph.nodes.values()]\n",
    "    \n",
    "    degrees = np.zeros(graph.network.total_nodes + 1)\n",
    "    degrees[ids] = degrees_raw\n",
    "    \n",
    "    features = np.vstack([\n",
    "        get_static_features_for_pair(\n",
    "            graph.nodes[first_id].neighbors, graph.nodes[second_id].neighbors,\n",
    "            degrees\n",
    "        ) for first_id, second_id, *_ in edges\n",
    "    ])\n",
    "    \n",
    "    return features"
   ]
  },
  {
   "cell_type": "code",
   "execution_count": 35,
   "id": "c2f731f6-324a-47e4-8293-7db8b46eae1d",
   "metadata": {},
   "outputs": [],
   "source": [
    "@njit\n",
    "def _feat(weight):\n",
    "    return np.array([\n",
    "            *np.quantile(weight, [0, .25, .5, .75, 1]),\n",
    "            weight.sum(),\n",
    "            weight.mean(),\n",
    "            weight.var()\n",
    "    ])\n",
    "\n",
    "@njit\n",
    "def _post_event_agg(time: np.ndarray, t_min: float, t_max: float, lower_bound: float):\n",
    "    dt = (time - t_min) / (t_max - t_min)\n",
    "    weights = lower_bound + (1 - lower_bound) * np.vstack((\n",
    "        dt,\n",
    "        (np.exp(3 * dt) - 1) / (np.exp(3) - 1),\n",
    "        np.sqrt(dt)\n",
    "    ))\n",
    "    return np.concatenate((_feat(weights[0]), _feat(weights[1]), _feat(weights[2])))"
   ]
  },
  {
   "cell_type": "code",
   "execution_count": 46,
   "id": "7950133e-0fe7-4b35-bdc8-41d9860aeeaf",
   "metadata": {
    "tags": []
   },
   "outputs": [],
   "source": [
    "EPS = 1e-6\n",
    "\n",
    "def _get_wtfs(indices: list[tuple], df, computed: dict[tuple[int, int], np.ndarray],\n",
    "             t_max: float, t_min: float, lower_bound: float):\n",
    "    for index in indices:\n",
    "        if index[0] > index[1]:\n",
    "            index = index[::-1]\n",
    "            \n",
    "        if index not in computed:\n",
    "            computed[index] = computed[index[::-1]] = \\\n",
    "                _post_event_agg(df[index], t_max, t_min, lower_bound)\n",
    "            \n",
    "    return np.vstack(list(map(computed.get, indices)))\n",
    "\n",
    "def _sum_outgoing_wtf(node_id, **params):\n",
    "    edges = [(node_id, neighbor_id) for neighbor_id in graph.nodes[node_id].neighbors]\n",
    "    return sum(_get_wtfs(indices=edges, **params), start=np.zeros(24))\n",
    "\n",
    "def _get_temporal_features_for_pair(graph, node_1_id, node_2_id, **params):\n",
    "    intersection = get_intersection(graph.nodes[node_1_id].neighbors, graph.nodes[node_2_id].neighbors)\n",
    "    # print([(node_1_id, inters) for inters in intersection])\n",
    "    # print([(node_2_id, inters) for inters in intersection])\n",
    "    wtf_sums = _get_wtfs(indices=[(node_1_id, inters) for inters in intersection], **params) + \\\n",
    "               _get_wtfs(indices=[(node_2_id, inters) for inters in intersection], **params)\n",
    "    \n",
    "    intersection_sum = np.vstack([_sum_outgoing_wtf(node_id=inters, **params)\n",
    "                                  for inters in intersection])\n",
    "    wtf_sum_node_1, wtf_sum_node_2  = [_sum_outgoing_wtf(node_id, **params) \n",
    "                                       for node_id in [node_1_id, node_2_id]]\n",
    "    \n",
    "    return np.concatenate([\n",
    "        (wtf_sums / np.log(1 + EPS + intersection_sum)).sum(axis=0), # AA\n",
    "        wtf_sums.sum(axis=0), # CN\n",
    "        wtf_sums.sum(axis=0) / (wtf_sum_node_1 + wtf_sum_node_2 + EPS), # JC\n",
    "        wtf_sum_node_1 * wtf_sum_node_2, # PA\n",
    "    ])"
   ]
  },
  {
   "cell_type": "code",
   "execution_count": 49,
   "id": "47420c68-1314-40b6-a672-8e4a2ca8a240",
   "metadata": {
    "collapsed": true,
    "jupyter": {
     "outputs_hidden": true
    },
    "tags": []
   },
   "outputs": [
    {
     "name": "stderr",
     "output_type": "stream",
     "text": [
      " 71%|█████████████████████████████████████████████████████▎                     | 14231/20000 [00:06<00:02, 2637.00it/s]"
     ]
    },
    {
     "ename": "KeyboardInterrupt",
     "evalue": "",
     "output_type": "error",
     "traceback": [
      "\u001b[0;31m---------------------------------------------------------------------------\u001b[0m",
      "\u001b[0;31mKeyboardInterrupt\u001b[0m                         Traceback (most recent call last)",
      "Cell \u001b[0;32mIn[49], line 1\u001b[0m\n\u001b[0;32m----> 1\u001b[0m t \u001b[38;5;241m=\u001b[39m \u001b[43mcompute_temporal_features\u001b[49m\u001b[43m(\u001b[49m\u001b[43mgraph\u001b[49m\u001b[43m,\u001b[49m\u001b[43m \u001b[49m\u001b[43mtrain_set\u001b[49m\u001b[43m,\u001b[49m\u001b[43m \u001b[49m\u001b[38;5;241;43m.2\u001b[39;49m\u001b[43m)\u001b[49m\n",
      "Cell \u001b[0;32mIn[48], line 17\u001b[0m, in \u001b[0;36mcompute_temporal_features\u001b[0;34m(graph, edges, lower_bound)\u001b[0m\n\u001b[1;32m      7\u001b[0m computed: \u001b[38;5;28mdict\u001b[39m[\u001b[38;5;28mtuple\u001b[39m[\u001b[38;5;28mint\u001b[39m, \u001b[38;5;28mint\u001b[39m], np\u001b[38;5;241m.\u001b[39mndarray] \u001b[38;5;241m=\u001b[39m {}\n\u001b[1;32m      9\u001b[0m params \u001b[38;5;241m=\u001b[39m \u001b[38;5;28mdict\u001b[39m(\n\u001b[1;32m     10\u001b[0m     df\u001b[38;5;241m=\u001b[39mgrouped,\n\u001b[1;32m     11\u001b[0m     computed\u001b[38;5;241m=\u001b[39mcomputed,\n\u001b[0;32m   (...)\u001b[0m\n\u001b[1;32m     14\u001b[0m     lower_bound\u001b[38;5;241m=\u001b[39mlower_bound\n\u001b[1;32m     15\u001b[0m )\n\u001b[0;32m---> 17\u001b[0m features \u001b[38;5;241m=\u001b[39m np\u001b[38;5;241m.\u001b[39mvstack(\u001b[43m[\u001b[49m\n\u001b[1;32m     18\u001b[0m \u001b[43m    \u001b[49m\u001b[43m_get_temporal_features_for_pair\u001b[49m\u001b[43m(\u001b[49m\u001b[43mgraph\u001b[49m\u001b[43m,\u001b[49m\u001b[43m \u001b[49m\u001b[43mfirst_id\u001b[49m\u001b[43m,\u001b[49m\u001b[43m \u001b[49m\u001b[43msecond_id\u001b[49m\u001b[43m,\u001b[49m\u001b[43m \u001b[49m\u001b[38;5;241;43m*\u001b[39;49m\u001b[38;5;241;43m*\u001b[39;49m\u001b[43mparams\u001b[49m\u001b[43m)\u001b[49m\n\u001b[1;32m     19\u001b[0m \u001b[43m    \u001b[49m\u001b[38;5;28;43;01mfor\u001b[39;49;00m\u001b[43m \u001b[49m\u001b[43mfirst_id\u001b[49m\u001b[43m,\u001b[49m\u001b[43m \u001b[49m\u001b[43msecond_id\u001b[49m\u001b[43m,\u001b[49m\u001b[43m \u001b[49m\u001b[38;5;241;43m*\u001b[39;49m\u001b[43m_\u001b[49m\u001b[43m \u001b[49m\u001b[38;5;129;43;01min\u001b[39;49;00m\u001b[43m \u001b[49m\u001b[43mtqdm\u001b[49m\u001b[43m(\u001b[49m\u001b[43medges\u001b[49m\u001b[43m)\u001b[49m\n\u001b[1;32m     20\u001b[0m \u001b[43m\u001b[49m\u001b[43m]\u001b[49m)\n\u001b[1;32m     22\u001b[0m \u001b[38;5;28;01mreturn\u001b[39;00m features\n",
      "Cell \u001b[0;32mIn[48], line 18\u001b[0m, in \u001b[0;36m<listcomp>\u001b[0;34m(.0)\u001b[0m\n\u001b[1;32m      7\u001b[0m computed: \u001b[38;5;28mdict\u001b[39m[\u001b[38;5;28mtuple\u001b[39m[\u001b[38;5;28mint\u001b[39m, \u001b[38;5;28mint\u001b[39m], np\u001b[38;5;241m.\u001b[39mndarray] \u001b[38;5;241m=\u001b[39m {}\n\u001b[1;32m      9\u001b[0m params \u001b[38;5;241m=\u001b[39m \u001b[38;5;28mdict\u001b[39m(\n\u001b[1;32m     10\u001b[0m     df\u001b[38;5;241m=\u001b[39mgrouped,\n\u001b[1;32m     11\u001b[0m     computed\u001b[38;5;241m=\u001b[39mcomputed,\n\u001b[0;32m   (...)\u001b[0m\n\u001b[1;32m     14\u001b[0m     lower_bound\u001b[38;5;241m=\u001b[39mlower_bound\n\u001b[1;32m     15\u001b[0m )\n\u001b[1;32m     17\u001b[0m features \u001b[38;5;241m=\u001b[39m np\u001b[38;5;241m.\u001b[39mvstack([\n\u001b[0;32m---> 18\u001b[0m     \u001b[43m_get_temporal_features_for_pair\u001b[49m\u001b[43m(\u001b[49m\u001b[43mgraph\u001b[49m\u001b[43m,\u001b[49m\u001b[43m \u001b[49m\u001b[43mfirst_id\u001b[49m\u001b[43m,\u001b[49m\u001b[43m \u001b[49m\u001b[43msecond_id\u001b[49m\u001b[43m,\u001b[49m\u001b[43m \u001b[49m\u001b[38;5;241;43m*\u001b[39;49m\u001b[38;5;241;43m*\u001b[39;49m\u001b[43mparams\u001b[49m\u001b[43m)\u001b[49m\n\u001b[1;32m     19\u001b[0m     \u001b[38;5;28;01mfor\u001b[39;00m first_id, second_id, \u001b[38;5;241m*\u001b[39m_ \u001b[38;5;129;01min\u001b[39;00m tqdm(edges)\n\u001b[1;32m     20\u001b[0m ])\n\u001b[1;32m     22\u001b[0m \u001b[38;5;28;01mreturn\u001b[39;00m features\n",
      "Cell \u001b[0;32mIn[46], line 28\u001b[0m, in \u001b[0;36m_get_temporal_features_for_pair\u001b[0;34m(graph, node_1_id, node_2_id, **params)\u001b[0m\n\u001b[1;32m     23\u001b[0m wtf_sums \u001b[38;5;241m=\u001b[39m _get_wtfs(indices\u001b[38;5;241m=\u001b[39m[(node_1_id, inters) \u001b[38;5;28;01mfor\u001b[39;00m inters \u001b[38;5;129;01min\u001b[39;00m intersection], \u001b[38;5;241m*\u001b[39m\u001b[38;5;241m*\u001b[39mparams) \u001b[38;5;241m+\u001b[39m \\\n\u001b[1;32m     24\u001b[0m            _get_wtfs(indices\u001b[38;5;241m=\u001b[39m[(node_2_id, inters) \u001b[38;5;28;01mfor\u001b[39;00m inters \u001b[38;5;129;01min\u001b[39;00m intersection], \u001b[38;5;241m*\u001b[39m\u001b[38;5;241m*\u001b[39mparams)\n\u001b[1;32m     26\u001b[0m intersection_sum \u001b[38;5;241m=\u001b[39m np\u001b[38;5;241m.\u001b[39mvstack([_sum_outgoing_wtf(node_id\u001b[38;5;241m=\u001b[39minters, \u001b[38;5;241m*\u001b[39m\u001b[38;5;241m*\u001b[39mparams)\n\u001b[1;32m     27\u001b[0m                               \u001b[38;5;28;01mfor\u001b[39;00m inters \u001b[38;5;129;01min\u001b[39;00m intersection])\n\u001b[0;32m---> 28\u001b[0m wtf_sum_node_1, wtf_sum_node_2  \u001b[38;5;241m=\u001b[39m \u001b[43m[\u001b[49m\u001b[43m_sum_outgoing_wtf\u001b[49m\u001b[43m(\u001b[49m\u001b[43mnode_id\u001b[49m\u001b[43m,\u001b[49m\u001b[43m \u001b[49m\u001b[38;5;241;43m*\u001b[39;49m\u001b[38;5;241;43m*\u001b[39;49m\u001b[43mparams\u001b[49m\u001b[43m)\u001b[49m\u001b[43m \u001b[49m\n\u001b[1;32m     29\u001b[0m \u001b[43m                                   \u001b[49m\u001b[38;5;28;43;01mfor\u001b[39;49;00m\u001b[43m \u001b[49m\u001b[43mnode_id\u001b[49m\u001b[43m \u001b[49m\u001b[38;5;129;43;01min\u001b[39;49;00m\u001b[43m \u001b[49m\u001b[43m[\u001b[49m\u001b[43mnode_1_id\u001b[49m\u001b[43m,\u001b[49m\u001b[43m \u001b[49m\u001b[43mnode_2_id\u001b[49m\u001b[43m]\u001b[49m\u001b[43m]\u001b[49m\n\u001b[1;32m     31\u001b[0m \u001b[38;5;28;01mreturn\u001b[39;00m np\u001b[38;5;241m.\u001b[39mconcatenate([\n\u001b[1;32m     32\u001b[0m     (wtf_sums \u001b[38;5;241m/\u001b[39m np\u001b[38;5;241m.\u001b[39mlog(\u001b[38;5;241m1\u001b[39m \u001b[38;5;241m+\u001b[39m EPS \u001b[38;5;241m+\u001b[39m intersection_sum))\u001b[38;5;241m.\u001b[39msum(axis\u001b[38;5;241m=\u001b[39m\u001b[38;5;241m0\u001b[39m), \u001b[38;5;66;03m# AA\u001b[39;00m\n\u001b[1;32m     33\u001b[0m     wtf_sums\u001b[38;5;241m.\u001b[39msum(axis\u001b[38;5;241m=\u001b[39m\u001b[38;5;241m0\u001b[39m), \u001b[38;5;66;03m# CN\u001b[39;00m\n\u001b[1;32m     34\u001b[0m     wtf_sums\u001b[38;5;241m.\u001b[39msum(axis\u001b[38;5;241m=\u001b[39m\u001b[38;5;241m0\u001b[39m) \u001b[38;5;241m/\u001b[39m (wtf_sum_node_1 \u001b[38;5;241m+\u001b[39m wtf_sum_node_2 \u001b[38;5;241m+\u001b[39m EPS), \u001b[38;5;66;03m# JC\u001b[39;00m\n\u001b[1;32m     35\u001b[0m     wtf_sum_node_1 \u001b[38;5;241m*\u001b[39m wtf_sum_node_2, \u001b[38;5;66;03m# PA\u001b[39;00m\n\u001b[1;32m     36\u001b[0m ])\n",
      "Cell \u001b[0;32mIn[46], line 28\u001b[0m, in \u001b[0;36m<listcomp>\u001b[0;34m(.0)\u001b[0m\n\u001b[1;32m     23\u001b[0m wtf_sums \u001b[38;5;241m=\u001b[39m _get_wtfs(indices\u001b[38;5;241m=\u001b[39m[(node_1_id, inters) \u001b[38;5;28;01mfor\u001b[39;00m inters \u001b[38;5;129;01min\u001b[39;00m intersection], \u001b[38;5;241m*\u001b[39m\u001b[38;5;241m*\u001b[39mparams) \u001b[38;5;241m+\u001b[39m \\\n\u001b[1;32m     24\u001b[0m            _get_wtfs(indices\u001b[38;5;241m=\u001b[39m[(node_2_id, inters) \u001b[38;5;28;01mfor\u001b[39;00m inters \u001b[38;5;129;01min\u001b[39;00m intersection], \u001b[38;5;241m*\u001b[39m\u001b[38;5;241m*\u001b[39mparams)\n\u001b[1;32m     26\u001b[0m intersection_sum \u001b[38;5;241m=\u001b[39m np\u001b[38;5;241m.\u001b[39mvstack([_sum_outgoing_wtf(node_id\u001b[38;5;241m=\u001b[39minters, \u001b[38;5;241m*\u001b[39m\u001b[38;5;241m*\u001b[39mparams)\n\u001b[1;32m     27\u001b[0m                               \u001b[38;5;28;01mfor\u001b[39;00m inters \u001b[38;5;129;01min\u001b[39;00m intersection])\n\u001b[0;32m---> 28\u001b[0m wtf_sum_node_1, wtf_sum_node_2  \u001b[38;5;241m=\u001b[39m [\u001b[43m_sum_outgoing_wtf\u001b[49m\u001b[43m(\u001b[49m\u001b[43mnode_id\u001b[49m\u001b[43m,\u001b[49m\u001b[43m \u001b[49m\u001b[38;5;241;43m*\u001b[39;49m\u001b[38;5;241;43m*\u001b[39;49m\u001b[43mparams\u001b[49m\u001b[43m)\u001b[49m \n\u001b[1;32m     29\u001b[0m                                    \u001b[38;5;28;01mfor\u001b[39;00m node_id \u001b[38;5;129;01min\u001b[39;00m [node_1_id, node_2_id]]\n\u001b[1;32m     31\u001b[0m \u001b[38;5;28;01mreturn\u001b[39;00m np\u001b[38;5;241m.\u001b[39mconcatenate([\n\u001b[1;32m     32\u001b[0m     (wtf_sums \u001b[38;5;241m/\u001b[39m np\u001b[38;5;241m.\u001b[39mlog(\u001b[38;5;241m1\u001b[39m \u001b[38;5;241m+\u001b[39m EPS \u001b[38;5;241m+\u001b[39m intersection_sum))\u001b[38;5;241m.\u001b[39msum(axis\u001b[38;5;241m=\u001b[39m\u001b[38;5;241m0\u001b[39m), \u001b[38;5;66;03m# AA\u001b[39;00m\n\u001b[1;32m     33\u001b[0m     wtf_sums\u001b[38;5;241m.\u001b[39msum(axis\u001b[38;5;241m=\u001b[39m\u001b[38;5;241m0\u001b[39m), \u001b[38;5;66;03m# CN\u001b[39;00m\n\u001b[1;32m     34\u001b[0m     wtf_sums\u001b[38;5;241m.\u001b[39msum(axis\u001b[38;5;241m=\u001b[39m\u001b[38;5;241m0\u001b[39m) \u001b[38;5;241m/\u001b[39m (wtf_sum_node_1 \u001b[38;5;241m+\u001b[39m wtf_sum_node_2 \u001b[38;5;241m+\u001b[39m EPS), \u001b[38;5;66;03m# JC\u001b[39;00m\n\u001b[1;32m     35\u001b[0m     wtf_sum_node_1 \u001b[38;5;241m*\u001b[39m wtf_sum_node_2, \u001b[38;5;66;03m# PA\u001b[39;00m\n\u001b[1;32m     36\u001b[0m ])\n",
      "Cell \u001b[0;32mIn[46], line 17\u001b[0m, in \u001b[0;36m_sum_outgoing_wtf\u001b[0;34m(node_id, **params)\u001b[0m\n\u001b[1;32m     15\u001b[0m \u001b[38;5;28;01mdef\u001b[39;00m \u001b[38;5;21m_sum_outgoing_wtf\u001b[39m(node_id, \u001b[38;5;241m*\u001b[39m\u001b[38;5;241m*\u001b[39mparams):\n\u001b[1;32m     16\u001b[0m     edges \u001b[38;5;241m=\u001b[39m [(node_id, neighbor_id) \u001b[38;5;28;01mfor\u001b[39;00m neighbor_id \u001b[38;5;129;01min\u001b[39;00m graph\u001b[38;5;241m.\u001b[39mnodes[node_id]\u001b[38;5;241m.\u001b[39mneighbors]\n\u001b[0;32m---> 17\u001b[0m     \u001b[38;5;28;01mreturn\u001b[39;00m \u001b[38;5;28msum\u001b[39m(_get_wtfs(indices\u001b[38;5;241m=\u001b[39medges, \u001b[38;5;241m*\u001b[39m\u001b[38;5;241m*\u001b[39mparams), start\u001b[38;5;241m=\u001b[39mnp\u001b[38;5;241m.\u001b[39mzeros(\u001b[38;5;241m24\u001b[39m))\n",
      "\u001b[0;31mKeyboardInterrupt\u001b[0m: "
     ]
    },
    {
     "name": "stderr",
     "output_type": "stream",
     "text": [
      " 71%|█████████████████████████████████████████████████████▎                     | 14231/20000 [00:19<00:02, 2637.00it/s]"
     ]
    }
   ],
   "source": [
    "t = compute_temporal_features(graph, train_set, .2)"
   ]
  },
  {
   "cell_type": "code",
   "execution_count": 43,
   "id": "58a74c6a-abce-40a7-b3b1-e4f313ba54af",
   "metadata": {},
   "outputs": [
    {
     "data": {
      "text/plain": [
       "204"
      ]
     },
     "execution_count": 43,
     "metadata": {},
     "output_type": "execute_result"
    }
   ],
   "source": [
    "np.isnan(t).sum()"
   ]
  },
  {
   "cell_type": "code",
   "execution_count": 48,
   "id": "8b8984de-8b69-46de-8a3a-4581a968be4d",
   "metadata": {},
   "outputs": [],
   "source": [
    "from tqdm import tqdm\n",
    "def compute_temporal_features(graph: StaticGraph, edges: np.ndarray, lower_bound):\n",
    "    grouped = pd.DataFrame({\"v1\": graph.edges[:, 0], \"v2\": graph.edges[:, 1], \"time\": graph.timestamps})\\\n",
    "        .groupby([\"v1\", \"v2\"])\\\n",
    "        [\"time\"].apply(np.array)\n",
    "    \n",
    "    computed: dict[tuple[int, int], np.ndarray] = {}\n",
    "    \n",
    "    params = dict(\n",
    "        df=grouped,\n",
    "        computed=computed,\n",
    "        t_min=graph.timestamps.min(),\n",
    "        t_max=graph.timestamps.max(),\n",
    "        lower_bound=lower_bound\n",
    "    )\n",
    "    \n",
    "    features = np.vstack([\n",
    "        _get_temporal_features_for_pair(graph, first_id, second_id, **params)\n",
    "        for first_id, second_id, *_ in tqdm(edges)\n",
    "    ])\n",
    "    \n",
    "    return features"
   ]
  },
  {
   "cell_type": "code",
   "execution_count": null,
   "id": "18291bb1-e5da-495d-9dab-2a8a75c14263",
   "metadata": {},
   "outputs": [],
   "source": [
    "post_event_agg(np.array([1, 2, 3, 4]), 0, 10, .2)"
   ]
  },
  {
   "cell_type": "code",
   "execution_count": 14,
   "id": "b4351569-1f41-479c-8764-40f5290cbd1d",
   "metadata": {
    "tags": []
   },
   "outputs": [],
   "source": [
    "\n",
    "\n",
    "@njit\n",
    "def get_intersection(first, second):\n",
    "    i = j = k = 0\n",
    "    buffer = np.empty(min(first.size, second.size), dtype=first.dtype)\n",
    "    while i < first.size and j < second.size:\n",
    "        if first[i] == second[j]:\n",
    "            buffer[k] = first[i]\n",
    "            k += 1\n",
    "            i += 1\n",
    "            j += 1\n",
    "        elif first[i] < second[j]:\n",
    "            i += 1\n",
    "        else: \n",
    "            j += 1\n",
    "    return buffer[:k]"
   ]
  },
  {
   "cell_type": "code",
   "execution_count": 15,
   "id": "682ad119-b0c9-41ed-8b8e-911c36224538",
   "metadata": {
    "tags": []
   },
   "outputs": [],
   "source": [
    "num_vertices = len(graph.nodes)\n",
    "num_edges = len(graph.edges_set)\n",
    "density = 2 * num_edges / num_vertices / (num_vertices - 1)"
   ]
  },
  {
   "cell_type": "code",
   "execution_count": 16,
   "id": "74cf05c6-bebc-433a-956a-c8c54fab02db",
   "metadata": {
    "tags": []
   },
   "outputs": [],
   "source": [
    "from queue import deque\n",
    "\n",
    "def get_connected_comps(graph: Graph) -> list[list[int]]:\n",
    "    visited = {u_id : False for u_id in graph.nodes}\n",
    "    queue = deque(graph.nodes)\n",
    "    conn_comps: list[list[int]] = []\n",
    "    \n",
    "    for root_u_id in graph.nodes.keys():\n",
    "        if visited[root_u_id]:\n",
    "            continue\n",
    "            \n",
    "        queue = deque([root_u_id])\n",
    "        conn_comps.append([])\n",
    "        \n",
    "        while queue:\n",
    "            u_id = queue.popleft()\n",
    "            conn_comps[-1].append(u_id)\n",
    "            if not visited[u_id]:\n",
    "                for neighbor_id in graph.nodes[u_id].neighbors:\n",
    "                    if not visited[neighbor_id]:\n",
    "                        queue.append(neighbor_id)\n",
    "                        visited[neighbor_id] = True\n",
    "    return conn_comps"
   ]
  },
  {
   "cell_type": "code",
   "execution_count": 17,
   "id": "4d81d37d-cddc-42cd-b349-44ee1e3d35d3",
   "metadata": {
    "tags": []
   },
   "outputs": [],
   "source": [
    "conn_comps = get_connected_comps(graph)\n",
    "conn_comp = graph.get_subgraph(max(conn_comps, key=len))\n",
    "max_conn_comp_fraction =  len(conn_comp.nodes) / num_vertices\n"
   ]
  },
  {
   "cell_type": "code",
   "execution_count": 18,
   "id": "5d1ecac8-846e-48f8-b1e6-ce09da00173b",
   "metadata": {
    "tags": []
   },
   "outputs": [],
   "source": [
    "from scipy.stats import pearsonr \n",
    "\n",
    "def get_avg_cluster_coeff(graph: Graph) -> float:\n",
    "    return np.nanmean([graph.get_subgraph(node.neighbors).density\n",
    "                       for node in graph.nodes.values()])\n",
    "\n",
    "def get_deg_assortivity(graph: Graph) -> float:\n",
    "    degs = np.vectorize(lambda node_id: graph.nodes[node_id].deg)(graph.edges_set)\n",
    "    return pearsonr(degs[:, 0], degs[:, 1]).statistic"
   ]
  },
  {
   "cell_type": "code",
   "execution_count": null,
   "id": "9338180c-8f34-4d6b-a5fb-40f502f8bafc",
   "metadata": {},
   "outputs": [],
   "source": [
    "from itertools import combinations"
   ]
  },
  {
   "cell_type": "code",
   "execution_count": 19,
   "id": "b64916a0-088b-4f28-94f5-e92b1a8fa609",
   "metadata": {},
   "outputs": [],
   "source": [
    "train_set = get_train_set(graph)"
   ]
  },
  {
   "cell_type": "code",
   "execution_count": null,
   "id": "4121d4c1-e81a-44b7-9923-16f95cabb15c",
   "metadata": {},
   "outputs": [],
   "source": [
    "second_a = get_features(graph, .2);"
   ]
  },
  {
   "cell_type": "code",
   "execution_count": null,
   "id": "db62d2db-bb0c-4ed7-8c64-b520b1ea9169",
   "metadata": {},
   "outputs": [],
   "source": [
    "static = get_static_features(graph)"
   ]
  },
  {
   "cell_type": "code",
   "execution_count": null,
   "id": "7b309c66-cffb-4bb8-b86b-bc7f830e05e2",
   "metadata": {},
   "outputs": [],
   "source": [
    "import pickle\n",
    "with open(\"data/opsahl-ucsocial.pickle\", \"wb\") as f:\n",
    "    pickle.dump({\n",
    "        \"edges_labels\": train_set,\n",
    "        \"static\": static[train_set[:, 0], train_set[:, 1]],\n",
    "        \"second_a\": second_a[train_set[:, 0], train_set[:, 1]]\n",
    "    }, f)"
   ]
  },
  {
   "cell_type": "code",
   "execution_count": null,
   "id": "261bb323-2c7b-4bde-940e-f694b431080a",
   "metadata": {},
   "outputs": [],
   "source": []
  },
  {
   "cell_type": "code",
   "execution_count": null,
   "id": "8a6ab831-3555-4dc1-a4b1-50ed3f56326e",
   "metadata": {},
   "outputs": [],
   "source": [
    "t = static[train_set[:, 0], train_set[:, 1]][:, 0]"
   ]
  },
  {
   "cell_type": "code",
   "execution_count": null,
   "id": "3ba7e094-5c86-429b-a2b6-2c095f3d6a1d",
   "metadata": {},
   "outputs": [],
   "source": [
    "import seaborn as sns\n",
    "sns.histplot(x=np.log(t))"
   ]
  }
 ],
 "metadata": {
  "kernelspec": {
   "display_name": "Python 3 (ipykernel)",
   "language": "python",
   "name": "python3"
  },
  "language_info": {
   "codemirror_mode": {
    "name": "ipython",
    "version": 3
   },
   "file_extension": ".py",
   "mimetype": "text/x-python",
   "name": "python",
   "nbconvert_exporter": "python",
   "pygments_lexer": "ipython3",
   "version": "3.11.3"
  }
 },
 "nbformat": 4,
 "nbformat_minor": 5
}
