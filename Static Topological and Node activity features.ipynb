{
  "nbformat": 4,
  "nbformat_minor": 0,
  "metadata": {
    "colab": {
      "provenance": []
    },
    "kernelspec": {
      "name": "python3",
      "display_name": "Python 3"
    },
    "language_info": {
      "name": "python"
    }
  },
  "cells": [
    {
      "cell_type": "code",
      "source": [
        "import pandas as pd\n",
        "import numpy as np\n",
        "import math\n",
        "import matplotlib.pyplot as plt\n",
        "from random import shuffle\n",
        "from sklearn import preprocessing\n",
        "from sklearn.linear_model import LogisticRegression\n",
        "from sklearn.metrics import classification_report\n",
        "from sklearn.metrics import roc_auc_score\n",
        "from sklearn.metrics import roc_curve"
      ],
      "metadata": {
        "id": "7Isht8gwnYCr"
      },
      "execution_count": null,
      "outputs": []
    },
    {
      "cell_type": "code",
      "source": [
        "#csv_table = pd.read_csv('out_soc-sign-bitcoinalpha.csv')\n",
        "#csv_table = pd.read_csv('out_radoslaw_email_email.csv')\n",
        "#csv_table = pd.read_csv('out_soc-sign-bitcoinotc.csv')\n",
        "csv_table = pd.read_csv('email-Eu-core-temporal.csv')\n",
        "#csv_table = pd.read_csv('out_opsahl-ucsocial.csv')\n",
        "data = csv_table"
      ],
      "metadata": {
        "id": "SCkkgN28QSGf"
      },
      "execution_count": null,
      "outputs": []
    },
    {
      "cell_type": "code",
      "source": [
        "# отсортируем данные по времени, чтобы было удобно выделять статический граф\n",
        "data = csv_table\n",
        "\n",
        "t_start = min(data['time'])\n",
        "t_end = max(data['time'])\n",
        "\n",
        "history = data.sort_values(by='time', ascending=True)\n",
        "history = history.reset_index(drop=True)\n",
        "\n",
        "print(history[(np.percentile(history.time, 0) <= history.time) & (history.time <= np.percentile(history.time, 75))])"
      ],
      "metadata": {
        "id": "0jxEkGHfMb9C",
        "colab": {
          "base_uri": "https://localhost:8080/"
        },
        "outputId": "c073577b-379b-4578-f023-80148b6d8bcd"
      },
      "execution_count": null,
      "outputs": [
        {
          "output_type": "stream",
          "name": "stdout",
          "text": [
            "        from   to      time\n",
            "0        582  364         0\n",
            "1        168  472      2797\n",
            "2        168  912      3304\n",
            "3          2  790      4523\n",
            "4          2  322      7926\n",
            "...      ...  ...       ...\n",
            "249246   166  126  36704869\n",
            "249247   955  540  36704929\n",
            "249248   868   30  36705328\n",
            "249249   949  912  36705807\n",
            "249250   949  168  36705807\n",
            "\n",
            "[249251 rows x 3 columns]\n"
          ]
        }
      ]
    },
    {
      "cell_type": "code",
      "source": [
        "# создадим множество вершин, для построения в дальнейшем матрицы смежности\n",
        "V = set()\n",
        "\n",
        "for index, edge in data.iterrows():\n",
        "  V.add(edge['from'])\n",
        "  V.add(edge['to'])\n",
        "\n",
        "print(V)"
      ],
      "metadata": {
        "id": "CaDNm9vFYAnh",
        "colab": {
          "base_uri": "https://localhost:8080/"
        },
        "outputId": "fca8062f-fd3d-4ccb-dd60-33615e7e1322"
      },
      "execution_count": null,
      "outputs": [
        {
          "output_type": "stream",
          "name": "stdout",
          "text": [
            "{0, 1, 2, 3, 4, 5, 6, 7, 8, 9, 10, 11, 12, 13, 14, 15, 16, 17, 18, 19, 20, 21, 22, 23, 24, 25, 26, 27, 28, 29, 30, 31, 32, 33, 34, 35, 36, 37, 38, 39, 40, 41, 42, 43, 44, 45, 46, 47, 48, 49, 50, 51, 52, 53, 54, 55, 56, 57, 58, 59, 60, 61, 62, 63, 64, 65, 66, 67, 68, 69, 70, 71, 72, 73, 74, 75, 76, 77, 78, 79, 80, 81, 82, 83, 84, 85, 86, 87, 88, 89, 90, 91, 92, 93, 94, 95, 96, 97, 98, 99, 100, 101, 102, 103, 104, 105, 106, 107, 108, 109, 110, 111, 112, 113, 114, 115, 116, 117, 118, 119, 120, 121, 122, 123, 124, 125, 126, 127, 128, 129, 130, 131, 132, 133, 134, 135, 136, 137, 138, 139, 141, 142, 143, 144, 145, 146, 147, 148, 149, 150, 151, 152, 153, 154, 155, 157, 158, 159, 160, 161, 162, 163, 164, 165, 166, 167, 168, 169, 170, 171, 172, 173, 174, 175, 176, 177, 178, 179, 180, 181, 182, 183, 184, 185, 186, 187, 188, 189, 190, 191, 192, 193, 194, 195, 196, 197, 198, 199, 200, 201, 202, 203, 204, 205, 206, 207, 208, 209, 210, 211, 212, 213, 214, 215, 216, 217, 218, 219, 220, 221, 222, 223, 224, 225, 226, 227, 228, 229, 230, 231, 232, 233, 235, 236, 237, 238, 239, 240, 241, 242, 243, 244, 245, 246, 247, 248, 249, 250, 251, 252, 253, 254, 255, 256, 257, 259, 260, 262, 263, 264, 265, 266, 267, 268, 269, 270, 271, 272, 273, 274, 275, 276, 277, 278, 279, 280, 281, 282, 283, 284, 285, 286, 287, 288, 289, 290, 291, 292, 293, 294, 295, 296, 297, 299, 300, 301, 302, 303, 304, 305, 306, 307, 308, 309, 310, 311, 312, 313, 314, 315, 316, 317, 318, 319, 320, 321, 322, 323, 324, 325, 326, 327, 328, 329, 330, 331, 332, 333, 334, 335, 336, 337, 338, 339, 340, 341, 343, 344, 345, 346, 347, 348, 349, 350, 351, 352, 353, 355, 356, 357, 358, 359, 360, 361, 362, 364, 365, 366, 367, 368, 369, 370, 371, 372, 373, 374, 375, 376, 377, 378, 379, 380, 381, 382, 383, 384, 385, 386, 387, 388, 389, 390, 391, 392, 393, 394, 395, 396, 397, 398, 399, 400, 401, 402, 403, 404, 405, 406, 407, 408, 409, 410, 411, 412, 413, 414, 415, 416, 418, 419, 420, 421, 422, 423, 424, 425, 426, 427, 428, 429, 430, 431, 432, 433, 434, 435, 436, 437, 438, 439, 440, 441, 442, 443, 444, 445, 446, 447, 448, 449, 450, 451, 452, 453, 454, 455, 456, 457, 458, 459, 460, 461, 462, 464, 465, 466, 467, 468, 469, 470, 471, 472, 473, 474, 475, 476, 477, 478, 479, 480, 481, 482, 483, 484, 485, 486, 487, 488, 489, 490, 491, 492, 493, 495, 496, 497, 498, 499, 500, 501, 502, 503, 504, 505, 506, 507, 508, 509, 510, 511, 512, 513, 514, 515, 516, 517, 518, 519, 520, 521, 522, 523, 524, 525, 526, 527, 528, 530, 531, 532, 533, 534, 535, 536, 537, 538, 539, 540, 541, 542, 543, 544, 545, 546, 547, 548, 549, 550, 551, 552, 553, 554, 556, 557, 558, 559, 560, 561, 562, 563, 564, 565, 566, 567, 568, 569, 570, 571, 572, 573, 574, 575, 576, 577, 578, 579, 580, 581, 582, 583, 584, 585, 586, 587, 588, 589, 590, 591, 592, 593, 594, 595, 596, 597, 598, 599, 600, 601, 602, 603, 604, 605, 606, 607, 609, 610, 611, 612, 613, 614, 615, 616, 617, 618, 619, 621, 622, 623, 624, 625, 626, 627, 628, 629, 630, 631, 632, 633, 634, 635, 636, 637, 638, 639, 640, 641, 642, 643, 644, 645, 646, 647, 648, 649, 650, 651, 652, 653, 654, 655, 656, 657, 658, 659, 660, 661, 662, 663, 664, 665, 666, 667, 668, 669, 670, 671, 672, 673, 674, 675, 676, 677, 678, 679, 680, 681, 682, 683, 684, 685, 686, 687, 688, 689, 690, 691, 692, 693, 694, 695, 696, 697, 698, 699, 700, 701, 702, 703, 704, 705, 706, 707, 708, 709, 710, 711, 712, 713, 714, 715, 716, 717, 718, 719, 720, 721, 722, 723, 724, 725, 726, 727, 728, 729, 730, 731, 732, 733, 734, 735, 736, 737, 738, 739, 740, 741, 742, 743, 744, 745, 746, 747, 748, 749, 750, 751, 752, 753, 754, 756, 757, 758, 759, 760, 761, 762, 763, 764, 765, 767, 768, 769, 770, 771, 772, 773, 774, 775, 776, 777, 778, 779, 780, 781, 782, 783, 784, 785, 786, 787, 788, 789, 790, 791, 792, 793, 794, 795, 796, 797, 798, 799, 800, 801, 802, 803, 804, 805, 806, 807, 808, 809, 810, 811, 812, 813, 814, 815, 816, 817, 818, 819, 820, 821, 822, 823, 824, 825, 826, 827, 828, 829, 830, 831, 832, 833, 834, 835, 836, 837, 838, 839, 840, 841, 842, 843, 844, 845, 846, 847, 848, 849, 850, 851, 852, 853, 854, 855, 856, 857, 858, 859, 860, 861, 862, 863, 864, 865, 866, 867, 868, 869, 870, 871, 872, 873, 874, 875, 876, 877, 878, 879, 880, 881, 882, 883, 884, 885, 886, 887, 888, 889, 890, 891, 892, 893, 894, 895, 896, 897, 898, 899, 900, 901, 902, 903, 904, 905, 906, 907, 908, 909, 910, 911, 912, 913, 914, 915, 916, 917, 918, 919, 920, 921, 922, 923, 924, 925, 926, 927, 928, 929, 930, 931, 932, 933, 934, 935, 936, 937, 938, 939, 940, 941, 942, 943, 944, 945, 946, 947, 948, 949, 950, 951, 952, 953, 954, 955, 956, 957, 958, 960, 961, 962, 963, 964, 965, 966, 967, 968, 969, 970, 971, 972, 973, 974, 975, 976, 977, 978, 979, 980, 981, 982, 983, 984, 985, 986, 987, 988, 989, 990, 991, 992, 993, 994, 995, 996, 997, 998, 999, 1000, 1001, 1002, 1003, 1004}\n"
          ]
        }
      ]
    },
    {
      "cell_type": "code",
      "source": [
        "print(len(V))"
      ],
      "metadata": {
        "colab": {
          "base_uri": "https://localhost:8080/"
        },
        "id": "XhqXkMCpqnhV",
        "outputId": "709b52be-9da4-40b4-bdf5-0a54d06fe23c"
      },
      "execution_count": null,
      "outputs": [
        {
          "output_type": "stream",
          "name": "stdout",
          "text": [
            "986\n"
          ]
        }
      ]
    },
    {
      "cell_type": "code",
      "source": [
        "# функция, возвращающая матрицу смежности для графа (преобразуется в неориентированный) в указанный период времени\n",
        "def adjacency_matrix(H, V, t):\n",
        "  H = H[(np.percentile(H.time, 0) <= H.time) & (H.time <= np.percentile(H.time, int(t*100)))]\n",
        "  M = [[float('inf') for j in range(len(V))] for i in range(len(V))]\n",
        "  for index, edge in H.iterrows():\n",
        "    M[edge['from']-1][edge['to']-1] = edge['weight']\n",
        "    M[edge['to']-1][edge['from']-1] = edge['weight']\n",
        " \n",
        "  return M"
      ],
      "metadata": {
        "id": "ZTBYCjEqYXvN"
      },
      "execution_count": null,
      "outputs": []
    },
    {
      "cell_type": "code",
      "source": [
        "# Словарь\n",
        "def adjacency_list(H, V, t):\n",
        "  # ключ - from, значение - [to, weight, time, w_lin, w_exp, w_sqrt]\n",
        "  H = H[(np.percentile(H.time, 0) <= H.time) & (H.time <= np.percentile(H.time, int(t*100)))]\n",
        "  M = {}\n",
        "  for v in V:\n",
        "    M[v] = []\n",
        "  for index, edge in H.iterrows():\n",
        "    if not (edge['to'], 0, edge['time']) in M[edge['from']]:\n",
        "      M[edge['from']].append((edge['to'], 0, edge['time']))\n",
        "    if not (edge['from'], 0, edge['time']) in M[edge['to']]:\n",
        "      M[edge['to']].append((edge['from'], 0, edge['time']))\n",
        "\n",
        "  return M"
      ],
      "metadata": {
        "id": "t4wNCiA1x_1i"
      },
      "execution_count": null,
      "outputs": []
    },
    {
      "cell_type": "code",
      "source": [
        "# функция, возвращающая список несмежных вершин в указанный период времени\n",
        "\n",
        "def non_adjacent_vertices(H, V, t):\n",
        "\n",
        "  base_set = set()\n",
        "  V = list(V)\n",
        "  for i in range(len(V) - 1):\n",
        "    for j in range(i + 1, len(V)):\n",
        "      base_set.add(frozenset([V[i], V[j]]))\n",
        "  \n",
        "  H = H[(np.percentile(H.time, 0) <= H.time) & (H.time <= np.percentile(H.time, int(t*100)))]\n",
        "\n",
        "  for index, edge in H.iterrows():\n",
        "    if frozenset([edge['from'], edge['to']]) in base_set:\n",
        "      base_set.remove(frozenset([edge['from'], edge['to']]))\n",
        "  \n",
        "  out_set = set()\n",
        "\n",
        "  for pair in base_set:\n",
        "    out_set.add(tuple(pair))\n",
        "  \n",
        "  return list(out_set)\n",
        "  "
      ],
      "metadata": {
        "id": "xVzRyLbhIBPQ"
      },
      "execution_count": null,
      "outputs": []
    },
    {
      "cell_type": "code",
      "source": [
        "NV = non_adjacent_vertices(history, V, 0.5)"
      ],
      "metadata": {
        "id": "X6aVe6FPLrGi"
      },
      "execution_count": null,
      "outputs": []
    },
    {
      "cell_type": "code",
      "source": [
        "AM = adjacency_list(history, V, 1)"
      ],
      "metadata": {
        "id": "xxHiWxO1Rt98"
      },
      "execution_count": null,
      "outputs": []
    },
    {
      "cell_type": "code",
      "source": [
        "s = set()\n",
        "\n",
        "for item in AM:\n",
        "  for i in range(len(AM[item])):\n",
        "    s.add(frozenset([item, AM[item][i][0], AM[item][i][2]]))\n",
        "len(s)"
      ],
      "metadata": {
        "colab": {
          "base_uri": "https://localhost:8080/"
        },
        "id": "XnU27ke5Ed7w",
        "outputId": "35a11397-4bf3-44f7-af48-8f8a6bbf0416"
      },
      "execution_count": null,
      "outputs": [
        {
          "output_type": "execute_result",
          "data": {
            "text/plain": [
              "327333"
            ]
          },
          "metadata": {},
          "execution_count": 681
        }
      ]
    },
    {
      "cell_type": "code",
      "source": [
        "print(len(NV))"
      ],
      "metadata": {
        "colab": {
          "base_uri": "https://localhost:8080/"
        },
        "id": "vxFuRqTZGFaT",
        "outputId": "1fdb7b23-4489-40e2-f3b5-be84eaf45a2b"
      },
      "execution_count": null,
      "outputs": [
        {
          "output_type": "stream",
          "name": "stdout",
          "text": [
            "474715\n"
          ]
        }
      ]
    },
    {
      "cell_type": "code",
      "source": [
        "#print(AM[NV[0][0]-1][NV[0][1]-1] != float('inf')) # Проверим, появится ли ребро в последствии, или нет для матрицы"
      ],
      "metadata": {
        "id": "RatYH7ULayPJ"
      },
      "execution_count": null,
      "outputs": []
    },
    {
      "cell_type": "code",
      "source": [
        "def check(nv, M): # для словаря\n",
        "\n",
        "  for v in AM[nv[0]]:\n",
        "    if v[0] == nv[1]:\n",
        "      return 1\n",
        "  return 0\n",
        "\n",
        "print(check(NV[0], AM))"
      ],
      "metadata": {
        "colab": {
          "base_uri": "https://localhost:8080/"
        },
        "id": "PNndcKqty7LV",
        "outputId": "e09e2451-5cff-4c9d-9805-f4386977293d"
      },
      "execution_count": null,
      "outputs": [
        {
          "output_type": "stream",
          "name": "stdout",
          "text": [
            "0\n"
          ]
        }
      ]
    },
    {
      "cell_type": "markdown",
      "source": [
        "# **Static topological features (I)**"
      ],
      "metadata": {
        "id": "_1q5xR72e9B9"
      }
    },
    {
      "cell_type": "code",
      "source": [
        "# Common Neighbours\n",
        "def CN(u, v, G):\n",
        "  return len(set(G[u])&set(G[v]))"
      ],
      "metadata": {
        "id": "AsrrmKgS0Cl6"
      },
      "execution_count": null,
      "outputs": []
    },
    {
      "cell_type": "code",
      "source": [
        "# Adamic-Adar\n",
        "def degree(v, G):\n",
        "  if v in G:\n",
        "    return len(G[v])\n",
        "  else:\n",
        "    return 0\n",
        "\n",
        "def AA(u, v, G):\n",
        "  common_list = list(set(G[u])&set(G[v]))\n",
        "  s = 0\n",
        "  for item in common_list:\n",
        "    s += 1/math.log(degree(item[0], G))\n",
        "\n",
        "  return s"
      ],
      "metadata": {
        "id": "kzsDOelS08OW"
      },
      "execution_count": null,
      "outputs": []
    },
    {
      "cell_type": "code",
      "source": [
        "# Jaccard Coefficient\n",
        "def JC(u, v, G):\n",
        "  if len(set(G[u]+G[v])) == 0:\n",
        "    return 0\n",
        "  else:\n",
        "    return len(set(G[u])&set(G[v]))/len(set(G[u]+G[v]))"
      ],
      "metadata": {
        "id": "j1JFR0L6JF8t"
      },
      "execution_count": null,
      "outputs": []
    },
    {
      "cell_type": "code",
      "source": [
        "# Preferential  Attachment\n",
        "def PA(u, v, G):\n",
        "  return len(G[u])*len(G[v])"
      ],
      "metadata": {
        "id": "-c4B7yLnKZqB"
      },
      "execution_count": null,
      "outputs": []
    },
    {
      "cell_type": "markdown",
      "source": [
        "# **Node activity features (III)**"
      ],
      "metadata": {
        "id": "mzAfwtidUXgv"
      }
    },
    {
      "cell_type": "code",
      "source": [
        "# Выделим на времени 0.5 статический граф, 75% которого возьмем для обучения, остальную часть для тестов.\n",
        "AM_t = adjacency_list(history, V, 0.75)\n",
        "NV_t = non_adjacent_vertices(history, V, 0.75)"
      ],
      "metadata": {
        "id": "1AsjtDikGBAt"
      },
      "execution_count": null,
      "outputs": []
    },
    {
      "cell_type": "code",
      "source": [
        "# Взвесим каждую вершину\n",
        "l = 0.75\n",
        "t_start = min(data['time'])\n",
        "t_end = max(data['time'])\n",
        "for v in AM_t:\n",
        "  for u in range(len(AM_t[v])):\n",
        "    time = (AM_t[v][u][2]-t_start)/(t_end-t_start)\n",
        "    # + w_lin, w_exp, w_sqrt <=>  3, 4, 5\n",
        "    AM_t[v][u] = (AM_t[v][u][0], AM_t[v][u][1], AM_t[v][u][2], l+(1-l)*time, l+(1-l)*((math.exp(3*time)-1)/(math.exp(3)-1)), l+(1-l)*math.sqrt(time)) \n",
        "\n",
        "V_weighed = {}\n",
        "\n",
        "for v in V:\n",
        "  w_lin = []\n",
        "  w_exp = []\n",
        "  w_sqrt = []\n",
        "  for u in AM_t[v]:\n",
        "    w_lin.append(u[3])\n",
        "    w_exp.append(u[4])\n",
        "    w_sqrt.append(u[5])\n",
        "  if AM_t[v]:\n",
        "    V_weighed[v] = [np.percentile(w_lin, 0), np.percentile(w_lin, 25), np.percentile(w_lin, 50), np.percentile(w_lin, 75), np.percentile(w_lin, 100), sum(w_lin), np.mean(w_lin)]\n",
        "    V_weighed[v] += [np.percentile(w_exp, 0), np.percentile(w_exp, 25), np.percentile(w_exp, 50), np.percentile(w_exp, 75), np.percentile(w_exp, 100), sum(w_exp), np.mean(w_exp)]\n",
        "    V_weighed[v] += [np.percentile(w_sqrt, 0), np.percentile(w_sqrt, 25), np.percentile(w_sqrt, 50), np.percentile(w_sqrt, 75), np.percentile(w_sqrt, 100), sum(w_sqrt), np.mean(w_sqrt)]\n",
        "  else:\n",
        "    V_weighed[v] = [0 for i in range(21)]\n"
      ],
      "metadata": {
        "id": "6TueWbtDS7DL"
      },
      "execution_count": null,
      "outputs": []
    },
    {
      "cell_type": "markdown",
      "source": [
        "# **ФОРМИРОВАНИЕ ДАННЫХ**"
      ],
      "metadata": {
        "id": "ZwWqIMUldbU4"
      }
    },
    {
      "cell_type": "code",
      "source": [
        "answers = {}\n",
        "for edge in NV_t:\n",
        "  answers[edge] = check(edge, AM)"
      ],
      "metadata": {
        "id": "BS_rMBo2HHk2"
      },
      "execution_count": null,
      "outputs": []
    },
    {
      "cell_type": "code",
      "source": [
        "c1 = 0\n",
        "c0 = 0\n",
        "for key in answers:\n",
        "  if answers[key]:\n",
        "    c1 += 1\n",
        "  else:\n",
        "    c0 += 1\n",
        "\n",
        "print(c1, c0)\n",
        "print(c0/c1)\n",
        "# В 1000 (!) больше непоявившихся ребер"
      ],
      "metadata": {
        "colab": {
          "base_uri": "https://localhost:8080/"
        },
        "id": "z6zPL2ioMXcA",
        "outputId": "2f4c87c3-cd2e-4a6f-8483-82cb68d3683b"
      },
      "execution_count": null,
      "outputs": [
        {
          "output_type": "stream",
          "name": "stdout",
          "text": [
            "2621 469541\n",
            "179.14574589851202\n"
          ]
        }
      ]
    },
    {
      "cell_type": "code",
      "source": [
        "# разделим датасет\n",
        "appear = []\n",
        "not_appear = []\n",
        "for edge in NV_t:\n",
        "  if answers[edge]:\n",
        "    appear.append(edge)\n",
        "  else:\n",
        "    not_appear.append(edge)"
      ],
      "metadata": {
        "id": "7GACTVciNe4I"
      },
      "execution_count": null,
      "outputs": []
    },
    {
      "cell_type": "code",
      "source": [
        "shuffle(not_appear)\n",
        "NV_t = not_appear[:len(appear)]\n",
        "NV_t += appear\n",
        "shuffle(NV_t)\n",
        "train_set = NV_t[:int(len(NV_t)*0.75)]\n",
        "test_set = NV_t[int(len(NV_t)*0.75):]"
      ],
      "metadata": {
        "id": "CTNw5rpvOLMv"
      },
      "execution_count": null,
      "outputs": []
    },
    {
      "cell_type": "code",
      "source": [
        "print(len(not_appear[:len(appear)]))"
      ],
      "metadata": {
        "colab": {
          "base_uri": "https://localhost:8080/"
        },
        "id": "vrZdQ8D1g3cJ",
        "outputId": "b016734b-f064-4dec-cd3d-1c51943be7f1"
      },
      "execution_count": null,
      "outputs": [
        {
          "output_type": "stream",
          "name": "stdout",
          "text": [
            "2621\n"
          ]
        }
      ]
    },
    {
      "cell_type": "code",
      "source": [
        "# Создадим словарь признаков с несмежными вершинами в качестве ключей\n",
        "features_I = {}\n",
        "for edge in NV_t:\n",
        "  u = edge[0]\n",
        "  v = edge[1]\n",
        "  features_I[edge] = [CN(u, v, AM_t), AA(u, v, AM_t), JC(u, v, AM_t), PA(u, v, AM_t)]"
      ],
      "metadata": {
        "id": "a8huK4G4dpbc"
      },
      "execution_count": null,
      "outputs": []
    },
    {
      "cell_type": "code",
      "source": [
        "features_III = {}\n",
        "for edge in NV_t:\n",
        "  u = edge[0]\n",
        "  v = edge[1]\n",
        "  base = []\n",
        "  for i in range(21):\n",
        "    base += [V_weighed[u][i] + V_weighed[v][i], abs(V_weighed[u][i] - V_weighed[v][i]), max(V_weighed[u][i],V_weighed[v][i]), min(V_weighed[u][i],V_weighed[v][i])]\n",
        "  base += features_I[edge]\n",
        "  features_III[edge] = base"
      ],
      "metadata": {
        "id": "k00hzGbQ52Sp"
      },
      "execution_count": null,
      "outputs": []
    },
    {
      "cell_type": "markdown",
      "source": [
        "# **обучение**\n",
        "c фичами I\n"
      ],
      "metadata": {
        "id": "v-InvjDEZ_IM"
      }
    },
    {
      "cell_type": "code",
      "source": [
        "X_train = []\n",
        "Y_train = []\n",
        "shuffle(train_set)\n",
        "for key in train_set:\n",
        "  X_train.append(features_I[key])\n",
        "  Y_train.append(answers[key])\n",
        "  \n",
        "X_test = []\n",
        "Y_test = []\n",
        "shuffle(test_set)\n",
        "for key in test_set:\n",
        "  X_test.append(features_I[key])\n",
        "  Y_test.append(answers[key])"
      ],
      "metadata": {
        "id": "pay--oY3bF3Q"
      },
      "execution_count": null,
      "outputs": []
    },
    {
      "cell_type": "code",
      "source": [
        "logreg = LogisticRegression()\n",
        "logreg.fit(X_train, Y_train)\n"
      ],
      "metadata": {
        "id": "bS0ZszyRaAz0",
        "colab": {
          "base_uri": "https://localhost:8080/"
        },
        "outputId": "cc4ccdad-d799-479e-b5b7-dc7a5031e200"
      },
      "execution_count": null,
      "outputs": [
        {
          "output_type": "execute_result",
          "data": {
            "text/plain": [
              "LogisticRegression()"
            ],
            "text/html": [
              "<style>#sk-container-id-49 {color: black;background-color: white;}#sk-container-id-49 pre{padding: 0;}#sk-container-id-49 div.sk-toggleable {background-color: white;}#sk-container-id-49 label.sk-toggleable__label {cursor: pointer;display: block;width: 100%;margin-bottom: 0;padding: 0.3em;box-sizing: border-box;text-align: center;}#sk-container-id-49 label.sk-toggleable__label-arrow:before {content: \"▸\";float: left;margin-right: 0.25em;color: #696969;}#sk-container-id-49 label.sk-toggleable__label-arrow:hover:before {color: black;}#sk-container-id-49 div.sk-estimator:hover label.sk-toggleable__label-arrow:before {color: black;}#sk-container-id-49 div.sk-toggleable__content {max-height: 0;max-width: 0;overflow: hidden;text-align: left;background-color: #f0f8ff;}#sk-container-id-49 div.sk-toggleable__content pre {margin: 0.2em;color: black;border-radius: 0.25em;background-color: #f0f8ff;}#sk-container-id-49 input.sk-toggleable__control:checked~div.sk-toggleable__content {max-height: 200px;max-width: 100%;overflow: auto;}#sk-container-id-49 input.sk-toggleable__control:checked~label.sk-toggleable__label-arrow:before {content: \"▾\";}#sk-container-id-49 div.sk-estimator input.sk-toggleable__control:checked~label.sk-toggleable__label {background-color: #d4ebff;}#sk-container-id-49 div.sk-label input.sk-toggleable__control:checked~label.sk-toggleable__label {background-color: #d4ebff;}#sk-container-id-49 input.sk-hidden--visually {border: 0;clip: rect(1px 1px 1px 1px);clip: rect(1px, 1px, 1px, 1px);height: 1px;margin: -1px;overflow: hidden;padding: 0;position: absolute;width: 1px;}#sk-container-id-49 div.sk-estimator {font-family: monospace;background-color: #f0f8ff;border: 1px dotted black;border-radius: 0.25em;box-sizing: border-box;margin-bottom: 0.5em;}#sk-container-id-49 div.sk-estimator:hover {background-color: #d4ebff;}#sk-container-id-49 div.sk-parallel-item::after {content: \"\";width: 100%;border-bottom: 1px solid gray;flex-grow: 1;}#sk-container-id-49 div.sk-label:hover label.sk-toggleable__label {background-color: #d4ebff;}#sk-container-id-49 div.sk-serial::before {content: \"\";position: absolute;border-left: 1px solid gray;box-sizing: border-box;top: 0;bottom: 0;left: 50%;z-index: 0;}#sk-container-id-49 div.sk-serial {display: flex;flex-direction: column;align-items: center;background-color: white;padding-right: 0.2em;padding-left: 0.2em;position: relative;}#sk-container-id-49 div.sk-item {position: relative;z-index: 1;}#sk-container-id-49 div.sk-parallel {display: flex;align-items: stretch;justify-content: center;background-color: white;position: relative;}#sk-container-id-49 div.sk-item::before, #sk-container-id-49 div.sk-parallel-item::before {content: \"\";position: absolute;border-left: 1px solid gray;box-sizing: border-box;top: 0;bottom: 0;left: 50%;z-index: -1;}#sk-container-id-49 div.sk-parallel-item {display: flex;flex-direction: column;z-index: 1;position: relative;background-color: white;}#sk-container-id-49 div.sk-parallel-item:first-child::after {align-self: flex-end;width: 50%;}#sk-container-id-49 div.sk-parallel-item:last-child::after {align-self: flex-start;width: 50%;}#sk-container-id-49 div.sk-parallel-item:only-child::after {width: 0;}#sk-container-id-49 div.sk-dashed-wrapped {border: 1px dashed gray;margin: 0 0.4em 0.5em 0.4em;box-sizing: border-box;padding-bottom: 0.4em;background-color: white;}#sk-container-id-49 div.sk-label label {font-family: monospace;font-weight: bold;display: inline-block;line-height: 1.2em;}#sk-container-id-49 div.sk-label-container {text-align: center;}#sk-container-id-49 div.sk-container {/* jupyter's `normalize.less` sets `[hidden] { display: none; }` but bootstrap.min.css set `[hidden] { display: none !important; }` so we also need the `!important` here to be able to override the default hidden behavior on the sphinx rendered scikit-learn.org. See: https://github.com/scikit-learn/scikit-learn/issues/21755 */display: inline-block !important;position: relative;}#sk-container-id-49 div.sk-text-repr-fallback {display: none;}</style><div id=\"sk-container-id-49\" class=\"sk-top-container\"><div class=\"sk-text-repr-fallback\"><pre>LogisticRegression()</pre><b>In a Jupyter environment, please rerun this cell to show the HTML representation or trust the notebook. <br />On GitHub, the HTML representation is unable to render, please try loading this page with nbviewer.org.</b></div><div class=\"sk-container\" hidden><div class=\"sk-item\"><div class=\"sk-estimator sk-toggleable\"><input class=\"sk-toggleable__control sk-hidden--visually\" id=\"sk-estimator-id-49\" type=\"checkbox\" checked><label for=\"sk-estimator-id-49\" class=\"sk-toggleable__label sk-toggleable__label-arrow\">LogisticRegression</label><div class=\"sk-toggleable__content\"><pre>LogisticRegression()</pre></div></div></div></div></div>"
            ]
          },
          "metadata": {},
          "execution_count": 699
        }
      ]
    },
    {
      "cell_type": "code",
      "source": [
        "Y_pred = logreg.predict(X_test)\n",
        "print('Accuracy of logistic regression classifier on test set: {:.2f}'.format(logreg.score(X_test, Y_test)))"
      ],
      "metadata": {
        "colab": {
          "base_uri": "https://localhost:8080/"
        },
        "id": "Ka1v-pAUcFld",
        "outputId": "71dc26d5-869e-4008-e502-0cffb69df568"
      },
      "execution_count": null,
      "outputs": [
        {
          "output_type": "stream",
          "name": "stdout",
          "text": [
            "Accuracy of logistic regression classifier on test set: 0.49\n"
          ]
        }
      ]
    },
    {
      "cell_type": "code",
      "source": [
        "from sklearn.metrics import confusion_matrix\n",
        "confusion_matrix = confusion_matrix(Y_test, Y_pred)\n",
        "print(confusion_matrix)"
      ],
      "metadata": {
        "colab": {
          "base_uri": "https://localhost:8080/"
        },
        "id": "fBDTFqOicfC0",
        "outputId": "9436a437-01b2-4f0b-dcff-e6589ba8e8ae"
      },
      "execution_count": null,
      "outputs": [
        {
          "output_type": "stream",
          "name": "stdout",
          "text": [
            "[[ 60 593]\n",
            " [ 78 580]]\n"
          ]
        }
      ]
    },
    {
      "cell_type": "code",
      "source": [
        "print(classification_report(Y_test, Y_pred))"
      ],
      "metadata": {
        "colab": {
          "base_uri": "https://localhost:8080/"
        },
        "id": "uvMic1BocohA",
        "outputId": "ea27e1c7-24c6-4dc6-c9dd-8defc467cfea"
      },
      "execution_count": null,
      "outputs": [
        {
          "output_type": "stream",
          "name": "stdout",
          "text": [
            "              precision    recall  f1-score   support\n",
            "\n",
            "           0       0.43      0.09      0.15       653\n",
            "           1       0.49      0.88      0.63       658\n",
            "\n",
            "    accuracy                           0.49      1311\n",
            "   macro avg       0.46      0.49      0.39      1311\n",
            "weighted avg       0.46      0.49      0.39      1311\n",
            "\n"
          ]
        }
      ]
    },
    {
      "cell_type": "code",
      "source": [
        "logit_roc_auc = roc_auc_score(Y_test, logreg.predict(X_test))\n",
        "fpr, tpr, thresholds = roc_curve(Y_test, logreg.predict_proba(X_test)[:,1])\n",
        "plt.figure()\n",
        "plt.plot(fpr, tpr, label='Logistic Regression (area = %0.2f)' % logit_roc_auc)\n",
        "plt.plot([0, 1], [0, 1],'r--')\n",
        "plt.xlim([0.0, 1.0])\n",
        "plt.ylim([0.0, 1.05])\n",
        "plt.xlabel('False Positive Rate')\n",
        "plt.ylabel('True Positive Rate')\n",
        "plt.title('Receiver operating characteristic')\n",
        "plt.legend(loc=\"lower right\")\n",
        "plt.savefig('Log_ROC')\n",
        "plt.show()"
      ],
      "metadata": {
        "colab": {
          "base_uri": "https://localhost:8080/"
        },
        "id": "G_ArTsvIct2P",
        "outputId": "f05ef4a8-fd7e-482c-f0e0-a4206667342a"
      },
      "execution_count": null,
      "outputs": [
        {
          "output_type": "display_data",
          "data": {
            "text/plain": [
              "<Figure size 640x480 with 1 Axes>"
            ],
            "image/png": "[encoded data removed]"
          },
          "metadata": {}
        }
      ]
    },
    {
      "cell_type": "markdown",
      "source": [
        "# **обучение**\n",
        "с фичами III"
      ],
      "metadata": {
        "id": "evkBfpYreQnO"
      }
    },
    {
      "cell_type": "code",
      "source": [
        "X_train = []\n",
        "Y_train = []\n",
        "shuffle(train_set)\n",
        "for key in train_set:\n",
        "  X_train.append(features_III[key])\n",
        "  Y_train.append(answers[key])\n",
        "  \n",
        "X_test = []\n",
        "Y_test = []\n",
        "shuffle(test_set)\n",
        "for key in test_set:\n",
        "  X_test.append(features_III[key])\n",
        "  Y_test.append(answers[key])"
      ],
      "metadata": {
        "id": "X_iQNZzTei5o"
      },
      "execution_count": null,
      "outputs": []
    },
    {
      "cell_type": "code",
      "source": [
        "logreg = LogisticRegression()\n",
        "logreg.fit(X_train, Y_train)\n"
      ],
      "metadata": {
        "colab": {
          "base_uri": "https://localhost:8080/"
        },
        "id": "WGfuQ_jLei5u",
        "outputId": "fff43592-67cd-4569-d60c-a856cd77aa41"
      },
      "execution_count": null,
      "outputs": [
        {
          "output_type": "execute_result",
          "data": {
            "text/plain": [
              "LogisticRegression()"
            ],
            "text/html": [
              "<style>#sk-container-id-50 {color: black;background-color: white;}#sk-container-id-50 pre{padding: 0;}#sk-container-id-50 div.sk-toggleable {background-color: white;}#sk-container-id-50 label.sk-toggleable__label {cursor: pointer;display: block;width: 100%;margin-bottom: 0;padding: 0.3em;box-sizing: border-box;text-align: center;}#sk-container-id-50 label.sk-toggleable__label-arrow:before {content: \"▸\";float: left;margin-right: 0.25em;color: #696969;}#sk-container-id-50 label.sk-toggleable__label-arrow:hover:before {color: black;}#sk-container-id-50 div.sk-estimator:hover label.sk-toggleable__label-arrow:before {color: black;}#sk-container-id-50 div.sk-toggleable__content {max-height: 0;max-width: 0;overflow: hidden;text-align: left;background-color: #f0f8ff;}#sk-container-id-50 div.sk-toggleable__content pre {margin: 0.2em;color: black;border-radius: 0.25em;background-color: #f0f8ff;}#sk-container-id-50 input.sk-toggleable__control:checked~div.sk-toggleable__content {max-height: 200px;max-width: 100%;overflow: auto;}#sk-container-id-50 input.sk-toggleable__control:checked~label.sk-toggleable__label-arrow:before {content: \"▾\";}#sk-container-id-50 div.sk-estimator input.sk-toggleable__control:checked~label.sk-toggleable__label {background-color: #d4ebff;}#sk-container-id-50 div.sk-label input.sk-toggleable__control:checked~label.sk-toggleable__label {background-color: #d4ebff;}#sk-container-id-50 input.sk-hidden--visually {border: 0;clip: rect(1px 1px 1px 1px);clip: rect(1px, 1px, 1px, 1px);height: 1px;margin: -1px;overflow: hidden;padding: 0;position: absolute;width: 1px;}#sk-container-id-50 div.sk-estimator {font-family: monospace;background-color: #f0f8ff;border: 1px dotted black;border-radius: 0.25em;box-sizing: border-box;margin-bottom: 0.5em;}#sk-container-id-50 div.sk-estimator:hover {background-color: #d4ebff;}#sk-container-id-50 div.sk-parallel-item::after {content: \"\";width: 100%;border-bottom: 1px solid gray;flex-grow: 1;}#sk-container-id-50 div.sk-label:hover label.sk-toggleable__label {background-color: #d4ebff;}#sk-container-id-50 div.sk-serial::before {content: \"\";position: absolute;border-left: 1px solid gray;box-sizing: border-box;top: 0;bottom: 0;left: 50%;z-index: 0;}#sk-container-id-50 div.sk-serial {display: flex;flex-direction: column;align-items: center;background-color: white;padding-right: 0.2em;padding-left: 0.2em;position: relative;}#sk-container-id-50 div.sk-item {position: relative;z-index: 1;}#sk-container-id-50 div.sk-parallel {display: flex;align-items: stretch;justify-content: center;background-color: white;position: relative;}#sk-container-id-50 div.sk-item::before, #sk-container-id-50 div.sk-parallel-item::before {content: \"\";position: absolute;border-left: 1px solid gray;box-sizing: border-box;top: 0;bottom: 0;left: 50%;z-index: -1;}#sk-container-id-50 div.sk-parallel-item {display: flex;flex-direction: column;z-index: 1;position: relative;background-color: white;}#sk-container-id-50 div.sk-parallel-item:first-child::after {align-self: flex-end;width: 50%;}#sk-container-id-50 div.sk-parallel-item:last-child::after {align-self: flex-start;width: 50%;}#sk-container-id-50 div.sk-parallel-item:only-child::after {width: 0;}#sk-container-id-50 div.sk-dashed-wrapped {border: 1px dashed gray;margin: 0 0.4em 0.5em 0.4em;box-sizing: border-box;padding-bottom: 0.4em;background-color: white;}#sk-container-id-50 div.sk-label label {font-family: monospace;font-weight: bold;display: inline-block;line-height: 1.2em;}#sk-container-id-50 div.sk-label-container {text-align: center;}#sk-container-id-50 div.sk-container {/* jupyter's `normalize.less` sets `[hidden] { display: none; }` but bootstrap.min.css set `[hidden] { display: none !important; }` so we also need the `!important` here to be able to override the default hidden behavior on the sphinx rendered scikit-learn.org. See: https://github.com/scikit-learn/scikit-learn/issues/21755 */display: inline-block !important;position: relative;}#sk-container-id-50 div.sk-text-repr-fallback {display: none;}</style><div id=\"sk-container-id-50\" class=\"sk-top-container\"><div class=\"sk-text-repr-fallback\"><pre>LogisticRegression()</pre><b>In a Jupyter environment, please rerun this cell to show the HTML representation or trust the notebook. <br />On GitHub, the HTML representation is unable to render, please try loading this page with nbviewer.org.</b></div><div class=\"sk-container\" hidden><div class=\"sk-item\"><div class=\"sk-estimator sk-toggleable\"><input class=\"sk-toggleable__control sk-hidden--visually\" id=\"sk-estimator-id-50\" type=\"checkbox\" checked><label for=\"sk-estimator-id-50\" class=\"sk-toggleable__label sk-toggleable__label-arrow\">LogisticRegression</label><div class=\"sk-toggleable__content\"><pre>LogisticRegression()</pre></div></div></div></div></div>"
            ]
          },
          "metadata": {},
          "execution_count": 705
        }
      ]
    },
    {
      "cell_type": "code",
      "source": [
        "Y_pred = logreg.predict(X_test)\n",
        "print('Accuracy of logistic regression classifier on test set: {:.2f}'.format(logreg.score(X_test, Y_test)))"
      ],
      "metadata": {
        "colab": {
          "base_uri": "https://localhost:8080/"
        },
        "outputId": "48e28e08-ffb7-42f8-e994-8244956410d5",
        "id": "DjiLGYo9ei5u"
      },
      "execution_count": null,
      "outputs": [
        {
          "output_type": "stream",
          "name": "stdout",
          "text": [
            "Accuracy of logistic regression classifier on test set: 0.51\n"
          ]
        }
      ]
    },
    {
      "cell_type": "code",
      "source": [
        "from sklearn.metrics import confusion_matrix\n",
        "confusion_matrix = confusion_matrix(Y_test, Y_pred)\n",
        "print(confusion_matrix)"
      ],
      "metadata": {
        "colab": {
          "base_uri": "https://localhost:8080/"
        },
        "outputId": "fe3ee82d-1282-47e2-a4ec-881b53d56767",
        "id": "336nEeFOei5u"
      },
      "execution_count": null,
      "outputs": [
        {
          "output_type": "stream",
          "name": "stdout",
          "text": [
            "[[  8 645]\n",
            " [  3 655]]\n"
          ]
        }
      ]
    },
    {
      "cell_type": "code",
      "source": [
        "print(classification_report(Y_test, Y_pred))"
      ],
      "metadata": {
        "colab": {
          "base_uri": "https://localhost:8080/"
        },
        "outputId": "9e84e08d-3123-4922-b64e-69cabcda9ece",
        "id": "z12hFjTEei5u"
      },
      "execution_count": null,
      "outputs": [
        {
          "output_type": "stream",
          "name": "stdout",
          "text": [
            "              precision    recall  f1-score   support\n",
            "\n",
            "           0       0.73      0.01      0.02       653\n",
            "           1       0.50      1.00      0.67       658\n",
            "\n",
            "    accuracy                           0.51      1311\n",
            "   macro avg       0.62      0.50      0.35      1311\n",
            "weighted avg       0.62      0.51      0.35      1311\n",
            "\n"
          ]
        }
      ]
    },
    {
      "cell_type": "code",
      "source": [
        "logit_roc_auc = roc_auc_score(Y_test, logreg.predict(X_test))\n",
        "fpr, tpr, thresholds = roc_curve(Y_test, logreg.predict_proba(X_test)[:,1])\n",
        "plt.figure()\n",
        "plt.plot(fpr, tpr, label='Logistic Regression (area = %0.2f)' % logit_roc_auc)\n",
        "plt.plot([0, 1], [0, 1],'r--')\n",
        "plt.xlim([0.0, 1.0])\n",
        "plt.ylim([0.0, 1.05])\n",
        "plt.xlabel('False Positive Rate')\n",
        "plt.ylabel('True Positive Rate')\n",
        "plt.title('Receiver operating characteristic')\n",
        "plt.legend(loc=\"lower right\")\n",
        "plt.savefig('Log_ROC')\n",
        "plt.show()"
      ],
      "metadata": {
        "colab": {
          "base_uri": "https://localhost:8080/"
        },
        "outputId": "2a2d7c01-a862-4de8-896c-f74ac450ba5e",
        "id": "KoNNIR1_ei5u"
      },
      "execution_count": null,
      "outputs": [
        {
          "output_type": "display_data",
          "data": {
            "text/plain": [
              "<Figure size 640x480 with 1 Axes>"
            ],
            "image/png": "[encoded data removed]"
          },
          "metadata": {}
        }
      ]
    }
  ]
}