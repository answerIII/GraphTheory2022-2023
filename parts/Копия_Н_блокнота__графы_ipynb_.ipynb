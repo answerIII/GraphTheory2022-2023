{
  "cells": [
    {
      "cell_type": "code",
      "execution_count": null,
      "metadata": {
        "colab": {
          "base_uri": "https://localhost:8080/"
        },
        "id": "mGrql5oBqob2",
        "outputId": "f78032f1-67f4-4c64-8284-7b0dbd2e5c8b"
      },
      "outputs": [
        {
          "output_type": "stream",
          "name": "stdout",
          "text": [
            "Mounted at /content/drive\n"
          ]
        }
      ],
      "source": [
        "from google.colab import drive\n",
        "drive.mount('/content/drive')"
      ]
    },
    {
      "cell_type": "code",
      "execution_count": null,
      "metadata": {
        "id": "AIgHwE58uEtB"
      },
      "outputs": [],
      "source": []
    },
    {
      "cell_type": "code",
      "execution_count": null,
      "metadata": {
        "id": "Od39jHvF76Nk"
      },
      "outputs": [],
      "source": [
        "import pandas as pd"
      ]
    },
    {
      "cell_type": "code",
      "execution_count": null,
      "metadata": {
        "id": "ELfDcjpL7sS3"
      },
      "outputs": [],
      "source": []
    },
    {
      "cell_type": "markdown",
      "metadata": {
        "id": "O6Ekn9aguGEP"
      },
      "source": [
        "**The meaning of the columns in out.digg-friends are: \n",
        "        \n",
        "\n",
        "*   First column: ID of from node \n",
        "*   Second column: ID of to node\n",
        "*   Third column (if present): weight or multiplicity of edge\n",
        "*   Fourth column (if present):  timestamp of edges Unix time\n",
        "*   Fourth column: timestamp of the edge**\n",
        "\n",
        "\n"
      ]
    },
    {
      "cell_type": "code",
      "execution_count": null,
      "metadata": {
        "id": "1Rr_RBJnq-GI"
      },
      "outputs": [],
      "source": [
        "#df = pd.read_csv('drive/MyDrive/uh/out.digg-friends', sep = ' |\\t', skiprows=[0], names = ['from', 'to', 'weight', 'timestamp'])"
      ]
    },
    {
      "cell_type": "code",
      "execution_count": null,
      "metadata": {
        "colab": {
          "base_uri": "https://localhost:8080/"
        },
        "id": "KELztAFNzU3k",
        "outputId": "1262bef2-d19e-4f84-f31c-d21674fb587f"
      },
      "outputs": [
        {
          "output_type": "stream",
          "name": "stdout",
          "text": [
            "out.digg-friends\t\tout.prosper-loans\t   out.sx-mathoverflow\n",
            "out.dnc-corecipient\t\tout.radoslaw_email_email   out.sx-superuser\n",
            "out.email-Eu-core-temporal.txt\tout.soc-sign-bitcoinalpha  pairs\n",
            "out.munmun_digg_reply\t\tout.soc-sign-bitcoinotc    uh\n",
            "out.opsahl-ucsocial\t\tout.sx-askubuntu\n"
          ]
        }
      ],
      "source": [
        "!ls 'drive/MyDrive/uh'"
      ]
    },
    {
      "cell_type": "code",
      "execution_count": null,
      "metadata": {
        "id": "swK33ezZqGsU"
      },
      "outputs": [],
      "source": [
        "list_of_name = [\"opsahl-ucsocial\", \"radoslaw_email_email\",\"soc-sign-bitcoinotc\",\"dnc-corecipient\", 'out.email-Eu-core-temporal.txt']"
      ]
    },
    {
      "cell_type": "code",
      "execution_count": null,
      "metadata": {
        "id": "in9KWdC4sJJ-"
      },
      "outputs": [],
      "source": []
    },
    {
      "cell_type": "code",
      "execution_count": null,
      "metadata": {
        "id": "0lnrpI6kz1n3"
      },
      "outputs": [],
      "source": [
        "#list_of_name = ['out.digg-friends','out.prosper-loans','out.sx-askubuntu','out.dnc-corecipient','out.soc-sign-bitcoinalpha','out.sx-mathoverflow','out.munmun_digg_reply','out.soc-sign-bitcoinotc','out.sx-superuser']"
      ]
    },
    {
      "cell_type": "markdown",
      "metadata": {
        "id": "3GWLcSb0IwVn"
      },
      "source": [
        "'out.digg-friends'\n",
        "'out.prosper-loans'\n",
        "'out.sx-askubuntu'\n",
        "'out.dnc-corecipient'\n",
        "'out.soc-sign-bitcoinalpha'\n",
        "'out.sx-mathoverflow'\n",
        "'out.munmun_digg_reply'\n",
        "'out.soc-sign-bitcoinotc'\n",
        "'out.sx-superuser'"
      ]
    },
    {
      "cell_type": "markdown",
      "metadata": {
        "id": "iRKJwasNtyQG"
      },
      "source": [
        "Датасеты разного типа считаем по-разному\n"
      ]
    },
    {
      "cell_type": "code",
      "execution_count": null,
      "metadata": {
        "id": "L4BMgsNgIthJ"
      },
      "outputs": [],
      "source": [
        "df1 = pd.read_csv(\"drive/MyDrive/uh/out.opsahl-ucsocial\", sep = ' |\\t', skiprows=2, names = ['v1', 'v2', 'weight', 'timestamp'])\n",
        "df2 = pd.read_csv(\"drive/MyDrive/uh/out.radoslaw_email_email\", sep = '  | ', skiprows=2, names = ['v1', 'v2','weight', 'timestamp'])\n",
        "df3 = pd.read_csv(\"drive/MyDrive/uh/out.soc-sign-bitcoinotc\", sep = ' |\\t', skiprows=1, names = ['v1', 'v2', 'weight', 'timestamp'])\n",
        "df4 = pd.read_csv(\"drive/MyDrive/uh/out.dnc-corecipient\", sep = ' |\\t', skiprows=1, names = ['v1', 'v2', 'timestamp'])\n",
        "df5 = pd.read_csv('drive/MyDrive/uh/out.email-Eu-core-temporal.txt', sep = ' |\\t',  names = ['v1', 'v2', 'timestamp'])"
      ]
    },
    {
      "cell_type": "code",
      "execution_count": null,
      "metadata": {
        "id": "-bsmxT1TA8RR"
      },
      "outputs": [],
      "source": []
    },
    {
      "cell_type": "code",
      "execution_count": null,
      "metadata": {
        "id": "aQGLPwkU0aAY"
      },
      "outputs": [],
      "source": [
        "# for i in range(len(list_of_name)):\n",
        "#     filename = 'drive/MyDrive/uh/' + 'out.' + list_of_name[i]\n",
        "#     print(filename)\n",
        "#     locals()[f'df{i+1}'] = pd.read_csv(filename, sep = ' |\\t', skiprows=[0], names = ['v1', 'v2', 'weight', 'timestamp'])"
      ]
    },
    {
      "cell_type": "code",
      "execution_count": null,
      "metadata": {
        "colab": {
          "base_uri": "https://localhost:8080/",
          "height": 423
        },
        "id": "sDg9IX1y8VQZ",
        "outputId": "71efee3f-d2a1-4532-ee9c-54f8105941db"
      },
      "outputs": [
        {
          "output_type": "execute_result",
          "data": {
            "text/plain": [
              "         v1    v2  weight   timestamp\n",
              "0         1     2       1  1082008561\n",
              "1         3     4       1  1082123439\n",
              "2         5     2       1  1082381991\n",
              "3         6     7       1  1082407219\n",
              "4         8     7       1  1082407356\n",
              "...     ...   ...     ...         ...\n",
              "59830  1899  1847       1  1098744248\n",
              "59831  1899  1097       1  1098744436\n",
              "59832  1899   277       1  1098744603\n",
              "59833  1878  1624       1  1098744711\n",
              "59834  1878  1624       1  1098744742\n",
              "\n",
              "[59835 rows x 4 columns]"
            ],
            "text/html": [
              "\n",
              "  <div id=\"df-979262a6-3745-4db4-b8b9-85012ba7cf1d\">\n",
              "    <div class=\"colab-df-container\">\n",
              "      <div>\n",
              "<style scoped>\n",
              "    .dataframe tbody tr th:only-of-type {\n",
              "        vertical-align: middle;\n",
              "    }\n",
              "\n",
              "    .dataframe tbody tr th {\n",
              "        vertical-align: top;\n",
              "    }\n",
              "\n",
              "    .dataframe thead th {\n",
              "        text-align: right;\n",
              "    }\n",
              "</style>\n",
              "<table border=\"1\" class=\"dataframe\">\n",
              "  <thead>\n",
              "    <tr style=\"text-align: right;\">\n",
              "      <th></th>\n",
              "      <th>v1</th>\n",
              "      <th>v2</th>\n",
              "      <th>weight</th>\n",
              "      <th>timestamp</th>\n",
              "    </tr>\n",
              "  </thead>\n",
              "  <tbody>\n",
              "    <tr>\n",
              "      <th>0</th>\n",
              "      <td>1</td>\n",
              "      <td>2</td>\n",
              "      <td>1</td>\n",
              "      <td>1082008561</td>\n",
              "    </tr>\n",
              "    <tr>\n",
              "      <th>1</th>\n",
              "      <td>3</td>\n",
              "      <td>4</td>\n",
              "      <td>1</td>\n",
              "      <td>1082123439</td>\n",
              "    </tr>\n",
              "    <tr>\n",
              "      <th>2</th>\n",
              "      <td>5</td>\n",
              "      <td>2</td>\n",
              "      <td>1</td>\n",
              "      <td>1082381991</td>\n",
              "    </tr>\n",
              "    <tr>\n",
              "      <th>3</th>\n",
              "      <td>6</td>\n",
              "      <td>7</td>\n",
              "      <td>1</td>\n",
              "      <td>1082407219</td>\n",
              "    </tr>\n",
              "    <tr>\n",
              "      <th>4</th>\n",
              "      <td>8</td>\n",
              "      <td>7</td>\n",
              "      <td>1</td>\n",
              "      <td>1082407356</td>\n",
              "    </tr>\n",
              "    <tr>\n",
              "      <th>...</th>\n",
              "      <td>...</td>\n",
              "      <td>...</td>\n",
              "      <td>...</td>\n",
              "      <td>...</td>\n",
              "    </tr>\n",
              "    <tr>\n",
              "      <th>59830</th>\n",
              "      <td>1899</td>\n",
              "      <td>1847</td>\n",
              "      <td>1</td>\n",
              "      <td>1098744248</td>\n",
              "    </tr>\n",
              "    <tr>\n",
              "      <th>59831</th>\n",
              "      <td>1899</td>\n",
              "      <td>1097</td>\n",
              "      <td>1</td>\n",
              "      <td>1098744436</td>\n",
              "    </tr>\n",
              "    <tr>\n",
              "      <th>59832</th>\n",
              "      <td>1899</td>\n",
              "      <td>277</td>\n",
              "      <td>1</td>\n",
              "      <td>1098744603</td>\n",
              "    </tr>\n",
              "    <tr>\n",
              "      <th>59833</th>\n",
              "      <td>1878</td>\n",
              "      <td>1624</td>\n",
              "      <td>1</td>\n",
              "      <td>1098744711</td>\n",
              "    </tr>\n",
              "    <tr>\n",
              "      <th>59834</th>\n",
              "      <td>1878</td>\n",
              "      <td>1624</td>\n",
              "      <td>1</td>\n",
              "      <td>1098744742</td>\n",
              "    </tr>\n",
              "  </tbody>\n",
              "</table>\n",
              "<p>59835 rows × 4 columns</p>\n",
              "</div>\n",
              "      <button class=\"colab-df-convert\" onclick=\"convertToInteractive('df-979262a6-3745-4db4-b8b9-85012ba7cf1d')\"\n",
              "              title=\"Convert this dataframe to an interactive table.\"\n",
              "              style=\"display:none;\">\n",
              "        \n",
              "  <svg xmlns=\"http://www.w3.org/2000/svg\" height=\"24px\"viewBox=\"0 0 24 24\"\n",
              "       width=\"24px\">\n",
              "    <path d=\"M0 0h24v24H0V0z\" fill=\"none\"/>\n",
              "    <path d=\"M18.56 5.44l.94 2.06.94-2.06 2.06-.94-2.06-.94-.94-2.06-.94 2.06-2.06.94zm-11 1L8.5 8.5l.94-2.06 2.06-.94-2.06-.94L8.5 2.5l-.94 2.06-2.06.94zm10 10l.94 2.06.94-2.06 2.06-.94-2.06-.94-.94-2.06-.94 2.06-2.06.94z\"/><path d=\"M17.41 7.96l-1.37-1.37c-.4-.4-.92-.59-1.43-.59-.52 0-1.04.2-1.43.59L10.3 9.45l-7.72 7.72c-.78.78-.78 2.05 0 2.83L4 21.41c.39.39.9.59 1.41.59.51 0 1.02-.2 1.41-.59l7.78-7.78 2.81-2.81c.8-.78.8-2.07 0-2.86zM5.41 20L4 18.59l7.72-7.72 1.47 1.35L5.41 20z\"/>\n",
              "  </svg>\n",
              "      </button>\n",
              "      \n",
              "  <style>\n",
              "    .colab-df-container {\n",
              "      display:flex;\n",
              "      flex-wrap:wrap;\n",
              "      gap: 12px;\n",
              "    }\n",
              "\n",
              "    .colab-df-convert {\n",
              "      background-color: #E8F0FE;\n",
              "      border: none;\n",
              "      border-radius: 50%;\n",
              "      cursor: pointer;\n",
              "      display: none;\n",
              "      fill: #1967D2;\n",
              "      height: 32px;\n",
              "      padding: 0 0 0 0;\n",
              "      width: 32px;\n",
              "    }\n",
              "\n",
              "    .colab-df-convert:hover {\n",
              "      background-color: #E2EBFA;\n",
              "      box-shadow: 0px 1px 2px rgba(60, 64, 67, 0.3), 0px 1px 3px 1px rgba(60, 64, 67, 0.15);\n",
              "      fill: #174EA6;\n",
              "    }\n",
              "\n",
              "    [theme=dark] .colab-df-convert {\n",
              "      background-color: #3B4455;\n",
              "      fill: #D2E3FC;\n",
              "    }\n",
              "\n",
              "    [theme=dark] .colab-df-convert:hover {\n",
              "      background-color: #434B5C;\n",
              "      box-shadow: 0px 1px 3px 1px rgba(0, 0, 0, 0.15);\n",
              "      filter: drop-shadow(0px 1px 2px rgba(0, 0, 0, 0.3));\n",
              "      fill: #FFFFFF;\n",
              "    }\n",
              "  </style>\n",
              "\n",
              "      <script>\n",
              "        const buttonEl =\n",
              "          document.querySelector('#df-979262a6-3745-4db4-b8b9-85012ba7cf1d button.colab-df-convert');\n",
              "        buttonEl.style.display =\n",
              "          google.colab.kernel.accessAllowed ? 'block' : 'none';\n",
              "\n",
              "        async function convertToInteractive(key) {\n",
              "          const element = document.querySelector('#df-979262a6-3745-4db4-b8b9-85012ba7cf1d');\n",
              "          const dataTable =\n",
              "            await google.colab.kernel.invokeFunction('convertToInteractive',\n",
              "                                                     [key], {});\n",
              "          if (!dataTable) return;\n",
              "\n",
              "          const docLinkHtml = 'Like what you see? Visit the ' +\n",
              "            '<a target=\"_blank\" href=https://colab.research.google.com/notebooks/data_table.ipynb>data table notebook</a>'\n",
              "            + ' to learn more about interactive tables.';\n",
              "          element.innerHTML = '';\n",
              "          dataTable['output_type'] = 'display_data';\n",
              "          await google.colab.output.renderOutput(dataTable, element);\n",
              "          const docLink = document.createElement('div');\n",
              "          docLink.innerHTML = docLinkHtml;\n",
              "          element.appendChild(docLink);\n",
              "        }\n",
              "      </script>\n",
              "    </div>\n",
              "  </div>\n",
              "  "
            ]
          },
          "metadata": {},
          "execution_count": 6
        }
      ],
      "source": [
        "df1"
      ]
    },
    {
      "cell_type": "code",
      "execution_count": null,
      "metadata": {
        "id": "dN9znMKmrltV"
      },
      "outputs": [],
      "source": [
        "#df.head(10)"
      ]
    },
    {
      "cell_type": "markdown",
      "metadata": {
        "id": "qLhpPXiX9Kc8"
      },
      "source": [
        "**1. Число вершин, число рёбер, плотность (отношение числа рёбер к максимально\n",
        "возможному числу рёбер), число компонент слабой связности, долю вершин в\n",
        "максимальной по мощности компоненте слабой связности.**"
      ]
    },
    {
      "cell_type": "markdown",
      "metadata": {
        "id": "TbQ4KnCqTbFp"
      },
      "source": [
        "1.1. Вершины"
      ]
    },
    {
      "cell_type": "code",
      "execution_count": null,
      "metadata": {
        "id": "hCpo8R1TE8TW"
      },
      "outputs": [],
      "source": [
        "def task_1(df):\n",
        "    vertexes = (set(df.v2.unique()) | set(df.v1.unique()))\n",
        "    number_of_vertexes = len(vertexes)\n",
        "    number_of_edges_directed =df.shape[0] \n",
        "    edges = sorted(set(zip((df[['v1','v2']]).min(axis = 1), (df[['v1','v2']]).max(axis = 1))))\n",
        "    number_of_edges_undirected = len(edges)\n",
        "    density = number_of_vertexes / ((number_of_vertexes*(number_of_vertexes - 1))/2)\n",
        "    print(\"Число вершин: \", number_of_vertexes)\n",
        "    print(\"Число направленных рёбер: \", number_of_edges_directed)\n",
        "    print(\"Число ненаправленных рёбер: \", number_of_edges_undirected)\n",
        "    print(\"Плотность: \", density)\n",
        "    return vertexes, number_of_vertexes, number_of_edges_directed, edges, number_of_edges_undirected, density"
      ]
    },
    {
      "cell_type": "markdown",
      "metadata": {
        "id": "SQEfzFCoT66J"
      },
      "source": [
        "1.2. Количество ребер\n"
      ]
    },
    {
      "cell_type": "markdown",
      "metadata": {
        "id": "toBgg8FLT9jT"
      },
      "source": [
        "1.3 Плотность"
      ]
    },
    {
      "cell_type": "markdown",
      "metadata": {
        "id": "h7ERfD5NUCSk"
      },
      "source": [
        "1.4. Компоненты слабой связности\n"
      ]
    },
    {
      "cell_type": "code",
      "execution_count": null,
      "metadata": {
        "colab": {
          "base_uri": "https://localhost:8080/"
        },
        "id": "PYuEWeAmD7HR",
        "outputId": "ea8b6fd9-76c4-4816-9f2f-060350991d5a"
      },
      "outputs": [
        {
          "output_type": "stream",
          "name": "stdout",
          "text": [
            "Число вершин:  1899\n",
            "Число направленных рёбер:  59835\n",
            "Число ненаправленных рёбер:  13838\n",
            "Плотность:  0.001053740779768177\n"
          ]
        }
      ],
      "source": [
        "vertexes, number_of_vertexes, number_of_edges_directed, edges, number_of_edges_undirected, density = task_1(df1)"
      ]
    },
    {
      "cell_type": "code",
      "execution_count": null,
      "metadata": {
        "id": "R6JAYxXQeoE9"
      },
      "outputs": [],
      "source": [
        "from collections import defaultdict\n",
        "from collections import deque\n",
        " \n",
        "# create an empty set of dictionary\n",
        "\n",
        "#neighbors"
      ]
    },
    {
      "cell_type": "code",
      "execution_count": null,
      "metadata": {
        "id": "BjYbelum7tyZ"
      },
      "outputs": [],
      "source": [
        "def dfs_and_gcc(edges, neighbours, vertexes, max_component=False):\n",
        "#на вход подается неориентированный список смежности\n",
        "    access_vertexes = deque()\n",
        "    visited = set()\n",
        "    connected_components = defaultdict(set)\n",
        "    connected_components_number = 0\n",
        "    for vertex in vertexes:\n",
        "        if vertex not in visited:\n",
        "            connected_components_number += 1\n",
        "            access_vertexes.append(vertex)\n",
        "            while access_vertexes:\n",
        "                u = access_vertexes.pop()\n",
        "                for v in neighbours[u]:\n",
        "                    if v not in visited:\n",
        "                        access_vertexes.append(v)\n",
        "                        visited.add(v)\n",
        "                connected_components[connected_components_number].add(u)\n",
        "                visited.add(u)\n",
        "    print(\"Число компонент слабой связности: \", connected_components_number)\n",
        "    if max_component:\n",
        "        ind_max_component = max(connected_components, key=lambda num: len(connected_components[num]))\n",
        "        return connected_components_number, ind_max_component, connected_components\n",
        "    return connected_components_number, connected_components\n"
      ]
    },
    {
      "cell_type": "code",
      "execution_count": null,
      "metadata": {
        "id": "i0RPMUFAOUQA",
        "colab": {
          "base_uri": "https://localhost:8080/"
        },
        "outputId": "1ccaa192-ffc7-489e-b7c7-f5100dae8946"
      },
      "outputs": [
        {
          "output_type": "stream",
          "name": "stdout",
          "text": [
            "Название датасета:  opsahl-ucsocial\n",
            "Число вершин:  5881\n",
            "Число направленных рёбер:  35592\n",
            "Число ненаправленных рёбер:  21492\n",
            "Плотность:  0.0003401360544217687\n",
            "Число компонент слабой связности:  4\n",
            "Доля вершин в максимальной компоненте:  0.9989797653460296\n",
            "\n"
          ]
        }
      ],
      "source": [
        "i = 0\n",
        "for df in [df3]:\n",
        "  print(\"Название датасета: \", list_of_name[i])\n",
        "  i +=1\n",
        "  vertexes, number_of_vertexes, number_of_edges_directed, edges, number_of_edges_undirected, density = task_1(df)\n",
        "  neighbours = defaultdict(set)\n",
        "  for edge in edges:\n",
        "    neighbours[edge[0]].add(edge[1])\n",
        "    neighbours[edge[1]].add(edge[0])\n",
        "  connected_components_number, ind_max_component, connected_components = dfs_and_gcc(edges, neighbours, vertexes, True)\n",
        "  print(\"Доля вершин в максимальной компоненте: \", len(connected_components[ind_max_component])/ number_of_vertexes)\n",
        "  print()"
      ]
    },
    {
      "cell_type": "code",
      "execution_count": null,
      "metadata": {
        "id": "5cEZo9ymWACW"
      },
      "outputs": [],
      "source": [
        "from collections import deque"
      ]
    },
    {
      "cell_type": "code",
      "execution_count": null,
      "metadata": {
        "id": "Jt1FC3rKXgy2"
      },
      "outputs": [],
      "source": [
        "import itertools"
      ]
    },
    {
      "cell_type": "code",
      "execution_count": null,
      "metadata": {
        "id": "UCfybTo6YHlQ"
      },
      "outputs": [],
      "source": [
        "import numpy as np"
      ]
    },
    {
      "cell_type": "code",
      "execution_count": null,
      "metadata": {
        "id": "T4fwvl42-FWm"
      },
      "outputs": [],
      "source": [
        "def init_graph(vertexes,edges): #для каждой вершины получаем ее соседей\n",
        "  graph = defaultdict(set)\n",
        "  for edj in edges:\n",
        "    if edj[0] in vertexes and edj[1] in vertexes:\n",
        "       if edge[0] != edge[1]:\n",
        "        graph[edj[0]].add(edj[1])\n",
        "        graph[edj[1]].add(edj[0])\n",
        "  return graph"
      ]
    },
    {
      "cell_type": "code",
      "execution_count": null,
      "metadata": {
        "id": "wrxOYvEj-P33"
      },
      "outputs": [],
      "source": [
        "import random\n",
        "def random_vert(vertexes,count_vert): #функция рандома\n",
        "  if len(vertexes) < count_vert:\n",
        "     count_vert = len(vertexes)\n",
        "  number_of_vertices = sorted(random.sample(vertexes, count_vert))\n",
        "  return number_of_vertices"
      ]
    },
    {
      "cell_type": "code",
      "execution_count": null,
      "metadata": {
        "id": "eVd7Xs_K-Sev"
      },
      "outputs": [],
      "source": [
        "def graph_snowball(graph,vertexes,limit = 500): #выбираются 2 рандомных вершины(ИЗ КОМПОНЕНТЫ СЛАБ СВЯЗ) и к ним их соседей добавлем\n",
        "  random_nodes = random_vert(vertexes,2)\n",
        "  new_nodes = [] \n",
        "  for v in random_nodes:\n",
        "    new_nodes.append(v)\n",
        "\n",
        "  for v in new_nodes:\n",
        "    for u in graph[v]:\n",
        "      if u not in new_nodes :\n",
        "        new_nodes.append(u)\n",
        "        if len(new_nodes) >= limit:\n",
        "          return new_nodes\n",
        "  return new_nodes"
      ]
    },
    {
      "cell_type": "code",
      "execution_count": null,
      "metadata": {
        "id": "YBZMAOVz-W6o"
      },
      "outputs": [],
      "source": [
        "def bfs_distances(graph,start_u): #бфс с подсчетом расстояний\n",
        "  largest_distance_index = -1\n",
        "  dist = dict()\n",
        "  dist[start_u] = 0\n",
        "  access_vertexes = deque()\n",
        "  access_vertexes.append(start_u)\n",
        "  k= 0 \n",
        "  while access_vertexes:\n",
        "      current_node = access_vertexes.popleft()\n",
        "      for v in graph[current_node]:\n",
        "        k += 1\n",
        "        if v not in dist:\n",
        "          access_vertexes.append(v)\n",
        "          dist[v] = dist[current_node] + 1\n",
        "  return dist"
      ]
    },
    {
      "cell_type": "code",
      "execution_count": null,
      "metadata": {
        "id": "T3ArT80R-aV4"
      },
      "outputs": [],
      "source": [
        "def approx_diam_rad_per(graph,rand_nodes): #приближенные радиус, диаметр, 90пер \n",
        "   d = 0\n",
        "   r = 1e+10\n",
        "   list_with_eccentricities = []\n",
        "   distances = []\n",
        "   for vertex in rand_nodes:\n",
        "        current_geo = bfs_distances(graph, vertex)\n",
        "        distances += list(current_geo.values())\n",
        "        list_with_eccentricities.append(max(current_geo.values()))\n",
        "\n",
        "   approx_radius = min(list_with_eccentricities)\n",
        "   approx_diameter = max(list_with_eccentricities)\n",
        "\n",
        "   distances.sort()\n",
        "   n = len(distances)\n",
        "   approx_procentile = distances[round(n * (90 / 100)) - 1]\n",
        "   return approx_radius,approx_diameter,approx_procentile"
      ]
    },
    {
      "cell_type": "markdown",
      "source": [
        "--------------------------------"
      ],
      "metadata": {
        "id": "pgABlgmLZ4Xw"
      }
    },
    {
      "cell_type": "code",
      "execution_count": null,
      "metadata": {
        "id": "0A1j__ft8TYb"
      },
      "outputs": [],
      "source": [
        "from numpy.core.multiarray import fromstring  #получение пар вершин с кратчайшим расстоянием 2\n",
        "def edges_dist_2(n_df):\n",
        "  i = 0\n",
        "  for df in [n_df]:\n",
        "    print(\"Название датасета: \", list_of_name[i])\n",
        "    i +=1\n",
        "    vertexes, number_of_vertexes, number_of_edges_directed, edges, number_of_edges_undirected, density = task_1(df)\n",
        "    neighbours = defaultdict(set)\n",
        "    for edge in edges:\n",
        "       if edge[0] != edge[1]:\n",
        "         if edge[0] != edge[1]:\n",
        "          neighbours[edge[0]].add(edge[1])\n",
        "          neighbours[edge[1]].add(edge[0])\n",
        "    connected_components_number, ind_max_component, connected_components = dfs_and_gcc(edges, neighbours, vertexes, True)\n",
        "    \n",
        "    graph = init_graph(vertexes,edges)\n",
        "\n",
        "    d = 0\n",
        "    r = 1e+10\n",
        "    list_with_eccentricities = []\n",
        "    distances = []\n",
        "    edge_dist_2 = set()\n",
        "    v1 = []\n",
        "    v2 = []\n",
        "    for vertex in vertexes:\n",
        "        current_geo = bfs_distances(graph, vertex)\n",
        "        for node in current_geo.items():\n",
        "          key, value = node[0], node[1]\n",
        "          if value == 2:\n",
        "            v1.append(vertex)\n",
        "            v2.append(node[0])\n",
        "            edge_dist_2.add((vertex,node[0]))\n",
        "    \n",
        "    data = {'v1': v1,\n",
        "          'v2': v2}\n",
        "    df = pd.DataFrame(data)\n",
        "    return df\n",
        "\n",
        "  # print(distances)"
      ]
    },
    {
      "cell_type": "code",
      "source": [
        "df = edges_dist_2(df3)"
      ],
      "metadata": {
        "colab": {
          "base_uri": "https://localhost:8080/"
        },
        "id": "JQs2fb2p-HhG",
        "outputId": "4dbc853a-520c-45bb-ec06-0471e72c4251"
      },
      "execution_count": null,
      "outputs": [
        {
          "output_type": "stream",
          "name": "stdout",
          "text": [
            "Название датасета:  opsahl-ucsocial\n",
            "Число вершин:  5881\n",
            "Число направленных рёбер:  35592\n",
            "Число ненаправленных рёбер:  21492\n",
            "Плотность:  0.0003401360544217687\n",
            "Число компонент слабой связности:  4\n"
          ]
        }
      ]
    },
    {
      "cell_type": "code",
      "source": [
        "df"
      ],
      "metadata": {
        "id": "hz5n1QSSP5tb"
      },
      "execution_count": null,
      "outputs": []
    },
    {
      "cell_type": "code",
      "source": [
        "df.sort_values(by=['v1','v2'], ascending=True)"
      ],
      "metadata": {
        "id": "A4UPoCvNV7D8"
      },
      "execution_count": null,
      "outputs": []
    },
    {
      "cell_type": "code",
      "execution_count": null,
      "metadata": {
        "id": "Fnmo2sQn9qxy"
      },
      "outputs": [],
      "source": [
        "# for i in geodict:\n",
        "#   print(\"--------------\")\n",
        "#   for item in i.items(): \n",
        "#     key, value = item[0], item[1]\n",
        "#     if value == 2:\n",
        "#       print(i[1]+ 1,key, value)\n",
        "df.to_csv ('drive/MyDrive/uh/pairs/dnc-corecipient_pairs.csv', index= False )"
      ]
    },
    {
      "cell_type": "code",
      "source": [
        "df2.sort_values(by=['v1','v2'], ascending=True)"
      ],
      "metadata": {
        "id": "OkmCbmDQ2IM0"
      },
      "execution_count": null,
      "outputs": []
    },
    {
      "cell_type": "markdown",
      "source": [
        "----------------"
      ],
      "metadata": {
        "id": "lIBFkZtGZ1o7"
      }
    },
    {
      "cell_type": "code",
      "source": [
        "def get_neighbours(edges):\n",
        " neighbours = defaultdict(set)\n",
        " for edge in edges:\n",
        "    if edge[0] != edge[1]:\n",
        "      neighbours[edge[0]].add(edge[1])\n",
        "      neighbours[edge[1]].add(edge[0])\n",
        " return neighbours"
      ],
      "metadata": {
        "id": "iIqZrvVk48aS"
      },
      "execution_count": null,
      "outputs": []
    },
    {
      "cell_type": "code",
      "execution_count": null,
      "metadata": {
        "id": "yTIE4emc-dGr"
      },
      "outputs": [],
      "source": [
        "from collections import defaultdict \n",
        "from collections import deque\n",
        "\n",
        "i = 0\n",
        "for df in [df1,df2,df3,df4,df5]: # Для каждого датасета определение макс компоненты слаб связ, диаметра + радиуса + 90 перцентиля - для n - рандомных вершин и подграфа \"снежный ком\"\n",
        "  print(\"Название датасета: \", list_of_name[i])\n",
        "  i += 1\n",
        "  vertexes, number_of_vertexes, number_of_edges_directed, edges, number_of_edges_undirected, density = task_1(df)\n",
        "  neighbours = get_neighbours(edges)\n",
        "\n",
        "  connected_components_number, ind_max_component, connected_components = dfs_and_gcc(edges, neighbours, vertexes, True)\n",
        "\n",
        "  max_com_sviaz = connected_components[ind_max_component]\n",
        "\n",
        "  # graph = init_graph(max_com_sil_sviaz,edges)\n",
        "  graph = neighbours\n",
        "\n",
        "  count_rand_vert  = 1000\n",
        "  random_nodes = random_vert(max_com_sviaz,count_rand_vert)\n",
        "  snowball_nodes = graph_snowball(graph,vertexes,count_rand_vert) \n",
        "\n",
        "  diameter,radius,procentile = approx_diam_rad_per(graph,random_nodes)\n",
        "  a = min(count_rand_vert, len(max_com_sviaz))\n",
        "  print(\"Для подграфа с\", a, \"рандомными вершинами из компоненты связности:\", sep = ' ')\n",
        "  print(\"Диаметр: \", diameter)\n",
        "  print(\"Радиус: \", radius)\n",
        "  print(\"90 процентиль: \",procentile,\"\\n\")\n",
        "\n",
        "  diameter,radius,procentile = approx_diam_rad_per(graph,snowball_nodes) \n",
        "  print(\"Для подграфа \\\"снежный ком\\\":\")\n",
        "  print(\"Диаметр: \", diameter)\n",
        "  print(\"Радиус: \", radius)\n",
        "  print(\"90 процентиль: \", procentile,\"\\n\")"
      ]
    },
    {
      "cell_type": "code",
      "source": [
        "df5"
      ],
      "metadata": {
        "colab": {
          "base_uri": "https://localhost:8080/",
          "height": 423
        },
        "id": "Gex8KwOl7rCs",
        "outputId": "6e9f31ba-08fa-464b-9aea-7b1b65c51a03"
      },
      "execution_count": null,
      "outputs": [
        {
          "output_type": "execute_result",
          "data": {
            "text/plain": [
              "         v1   v2  timestamp\n",
              "0       582  364          0\n",
              "1       168  472       2797\n",
              "2       168  912       3304\n",
              "3         2  790       4523\n",
              "4         2  322       7926\n",
              "...     ...  ...        ...\n",
              "332329  324  367   45401817\n",
              "332330  790  126   45402441\n",
              "332331  790  126   45403709\n",
              "332332  782  126   45404903\n",
              "332333  685  643   45405138\n",
              "\n",
              "[332334 rows x 3 columns]"
            ],
            "text/html": [
              "\n",
              "  <div id=\"df-7a03a8bf-505f-49e0-8aa4-9fb8d3442bb6\">\n",
              "    <div class=\"colab-df-container\">\n",
              "      <div>\n",
              "<style scoped>\n",
              "    .dataframe tbody tr th:only-of-type {\n",
              "        vertical-align: middle;\n",
              "    }\n",
              "\n",
              "    .dataframe tbody tr th {\n",
              "        vertical-align: top;\n",
              "    }\n",
              "\n",
              "    .dataframe thead th {\n",
              "        text-align: right;\n",
              "    }\n",
              "</style>\n",
              "<table border=\"1\" class=\"dataframe\">\n",
              "  <thead>\n",
              "    <tr style=\"text-align: right;\">\n",
              "      <th></th>\n",
              "      <th>v1</th>\n",
              "      <th>v2</th>\n",
              "      <th>timestamp</th>\n",
              "    </tr>\n",
              "  </thead>\n",
              "  <tbody>\n",
              "    <tr>\n",
              "      <th>0</th>\n",
              "      <td>582</td>\n",
              "      <td>364</td>\n",
              "      <td>0</td>\n",
              "    </tr>\n",
              "    <tr>\n",
              "      <th>1</th>\n",
              "      <td>168</td>\n",
              "      <td>472</td>\n",
              "      <td>2797</td>\n",
              "    </tr>\n",
              "    <tr>\n",
              "      <th>2</th>\n",
              "      <td>168</td>\n",
              "      <td>912</td>\n",
              "      <td>3304</td>\n",
              "    </tr>\n",
              "    <tr>\n",
              "      <th>3</th>\n",
              "      <td>2</td>\n",
              "      <td>790</td>\n",
              "      <td>4523</td>\n",
              "    </tr>\n",
              "    <tr>\n",
              "      <th>4</th>\n",
              "      <td>2</td>\n",
              "      <td>322</td>\n",
              "      <td>7926</td>\n",
              "    </tr>\n",
              "    <tr>\n",
              "      <th>...</th>\n",
              "      <td>...</td>\n",
              "      <td>...</td>\n",
              "      <td>...</td>\n",
              "    </tr>\n",
              "    <tr>\n",
              "      <th>332329</th>\n",
              "      <td>324</td>\n",
              "      <td>367</td>\n",
              "      <td>45401817</td>\n",
              "    </tr>\n",
              "    <tr>\n",
              "      <th>332330</th>\n",
              "      <td>790</td>\n",
              "      <td>126</td>\n",
              "      <td>45402441</td>\n",
              "    </tr>\n",
              "    <tr>\n",
              "      <th>332331</th>\n",
              "      <td>790</td>\n",
              "      <td>126</td>\n",
              "      <td>45403709</td>\n",
              "    </tr>\n",
              "    <tr>\n",
              "      <th>332332</th>\n",
              "      <td>782</td>\n",
              "      <td>126</td>\n",
              "      <td>45404903</td>\n",
              "    </tr>\n",
              "    <tr>\n",
              "      <th>332333</th>\n",
              "      <td>685</td>\n",
              "      <td>643</td>\n",
              "      <td>45405138</td>\n",
              "    </tr>\n",
              "  </tbody>\n",
              "</table>\n",
              "<p>332334 rows × 3 columns</p>\n",
              "</div>\n",
              "      <button class=\"colab-df-convert\" onclick=\"convertToInteractive('df-7a03a8bf-505f-49e0-8aa4-9fb8d3442bb6')\"\n",
              "              title=\"Convert this dataframe to an interactive table.\"\n",
              "              style=\"display:none;\">\n",
              "        \n",
              "  <svg xmlns=\"http://www.w3.org/2000/svg\" height=\"24px\"viewBox=\"0 0 24 24\"\n",
              "       width=\"24px\">\n",
              "    <path d=\"M0 0h24v24H0V0z\" fill=\"none\"/>\n",
              "    <path d=\"M18.56 5.44l.94 2.06.94-2.06 2.06-.94-2.06-.94-.94-2.06-.94 2.06-2.06.94zm-11 1L8.5 8.5l.94-2.06 2.06-.94-2.06-.94L8.5 2.5l-.94 2.06-2.06.94zm10 10l.94 2.06.94-2.06 2.06-.94-2.06-.94-.94-2.06-.94 2.06-2.06.94z\"/><path d=\"M17.41 7.96l-1.37-1.37c-.4-.4-.92-.59-1.43-.59-.52 0-1.04.2-1.43.59L10.3 9.45l-7.72 7.72c-.78.78-.78 2.05 0 2.83L4 21.41c.39.39.9.59 1.41.59.51 0 1.02-.2 1.41-.59l7.78-7.78 2.81-2.81c.8-.78.8-2.07 0-2.86zM5.41 20L4 18.59l7.72-7.72 1.47 1.35L5.41 20z\"/>\n",
              "  </svg>\n",
              "      </button>\n",
              "      \n",
              "  <style>\n",
              "    .colab-df-container {\n",
              "      display:flex;\n",
              "      flex-wrap:wrap;\n",
              "      gap: 12px;\n",
              "    }\n",
              "\n",
              "    .colab-df-convert {\n",
              "      background-color: #E8F0FE;\n",
              "      border: none;\n",
              "      border-radius: 50%;\n",
              "      cursor: pointer;\n",
              "      display: none;\n",
              "      fill: #1967D2;\n",
              "      height: 32px;\n",
              "      padding: 0 0 0 0;\n",
              "      width: 32px;\n",
              "    }\n",
              "\n",
              "    .colab-df-convert:hover {\n",
              "      background-color: #E2EBFA;\n",
              "      box-shadow: 0px 1px 2px rgba(60, 64, 67, 0.3), 0px 1px 3px 1px rgba(60, 64, 67, 0.15);\n",
              "      fill: #174EA6;\n",
              "    }\n",
              "\n",
              "    [theme=dark] .colab-df-convert {\n",
              "      background-color: #3B4455;\n",
              "      fill: #D2E3FC;\n",
              "    }\n",
              "\n",
              "    [theme=dark] .colab-df-convert:hover {\n",
              "      background-color: #434B5C;\n",
              "      box-shadow: 0px 1px 3px 1px rgba(0, 0, 0, 0.15);\n",
              "      filter: drop-shadow(0px 1px 2px rgba(0, 0, 0, 0.3));\n",
              "      fill: #FFFFFF;\n",
              "    }\n",
              "  </style>\n",
              "\n",
              "      <script>\n",
              "        const buttonEl =\n",
              "          document.querySelector('#df-7a03a8bf-505f-49e0-8aa4-9fb8d3442bb6 button.colab-df-convert');\n",
              "        buttonEl.style.display =\n",
              "          google.colab.kernel.accessAllowed ? 'block' : 'none';\n",
              "\n",
              "        async function convertToInteractive(key) {\n",
              "          const element = document.querySelector('#df-7a03a8bf-505f-49e0-8aa4-9fb8d3442bb6');\n",
              "          const dataTable =\n",
              "            await google.colab.kernel.invokeFunction('convertToInteractive',\n",
              "                                                     [key], {});\n",
              "          if (!dataTable) return;\n",
              "\n",
              "          const docLinkHtml = 'Like what you see? Visit the ' +\n",
              "            '<a target=\"_blank\" href=https://colab.research.google.com/notebooks/data_table.ipynb>data table notebook</a>'\n",
              "            + ' to learn more about interactive tables.';\n",
              "          element.innerHTML = '';\n",
              "          dataTable['output_type'] = 'display_data';\n",
              "          await google.colab.output.renderOutput(dataTable, element);\n",
              "          const docLink = document.createElement('div');\n",
              "          docLink.innerHTML = docLinkHtml;\n",
              "          element.appendChild(docLink);\n",
              "        }\n",
              "      </script>\n",
              "    </div>\n",
              "  </div>\n",
              "  "
            ]
          },
          "metadata": {},
          "execution_count": 34
        }
      ]
    },
    {
      "cell_type": "markdown",
      "metadata": {
        "id": "d4FMYAqnEKy2"
      },
      "source": [
        "статик тополоджикал фьючерс\n"
      ]
    },
    {
      "cell_type": "code",
      "execution_count": null,
      "metadata": {
        "id": "OuMIOrM6EPJx"
      },
      "outputs": [],
      "source": [
        "import math\n",
        "def static_topological_features(graph,vertexes): #Для всех вершин-ребер графа\n",
        "  CN = {}\n",
        "  AA = {}\n",
        "  JC={}\n",
        "  PA={}\n",
        "  visited = set()\n",
        "  for vert in vertexes:\n",
        "      visited.add(vert)\n",
        "      for node in graph[vert]:\n",
        "        if vert == node:\n",
        "          print(vert)\n",
        "          CN[(vert, node)] = 0\n",
        "          AA[(vert, node)] = 0\n",
        "          JC[(vert, node)] = 0\n",
        "          PA[(vert, node)] = 0\n",
        "        elif node not in visited:\n",
        "          common_neigh = graph[vert] & graph[node]\n",
        "          CN[(vert, node)] = len(common_neigh)\n",
        "          AA_ = 0\n",
        "          for neigh in common_neigh:\n",
        "            AA_ += 1/math.log(len(graph[neigh]))\n",
        "          AA[(vert, node)] = AA_\n",
        "          JC[(vert, node)] = len(common_neigh) / len(graph[vert].union(graph[node]))\n",
        "          PA[(vert, node)] = len(graph[vert]) * len(graph[node])\n",
        "  return CN,AA,JC,PA"
      ]
    },
    {
      "cell_type": "code",
      "execution_count": null,
      "metadata": {
        "id": "4RYYJRLcMk-P"
      },
      "outputs": [],
      "source": [
        "# import math\n",
        "# def static_topological_features(graph,vertexes):\n",
        "#   CN = {}\n",
        "#   AA = {}\n",
        "#   JC={}\n",
        "#   PA={}\n",
        "#   visited = set()\n",
        "#   for vert in vertexes:\n",
        "#       visited.add(vert)\n",
        "#       for node in graph[vert]:\n",
        "#           if node not in visited:\n",
        "#               common_neigh = graph[vert] & graph[node]\n",
        "#               CN[(vert, node)] = len(common_neigh)\n",
        "#               df1.loc['E','CN'] = CN[(vert, node)]\n",
        "#               AA_ = 0\n",
        "#               for neigh in common_neigh:\n",
        "#                 AA_ += 1/math.log(len(graph[neigh]))\n",
        "#               AA[(vert, node)] = AA_\n",
        "#               JC[(vert, node)] = len(common_neigh) / len(graph[vert].union(graph[node]))\n",
        "#               PA[(vert, node)] = len(graph[vert]) * len(graph[node])\n",
        "#   return CN,AA,JC,PA"
      ]
    },
    {
      "cell_type": "code",
      "source": [
        "import math\n",
        "def static_topological_features_pairs(graph,edge_dist_2): #Для набора ребер\n",
        "  CN = {}\n",
        "  AA = {}\n",
        "  JC={}\n",
        "  PA={}\n",
        "  for i, row in edge_dist_2.iterrows():\n",
        "    vert = row['v1']\n",
        "    node  = row['v2']\n",
        "    if vert == node:\n",
        "      CN[(vert, node)] = 0\n",
        "      AA[(vert, node)] = 0\n",
        "      JC[(vert, node)] = 0\n",
        "      PA[(vert, node)] = 0\n",
        "    else:\n",
        "      common_neigh = graph[vert] & graph[node]\n",
        "      CN[(vert, node)] = len(common_neigh)\n",
        "      AA_ = 0\n",
        "      for neigh in common_neigh:\n",
        "        AA_ += 1/math.log(len(graph[neigh]))\n",
        "      AA[(vert, node)] = AA_\n",
        "      JC[(vert, node)] = len(common_neigh) / len(graph[vert].union(graph[node]))\n",
        "      PA[(vert, node)] = len(graph[vert]) * len(graph[node])\n",
        "  return CN,AA,JC,PA"
      ],
      "metadata": {
        "id": "GkZupjzJkqMO"
      },
      "execution_count": null,
      "outputs": []
    },
    {
      "cell_type": "code",
      "source": [
        "def edges_neigh(df): #получаем ребра из датасета + определяем соседей\n",
        "  edges = sorted(set(zip((df[['v1','v2']]).min(axis = 1), (df[['v1','v2']]).max(axis = 1))))\n",
        "\n",
        "  neighbours = defaultdict(set)\n",
        "  for edge in edges:\n",
        "    if edge[0] != edge[1]:\n",
        "      neighbours[edge[0]].add(edge[1])\n",
        "      neighbours[edge[1]].add(edge[0])\n",
        "  return neighbours"
      ],
      "metadata": {
        "id": "0q412h7Z0Xtq"
      },
      "execution_count": null,
      "outputs": []
    },
    {
      "cell_type": "code",
      "execution_count": null,
      "metadata": {
        "id": "nl84jT_5INcN"
      },
      "outputs": [],
      "source": [
        "neighbours = edges_neigh(df)\n",
        "    \n",
        "CN,AA,JC,PA = static_topological_features_pairs(neighbours,df)"
      ]
    },
    {
      "cell_type": "code",
      "source": [
        "CN,AA,JC,PA = static_topological_features(graph,vertexes)"
      ],
      "metadata": {
        "id": "sX2nmduB4y9T"
      },
      "execution_count": null,
      "outputs": []
    },
    {
      "cell_type": "code",
      "source": [
        "# import math \n",
        "\n",
        "# CN = {}\n",
        "# AA = {}\n",
        "# JC={}\n",
        "# PA={}\n",
        "# graph = defaultdict(set) \n",
        "# graph[1].add(2)\n",
        "# graph[2].add(1)\n",
        "# graph[2].add(3)\n",
        "# graph[3].add(2)\n",
        "# # # graph[3].add(6)\n",
        "# # graph[4].add(5)\n",
        "# # graph[5].add(1)\n",
        "# # graph[5].add(2)\n",
        "# # graph[5].add(3)\n",
        "# # graph[5].add(4)\n",
        "# # graph[6].add(2)\n",
        "# # graph[6].add(3)\n",
        "\n",
        "# edge_dist_2 = {(1,3)}\n",
        "\n",
        "\n",
        "# nn = static_topological_features_pairs(graph,edge_dist_2)\n",
        "\n",
        "# visited = set()\n",
        "# for pair in edge_dist_2:\n",
        "#   vert = pair[0]\n",
        "#   node  = pair[1]\n",
        "#   print(vert,node)\n",
        "#   common_neigh = graph[vert] & graph[node]\n",
        "#   CN[(vert, node)] = len(common_neigh)\n",
        "#   AA_ = 0\n",
        "#   for neigh in common_neigh:\n",
        "#     if neigh in graph and math.log(len(graph[neigh])) > 0: \n",
        "#       print(math.log(len(graph[neigh])))\n",
        "#       AA_ += 1/math.log(len(graph[neigh]))\n",
        "#   AA[(vert, node)] = AA_\n",
        "#   JC[(vert, node)] = len(common_neigh) / len(graph[vert].union(graph[node]))\n",
        "#   PA[(vert, node)] = len(graph[vert]) * len(graph[node])\n",
        "#   print(CN[(vert, node)], AA[(vert, node)],JC[(vert, node)],PA[(vert, node)])"
      ],
      "metadata": {
        "id": "LE1iHkumlfrN"
      },
      "execution_count": null,
      "outputs": []
    },
    {
      "cell_type": "code",
      "execution_count": null,
      "metadata": {
        "id": "2_ATeHxTEWf8"
      },
      "outputs": [],
      "source": [
        "from collections import defaultdict\n",
        "from collections import deque\n",
        "\n",
        "i = 0\n",
        "for df in [df3]:\n",
        "  print(\"Название датасета: \", list_of_name[i])\n",
        "  i += 1\n",
        "  vertexes, number_of_vertexes, number_of_edges_directed, edges, number_of_edges_undirected, density = task_1(df)\n",
        "  neighbours = defaultdict(set)\n",
        "  for edge in edges:\n",
        "    neighbours[edge[0]].add(edge[1])\n",
        "    neighbours[edge[1]].add(edge[0])\n",
        "\n",
        "  graph = init_graph(vertexes,edges)  \n",
        "  \n",
        "  staric_feat = static_topological_features(graph,vertexes)"
      ]
    },
    {
      "cell_type": "code",
      "execution_count": null,
      "metadata": {
        "id": "B77QzvjaHJlk"
      },
      "outputs": [],
      "source": [
        "df35.insert(3, \"CN\", -1)\n",
        "df35.insert(3, \"AA\", -1)\n",
        "df35.insert(3, \"JC\", -1)\n",
        "df35.insert(3, \"PA\", -1)"
      ]
    },
    {
      "cell_type": "code",
      "execution_count": null,
      "metadata": {
        "id": "ih4XP7OoO5_q"
      },
      "outputs": [],
      "source": [
        "CN = staric_feat[0]\n",
        "AA = staric_feat[1]\n",
        "JC = staric_feat[2]\n",
        "PA = staric_feat[3]\n",
        "CN"
      ]
    },
    {
      "cell_type": "code",
      "execution_count": null,
      "metadata": {
        "id": "nfQaTf19I0us"
      },
      "outputs": [],
      "source": [
        "df2\n",
        "for i, row in df36.iterrows():\n",
        "  if (row['v1'],row['v2']) in CN:\n",
        "    df36.loc[i,'CN2'] = CN[row['v1'],row['v2']]\n",
        "    df36.loc[i,'AA2'] = AA[row['v1'],row['v2']]\n",
        "    df36.loc[i,'JC2'] = JC[row['v1'],row['v2']]\n",
        "    df36.loc[i,'PA2'] = PA[row['v1'],row['v2']]\n",
        "  elif (row['v2'],row['v1']) in CN:\n",
        "    df36.loc[i,'CN2'] = CN[row['v2'],row['v1']]\n",
        "    df36.loc[i,'AA2'] = AA[row['v2'],row['v1']]\n",
        "    df36.loc[i,'JC2'] = JC[row['v2'],row['v1']]\n",
        "    df36.loc[i,'PA2'] = PA[row['v2'],row['v1']]\n",
        "  # print(i,row['v1'],row['v2'])"
      ]
    },
    {
      "cell_type": "code",
      "execution_count": null,
      "metadata": {
        "id": "auH58kjWJCT1"
      },
      "outputs": [],
      "source": [
        "df35.drop(columns=df35.columns[11], axis= 1 , inplace= True )"
      ]
    },
    {
      "cell_type": "code",
      "execution_count": null,
      "metadata": {
        "id": "tc03mITeMma6"
      },
      "outputs": [],
      "source": [
        "df35.loc[(df35['CN'] != df35['CN1'])]"
      ]
    },
    {
      "cell_type": "code",
      "execution_count": null,
      "metadata": {
        "id": "IpGRFjLSU1Xv"
      },
      "outputs": [],
      "source": [
        "# df25.loc[df25['CN'] == -1]\n",
        "\n",
        "for i, row in df25.iterrows():\n",
        "  if row['CN'] == -1:\n",
        "    df25.loc[i,'CN'] = 0 \n",
        "    df25.loc[i,'AA'] = 0\n",
        "    df25.loc[i,'JC'] = 0\n",
        "    df25.loc[i,'PA'] = 0\n",
        "  \n",
        "  # print(i,row['v1'],row['v2'])"
      ]
    },
    {
      "cell_type": "code",
      "execution_count": null,
      "metadata": {
        "id": "67Nkp17EXg3S"
      },
      "outputs": [],
      "source": [
        "df25.to_csv ('drive/MyDrive/uh/uh/out.radoslaw_email_email.csv', index= False )"
      ]
    },
    {
      "cell_type": "code",
      "execution_count": null,
      "metadata": {
        "id": "j8WmvIGmrVDU"
      },
      "outputs": [],
      "source": [
        "# df15 = pd.read_csv(\"drive/MyDrive/123/opsahl-ucsocial.csv\")\n",
        "df25 = pd.read_csv(\"drive/MyDrive/gr_fin/radoslaw_email_email_p2\")\n",
        "#df36 = pd.read_csv(\"drive/MyDrive/gr_fin/soc-sign-bitcoinotc_p3\")\n",
        "# df45 = pd.read_csv(\"drive/MyDrive/123/dnc-corecipient.csv\")\n",
        "# df55 = pd.read_csv('drive/MyDrive/123/email-Eu-core-temporal.csv')"
      ]
    },
    {
      "cell_type": "code",
      "source": [
        "df25.sort_values(by=['v1','v2'], ascending=True)"
      ],
      "metadata": {
        "id": "fcPKaN3Y5obO"
      },
      "execution_count": null,
      "outputs": []
    },
    {
      "cell_type": "code",
      "source": [
        "df36.columns"
      ],
      "metadata": {
        "id": "LcKWs-GxT8hl"
      },
      "execution_count": null,
      "outputs": []
    },
    {
      "cell_type": "code",
      "source": [
        "cols=[ 'CN', 'AA', 'JC', 'PA'] "
      ],
      "metadata": {
        "id": "mlEzC7O9UAN7"
      },
      "execution_count": null,
      "outputs": []
    },
    {
      "cell_type": "code",
      "source": [
        "import matplotlib.pyplot as plt\n",
        "import matplotlib\n",
        "import seaborn as sns\n",
        "matplotlib.rcParams['savefig.dpi'] = 1000\n",
        "fig, ax = plt.subplots(figsize=(10,10))  \n",
        "sns.set(font_scale=0.7)   \n",
        "sns.heatmap(df36[cols + ['result']].corr()['result'].to_numpy().reshape((-1, 1)), yticklabels=df36[cols + ['result']].corr()['result'].index, ax=ax)"
      ],
      "metadata": {
        "id": "XAJGT8tSUYPR"
      },
      "execution_count": null,
      "outputs": []
    },
    {
      "cell_type": "code",
      "source": [
        "df36[cols + ['result']].corr()['result'].to_numpy().reshape((-1, 1))"
      ],
      "metadata": {
        "id": "Vop9JJCCU2sK"
      },
      "execution_count": null,
      "outputs": []
    },
    {
      "cell_type": "code",
      "source": [
        "df35.sort_values(by=['v1','v2'], ascending=True)"
      ],
      "metadata": {
        "id": "gUanC1xy1Y1p"
      },
      "execution_count": null,
      "outputs": []
    }
  ],
  "metadata": {
    "colab": {
      "provenance": []
    },
    "kernelspec": {
      "display_name": "Python 3",
      "name": "python3"
    },
    "language_info": {
      "name": "python"
    }
  },
  "nbformat": 4,
  "nbformat_minor": 0
}