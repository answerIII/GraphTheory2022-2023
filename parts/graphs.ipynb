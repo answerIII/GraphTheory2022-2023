{
  "nbformat": 4,
  "nbformat_minor": 0,
  "metadata": {
    "colab": {
      "provenance": []
    },
    "kernelspec": {
      "name": "python3",
      "display_name": "Python 3"
    },
    "language_info": {
      "name": "python"
    }
  },
  "cells": [
    {
      "cell_type": "code",
      "source": [
        "from google.colab import drive\n",
        "drive.mount('/content/drive')"
      ],
      "metadata": {
        "colab": {
          "base_uri": "https://localhost:8080/"
        },
        "id": "mGrql5oBqob2",
        "outputId": "b9fdd36a-9d7a-4695-b375-06c45c44f0ae"
      },
      "execution_count": 3,
      "outputs": [
        {
          "output_type": "stream",
          "name": "stdout",
          "text": [
            "Mounted at /content/drive\n"
          ]
        }
      ]
    },
    {
      "cell_type": "code",
      "source": [
        "import pandas as pd"
      ],
      "metadata": {
        "id": "Od39jHvF76Nk"
      },
      "execution_count": 4,
      "outputs": []
    },
    {
      "cell_type": "code",
      "source": [
        "#df = pd.read_csv('drive/MyDrive/uh/out.digg-friends', sep = ' |\\t', skiprows=[0], names = ['from', 'to', 'weight', 'timestamp'])"
      ],
      "metadata": {
        "id": "1Rr_RBJnq-GI"
      },
      "execution_count": 5,
      "outputs": []
    },
    {
      "cell_type": "markdown",
      "source": [
        "Считываем данные в таблицу, колонками которой являются вершина 1, вершина 2, вес, время появления ребра между вершинами\n"
      ],
      "metadata": {
        "id": "Twc_d8gzskxs"
      }
    },
    {
      "cell_type": "code",
      "source": [
        "!ls 'drive/MyDrive/uh'"
      ],
      "metadata": {
        "colab": {
          "base_uri": "https://localhost:8080/"
        },
        "id": "KELztAFNzU3k",
        "outputId": "cfdee3d2-05f7-46af-c534-058fe1541d53"
      },
      "execution_count": 6,
      "outputs": [
        {
          "output_type": "stream",
          "name": "stdout",
          "text": [
            "dnc-corecipient.cvc\t\tout.radoslaw_email_email\n",
            "email-Eu-core-temporal.txt.cvc\tout.soc-sign-bitcoinalpha\n",
            "opsahl-ucsocial.cvc\t\tout.soc-sign-bitcoinotc\n",
            "out.digg-friends\t\tout.sx-askubuntu\n",
            "out.dnc-corecipient\t\tout.sx-mathoverflow\n",
            "out.email-Eu-core-temporal.txt\tout.sx-superuser\n",
            "out.munmun_digg_reply\t\tradoslaw_email_email.cvc\n",
            "out.opsahl-ucsocial\t\tsoc-sign-bitcoinotc.cvc\n",
            "out.prosper-loans\n"
          ]
        }
      ]
    },
    {
      "cell_type": "code",
      "source": [
        "list_of_name = [\"opsahl-ucsocial\", \"radoslaw_email_email\",\"soc-sign-bitcoinotc\",\"dnc-corecipient\", 'out.email-Eu-core-temporal.txt']"
      ],
      "metadata": {
        "id": "swK33ezZqGsU"
      },
      "execution_count": 7,
      "outputs": []
    },
    {
      "cell_type": "code",
      "source": [],
      "metadata": {
        "id": "in9KWdC4sJJ-"
      },
      "execution_count": 7,
      "outputs": []
    },
    {
      "cell_type": "code",
      "source": [
        "#list_of_name = ['out.digg-friends','out.prosper-loans','out.sx-askubuntu','out.dnc-corecipient','out.soc-sign-bitcoinalpha','out.sx-mathoverflow','out.munmun_digg_reply','out.soc-sign-bitcoinotc','out.sx-superuser']"
      ],
      "metadata": {
        "id": "0lnrpI6kz1n3"
      },
      "execution_count": 8,
      "outputs": []
    },
    {
      "cell_type": "markdown",
      "source": [
        "Датасеты разного типа считаем по-разному\n"
      ],
      "metadata": {
        "id": "iRKJwasNtyQG"
      }
    },
    {
      "cell_type": "code",
      "source": [
        "df1 = pd.read_csv(\"drive/MyDrive/uh/out.opsahl-ucsocial\", sep = ' |\\t', skiprows=2, names = ['v1', 'v2', 'weight', 'timestamp'])\n",
        "df2 = pd.read_csv(\"drive/MyDrive/uh/out.radoslaw_email_email\", sep = '  | ', skiprows=2, names = ['v1', 'v2','weight', 'timestamp'])\n",
        "df3 = pd.read_csv(\"drive/MyDrive/uh/out.soc-sign-bitcoinotc\", sep = ' |\\t', skiprows=1, names = ['v1', 'v2', 'weight', 'timestamp'])\n",
        "df4 = pd.read_csv(\"drive/MyDrive/uh/out.dnc-corecipient\", sep = ' |\\t', skiprows=1, names = ['v1', 'v2', 'timestamp'])\n",
        "df5 = pd.read_csv('drive/MyDrive/uh/out.email-Eu-core-temporal.txt', sep = ' |\\t',  names = ['v1', 'v2', 'timestamp'])"
      ],
      "metadata": {
        "id": "L4BMgsNgIthJ",
        "colab": {
          "base_uri": "https://localhost:8080/"
        },
        "outputId": "2e8fef13-1206-4ce1-a269-36e3065cc6f0"
      },
      "execution_count": 9,
      "outputs": [
        {
          "output_type": "stream",
          "name": "stderr",
          "text": [
            "<ipython-input-9-408a258bb22c>:1: ParserWarning: Falling back to the 'python' engine because the 'c' engine does not support regex separators (separators > 1 char and different from '\\s+' are interpreted as regex); you can avoid this warning by specifying engine='python'.\n",
            "  df1 = pd.read_csv(\"drive/MyDrive/uh/out.opsahl-ucsocial\", sep = ' |\\t', skiprows=2, names = ['v1', 'v2', 'weight', 'timestamp'])\n",
            "<ipython-input-9-408a258bb22c>:2: ParserWarning: Falling back to the 'python' engine because the 'c' engine does not support regex separators (separators > 1 char and different from '\\s+' are interpreted as regex); you can avoid this warning by specifying engine='python'.\n",
            "  df2 = pd.read_csv(\"drive/MyDrive/uh/out.radoslaw_email_email\", sep = '  | ', skiprows=2, names = ['v1', 'v2','weight', 'timestamp'])\n",
            "<ipython-input-9-408a258bb22c>:3: ParserWarning: Falling back to the 'python' engine because the 'c' engine does not support regex separators (separators > 1 char and different from '\\s+' are interpreted as regex); you can avoid this warning by specifying engine='python'.\n",
            "  df3 = pd.read_csv(\"drive/MyDrive/uh/out.soc-sign-bitcoinotc\", sep = ' |\\t', skiprows=1, names = ['v1', 'v2', 'weight', 'timestamp'])\n",
            "<ipython-input-9-408a258bb22c>:4: ParserWarning: Falling back to the 'python' engine because the 'c' engine does not support regex separators (separators > 1 char and different from '\\s+' are interpreted as regex); you can avoid this warning by specifying engine='python'.\n",
            "  df4 = pd.read_csv(\"drive/MyDrive/uh/out.dnc-corecipient\", sep = ' |\\t', skiprows=1, names = ['v1', 'v2', 'timestamp'])\n",
            "<ipython-input-9-408a258bb22c>:5: ParserWarning: Falling back to the 'python' engine because the 'c' engine does not support regex separators (separators > 1 char and different from '\\s+' are interpreted as regex); you can avoid this warning by specifying engine='python'.\n",
            "  df5 = pd.read_csv('drive/MyDrive/uh/out.email-Eu-core-temporal.txt', sep = ' |\\t',  names = ['v1', 'v2', 'timestamp'])\n"
          ]
        }
      ]
    },
    {
      "cell_type": "code",
      "source": [
        "# for i in range(len(list_of_name)):\n",
        "#     filename = 'drive/MyDrive/uh/' + 'out.' + list_of_name[i]\n",
        "#     print(filename)\n",
        "#     locals()[f'df{i+1}'] = pd.read_csv(filename, sep = ' |\\t', skiprows=[0], names = ['v1', 'v2', 'weight', 'timestamp'])"
      ],
      "metadata": {
        "id": "aQGLPwkU0aAY"
      },
      "execution_count": 10,
      "outputs": []
    },
    {
      "cell_type": "markdown",
      "source": [
        "Выведем первые пять элементов одной из таблиц, чтобы убедиться что всё считалось верно\n"
      ],
      "metadata": {
        "id": "xV6X-egZuWrw"
      }
    },
    {
      "cell_type": "code",
      "source": [
        "df1.head(5)"
      ],
      "metadata": {
        "colab": {
          "base_uri": "https://localhost:8080/",
          "height": 206
        },
        "id": "sDg9IX1y8VQZ",
        "outputId": "6f2f3134-2d2a-490e-c210-07733897af0a"
      },
      "execution_count": 11,
      "outputs": [
        {
          "output_type": "execute_result",
          "data": {
            "text/plain": [
              "   v1  v2  weight   timestamp\n",
              "0   1   2       1  1082008561\n",
              "1   3   4       1  1082123439\n",
              "2   5   2       1  1082381991\n",
              "3   6   7       1  1082407219\n",
              "4   8   7       1  1082407356"
            ],
            "text/html": [
              "\n",
              "  <div id=\"df-f7457db0-c642-4f4c-afe4-3a31aa6944a0\">\n",
              "    <div class=\"colab-df-container\">\n",
              "      <div>\n",
              "<style scoped>\n",
              "    .dataframe tbody tr th:only-of-type {\n",
              "        vertical-align: middle;\n",
              "    }\n",
              "\n",
              "    .dataframe tbody tr th {\n",
              "        vertical-align: top;\n",
              "    }\n",
              "\n",
              "    .dataframe thead th {\n",
              "        text-align: right;\n",
              "    }\n",
              "</style>\n",
              "<table border=\"1\" class=\"dataframe\">\n",
              "  <thead>\n",
              "    <tr style=\"text-align: right;\">\n",
              "      <th></th>\n",
              "      <th>v1</th>\n",
              "      <th>v2</th>\n",
              "      <th>weight</th>\n",
              "      <th>timestamp</th>\n",
              "    </tr>\n",
              "  </thead>\n",
              "  <tbody>\n",
              "    <tr>\n",
              "      <th>0</th>\n",
              "      <td>1</td>\n",
              "      <td>2</td>\n",
              "      <td>1</td>\n",
              "      <td>1082008561</td>\n",
              "    </tr>\n",
              "    <tr>\n",
              "      <th>1</th>\n",
              "      <td>3</td>\n",
              "      <td>4</td>\n",
              "      <td>1</td>\n",
              "      <td>1082123439</td>\n",
              "    </tr>\n",
              "    <tr>\n",
              "      <th>2</th>\n",
              "      <td>5</td>\n",
              "      <td>2</td>\n",
              "      <td>1</td>\n",
              "      <td>1082381991</td>\n",
              "    </tr>\n",
              "    <tr>\n",
              "      <th>3</th>\n",
              "      <td>6</td>\n",
              "      <td>7</td>\n",
              "      <td>1</td>\n",
              "      <td>1082407219</td>\n",
              "    </tr>\n",
              "    <tr>\n",
              "      <th>4</th>\n",
              "      <td>8</td>\n",
              "      <td>7</td>\n",
              "      <td>1</td>\n",
              "      <td>1082407356</td>\n",
              "    </tr>\n",
              "  </tbody>\n",
              "</table>\n",
              "</div>\n",
              "      <button class=\"colab-df-convert\" onclick=\"convertToInteractive('df-f7457db0-c642-4f4c-afe4-3a31aa6944a0')\"\n",
              "              title=\"Convert this dataframe to an interactive table.\"\n",
              "              style=\"display:none;\">\n",
              "        \n",
              "  <svg xmlns=\"http://www.w3.org/2000/svg\" height=\"24px\"viewBox=\"0 0 24 24\"\n",
              "       width=\"24px\">\n",
              "    <path d=\"M0 0h24v24H0V0z\" fill=\"none\"/>\n",
              "    <path d=\"M18.56 5.44l.94 2.06.94-2.06 2.06-.94-2.06-.94-.94-2.06-.94 2.06-2.06.94zm-11 1L8.5 8.5l.94-2.06 2.06-.94-2.06-.94L8.5 2.5l-.94 2.06-2.06.94zm10 10l.94 2.06.94-2.06 2.06-.94-2.06-.94-.94-2.06-.94 2.06-2.06.94z\"/><path d=\"M17.41 7.96l-1.37-1.37c-.4-.4-.92-.59-1.43-.59-.52 0-1.04.2-1.43.59L10.3 9.45l-7.72 7.72c-.78.78-.78 2.05 0 2.83L4 21.41c.39.39.9.59 1.41.59.51 0 1.02-.2 1.41-.59l7.78-7.78 2.81-2.81c.8-.78.8-2.07 0-2.86zM5.41 20L4 18.59l7.72-7.72 1.47 1.35L5.41 20z\"/>\n",
              "  </svg>\n",
              "      </button>\n",
              "      \n",
              "  <style>\n",
              "    .colab-df-container {\n",
              "      display:flex;\n",
              "      flex-wrap:wrap;\n",
              "      gap: 12px;\n",
              "    }\n",
              "\n",
              "    .colab-df-convert {\n",
              "      background-color: #E8F0FE;\n",
              "      border: none;\n",
              "      border-radius: 50%;\n",
              "      cursor: pointer;\n",
              "      display: none;\n",
              "      fill: #1967D2;\n",
              "      height: 32px;\n",
              "      padding: 0 0 0 0;\n",
              "      width: 32px;\n",
              "    }\n",
              "\n",
              "    .colab-df-convert:hover {\n",
              "      background-color: #E2EBFA;\n",
              "      box-shadow: 0px 1px 2px rgba(60, 64, 67, 0.3), 0px 1px 3px 1px rgba(60, 64, 67, 0.15);\n",
              "      fill: #174EA6;\n",
              "    }\n",
              "\n",
              "    [theme=dark] .colab-df-convert {\n",
              "      background-color: #3B4455;\n",
              "      fill: #D2E3FC;\n",
              "    }\n",
              "\n",
              "    [theme=dark] .colab-df-convert:hover {\n",
              "      background-color: #434B5C;\n",
              "      box-shadow: 0px 1px 3px 1px rgba(0, 0, 0, 0.15);\n",
              "      filter: drop-shadow(0px 1px 2px rgba(0, 0, 0, 0.3));\n",
              "      fill: #FFFFFF;\n",
              "    }\n",
              "  </style>\n",
              "\n",
              "      <script>\n",
              "        const buttonEl =\n",
              "          document.querySelector('#df-f7457db0-c642-4f4c-afe4-3a31aa6944a0 button.colab-df-convert');\n",
              "        buttonEl.style.display =\n",
              "          google.colab.kernel.accessAllowed ? 'block' : 'none';\n",
              "\n",
              "        async function convertToInteractive(key) {\n",
              "          const element = document.querySelector('#df-f7457db0-c642-4f4c-afe4-3a31aa6944a0');\n",
              "          const dataTable =\n",
              "            await google.colab.kernel.invokeFunction('convertToInteractive',\n",
              "                                                     [key], {});\n",
              "          if (!dataTable) return;\n",
              "\n",
              "          const docLinkHtml = 'Like what you see? Visit the ' +\n",
              "            '<a target=\"_blank\" href=https://colab.research.google.com/notebooks/data_table.ipynb>data table notebook</a>'\n",
              "            + ' to learn more about interactive tables.';\n",
              "          element.innerHTML = '';\n",
              "          dataTable['output_type'] = 'display_data';\n",
              "          await google.colab.output.renderOutput(dataTable, element);\n",
              "          const docLink = document.createElement('div');\n",
              "          docLink.innerHTML = docLinkHtml;\n",
              "          element.appendChild(docLink);\n",
              "        }\n",
              "      </script>\n",
              "    </div>\n",
              "  </div>\n",
              "  "
            ]
          },
          "metadata": {},
          "execution_count": 11
        }
      ]
    },
    {
      "cell_type": "code",
      "source": [
        "#df.head(10)"
      ],
      "metadata": {
        "id": "dN9znMKmrltV"
      },
      "execution_count": 12,
      "outputs": []
    },
    {
      "cell_type": "markdown",
      "source": [
        "**1. Считаем число вершин, число рёбер, плотность (отношение числа рёбер к максимально\n",
        "возможному числу рёбер), число компонент слабой связности, долю вершин в\n",
        "максимальной по мощности компоненте слабой связности.**"
      ],
      "metadata": {
        "id": "qLhpPXiX9Kc8"
      }
    },
    {
      "cell_type": "code",
      "source": [
        "def task_1(df):\n",
        "    vertexes = (set(df.v2.unique()) | set(df.v1.unique()))\n",
        "    number_of_vertexes = len(vertexes)\n",
        "    number_of_edges_directed =df.shape[0] \n",
        "    edges = sorted(set(zip((df[['v1','v2']]).min(axis = 1), (df[['v1','v2']]).max(axis = 1))))\n",
        "    number_of_edges_undirected = len(edges)\n",
        "    density = len(edges) / ((number_of_vertexes*(number_of_vertexes - 1))/2)\n",
        "    print(\"Число вершин: \", number_of_vertexes)\n",
        "    print(\"Число направленных рёбер: \", number_of_edges_directed)\n",
        "    print(\"Число ненаправленных рёбер: \", number_of_edges_undirected)\n",
        "    print(\"Плотность: \", density)\n",
        "    return vertexes, number_of_vertexes, number_of_edges_directed, edges, number_of_edges_undirected, density"
      ],
      "metadata": {
        "id": "hCpo8R1TE8TW"
      },
      "execution_count": 13,
      "outputs": []
    },
    {
      "cell_type": "code",
      "source": [
        "from collections import defaultdict\n",
        "from collections import deque"
      ],
      "metadata": {
        "id": "pDMZN_h_aVx_"
      },
      "execution_count": 18,
      "outputs": []
    },
    {
      "cell_type": "code",
      "source": [
        "def dfs_and_gcc(edges, neighbours, vertexes, max_component=False):\n",
        "#на вход подается неориентированный список смежности\n",
        "    access_vertexes = deque()\n",
        "    visited = set()\n",
        "    connected_components = defaultdict(set)\n",
        "    connected_components_number = 0\n",
        "    for vertex in vertexes:\n",
        "        if vertex not in visited:\n",
        "            connected_components_number += 1\n",
        "            access_vertexes.append(vertex)\n",
        "            while access_vertexes:\n",
        "                u = access_vertexes.pop()\n",
        "                for v in neighbours[u]:\n",
        "                    if v not in visited:\n",
        "                        access_vertexes.append(v)\n",
        "                        visited.add(v)\n",
        "                connected_components[connected_components_number].add(u)\n",
        "                visited.add(u)\n",
        "    print(\"Число компонент слабой связности: \", connected_components_number)\n",
        "    if max_component:\n",
        "        ind_max_component = max(connected_components, key=lambda num: len(connected_components[num]))\n",
        "        return connected_components_number, ind_max_component, connected_components\n",
        "    return connected_components_number, connected_components"
      ],
      "metadata": {
        "id": "_rzm6c8LahHu"
      },
      "execution_count": 19,
      "outputs": []
    },
    {
      "cell_type": "code",
      "source": [
        "i = 0\n",
        "for df in [df1,df2,df3,df4,df5]:\n",
        "  print(\"Название датасета: \", list_of_name[i])\n",
        "  i +=1\n",
        "  vertexes, number_of_vertexes, number_of_edges_directed, edges, number_of_edges_undirected, density = task_1(df)\n",
        "  neighbours = defaultdict(set)\n",
        "  for edge in edges:\n",
        "    if edge[0] != edge[1]:\n",
        "      neighbours[edge[0]].add(edge[1])\n",
        "      neighbours[edge[1]].add(edge[0])\n",
        "  connected_components_number, ind_max_component, connected_components = dfs_and_gcc(edges, neighbours, vertexes, True)\n",
        "  print(\"Доля вершин в максимальной компоненте: \", len(connected_components[ind_max_component])/ number_of_vertexes)\n",
        "  print()"
      ],
      "metadata": {
        "id": "i0RPMUFAOUQA",
        "colab": {
          "base_uri": "https://localhost:8080/"
        },
        "outputId": "3d1db2b0-b79b-4d36-be98-165b410968da"
      },
      "execution_count": 20,
      "outputs": [
        {
          "output_type": "stream",
          "name": "stdout",
          "text": [
            "Название датасета:  opsahl-ucsocial\n",
            "Число вершин:  1899\n",
            "Число направленных рёбер:  59835\n",
            "Число ненаправленных рёбер:  13838\n",
            "Плотность:  0.007678601848568738\n",
            "Число компонент слабой связности:  4\n",
            "Доля вершин в максимальной компоненте:  0.9968404423380727\n",
            "\n",
            "Название датасета:  radoslaw_email_email\n",
            "Число вершин:  167\n",
            "Число направленных рёбер:  82927\n",
            "Число ненаправленных рёбер:  3251\n",
            "Плотность:  0.23454296226823462\n",
            "Число компонент слабой связности:  1\n",
            "Доля вершин в максимальной компоненте:  1.0\n",
            "\n",
            "Название датасета:  soc-sign-bitcoinotc\n",
            "Число вершин:  5881\n",
            "Число направленных рёбер:  35592\n",
            "Число ненаправленных рёбер:  21492\n",
            "Плотность:  0.001243020588612932\n",
            "Число компонент слабой связности:  4\n",
            "Доля вершин в максимальной компоненте:  0.9989797653460296\n",
            "\n",
            "Название датасета:  dnc-corecipient\n",
            "Число вершин:  906\n",
            "Число направленных рёбер:  12085\n",
            "Число ненаправленных рёбер:  10429\n",
            "Плотность:  0.025438756967058163\n",
            "Число компонент слабой связности:  25\n",
            "Доля вершин в максимальной компоненте:  0.9370860927152318\n",
            "\n",
            "Название датасета:  out.email-Eu-core-temporal.txt\n",
            "Число вершин:  986\n",
            "Число направленных рёбер:  332334\n",
            "Число ненаправленных рёбер:  16064\n",
            "Плотность:  0.033080384262929745\n",
            "Число компонент слабой связности:  1\n",
            "Доля вершин в максимальной компоненте:  1.0\n",
            "\n"
          ]
        }
      ]
    },
    {
      "cell_type": "code",
      "source": [],
      "metadata": {
        "id": "4YlhHxldaGUg"
      },
      "execution_count": null,
      "outputs": []
    }
  ]
}