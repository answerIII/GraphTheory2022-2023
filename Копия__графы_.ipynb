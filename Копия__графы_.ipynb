{
  "nbformat": 4,
  "nbformat_minor": 0,
  "metadata": {
    "colab": {
      "provenance": []
    },
    "kernelspec": {
      "name": "python3",
      "display_name": "Python 3"
    },
    "language_info": {
      "name": "python"
    }
  },
  "cells": [
    {
      "cell_type": "code",
      "source": [
        "from google.colab import drive\n",
        "import pandas as pd\n",
        "drive.mount('/content/drive', force_remount=True)\n",
        "!ls 'drive/MyDrive/uh'\n",
        "list_of_name = [\"opsahl-ucsocial\", \"radoslaw_email_email\", \"soc-sign-bitcoinotc\", \"dnc-corecipient\", 'email-Eu-core-temporal.txt']"
      ],
      "metadata": {
        "colab": {
          "base_uri": "https://localhost:8080/"
        },
        "id": "mGrql5oBqob2",
        "outputId": "650626fd-272d-4612-fa03-a2cef87e1b6f"
      },
      "execution_count": 2,
      "outputs": [
        {
          "output_type": "stream",
          "name": "stdout",
          "text": [
            "Mounted at /content/drive\n",
            "dnc-corecipient.cvc\t\t  out.prosper-loans\n",
            "dnc-corecipient_pairs.csv\t  out.radoslaw_email_email\n",
            "email-Eu-core-temporal_pairs.csv  out.soc-sign-bitcoinalpha\n",
            "email-Eu-core-temporal.txt.cvc\t  out.soc-sign-bitcoinotc\n",
            "opsahl-ucsocial.cvc\t\t  out.sx-askubuntu\n",
            "opsahl-ucsocial_pairs.csv\t  out.sx-mathoverflow\n",
            "out.digg-friends\t\t  out.sx-superuser\n",
            "out.dnc-corecipient\t\t  radoslaw_email_email.cvc\n",
            "out.email-Eu-core-temporal.txt\t  radoslaw_email_email_pairs.csv\n",
            "out.munmun_digg_reply\t\t  soc-sign-bitcoinotc.cvc\n",
            "out.opsahl-ucsocial\t\t  soc-sign-bitcoinotc_pairs.csv\n"
          ]
        }
      ]
    },
    {
      "cell_type": "code",
      "source": [
        "df1 = pd.read_csv(\"drive/MyDrive/uh/out.opsahl-ucsocial\", sep = ' |\\t', skiprows=2, names = ['v1', 'v2', 'weight', 'timestamp'])\n",
        "df2 = pd.read_csv(\"drive/MyDrive/uh/out.radoslaw_email_email\", sep = '  | ', skiprows=2, names = ['v1', 'v2','weight', 'timestamp'])\n",
        "df3 = pd.read_csv(\"drive/MyDrive/uh/out.soc-sign-bitcoinotc\", sep = ' |\\t', skiprows=1, names = ['v1', 'v2', 'weight', 'timestamp'])\n",
        "df4 = pd.read_csv(\"drive/MyDrive/uh/out.dnc-corecipient\", sep = ' |\\t', skiprows=1, names = ['v1', 'v2', 'timestamp'])\n",
        "df5 = pd.read_csv('drive/MyDrive/uh/out.email-Eu-core-temporal.txt', sep = ' |\\t',  names = ['v1', 'v2', 'timestamp'])\n",
        "\n",
        "df1_1 = pd.read_csv(\"drive/MyDrive/uh/opsahl-ucsocial_pairs.csv\", sep = ',|\\t', skiprows=1, names = ['v1', 'v2'])\n",
        "df2_1 = pd.read_csv(\"drive/MyDrive/uh/radoslaw_email_email_pairs.csv\", sep = ',|\\t', skiprows=1, names = ['v1', 'v2'])\n",
        "df3_1 = pd.read_csv(\"drive/MyDrive/uh/soc-sign-bitcoinotc_pairs.csv\", sep = ',|\\t', skiprows=1, names = ['v1', 'v2'])\n",
        "df4_1 = pd.read_csv(\"drive/MyDrive/uh/dnc-corecipient_pairs.csv\", sep = ',|\\t', skiprows=1, names = ['v1', 'v2'])\n",
        "df5_1 = pd.read_csv('drive/MyDrive/uh/email-Eu-core-temporal_pairs.csv', sep = ',|\\t', skiprows=1, names = ['v1', 'v2'])"
      ],
      "metadata": {
        "colab": {
          "base_uri": "https://localhost:8080/"
        },
        "id": "aQGLPwkU0aAY",
        "outputId": "f1c6472c-baed-4c39-ef12-5a25f04eb3f3"
      },
      "execution_count": 32,
      "outputs": [
        {
          "output_type": "stream",
          "name": "stderr",
          "text": [
            "<ipython-input-32-981cde825cb0>:1: ParserWarning: Falling back to the 'python' engine because the 'c' engine does not support regex separators (separators > 1 char and different from '\\s+' are interpreted as regex); you can avoid this warning by specifying engine='python'.\n",
            "  df1 = pd.read_csv(\"drive/MyDrive/uh/out.opsahl-ucsocial\", sep = ' |\\t', skiprows=2, names = ['v1', 'v2', 'weight', 'timestamp'])\n",
            "<ipython-input-32-981cde825cb0>:2: ParserWarning: Falling back to the 'python' engine because the 'c' engine does not support regex separators (separators > 1 char and different from '\\s+' are interpreted as regex); you can avoid this warning by specifying engine='python'.\n",
            "  df2 = pd.read_csv(\"drive/MyDrive/uh/out.radoslaw_email_email\", sep = '  | ', skiprows=2, names = ['v1', 'v2','weight', 'timestamp'])\n",
            "<ipython-input-32-981cde825cb0>:3: ParserWarning: Falling back to the 'python' engine because the 'c' engine does not support regex separators (separators > 1 char and different from '\\s+' are interpreted as regex); you can avoid this warning by specifying engine='python'.\n",
            "  df3 = pd.read_csv(\"drive/MyDrive/uh/out.soc-sign-bitcoinotc\", sep = ' |\\t', skiprows=1, names = ['v1', 'v2', 'weight', 'timestamp'])\n",
            "<ipython-input-32-981cde825cb0>:4: ParserWarning: Falling back to the 'python' engine because the 'c' engine does not support regex separators (separators > 1 char and different from '\\s+' are interpreted as regex); you can avoid this warning by specifying engine='python'.\n",
            "  df4 = pd.read_csv(\"drive/MyDrive/uh/out.dnc-corecipient\", sep = ' |\\t', skiprows=1, names = ['v1', 'v2', 'timestamp'])\n",
            "<ipython-input-32-981cde825cb0>:5: ParserWarning: Falling back to the 'python' engine because the 'c' engine does not support regex separators (separators > 1 char and different from '\\s+' are interpreted as regex); you can avoid this warning by specifying engine='python'.\n",
            "  df5 = pd.read_csv('drive/MyDrive/uh/out.email-Eu-core-temporal.txt', sep = ' |\\t',  names = ['v1', 'v2', 'timestamp'])\n",
            "<ipython-input-32-981cde825cb0>:7: ParserWarning: Falling back to the 'python' engine because the 'c' engine does not support regex separators (separators > 1 char and different from '\\s+' are interpreted as regex); you can avoid this warning by specifying engine='python'.\n",
            "  df1_1 = pd.read_csv(\"drive/MyDrive/uh/opsahl-ucsocial_pairs.csv\", sep = ',|\\t', skiprows=1, names = ['v1', 'v2'])\n",
            "<ipython-input-32-981cde825cb0>:8: ParserWarning: Falling back to the 'python' engine because the 'c' engine does not support regex separators (separators > 1 char and different from '\\s+' are interpreted as regex); you can avoid this warning by specifying engine='python'.\n",
            "  df2_1 = pd.read_csv(\"drive/MyDrive/uh/radoslaw_email_email_pairs.csv\", sep = ',|\\t', skiprows=1, names = ['v1', 'v2'])\n",
            "<ipython-input-32-981cde825cb0>:9: ParserWarning: Falling back to the 'python' engine because the 'c' engine does not support regex separators (separators > 1 char and different from '\\s+' are interpreted as regex); you can avoid this warning by specifying engine='python'.\n",
            "  df3_1 = pd.read_csv(\"drive/MyDrive/uh/soc-sign-bitcoinotc_pairs.csv\", sep = ',|\\t', skiprows=1, names = ['v1', 'v2'])\n",
            "<ipython-input-32-981cde825cb0>:10: ParserWarning: Falling back to the 'python' engine because the 'c' engine does not support regex separators (separators > 1 char and different from '\\s+' are interpreted as regex); you can avoid this warning by specifying engine='python'.\n",
            "  df4_1 = pd.read_csv(\"drive/MyDrive/uh/dnc-corecipient_pairs.csv\", sep = ',|\\t', skiprows=1, names = ['v1', 'v2'])\n",
            "<ipython-input-32-981cde825cb0>:11: ParserWarning: Falling back to the 'python' engine because the 'c' engine does not support regex separators (separators > 1 char and different from '\\s+' are interpreted as regex); you can avoid this warning by specifying engine='python'.\n",
            "  df5_1 = pd.read_csv('drive/MyDrive/uh/email-Eu-core-temporal_pairs.csv', sep = ',|\\t', skiprows=1, names = ['v1', 'v2'])\n"
          ]
        }
      ]
    },
    {
      "cell_type": "code",
      "source": [
        "df1"
      ],
      "metadata": {
        "colab": {
          "base_uri": "https://localhost:8080/",
          "height": 424
        },
        "id": "sDg9IX1y8VQZ",
        "outputId": "83956b62-fb2a-45f0-cd47-247ddbcb0e8b"
      },
      "execution_count": 43,
      "outputs": [
        {
          "output_type": "execute_result",
          "data": {
            "text/plain": [
              "         v1    v2  weight   timestamp\n",
              "0         1     2       1  1082008561\n",
              "1         3     4       1  1082123439\n",
              "2         5     2       1  1082381991\n",
              "3         6     7       1  1082407219\n",
              "4         8     7       1  1082407356\n",
              "...     ...   ...     ...         ...\n",
              "59830  1899  1847       1  1098744248\n",
              "59831  1899  1097       1  1098744436\n",
              "59832  1899   277       1  1098744603\n",
              "59833  1878  1624       1  1098744711\n",
              "59834  1878  1624       1  1098744742\n",
              "\n",
              "[59835 rows x 4 columns]"
            ],
            "text/html": [
              "\n",
              "  <div id=\"df-2de1cefa-83c1-4797-9d2e-515d9e00c904\">\n",
              "    <div class=\"colab-df-container\">\n",
              "      <div>\n",
              "<style scoped>\n",
              "    .dataframe tbody tr th:only-of-type {\n",
              "        vertical-align: middle;\n",
              "    }\n",
              "\n",
              "    .dataframe tbody tr th {\n",
              "        vertical-align: top;\n",
              "    }\n",
              "\n",
              "    .dataframe thead th {\n",
              "        text-align: right;\n",
              "    }\n",
              "</style>\n",
              "<table border=\"1\" class=\"dataframe\">\n",
              "  <thead>\n",
              "    <tr style=\"text-align: right;\">\n",
              "      <th></th>\n",
              "      <th>v1</th>\n",
              "      <th>v2</th>\n",
              "      <th>weight</th>\n",
              "      <th>timestamp</th>\n",
              "    </tr>\n",
              "  </thead>\n",
              "  <tbody>\n",
              "    <tr>\n",
              "      <th>0</th>\n",
              "      <td>1</td>\n",
              "      <td>2</td>\n",
              "      <td>1</td>\n",
              "      <td>1082008561</td>\n",
              "    </tr>\n",
              "    <tr>\n",
              "      <th>1</th>\n",
              "      <td>3</td>\n",
              "      <td>4</td>\n",
              "      <td>1</td>\n",
              "      <td>1082123439</td>\n",
              "    </tr>\n",
              "    <tr>\n",
              "      <th>2</th>\n",
              "      <td>5</td>\n",
              "      <td>2</td>\n",
              "      <td>1</td>\n",
              "      <td>1082381991</td>\n",
              "    </tr>\n",
              "    <tr>\n",
              "      <th>3</th>\n",
              "      <td>6</td>\n",
              "      <td>7</td>\n",
              "      <td>1</td>\n",
              "      <td>1082407219</td>\n",
              "    </tr>\n",
              "    <tr>\n",
              "      <th>4</th>\n",
              "      <td>8</td>\n",
              "      <td>7</td>\n",
              "      <td>1</td>\n",
              "      <td>1082407356</td>\n",
              "    </tr>\n",
              "    <tr>\n",
              "      <th>...</th>\n",
              "      <td>...</td>\n",
              "      <td>...</td>\n",
              "      <td>...</td>\n",
              "      <td>...</td>\n",
              "    </tr>\n",
              "    <tr>\n",
              "      <th>59830</th>\n",
              "      <td>1899</td>\n",
              "      <td>1847</td>\n",
              "      <td>1</td>\n",
              "      <td>1098744248</td>\n",
              "    </tr>\n",
              "    <tr>\n",
              "      <th>59831</th>\n",
              "      <td>1899</td>\n",
              "      <td>1097</td>\n",
              "      <td>1</td>\n",
              "      <td>1098744436</td>\n",
              "    </tr>\n",
              "    <tr>\n",
              "      <th>59832</th>\n",
              "      <td>1899</td>\n",
              "      <td>277</td>\n",
              "      <td>1</td>\n",
              "      <td>1098744603</td>\n",
              "    </tr>\n",
              "    <tr>\n",
              "      <th>59833</th>\n",
              "      <td>1878</td>\n",
              "      <td>1624</td>\n",
              "      <td>1</td>\n",
              "      <td>1098744711</td>\n",
              "    </tr>\n",
              "    <tr>\n",
              "      <th>59834</th>\n",
              "      <td>1878</td>\n",
              "      <td>1624</td>\n",
              "      <td>1</td>\n",
              "      <td>1098744742</td>\n",
              "    </tr>\n",
              "  </tbody>\n",
              "</table>\n",
              "<p>59835 rows × 4 columns</p>\n",
              "</div>\n",
              "      <button class=\"colab-df-convert\" onclick=\"convertToInteractive('df-2de1cefa-83c1-4797-9d2e-515d9e00c904')\"\n",
              "              title=\"Convert this dataframe to an interactive table.\"\n",
              "              style=\"display:none;\">\n",
              "        \n",
              "  <svg xmlns=\"http://www.w3.org/2000/svg\" height=\"24px\"viewBox=\"0 0 24 24\"\n",
              "       width=\"24px\">\n",
              "    <path d=\"M0 0h24v24H0V0z\" fill=\"none\"/>\n",
              "    <path d=\"M18.56 5.44l.94 2.06.94-2.06 2.06-.94-2.06-.94-.94-2.06-.94 2.06-2.06.94zm-11 1L8.5 8.5l.94-2.06 2.06-.94-2.06-.94L8.5 2.5l-.94 2.06-2.06.94zm10 10l.94 2.06.94-2.06 2.06-.94-2.06-.94-.94-2.06-.94 2.06-2.06.94z\"/><path d=\"M17.41 7.96l-1.37-1.37c-.4-.4-.92-.59-1.43-.59-.52 0-1.04.2-1.43.59L10.3 9.45l-7.72 7.72c-.78.78-.78 2.05 0 2.83L4 21.41c.39.39.9.59 1.41.59.51 0 1.02-.2 1.41-.59l7.78-7.78 2.81-2.81c.8-.78.8-2.07 0-2.86zM5.41 20L4 18.59l7.72-7.72 1.47 1.35L5.41 20z\"/>\n",
              "  </svg>\n",
              "      </button>\n",
              "      \n",
              "  <style>\n",
              "    .colab-df-container {\n",
              "      display:flex;\n",
              "      flex-wrap:wrap;\n",
              "      gap: 12px;\n",
              "    }\n",
              "\n",
              "    .colab-df-convert {\n",
              "      background-color: #E8F0FE;\n",
              "      border: none;\n",
              "      border-radius: 50%;\n",
              "      cursor: pointer;\n",
              "      display: none;\n",
              "      fill: #1967D2;\n",
              "      height: 32px;\n",
              "      padding: 0 0 0 0;\n",
              "      width: 32px;\n",
              "    }\n",
              "\n",
              "    .colab-df-convert:hover {\n",
              "      background-color: #E2EBFA;\n",
              "      box-shadow: 0px 1px 2px rgba(60, 64, 67, 0.3), 0px 1px 3px 1px rgba(60, 64, 67, 0.15);\n",
              "      fill: #174EA6;\n",
              "    }\n",
              "\n",
              "    [theme=dark] .colab-df-convert {\n",
              "      background-color: #3B4455;\n",
              "      fill: #D2E3FC;\n",
              "    }\n",
              "\n",
              "    [theme=dark] .colab-df-convert:hover {\n",
              "      background-color: #434B5C;\n",
              "      box-shadow: 0px 1px 3px 1px rgba(0, 0, 0, 0.15);\n",
              "      filter: drop-shadow(0px 1px 2px rgba(0, 0, 0, 0.3));\n",
              "      fill: #FFFFFF;\n",
              "    }\n",
              "  </style>\n",
              "\n",
              "      <script>\n",
              "        const buttonEl =\n",
              "          document.querySelector('#df-2de1cefa-83c1-4797-9d2e-515d9e00c904 button.colab-df-convert');\n",
              "        buttonEl.style.display =\n",
              "          google.colab.kernel.accessAllowed ? 'block' : 'none';\n",
              "\n",
              "        async function convertToInteractive(key) {\n",
              "          const element = document.querySelector('#df-2de1cefa-83c1-4797-9d2e-515d9e00c904');\n",
              "          const dataTable =\n",
              "            await google.colab.kernel.invokeFunction('convertToInteractive',\n",
              "                                                     [key], {});\n",
              "          if (!dataTable) return;\n",
              "\n",
              "          const docLinkHtml = 'Like what you see? Visit the ' +\n",
              "            '<a target=\"_blank\" href=https://colab.research.google.com/notebooks/data_table.ipynb>data table notebook</a>'\n",
              "            + ' to learn more about interactive tables.';\n",
              "          element.innerHTML = '';\n",
              "          dataTable['output_type'] = 'display_data';\n",
              "          await google.colab.output.renderOutput(dataTable, element);\n",
              "          const docLink = document.createElement('div');\n",
              "          docLink.innerHTML = docLinkHtml;\n",
              "          element.appendChild(docLink);\n",
              "        }\n",
              "      </script>\n",
              "    </div>\n",
              "  </div>\n",
              "  "
            ]
          },
          "metadata": {},
          "execution_count": 43
        }
      ]
    },
    {
      "cell_type": "markdown",
      "source": [
        "**1. Число вершин, число рёбер, плотность (отношение числа рёбер к максимально\n",
        "возможному числу рёбер), число компонент слабой связности, долю вершин в\n",
        "максимальной по мощности компоненте слабой связности.**"
      ],
      "metadata": {
        "id": "qLhpPXiX9Kc8"
      }
    },
    {
      "cell_type": "markdown",
      "source": [
        "1.1. Вершины"
      ],
      "metadata": {
        "id": "TbQ4KnCqTbFp"
      }
    },
    {
      "cell_type": "code",
      "source": [
        "def task_1(df):\n",
        "    vertexes = (set(df.v2.unique()) | set(df.v1.unique()))\n",
        "    number_of_vertexes = len(vertexes)\n",
        "    number_of_edges_directed =df.shape[0] \n",
        "    edges = sorted(set(zip((df[['v1','v2']]).min(axis = 1), (df[['v1','v2']]).max(axis = 1))))\n",
        "    number_of_edges_undirected = len(edges)\n",
        "    density = number_of_vertexes / ((number_of_vertexes*(number_of_vertexes - 1))/2)\n",
        "    print(\"Число вершин: \", number_of_vertexes)\n",
        "    print(\"Число направленных рёбер: \", number_of_edges_directed)\n",
        "    print(\"Число ненаправленных рёбер: \", number_of_edges_undirected)\n",
        "    print(\"Плотность: \", density)\n",
        "    return vertexes, number_of_vertexes, number_of_edges_directed, edges, number_of_edges_undirected, density"
      ],
      "metadata": {
        "id": "hCpo8R1TE8TW"
      },
      "execution_count": 4,
      "outputs": []
    },
    {
      "cell_type": "markdown",
      "source": [
        "1.4. Компоненты слабой связности\n"
      ],
      "metadata": {
        "id": "h7ERfD5NUCSk"
      }
    },
    {
      "cell_type": "code",
      "source": [
        "from collections import defaultdict\n",
        "from collections import deque"
      ],
      "metadata": {
        "id": "R6JAYxXQeoE9"
      },
      "execution_count": 5,
      "outputs": []
    },
    {
      "cell_type": "code",
      "source": [
        "def dfs_and_gcc(edges, neighbours, vertexes, max_component=False):\n",
        "#на вход подается неориентированный список смежности\n",
        "    access_vertexes = deque()\n",
        "    visited = set()\n",
        "    connected_components = defaultdict(set)\n",
        "    connected_components_number = 0\n",
        "    for vertex in vertexes:\n",
        "        if vertex not in visited:\n",
        "            connected_components_number += 1\n",
        "            access_vertexes.append(vertex)\n",
        "            while access_vertexes:\n",
        "                u = access_vertexes.pop()\n",
        "                for v in neighbours[u]:\n",
        "                    if v not in visited:\n",
        "                        access_vertexes.append(v)\n",
        "                        visited.add(v)\n",
        "                connected_components[connected_components_number].add(u)\n",
        "                visited.add(u)\n",
        "    print(\"Число компонент слабой связности: \", connected_components_number)\n",
        "    if max_component:\n",
        "        ind_max_component = max(connected_components, key=lambda num: len(connected_components[num]))\n",
        "        return connected_components_number, ind_max_component, connected_components\n",
        "    return connected_components_number, connected_components\n"
      ],
      "metadata": {
        "id": "BjYbelum7tyZ"
      },
      "execution_count": 6,
      "outputs": []
    },
    {
      "cell_type": "code",
      "source": [],
      "metadata": {
        "id": "z6qq_tjGroG9"
      },
      "execution_count": null,
      "outputs": []
    },
    {
      "cell_type": "markdown",
      "source": [
        "**Второе задание. Предсказания появления ребер в графе**"
      ],
      "metadata": {
        "id": "wF0GgMdBlsrz"
      }
    },
    {
      "cell_type": "code",
      "source": [
        "# edges_with_сombining[edge] = deepcopy(params3)\n",
        "# params3 = {'lin': deepcopy(params2), 'exp': deepcopy(params2), 'sqrt': deepcopy(params2)}\n",
        "# params2 = {'zeroth': deepcopy(сombining), 'first': deepcopy(сombining), \n",
        "#            'second': deepcopy(сombining), 'third': deepcopy(сombining), \n",
        "#            'fourth': deepcopy(сombining), 'sum': deepcopy(сombining), \n",
        "#            'mean': deepcopy(сombining)}\n",
        "# сombining = {'sum': 0, 'abs_diff': 0, 'min': 0, 'max': 0}\n",
        "\n",
        "def insert_into_df(df, edges_with_сombining):\n",
        "  weights = list()\n",
        "  \n",
        "  for _, edge in df.iterrows():\n",
        "    edge_w = list()\n",
        "    tmp = edges_with_сombining[(min(edge.v1, edge.v2), max(edge.v1, edge.v2))]\n",
        "    for type1 in ['lin', 'exp', 'sqrt']:\n",
        "      for type2 in ['zeroth', 'first', 'second', 'third', 'fourth', 'sum', 'mean']:\n",
        "        for type3 in ['sum', 'abs_diff', 'min', 'max']:\n",
        "          edge_w.append(tmp[type1][type2][type3])\n",
        "\n",
        "    weights.append(edge_w)\n",
        "\n",
        "  edges_with_сombining = None\n",
        "  \n",
        "  df['features'] = weights\n",
        "  print(df.head(5))\n",
        "  return df\n"
      ],
      "metadata": {
        "id": "CbndH8QT7GBb"
      },
      "execution_count": 28,
      "outputs": []
    },
    {
      "cell_type": "code",
      "source": [
        "i = 0\n",
        "for df in tqdm([df1, df2, df3, df4, df5]):\n",
        "  print(\"Название датасета: \", list_of_name[i])\n",
        "  df_1 = [df1_1, df2_1, df3_1, df4_1, df5_1]\n",
        "  print(df.shape[0], df_1[i].shape[0])\n",
        "  l = 0.2\n",
        "  t_min = df.timestamp.min()\n",
        "  t_max = df.timestamp.max()\n",
        "  delta_t = t_max - t_min\n",
        "  print(t_max, t_min, delta_t)\n",
        "\n",
        "  df = df.sort_values(by=['timestamp'])\n",
        "  vertexes, number_of_vertexes, number_of_edges_directed, edges, number_of_edges_undirected, density = task_1(df)\n",
        "  print(df_1[i])\n",
        "  edges_with_params, nodes_with_params, edges_with_сombining, result_df = get_params(df, df_1[i])\n",
        "  \n",
        "  get_temporal_weighting(df, edges_with_params, l, t_min, delta_t)\n",
        "  fill_nodes(edges_with_params, nodes_with_params)\n",
        "  quantiles_plus(edges_with_params, nodes_with_params)\n",
        "  combining_node_activity(edges_with_сombining, nodes_with_params)\n",
        "  result_df = insert_into_df(result_df, edges_with_сombining)\n",
        "  print('------------------------------------------------------------------------------------------',result_df.shape[0])\n",
        "  result_df.to_csv('drive/MyDrive/uh/' + list_of_name[i] + '.cvc') \n",
        "\n",
        "  i +=1\n",
        "  print()"
      ],
      "metadata": {
        "colab": {
          "base_uri": "https://localhost:8080/"
        },
        "id": "McQEtcO_rn_f",
        "outputId": "19828f53-0b71-4328-8e24-d465d73f6957"
      },
      "execution_count": 47,
      "outputs": [
        {
          "output_type": "stream",
          "name": "stderr",
          "text": [
            "\r  0%|          | 0/5 [00:00<?, ?it/s]"
          ]
        },
        {
          "output_type": "stream",
          "name": "stdout",
          "text": [
            "Название датасета:  opsahl-ucsocial\n",
            "59835 714390\n",
            "1098744742 1082008561 16736181\n",
            "Число вершин:  1899\n",
            "Число направленных рёбер:  59835\n",
            "Число ненаправленных рёбер:  13838\n",
            "Плотность:  0.001053740779768177\n",
            "          v1    v2  result\n",
            "0          1     5       1\n",
            "1          1  1127       1\n",
            "2          1   400       1\n",
            "3          1     4       1\n",
            "4          1     9       1\n",
            "...      ...   ...     ...\n",
            "714385  1899  1852       1\n",
            "714386  1899   140       1\n",
            "714387  1899   755       1\n",
            "714388  1899  1624       1\n",
            "714389  1899   415       1\n",
            "\n",
            "[714390 rows x 3 columns]\n",
            "[   1    2    3 ... 1897 1898 1899]\n",
            "10000 10000 20000 10000\n"
          ]
        },
        {
          "output_type": "stream",
          "name": "stderr",
          "text": [
            "\n",
            "100%|██████████| 13838/13838 [00:00<00:00, 146469.61it/s]\n",
            "\n",
            "100%|██████████| 1899/1899 [00:00<00:00, 38183.05it/s]\n",
            "\n",
            "100%|██████████| 13838/13838 [00:00<00:00, 152972.38it/s]\n",
            "\n",
            "100%|██████████| 1899/1899 [00:00<00:00, 28529.31it/s]\n",
            "\n",
            "  0%|          | 0/1899 [00:00<?, ?it/s]\u001b[A\n",
            " 29%|██▊       | 542/1899 [00:00<00:00, 5412.82it/s]\u001b[A\n",
            "100%|██████████| 1899/1899 [00:00<00:00, 7108.11it/s]\n"
          ]
        },
        {
          "output_type": "stream",
          "name": "stdout",
          "text": [
            "   v1  v2  weight     timestamp  result  \\\n",
            "0   1   2     1.0  1.082009e+09       0   \n",
            "1   3   4     1.0  1.082123e+09       0   \n",
            "2   9  14     1.0  1.082409e+09       0   \n",
            "3   9  14     1.0  1.082410e+09       0   \n",
            "4   9  24     1.0  1.082418e+09       0   \n",
            "\n",
            "                                            features  \n",
            "0  [0.4, 0.0, 0.2, 0.2, 0.7026058095332501, 0.113...  \n",
            "1  [0.41098248160676565, 0.0, 0.20549124080338282...  \n",
            "2  [0.43825173735872003, 6.457865148568054e-05, 0...  \n",
            "3  [0.43825173735872003, 6.457865148568054e-05, 0...  \n",
            "4  [0.43867673276239066, 0.0004895740551563166, 0...  \n",
            "------------------------------------------------------------------------------------------ 20000\n"
          ]
        },
        {
          "output_type": "stream",
          "name": "stderr",
          "text": [
            "\r 20%|██        | 1/5 [00:16<01:04, 16.09s/it]"
          ]
        },
        {
          "output_type": "stream",
          "name": "stdout",
          "text": [
            "\n",
            "Название датасета:  radoslaw_email_email\n",
            "82927 16104\n",
            "1285884492 1262454010 23430482\n",
            "Число вершин:  167\n",
            "Число направленных рёбер:  82927\n",
            "Число ненаправленных рёбер:  3251\n",
            "Плотность:  0.012048192771084338\n",
            "        v1   v2\n",
            "0        1  165\n",
            "1        1   92\n",
            "2        1  160\n",
            "3        1   97\n",
            "4        1  161\n",
            "...    ...  ...\n",
            "16099  167  133\n",
            "16100  167  136\n",
            "16101  167  138\n",
            "16102  167  149\n",
            "16103  167  151\n",
            "\n",
            "[16104 rows x 2 columns]\n",
            "[  1   2   3   4   5   6   7   8   9  10  11  12  13  14  15  16  17  18\n",
            "  19  20  21  22  23  24  25  26  27  28  29  30  31  32  33  34  35  36\n",
            "  37  38  39  40  41  42  43  44  45  46  47  48  49  50  51  52  53  54\n",
            "  55  56  57  58  59  60  61  62  63  64  65  66  67  68  69  70  71  72\n",
            "  73  74  75  76  77  78  79  80  81  82  83  84  85  86  87  88  89  90\n",
            "  91  92  93  94  95  96  97  98  99 100 101 102 103 104 105 106 107 108\n",
            " 109 110 111 112 113 114 115 116 117 118 119 120 121 122 123 124 125 126\n",
            " 127 128 129 130 131 132 133 134 135 136 137 138 139 140 141 142 143 144\n",
            " 145 146 147 148 149 150 151 152 153 154 155 156 157 158 159 160 161 162\n",
            " 163 164 165 166 167]\n",
            "3251 3251 6502 3251\n"
          ]
        },
        {
          "output_type": "stream",
          "name": "stderr",
          "text": [
            "\n",
            "100%|██████████| 3251/3251 [00:00<00:00, 152758.50it/s]\n",
            "\n",
            "100%|██████████| 167/167 [00:00<00:00, 2701.30it/s]\n",
            "\n",
            "100%|██████████| 3251/3251 [00:00<00:00, 78877.79it/s]\n",
            "\n",
            "100%|██████████| 167/167 [00:00<00:00, 2081.75it/s]\n",
            "\n",
            "  0%|          | 0/167 [00:00<?, ?it/s]\u001b[A\n",
            " 26%|██▋       | 44/167 [00:00<00:00, 434.35it/s]\u001b[A\n",
            "100%|██████████| 167/167 [00:00<00:00, 706.98it/s]\n"
          ]
        },
        {
          "output_type": "stream",
          "name": "stdout",
          "text": [
            "   v1  v2  weight     timestamp  result  \\\n",
            "0   1   8     1.0  1.262454e+09       0   \n",
            "1  29  22     1.0  1.262589e+09       0   \n",
            "2  13   3     1.0  1.262590e+09       0   \n",
            "3  19  50     1.0  1.262590e+09       0   \n",
            "4  13   4     1.0  1.262591e+09       0   \n",
            "\n",
            "                                            features  \n",
            "0  [0.4, 0.0, 0.2, 0.2, 0.7765472686392026, 0.069...  \n",
            "1  [0.4090298782585864, 5.162505833214426e-05, 0....  \n",
            "2  [0.4, 0.0, 0.2, 0.2, 0.7498257014089595, 0.009...  \n",
            "3  [0.4090418967906849, 0.0001976229084830472, 0....  \n",
            "4  [0.4, 0.0, 0.2, 0.2, 0.8202586015942823, 0.061...  \n",
            "------------------------------------------------------------------------------------------ 6502\n"
          ]
        },
        {
          "output_type": "stream",
          "name": "stderr",
          "text": [
            "\r 40%|████      | 2/5 [00:26<00:38, 12.91s/it]"
          ]
        },
        {
          "output_type": "stream",
          "name": "stdout",
          "text": [
            "\n",
            "Название датасета:  soc-sign-bitcoinotc\n",
            "35592 2405778\n",
            "1453684323.75728 1289241911.72836 164442412.02892017\n",
            "Число вершин:  5881\n",
            "Число направленных рёбер:  35592\n",
            "Число ненаправленных рёбер:  21492\n",
            "Плотность:  0.0003401360544217687\n",
            "           v1    v2\n",
            "0           1     7\n",
            "1           1   135\n",
            "2           1    12\n",
            "3           1    13\n",
            "4           1   391\n",
            "...       ...   ...\n",
            "2405773  5881  2019\n",
            "2405774  5881  2030\n",
            "2405775  5881  2034\n",
            "2405776  5881  4088\n",
            "2405777  5881  4092\n",
            "\n",
            "[2405778 rows x 2 columns]\n",
            "[   1    2    3 ... 5879 5880 5881]\n",
            "10000 10000 20000 10000\n"
          ]
        },
        {
          "output_type": "stream",
          "name": "stderr",
          "text": [
            "\n",
            "  0%|          | 0/21492 [00:00<?, ?it/s]\u001b[A\n",
            "100%|██████████| 21492/21492 [00:00<00:00, 117208.02it/s]\n",
            "\n",
            "100%|██████████| 5881/5881 [00:00<00:00, 130317.90it/s]\n",
            "\n",
            "  0%|          | 0/21492 [00:00<?, ?it/s]\u001b[A\n",
            "100%|██████████| 21492/21492 [00:00<00:00, 119476.39it/s]\n",
            "\n",
            "100%|██████████| 5881/5881 [00:00<00:00, 101509.48it/s]\n",
            "\n",
            "  0%|          | 0/5881 [00:00<?, ?it/s]\u001b[A\n",
            " 19%|█▉        | 1103/5881 [00:00<00:00, 11027.88it/s]\u001b[A\n",
            " 38%|███▊      | 2206/5881 [00:00<00:00, 10731.63it/s]\u001b[A\n",
            " 56%|█████▋    | 3316/5881 [00:00<00:00, 10894.86it/s]\u001b[A\n",
            " 75%|███████▌  | 4417/5881 [00:00<00:00, 10937.85it/s]\u001b[A\n",
            "100%|██████████| 5881/5881 [00:00<00:00, 11185.60it/s]\n"
          ]
        },
        {
          "output_type": "stream",
          "name": "stdout",
          "text": [
            "   v1  v2  weight     timestamp  result  \\\n",
            "0   1   3     2.0  1.289242e+09       0   \n",
            "1   8   9     8.0  1.289254e+09       0   \n",
            "2  10   1     7.0  1.289556e+09       0   \n",
            "3  10  12     8.0  1.289556e+09       0   \n",
            "4  10   2     7.0  1.289556e+09       0   \n",
            "\n",
            "                                            features  \n",
            "0  [0.40000014500113346, 1.4500113343363097e-07, ...  \n",
            "1  [0.40012009280523403, 0.0, 0.20006004640261701...  \n",
            "2  [0.4000602718806042, 6.02718806042013e-05, 0.2...  \n",
            "3  [0.4006861205503379, 0.0005655767891294683, 0....  \n",
            "4  [0.4000602718806042, 6.02718806042013e-05, 0.2...  \n",
            "------------------------------------------------------------------------------------------ 20000\n"
          ]
        },
        {
          "output_type": "stream",
          "name": "stderr",
          "text": [
            "\r 60%|██████    | 3/5 [00:39<00:25, 13.00s/it]"
          ]
        },
        {
          "output_type": "stream",
          "name": "stdout",
          "text": [
            "\n",
            "Название датасета:  dnc-corecipient\n",
            "12085 262962\n",
            "792 1 791\n",
            "Число вершин:  906\n",
            "Число направленных рёбер:  12085\n",
            "Число ненаправленных рёбер:  10429\n",
            "Плотность:  0.0022099447513812156\n",
            "          v1    v2\n",
            "0          1    71\n",
            "1          1  1712\n",
            "2          1  1874\n",
            "3          3    11\n",
            "4          3    12\n",
            "...      ...   ...\n",
            "262957  2029  2012\n",
            "262958  2029  2015\n",
            "262959  2029  2017\n",
            "262960  2029  2022\n",
            "262961  2029  2027\n",
            "\n",
            "[262962 rows x 2 columns]\n",
            "[   1    3    4    7    9   11   12   14   15   16   21   22   23   24\n",
            "   25   26   27   28   30   31   34   35   37   38   39   42   44   45\n",
            "   46   47   49   51   52   54   55   56   57   60   61   64   66   71\n",
            "   74   75   76   80   84   89   90   91   92   93   96   97   98  104\n",
            "  105  108  109  111  117  119  120  121  122  123  125  132  136  140\n",
            "  141  142  146  148  149  150  151  153  154  155  158  165  166  168\n",
            "  171  174  177  178  182  184  186  187  188  189  191  195  196  197\n",
            "  199  203  204  205  207  210  211  212  217  218  219  221  222  225\n",
            "  227  229  233  239  242  243  245  246  247  248  253  254  255  257\n",
            "  261  264  265  266  272  278  279  280  282  283  290  291  292  293\n",
            "  294  295  297  301  302  306  307  311  312  313  314  316  317  319\n",
            "  321  323  325  326  327  328  329  333  337  338  339  343  344  345\n",
            "  348  350  352  358  359  362  364  366  368  369  372  375  378  380\n",
            "  382  383  384  385  386  387  388  390  392  400  402  403  404  410\n",
            "  411  412  413  414  416  418  419  420  423  424  425  429  430  434\n",
            "  436  440  441  442  443  448  449  450  451  453  455  457  459  462\n",
            "  463  465  466  470  476  477  479  480  486  487  488  492  502  504\n",
            "  508  509  511  513  514  516  518  519  521  524  525  526  529  530\n",
            "  535  536  537  539  542  547  552  553  556  558  559  562  565  569\n",
            "  572  574  576  578  579  580  581  584  585  586  587  589  592  594\n",
            "  597  599  600  602  603  605  611  612  614  615  616  617  620  623\n",
            "  626  627  628  630  631  633  634  636  639  641  644  650  652  653\n",
            "  654  656  658  659  662  664  665  666  667  668  669  671  672  674\n",
            "  683  686  687  690  691  692  695  697  698  701  702  704  711  713\n",
            "  717  718  722  723  724  725  728  730  731  732  733  734  735  737\n",
            "  738  742  749  750  751  752  756  757  758  767  768  770  771  780\n",
            "  783  791  794  795  796  798  799  804  806  808  813  816  817  819\n",
            "  820  824  825  827  828  829  831  832  833  834  841  845  849  852\n",
            "  853  855  860  863  864  866  867  868  869  873  874  881  882  884\n",
            "  886  890  891  892  895  896  897  898  899  903  904  905  906  909\n",
            "  916  918  924  928  930  931  933  938  939  943  945  950  955  958\n",
            "  961  963  964  965  966  967  973  978  980  983  984  985  988  990\n",
            "  991  992  993  998  999 1002 1004 1005 1009 1011 1014 1015 1018 1019\n",
            " 1020 1023 1024 1028 1030 1031 1034 1035 1036 1039 1042 1047 1052 1056\n",
            " 1058 1061 1062 1064 1067 1069 1070 1071 1072 1073 1075 1080 1081 1083\n",
            " 1084 1088 1089 1090 1091 1096 1100 1103 1110 1113 1114 1120 1124 1125\n",
            " 1126 1129 1131 1132 1134 1135 1137 1144 1149 1151 1153 1155 1158 1159\n",
            " 1160 1171 1172 1176 1179 1180 1186 1187 1189 1191 1192 1193 1194 1195\n",
            " 1198 1200 1203 1208 1212 1214 1218 1224 1225 1227 1228 1229 1231 1232\n",
            " 1234 1235 1238 1239 1241 1244 1247 1253 1255 1258 1260 1264 1269 1274\n",
            " 1276 1277 1278 1279 1280 1283 1285 1286 1287 1288 1289 1291 1293 1295\n",
            " 1296 1303 1305 1306 1309 1316 1320 1323 1324 1326 1329 1331 1332 1336\n",
            " 1338 1349 1354 1356 1358 1361 1363 1365 1366 1369 1370 1372 1373 1375\n",
            " 1377 1380 1382 1383 1387 1389 1390 1391 1393 1398 1399 1402 1405 1407\n",
            " 1409 1410 1413 1415 1419 1421 1424 1425 1426 1430 1431 1432 1434 1435\n",
            " 1437 1438 1439 1440 1444 1445 1448 1453 1455 1457 1467 1472 1473 1475\n",
            " 1479 1480 1486 1487 1488 1492 1493 1495 1496 1498 1499 1500 1501 1503\n",
            " 1505 1506 1507 1508 1509 1510 1512 1520 1522 1523 1524 1525 1526 1528\n",
            " 1530 1532 1533 1534 1536 1538 1539 1541 1547 1549 1550 1551 1554 1556\n",
            " 1557 1563 1564 1565 1568 1570 1576 1578 1580 1581 1586 1587 1593 1594\n",
            " 1597 1598 1601 1606 1608 1610 1611 1615 1619 1621 1625 1629 1633 1634\n",
            " 1638 1639 1643 1644 1645 1646 1649 1650 1652 1661 1662 1663 1667 1669\n",
            " 1670 1673 1674 1677 1679 1680 1684 1685 1688 1689 1690 1691 1694 1696\n",
            " 1697 1699 1701 1706 1712 1713 1715 1716 1717 1718 1719 1721 1726 1727\n",
            " 1730 1731 1732 1734 1738 1740 1742 1743 1746 1748 1750 1751 1754 1756\n",
            " 1762 1763 1765 1766 1767 1768 1769 1770 1773 1778 1780 1782 1783 1785\n",
            " 1788 1791 1792 1793 1794 1801 1803 1804 1805 1806 1807 1808 1811 1813\n",
            " 1815 1816 1817 1818 1822 1823 1824 1826 1829 1830 1831 1832 1833 1834\n",
            " 1835 1836 1838 1839 1844 1845 1849 1850 1852 1854 1855 1856 1857 1858\n",
            " 1859 1872 1874 1876 1878 1880 1881 1887 1892 1893 1894 1898 1899 1901\n",
            " 1903 1905 1906 1907 1911 1912 1913 1914 1915 1917 1918 1919 1923 1924\n",
            " 1925 1927 1930 1933 1936 1939 1940 1942 1943 1946 1950 1951 1952 1955\n",
            " 1956 1960 1962 1963 1965 1969 1973 1974 1975 1976 1978 1981 1985 1986\n",
            " 1987 1988 1990 1992 1993 1994 1995 1997 1998 2001 2003 2004 2006 2008\n",
            " 2011 2012 2015 2016 2017 2022 2023 2025 2027 2029]\n",
            "10000 10000 20000 10000\n"
          ]
        },
        {
          "output_type": "stream",
          "name": "stderr",
          "text": [
            "\n",
            "100%|██████████| 10429/10429 [00:00<00:00, 165729.19it/s]\n",
            "\n",
            "100%|██████████| 906/906 [00:00<00:00, 65040.21it/s]\n",
            "\n",
            "100%|██████████| 10429/10429 [00:00<00:00, 183423.96it/s]\n",
            "\n",
            "100%|██████████| 906/906 [00:00<00:00, 55638.29it/s]\n",
            "\n",
            "100%|██████████| 906/906 [00:00<00:00, 10670.16it/s]\n"
          ]
        },
        {
          "output_type": "stream",
          "name": "stdout",
          "text": [
            "    v1    v2  timestamp  result  \\\n",
            "0    1  1699        1.0       0   \n",
            "1  737  1278        1.0       0   \n",
            "2  737  1936        1.0       0   \n",
            "3  903   339        1.0       0   \n",
            "4  903   852        1.0       0   \n",
            "\n",
            "                                            features  \n",
            "0  [0.4, 0.0, 0.2, 0.2, 0.4, 0.0, 0.2, 0.2, 0.4, ...  \n",
            "1  [0.4, 0.0, 0.2, 0.2, 0.4, 0.0, 0.2, 0.2, 0.402...  \n",
            "2  [0.4, 0.0, 0.2, 0.2, 0.4, 0.0, 0.2, 0.2, 0.4, ...  \n",
            "3  [0.4, 0.0, 0.2, 0.2, 0.4, 0.0, 0.2, 0.2, 0.4, ...  \n",
            "4  [0.4, 0.0, 0.2, 0.2, 0.4, 0.0, 0.2, 0.2, 0.402...  \n",
            "------------------------------------------------------------------------------------------ 20000\n"
          ]
        },
        {
          "output_type": "stream",
          "name": "stderr",
          "text": [
            "\r 80%|████████  | 4/5 [00:50<00:12, 12.14s/it]"
          ]
        },
        {
          "output_type": "stream",
          "name": "stdout",
          "text": [
            "\n",
            "Название датасета:  email-Eu-core-temporal.txt\n",
            "332334 415202\n",
            "69459254 0 69459254\n",
            "Число вершин:  986\n",
            "Число направленных рёбер:  332334\n",
            "Число ненаправленных рёбер:  16064\n",
            "Плотность:  0.0020304568527918783\n",
            "          v1   v2\n",
            "0          0  141\n",
            "1          0  530\n",
            "2          0  795\n",
            "3          0  547\n",
            "4          0  421\n",
            "...      ...  ...\n",
            "415197  1004   33\n",
            "415198  1004  801\n",
            "415199  1004  733\n",
            "415200  1004  180\n",
            "415201  1004  215\n",
            "\n",
            "[415202 rows x 2 columns]\n",
            "[   0    1    2    3    4    5    6    7    8    9   10   11   12   13\n",
            "   14   15   16   17   18   19   20   21   22   23   24   25   26   27\n",
            "   28   29   30   31   32   33   34   35   36   37   38   39   40   41\n",
            "   42   43   44   45   46   47   48   49   50   51   52   53   54   55\n",
            "   56   57   58   59   60   61   62   63   64   65   66   67   68   69\n",
            "   70   71   72   73   74   75   76   77   78   79   80   81   82   83\n",
            "   84   85   86   87   88   89   90   91   92   93   94   95   96   97\n",
            "   98   99  100  101  102  103  104  105  106  107  108  109  110  111\n",
            "  112  113  114  115  116  117  118  119  120  121  122  123  124  125\n",
            "  126  127  128  129  130  131  132  133  134  135  136  137  138  139\n",
            "  141  142  143  144  145  146  147  148  149  150  151  152  153  154\n",
            "  155  157  158  159  160  161  162  163  164  165  166  167  168  169\n",
            "  170  171  172  173  174  175  176  177  178  179  180  181  182  183\n",
            "  184  185  186  187  188  189  190  191  192  193  194  195  196  197\n",
            "  198  199  200  201  202  203  204  205  206  207  208  209  210  211\n",
            "  212  213  214  215  216  217  218  219  220  221  222  223  224  225\n",
            "  226  227  228  229  230  231  232  233  235  236  237  238  239  240\n",
            "  241  242  243  244  245  246  247  248  249  250  251  252  253  254\n",
            "  255  256  257  259  260  262  263  264  265  266  267  268  269  270\n",
            "  271  272  273  274  275  276  277  278  279  280  281  282  283  284\n",
            "  285  286  287  288  289  290  291  292  293  294  295  296  297  299\n",
            "  300  301  302  303  304  305  306  307  308  309  310  311  312  313\n",
            "  314  315  316  317  318  319  320  321  322  323  324  325  326  327\n",
            "  328  329  330  331  332  333  334  335  336  337  338  339  340  341\n",
            "  343  344  345  346  347  348  349  350  351  352  353  355  356  357\n",
            "  358  359  360  361  362  364  365  366  367  368  369  370  371  372\n",
            "  373  374  375  376  377  378  379  380  381  382  383  384  385  386\n",
            "  387  388  389  390  391  392  393  394  395  396  397  398  399  400\n",
            "  401  402  403  404  405  406  407  408  409  410  411  412  413  414\n",
            "  415  416  418  419  420  421  422  423  424  425  426  427  428  429\n",
            "  430  431  432  433  434  435  436  437  438  439  440  441  442  443\n",
            "  444  445  446  447  448  449  450  451  452  453  454  455  456  457\n",
            "  458  459  460  461  462  464  465  466  467  468  469  470  471  472\n",
            "  473  474  475  476  477  478  479  480  481  482  483  484  485  486\n",
            "  487  488  489  490  491  492  493  495  496  497  498  499  500  501\n",
            "  502  503  504  505  506  507  508  509  510  511  512  513  514  515\n",
            "  516  517  518  519  520  521  522  523  524  525  526  527  528  530\n",
            "  531  532  533  534  535  536  537  538  539  540  541  542  543  544\n",
            "  545  546  547  548  549  550  551  552  553  554  556  557  558  559\n",
            "  560  561  562  563  564  565  566  567  568  569  570  571  572  573\n",
            "  574  575  576  577  578  579  580  581  582  583  584  585  586  587\n",
            "  588  589  590  591  592  593  594  595  596  597  598  599  600  601\n",
            "  602  603  604  605  606  607  609  610  611  612  613  614  615  616\n",
            "  617  618  619  621  622  623  624  625  626  627  628  629  630  631\n",
            "  632  633  634  635  636  637  638  639  640  641  642  643  644  645\n",
            "  646  647  648  649  650  651  652  653  654  655  656  657  658  659\n",
            "  660  661  662  663  664  665  666  667  668  669  670  671  672  673\n",
            "  674  675  676  677  678  679  680  681  682  683  684  685  686  687\n",
            "  688  689  690  691  692  693  694  695  696  697  698  699  700  701\n",
            "  702  703  704  705  706  707  708  709  710  711  712  713  714  715\n",
            "  716  717  718  719  720  721  722  723  724  725  726  727  728  729\n",
            "  730  731  732  733  734  735  736  737  738  739  740  741  742  743\n",
            "  744  745  746  747  748  749  750  751  752  753  754  756  757  758\n",
            "  759  760  761  762  763  764  765  767  768  769  770  771  772  773\n",
            "  774  775  776  777  778  779  780  781  782  783  784  785  786  787\n",
            "  788  789  790  791  792  793  794  795  796  797  798  799  800  801\n",
            "  802  803  804  805  806  807  808  809  810  811  812  813  814  815\n",
            "  816  817  818  819  820  821  822  823  824  825  826  827  828  829\n",
            "  830  831  832  833  834  835  836  837  838  839  840  841  842  843\n",
            "  844  845  846  847  848  849  850  851  852  853  854  855  856  857\n",
            "  858  859  860  861  862  863  864  865  866  867  868  869  870  871\n",
            "  872  873  874  875  876  877  878  879  880  881  882  883  884  885\n",
            "  886  887  888  889  890  891  892  893  894  895  896  897  898  899\n",
            "  900  901  902  903  904  905  906  907  908  909  910  911  912  913\n",
            "  914  915  916  917  918  919  920  921  922  923  924  925  926  927\n",
            "  928  929  930  931  932  933  934  935  936  937  938  939  940  941\n",
            "  942  943  944  945  946  947  948  949  950  951  952  953  954  955\n",
            "  956  957  958  960  961  962  963  964  965  966  967  968  969  970\n",
            "  971  972  973  974  975  976  977  978  979  980  981  982  983  984\n",
            "  985  986  987  988  989  990  991  992  993  994  995  996  997  998\n",
            "  999 1000 1001 1002 1003 1004]\n",
            "10000 10000 20000 10000\n"
          ]
        },
        {
          "output_type": "stream",
          "name": "stderr",
          "text": [
            "\n",
            "  0%|          | 0/16064 [00:00<?, ?it/s]\u001b[A\n",
            "100%|██████████| 16064/16064 [00:00<00:00, 105421.33it/s]\n",
            "\n",
            "  0%|          | 0/986 [00:00<?, ?it/s]\u001b[A\n",
            " 35%|███▌      | 349/986 [00:00<00:00, 3439.53it/s]\u001b[A\n",
            "100%|██████████| 986/986 [00:00<00:00, 3361.67it/s]\n",
            "\n",
            "  0%|          | 0/16064 [00:00<?, ?it/s]\u001b[A\n",
            "100%|██████████| 16064/16064 [00:00<00:00, 106208.34it/s]\n",
            "\n",
            "  0%|          | 0/986 [00:00<?, ?it/s]\u001b[A\n",
            " 24%|██▍       | 237/986 [00:00<00:00, 2362.85it/s]\u001b[A\n",
            " 53%|█████▎    | 518/986 [00:00<00:00, 2598.26it/s]\u001b[A\n",
            "100%|██████████| 986/986 [00:00<00:00, 2624.14it/s]\n",
            "\n",
            "  0%|          | 0/986 [00:00<?, ?it/s]\u001b[A\n",
            " 11%|█         | 105/986 [00:00<00:00, 1029.74it/s]\u001b[A\n",
            " 21%|██        | 208/986 [00:00<00:00, 885.49it/s] \u001b[A\n",
            " 32%|███▏      | 311/986 [00:00<00:00, 943.05it/s]\u001b[A\n",
            " 42%|████▏     | 414/986 [00:00<00:00, 975.22it/s]\u001b[A\n",
            " 53%|█████▎    | 518/986 [00:00<00:00, 995.96it/s]\u001b[A\n",
            " 63%|██████▎   | 619/986 [00:00<00:00, 571.49it/s]\u001b[A\n",
            " 71%|███████   | 696/986 [00:01<00:00, 512.85it/s]\u001b[A\n",
            " 77%|███████▋  | 763/986 [00:01<00:00, 543.95it/s]\u001b[A\n",
            " 91%|█████████ | 895/986 [00:01<00:00, 708.20it/s]\u001b[A\n",
            "100%|██████████| 986/986 [00:01<00:00, 711.94it/s]\n"
          ]
        },
        {
          "output_type": "stream",
          "name": "stdout",
          "text": [
            "    v1   v2  timestamp  result  \\\n",
            "0  569  862    24076.0       0   \n",
            "1  947  774    25608.0       0   \n",
            "2  569  862    33645.0       0   \n",
            "3  569  862    33901.0       0   \n",
            "4  692  769    33938.0       0   \n",
            "\n",
            "                                            features  \n",
            "0  [0.4005496402250448, 4.952543832398293e-06, 0....  \n",
            "1  [0.40058746383887167, 0.0, 0.20029373191943584...  \n",
            "2  [0.4005496402250448, 4.952543832398293e-06, 0....  \n",
            "3  [0.4005496402250448, 4.952543832398293e-06, 0....  \n",
            "4  [0.40070835197855714, 5.991426282811463e-05, 0...  \n",
            "------------------------------------------------------------------------------------------ 20000\n"
          ]
        },
        {
          "output_type": "stream",
          "name": "stderr",
          "text": [
            "100%|██████████| 5/5 [01:31<00:00, 18.39s/it]"
          ]
        },
        {
          "output_type": "stream",
          "name": "stdout",
          "text": [
            "\n"
          ]
        },
        {
          "output_type": "stream",
          "name": "stderr",
          "text": [
            "\n"
          ]
        }
      ]
    },
    {
      "cell_type": "code",
      "source": [],
      "metadata": {
        "id": "-S8XL_yPr9iu"
      },
      "execution_count": null,
      "outputs": []
    },
    {
      "cell_type": "code",
      "source": [],
      "metadata": {
        "id": "1sxAnM1zr9c3"
      },
      "execution_count": null,
      "outputs": []
    },
    {
      "cell_type": "markdown",
      "source": [
        "![image.png](data:image/png;base64,iVBORw0KGgoAAAANSUhEUgAAAacAAADvCAYAAABWkxstAAAAAXNSR0IArs4c6QAAAARnQU1BAACxjwv8YQUAAAAJcEhZcwAAEnQAABJ0Ad5mH3gAAFF7SURBVHhe7d0HQFNXGwbgl4QlggxFZakgDoaruKpWQK2KtWrVuurWqmjdW+tev4JaR8VRV9274h4VUAEXoiBLRYYFRARECARI7vkTSC1ggKCMKN/TpuWejJuT5N7vnq3CJEAIIYQoEZ7s/4QQQojSoOBECCFE6VBwIoQQonQoOBFCCFE6FJwIIYQoHQpOhBBClA4FJ0IIIUqHghMhhBClQ8GJEEKI0qHgRAghROlQcCKEEKJ0KDiRzxOXiOsLZ2LPS06WUFY4JF5fiJl7Xkr+IoSUFwpO5POT/hwnpzthyGVt2BmV5U84Hc9PTofTkMvQtjOig4WQckTHG/msiF+cxoLhgzDZzQ/ZIn9sdHaFR4rsztIkfoHTC4Zj0GQ3+GWL4L/RGa5lsiNCiDy0ZAb57IhDV6N98y2wOhGOvd9ryVLLgDgUq9s3xxarEwjf+z3KcE+EkAIoOJHPDIc4NydYzq+K7ZJS1DADWXIBqeF3cD9SgOJ+3DyDxmjfwgTqsu28uDg3OFnOR9XtklJUYTsihJQJCk7kM5OCowPMMfrNEoRen4o6ciumRfBb3Ab264IkfxVNw3EjQi84Q17TVcrRATAf/QZLQq9jqvwdEULKCB1x5PMi9MUN33RY23eCcaG/XlXYLfdDmlAIYTG3lEvyA5NkR/C94Yt0a3t0KnxH8on8sWXkaLgFFBcaCSGFoeBEPitZjz3hnWCGDo4NwUmCi1iWXuqyHsPTOwFmHRzRkJMEspLsSMUA9Vu0gIW+iiyBEFJSFJzIZ0SMlzdvI1y3HexNb2Lf6VBkyu4pbeKXN3E7XBft7E1xc99phJZkR/y66DF1MrqZ8WUJhJCSouBEPiMiPHsaCVGaD7ZtTYB9/+Zl1oNO9OwpIkVp8Nm2FQn2/dFcS4gXl9ZhrNNPWLZ7PaaN6IHWLX/C7kf+OLJyCgY6tESPFbeQIgmXkTfcMGdQD8y7JATSwnB21Qh0GbMexzdMQf+Odug89yLiaUQvIUWiDhHks8KlRSP0pRrqWRmVbdduLg3RoS+hVs8KRv/uSHgOoy2cIXC9i8ND9HF9gjUGP52MmxdnwurFSrRzCMLsyCPor3oP8+16IHJxNI78qIXUP/vAdGUNHLy5A99l/Y4uTS9gQNglTKhF14aEFIaODkVwQiRGPMbNs/ux9dAdWWLZEsUGITSh4OU1h+QnvghMKqfL7nz59kJ4YBjSZHdVFJ52HViXdWCS4mmjjnWewCSlogXNKtVgVs8QfGjAzLQmVGvXhaUmwDcxhmFmAuJTJN8NXwc6Vf9rb+JrakCten00NOSDV8MYtdXf4k0iXRMSUhQKTgrg3kXA/+ZOzBg0Fht8M2SpZUWMmAtL4Lw5BOq6/349HFKCTmH54JZo2MoZx6PKJzjlz7cI1RLdMWfOYYSVVUPPZydvhwcVyT8cuOK+GjriCFEIHSoK4OlZwbG1CficHto5tpKlFkOcBWGmqISThXKI/WsShu4zwazl/WEhGxnKxT6Ad1wNmPKTkFxm3dM+lD/fbWDoMBPLOt3DDOejiCrH96G8JKUfyb8ffscM0try9xXmuQ/LxeXeRwgpGgUnhXB47eWFJ+qt4fCNYhVK6UcGwdB6Bm5lyRIUIA7fhXGzX2Kgyxg0yjNlAc+4NXp06QD7Zqbl/IUVzDcPht2XYiJ/HZy3Py+7btxKKR1RPh4ITEhA0C0/xMT442//WLwL8cS10FiEXvXGc2EkfC/fx6PbF3AnOg0hnpcQHPcCHrdCIYjxw43AWLz4+waevIvFQ68g2esSQuQpvkMEl4VMkTo08s7vwnHgeLz3J0pRZiZUNDTw5XacTcGxgeYY8c88PLk5B5YKZDT9YF/UWmKK8yGbYS9vbpwPJOPsqGaYhK0I3dsL2rLU/4gR7mIPq4VpmHv3AVa0UJWllyX5+Rbdm4+v+v+DpY8OoC/N6kNIpSKKC8Zz1cZobPhvBMhEYtRLJGb+W4cgRnLYK1RzcoR5VCCiajVBow9PaMUq/EI8MwKef8xA5zoGaDLnJv4rALzF9dnj8XtE7nUzF78bP9Ssja6bn+ZsKw2xAEnxr/DqVfG3+LdC2ZMKkXkPHr4CWHZ0QL0yisBcwjns+ysZdvbfyAlMFaSQfKs264g2nDt2nYiVpRBCvnxixFxaCuffgqD2vj1ckhryG3pZNUSjRo1kN1v0OZaI2pLrZ/VqiXCfMweHP6KhuvDgpGEOh7ELMbwlH9GBAXgjC4ppN1dg2nZvvIzPDU68Wv0wc1RdZLxTrqlaxKEb0M3MCEZGxd/qDj0sCbmFEwV4wDu+Jto7NENZlVey7njCV1ADpnXKvB+awgrNt2o9mJtkwOfKDVkCIeTLxiHOfTKG7THCrBU/ov772iABPLZdgenSgzhy5EjO7ejR0/hrXR/oS+7lGTpg5rJOuDdjIo5Fl6whoJhqPRH8F7fE10c74fqTDegguotNK9fj6G+eaHQ0Gvt6aeY8JsB1Hm71WYtJitR3lZfMRES8iEeGAm3PPB1jNDTTKyRSixHuag+b1cbYF3Ecg3RlyXkJInHvXjhS87SMZ3ouR/+9hliz2xm2ec7sPEMb2DetXWBfHKI3dUaD2QmY6f0Iq1vJC4ElqdZLRfid+4gUFJd5Hgwat0cLE3n1jkXkm4vBli4WmJkwE1mBq2WJ+YmeHsas+WdRdYQrVvQyK/QqKDg4GAEBAbItUpTWrVvDwsJCtkVI+RG/2IUfup9Bj6vnMCFPNQoX8wf6D/sHiy8vRfMimi/eXvgZnba1wAn3iaivYJgots0pcacTTObo4s/Y/Wiwaynud2qPe90HIHbpP7j4s4HkzZ3E6pMmmDHBCPePHMUZj2w4uS1CNy1JYNsyFltUZ2Cnc9MyK3GUOe41dveqjylZa/Hs8kS5k42Kg9egY5tl8MuWJUhxImSJVaCmxs/X4Viz5x+IOTkUVWXbucQIW9MeTZZkY4HfXSxt8onBSeSHxW3ssS6o2Dm54bgxFBec5azyWmS+k7H7OyOMDx4LUcRWWVpeYkRs6ASrWbeg/sNBxJwaAh3ZPQVt3boVrq6usi1SlHXr1mHAgAGyLULKy1ucG9MMzuLNCN3XO0+zg3T2/1b4euVjqOhZoEXH7vhx3HQ496j/4ThE0T3M/+pHxC5/hP19pGWq4hUbnISSE4vRTwlYdrknwu+1w9oZPKyy+waXf3yAO/M1cWz5X6gzawY6SM4+WX6/opVDAKbHumOkjhhRF7fCnd8XE7uZlXtnCS7pHo4d8oGs9rFIqubf4ufeNpJTtRxppzHMYjDCpvrDd6G1wvkoWYcIDvHbnVB3chQmewXApV0hJZny7BBRVL65WEnJyRwzXs9A9pM1ssQC0oJw9oA3NLqOQPf6cj9ZQsjnIPEA+lpOhHhjNM6OzBNYuETc/uM3nPEPxxNfT9wMiEOmih7sZh7Fxf91w/v+Ejkycenn+hgctxSh7mNRu7CqlDyKfYiKgQH0uRDsWBWFrj+3gibPCLVqSN5vfBTuu+1A4vcTcgKTlGp1A+i+LybwUbfHVEyugMAkxZIf4/z+/divwO3P68+Qt9CTV+YDT/ik1ENHR0uoJCcgsUya1njQt7FGHZU0vE1RoB6yHBSZb5aCVAGDpmVjWYIc2jbo7TyOAhMhnzmhJPDIbQ/nVUeHcSuw3u0wrjx6gbCr/0MfCyH81o/AhEMxkkvuvFRRz9wEGd5X4CGQJRWj2ODE19FFVQhQt/8UdM9p4dJDLUMNxF9dj+N64+DcUn4DfmbkDbjNGYQe8y5BiDSEnV2FEV3GYP3xDZjSvyPsOs/FRdnsl2/9DmH9OhcsdR6AgQvcES09EWaG4MiShVi/dxeWjB0Nl9vJkkD9GMdWj0XPiZtwaF5XfNVlVc7z5eHX/xmHHvjD37/4270tfQrpISfCUy8f/KPbFh0aheDQAR+kldEqCOp23eFYOxHPwl4V+FL/xZCeLu1VKIa4zPueFJNvUSQiYjTQpoujLIEQ8mXikBD+AkmSKKCrU1QxQxN1uszF8Uvr0U0vAZeOXkay7J5cKqimUxUQPENIuGInsOJLTjo6MPxqCpaPrCcrAamiVm1TNOwxFwuH1C+0LUmjXgfY8YNwLypNkj1tNOpkhpT7txBSZQg2Hj+IEWwHNp1JAPf2Eha5/oMeM2dj6fox0Ds0BtOPJkB4dwdWXFZH12E/Y1bHJKxbfx6C6k3QRvMpbniGQn/ibuxY0ku2t7LCQZCeDiZ8gD1LPGA26HvULatioJYjxo20QuDVKx/MWM0lB+L8jkWYvScAItEznHJxwZ+XyrITQdH5znp4Az4qvTB+oKkshRDyZZJeFGdI/qsBdWn/t2KoWo7A+J41IH4dV6BJhQctrSpQYQK8eyf/8rug4ktO5sOx9/RCtHxfO6OOr6b9hYsu36J6kc/mQ0cSKf+r5dOEhlp11G9oCD6vBoxrq+Ptm0RkeB6Fe/gzuG90heu2AFiMn45uJiKod3SFv9dk8D1O4MyjBGSnpULA8XKir5ppU9iZmqHVN01kL15W1NF22d945H0ef26aBoeaxX5c7/ENG6OtnQXyDAcohjrspq/GgKhd2OaXf9wVT78Jeo5fg8tRWeA4IcKOz8dwp6aye8tCEfnm4nFm61VYLl6BvvkrlQkhXxwV6OlXA08SVAR5uyMXSgOmprWgVk0PevlqmThkSIOcSlVJXFDsvFH8o9SNUdc4fwO9dr36MPqk9vj/ditOe4d32s0wdMYszJo1G3MXLMDo9tXBJdzEmtHz4WvshH6tjSuk3SqHphGsm5hDr4RvQKPbalw7Pg3NS/I56XeHy+4+eLBwFW6nyNIqitx8ixB+cB4OGq3FrjEWFfedEELKibQ93AZmCreHpyA09DWs7O2R/1qeISVVAFbFAo0sFDspluqlb8GOf9Lt/9Ik/39/N5d7n+QvjeYt0cj/D6y9Fi9JlTZnnMCanfcQuHM+Ngk7YqCNNoRpAohF2TmdFnJe4v3rfHm02y7EkRWGODx/K+4WNTK43GXi6ckV2JY4CnvWdS/wwyOEfKmk7eGd5LSHCwMP4NeZy/Dn/SRZOockz9XYEjkQK39pUqDJR4TIiBhotv0WjoWNKymg9E4xWTG4e+YWXmQ+w+2zj5Ee5YMLd6KRFuKJS8FxiPS4hVBBDPxuBCL2xd+48eQdYh96IcxkAlxm1sSZ/lao36Q1vl0YjS7D2sG0sRWq/T0f3QZOx67Xeqj1+A/M3XoCp2+GQ/jsBo57R0LBTh+fHb02U7Bt7YD3s5IrBz5qOE6Hy/SOBbqIlh4u8ToWztyDl4pVSSulLyEPhORTSHt4RpQvTrgtw8gOTeEwer7kd++MOaeMsebcBnQrOOdm1kPc8OGh97iBMFHw/KE0K+Fy6Yl4nVEVNatryiImh/TE1xBq14aBBoe0pBSoGejLH4tEPnvpz09i/pCJuO10DXeXld00UWXpS8gDIXIlX4Jzh8Wose8WVrT6r2eEKOk5/J+8hFDLCBaWFjDRk3dFzSH+2DB0O+KIM6fGwlzB9gD+UgnZ3xVKRU0L2lqqeWZTUIGaljaq5BzhKlCvUoUO9i+SGC9O/4qJU1fj0MMsVNdJxqMYXdi3M4cCnYOUxJeQB0KKUKUBHOwSsGmRB+r16oQ6sh82r4oBTOqao65xDVTTlB91ROEHMNUlA9N2zUErHcXH4ihNyYlUZmKErm6P5luscCJ8L75XnrlvS+BLyAMhRXt7dzMW7OdhxOpf0EZPlliEzKcnsXrHS3SeNxUdS9geQMGJVDwuDm5OlphfdbukBDIM5b5EVGo47tyPRPHz5BqgcfsWkDtPbkXngZDykvoaCfyaMFTgAkyUlIg0verQ+4h2agpOpOKlHMUA89F4syQU16fWKd0upAoQ+S1GG/t1KH6eXEdsDL0AZyM57/Cj8/CFTJBMSCkr7/MAIR8Q+t6Ab7o17DsZV8gPUtVuOfzShBAKi7mlXJIfmCQ+Pg8qMKjfAi0s9PO0txJCKDiRCpaFx57eSDDrAMeGnCQIlGxBMuXwKXmo2AmSCVFWFJxIxRK/xM3b4dBtZw/Tm/twOjQTwheXsG6sE35athvrp41Aj9Yt8dPuR/A/shJTBjqgZY8VuJUzg0YmQo4swcL1e7FryViMdrmNZIjxyncrxn3bAX2XXEdkyC6MH7QARwOS8w0gLFWfkIeSTJBMSKUibXMipMIIL7GxJnymZdmFTT8UyjJzEjOY+ygjZjLgEPtHxJjg8nhWV9+RuQZmMCYKYitaG7JBJwSMZXqxqVat2dKAbMbe7We9a/Rhf76TPj+bhW3txkxaL2LHNs9ka33Scl61zHxKHiSPvjvPllUfdJxJt3LyUa0BG+Mex0TiKLbJUZd1dXvFxNL7CKlEqOREKpZGV2z0CcCDm2exYUgj5HaEU4GWZhVUM6sHQ77kIWamqKlaG3UtNQG+CYwNM5EQnwJOvSNc/b0wme+BE2ceISE7DakCaSlDFQ0nbMLcam6Yeu9rjP86/7rDpe5T8gDFJkimXkuksqHgRCoYD9p1rGFlVHS/1LydBVQkGxwnCUJcAm6uGY35vsZw6tcaxvkabVRRzcoa1a5twa5iu+F9qk/IQ5Ho8CSVF/36yWchZ5rgAudycehOzN8kRMeBNtAWpkEgFiE7Z0ljEcL2uCFuwAnsG/0OrpM3I7jMF2gsnrw8SDHpJMjvR3RI/v++mPTfBMmEVDYUnIjSkU4a7BGYgISgW/CLiYH/3/6IfRcCz2uhiA29Cu/nQkT6XkYQvyGsqv2N+d0GYvqu19Cr9Rh/zNuBi6dmY4J7bfRuVRMthg1Co7tLMXzqcYSkyXZQDhTNw/1HtxWaIDkoubhSFiFfFhqESz5rORMGC7VR20ADXFoSUtQMoE+zAxPy2aPgRAghROlQtR4hhBClQ8GJEEKI0qHgRAghROlQcCKEEKJ0KDgRQghROhScCCGEKB0KToQQQpQOBSdCCCFKh4ITIYQQpUPBiRBCiNKh4EQIIUTpUHAihBCidCg4EUIIUToUnAghhCgdCk6EEEKUDgUnQgghSoeCEyGEEKVDwYkQQojSoeBECCFE6VBwIoQQonQoOBFCCFE6FJwIIYQoHQpOhBBClA4FJ0IIIUqHghMhhBClQ8GJEEKI0qHgRAghROlQcCKEEKJ0KDgRQghROhScCCGEKB0KToQQQpQOBSdCCCFKh4ITIUolC5lZsj8rLfoMCAUnQpQH9wrXVi3B4XCxLKGSEoXgj19/w71U2TaplCg4EaIUUuGzYhKO1ZuA4VZ8WVolpdoMw7+Lw6Jxe1HZ43RlRsGJkArHIe70NMx9/iOWD66LSh6acujYL8Ji830Yt+YB0mVppHKh4ERIBeMSz+HXRRH44dcfYUxHpIw22i9YAuvjv2Ddg0xZGqlM6FAgpEIJcGvlfHi1m4WfG1GZKR9te8x01sPu2b8jhKr3Kh0KToRUIO7lYbgcUEG/MV2gI0srOxySb6/B8mOvJX8piEvG7TXLcey1ws8oRXzUGzwejs9+w7oLb2VppLKg4ERIhRHBf+dWeNT9ET+1VJellREuDl6bR6FTr23wffQ3HipwrufivLB5VCf02uaLR38/RIWEBz0njPpBHac37MFTKj1VKhScCKkoWXdw6HgY6n3rhMaqsrSywjNChy4NUKXOT1i6bDBa6snSi8Az6oAuDaqgzk9LsWxwSyjwlDKgia97dYHunYM49EQkSyOVAQUnQipIpu9xuEfUhv23zVFUuUmcGALPMwew7/B53IsWylJLisMrj1t408YBzSQ7Ez/dj1/69kbv3h/e+gz4H25K+yBwr+Bx6w3aODQr8v1JpUeHIjJNtlHKNNt1h6PeE5w+5i8pa5YvLvkJfAOTFK8GJaVGhUnI/iaElBsR7s1vjg5bLLAj2h2jDGTJ+XCIOzcbA+dcRIa+DlKfB+BZRj0M234Ju38yL2GX82Qc+vEruPd7hGODdCXRJBbBYXHIkHPW5fH1Ua+pBfRTDuHHr9zR79ExSJ9SOBFCD6yGd7MFGNO0DIqAXBzcultgauI8+N1dgiZlXcqU4FKCcGbTSqza8he4CT54sKIFymG3JA8qORFSEbgY+Pg+Byybo0U1WVoB3MtDWHOuAbbcC8F9n3sIfXYdsywjcWilG+6VdHofoQ88HjZCxyYJeJEkiUhaxrBuYQc7uw9vLZpLApPkzCD08cDDRh3RJOEFpE/hUuMRn5KEF4FPkSDZv/BVCJ5ESYtLqmg8wBnf15GeTsR4G/8aKYnhePLibemUOHjV8VULcyDEG7cTyqEMw8XigXccapjykZRMDV0VhYITIRUh4x7uPs6GukVDWBZySf4u2hAD105As3+78em2Rk8HM6gIBcgoYX2HOPwhAtKFeO73Btp6ihz2YoQ/DEC68Dn83mhDTxiGbYM7YcKWS/A6OgXfj3TFaa8b2DB0HI7EvsDB0Q6YekWItKD16N9lMnacu4jNI37CllKZ4kEdja0bQDXTH753y2HSPZ4xWvfogg72zWBKZ8gKQx89qeTESA65jsM7tmLb3rN48Ep28uOSEOx1BZcvX865XfEKRsKrANy4It2+ghsB8e9LBZmx93HZJwpi4SsEXDuCPX+6497Louc1EEc/wwuBCmqZmkJNllaQXvvuaK8v25DikvH8RTqaDh+OdhqyNAXxbWbj8pPzWD+8LWoqdNTzYTP7Mp6cX4/hbWuCp1UP1hY1YNK2P4aP7oyqwur4buAodK8bi9AEE7SwqpVzMtGu3xj1DC3hIAlaQ+wyEB5ZOq1EmqYmqKmSghfPYiTfGKkMKDiRyotLwI0lP2KUWwhUa9aA4Pp8ONo6YJFnMjieLkxMMnDl1x/Ro6czTqUZQd9AH89/d8aK629RvZYekHQXu39xQH3zrzHCxQ0LfvgOY5e6YukvffF1UwfMuviq0Gqt7BfhiBbzUFsSnBRryxAgeN8M7NVajeOL2kBTlqo4TRhU1y7ZAa9pgOraHz5Dhc9//zoqKgxMbiZVJPcBpdWgrWpqhto8DlHPn5d7pwhSMSg4kUor+dwcON/uiA0bJ2PAD4Mw+/el6KlyFy5zfkeQiA9dyz5wObAcDjr/4PIJT8Q+/APn9JbjyLqBaFZLAzyDNhiz5me0VmdIjVVDnyP3cc/bDyE318Ce54ffflkBj0IKUJnx8UjmVKBdrZrkNF4UDol3dmFqt6ZoPfYwbh2fjN4TTyKqvIsP6f8gNPIfvHweheiQ53gVHYyAqOd4+vIVIgP98eR5LF4GhyA9+jmi/onA86gIBD+LkASTWJTG5EMqurrQVpF8FgkJFJwqCeqtRyqpJOzvY4Hpkfbo/VX13ADBUvHslidChJ2wMeAYhuX0oBMhaP23aD8/BHotnPC/M7sxKO8EeMKTGGI0CJ59z+LF7u9kJZp0XHO2htMfGpjqGYj17Qt2xOYQs6ULLKb6ovveBJwdoS1LL4I4BeE3j2Dt7PnY7V8FQ0+FSN5/kV3oviype/G94WhctXfDyysTUFOWXFBq+B3cjxQUW2LjGTRG+xYmRXfhD3eBvdVCpM29S731KgAFJ1I5Zd3BnOYOONvjBgJd2xU9jicrAMvat8Kq5BH469529DAoLjgBCTu7w8z5IQaejsb+3gUr4cQI+18HNFkQJCltvcLxgVqy9OJxUdvg1HQaIsfcQNiGDrJUYNKkSbhz545s6/Nz8eJF1KpVS7YlR/oR9K/1E9xbuCDMYybM5fajF8FvcRvYrwsqtnSl4bgRoRecYVRE3REFp4pFwYlUTlm+mN3UHjusdyP69LAiZz/IClyPodNOwO/WQ6iOPYc727rhfT+FQoJT2sG+qD0qGM5eAXBp92HJKXKDAxrOeoCefybg9NCqsnQFiAKxrG1rHLa/jrD17WWJgLu7O16+fCnb+vyMGDEC2tpFlCAFB/CD4QhcbLsJEdcnl8vs7RScKpg0OBFS6Yjj2R/faTOe3rds63ORLFFKzN5cXcs23kjL3RT6s9V9hrF9kW/YJecGTE2tEZt8/W3ufVIZJ9hgPT4zGn2eZciSGMtmAUvtmIbpWHZR9jIFvd7ejWlAgzntSpSlKCjTm820MmZDT+V5D5XB6+2smwaYRs89rLxyLnq+jrVXU2PNfn0o+UZJeaMOEaRy4tVAr5G9YZR6HbN7/ARX97sIfR6I6zsmYegfVdG9o7Q0I8DdNfPg130phtatjq4rN2JknRfYMXkRrktHpeaRkfQG7/5NSvHG7uPR+Gb2THxbSKGoql41qKswZAgEhfboS33yF3bs80TU+x4FHF6d3Q6PuvMwr2clam+S4NLTkSE5XVXV1UUJe9F/NCbZp3SyKLGYumBUBApOpJLiwbDvJhxa1gNGMScwp3dbWDf+BlOvmWPeVmc0ZpG4tmYoBm9KR2NrzdwOE2JDNGioD1HoNgztNxuHH6fkvJKU+PlhTBwwErMWzcXogUvx8qfjOPRL40KrglTrmcOUz+F1XFwh7SMiRJ53wezRndG0aU9MWroGa5bOwZrHXbH3+GTYFDfZ3RdGFPcKCRwfZhbmZV+9xiUj8PwOLJq9BwEiEZ6dcoHLn5cQUB6zU5D3qM2JVHri1Bg8jXiLKmaWqKdfwuvyPG1OT12tERmnjnqNTSBneFB+ibvgZDoBd/ueQOyhvoWMW8rE6xB/hLxWQa1GtmhQu2qlXcJdeGoIjAacxTe7Y+A+smLmRyfli0pOpNLj65jAqqlNyQNTAar65rC1ViAwSek0Q/P6PKRFvUBsoWOWNFDTqi3s7dugcSUOTJLLB8RGvISA3wDNminQ7Z6ULVEcgkMT5FZHc4KXuH/hIHbtOon7rzkIwwMR9pGz1VNwIuRTcGKIxAxZWSWc8029KTq0MQSTlIz8P3YVjIIqZNXaj1hdt8Qy8fhxKFjNVmhnRX3mKpI45hKWOv+GIDXdfMFDHO8Nt4mdYfftfFwVNkGfUf3RqiYP6tUS4T5nDg6HlXwoNgUnQj4SF3sLu37dAe9MHlI9tmD+xqO4G6/oKVoTX3dqB53Ux/AL/vQG9wpZtfYjVtf9KKIw+AemQLuNA9rIr/8k5YCLc8fkYXtgNGsFfqz/X6NnetBuDP2mB1zfDMHBawexsF8zGMquIXiGDpi5rBPuzZiIY9ElnNYkp88eIaT8JR1jA2tosLarQ1jezuwfR8SCVnzNms29wzJlKeVBFLSCfd1sLrtThjsVR2xg9pr6rN/BN7IUUu5E4Wzn9w2Yk1tEvt+qOP4cG9dQg2nZLWJ3BLJEOZLPj2UtevzO8o3aKAaVnAipKPpOGNKzBgKuXEJJLyo/UIJVaxUifor9v/SVu1Ju7z4D8L/cpXLzra5bpPRohH7UUrkcXl+9hofaXfFjj+qyNFLe3l5chZUP22H80Hp52j4FuLlqJvaE18CgJTPRpoiJTvS6/YxuL9di+blkWUrxqLceIRVI5L8EbeyvoN8dbyyw/oQuD8mKrlqrqHTEBochTv5SudCv1xQW+in5V9ctgij0AFZ7N8OCMU1L1hWce4ntPZpiY+Oz8P+tIxSf6ImUnkQc6GuJieKNiD478r/ZUVIkvzWLITjB74F5M4zx6Nw9RAu0UO/r/pixaAocjfP+njNx6ef6GBy3FKHuY1FbgWIRlZwIqUCqzZwxo1s0Du29+0mzdyu+aq2EKAnP/f0RniRt6xIh+eVzPH0ejVevovA8/BVyH6UFY+sWclfKtWvRXBKYJKeOAqvrFrVP1cYD4Px9HckJp2Qr5YqfHcbBBy0wcXJ7CkwVRegLT18BapjWyfcdZN73hE8KA09LDTXbzcfhazdwakUnpJ6ajR5dZ8Pjv2GAEqqoZ26CDO8r8BDIkopBwYmQisSrjUEr58H4tCuOxH5sf7cSrFr75hUO/TwLHlWF+HPsTFwTqkIt+Rym/eSC254HcTRMXOjihwXlW11X/Vnh+0wS4sXB0XCYegVvSrRSbho8Nu9H+tiV+Ll+5e1IX9G4hHDJxQdQVVcn33CGrJhYvOHU0G7qBkzuWA+6Wvpo+P1S7JzdFgjZjY2n8/bgVEE1naqA4BlCwhXrAETBSalxECZG4PHNs9i/9RDu5LsSKSOiWATJGcPAJT+Bb2BSsVe6pSN/vr0effxYic8Bv9EErJ/wFr+vugbFa+TzKsGqtTH66L5oIqyiX0GY9AIvUgHtplOweXgkllxuiEk9TBSeHijf6rraRezzpSrqtrBCLcnZpiQr5YpCd+B/d7tg3fx2VGqqQNJpnDIYoKGev6ukinQ1SUnQqapdLU8g4cPC/hvU5wkQ5B+SZ/YTHrS0qkCFCfDu/TxfRaPgpMy4d4jwv4mdMwZh7AZfZJRxN1pxzAUscd6MEPX/xjBwKUE4tXwwWjZsBefjUeUTnArkW1Tj48dKfB7U0XTGH5j0ZjUWXkj8uM9Y0VVrs8JwdMVhJDTriAb6KmA5y9im4pVmK3z9che2Py7JZyx/dd1SWSlX/BQ7f/WA/e9r0KVyTSOodFT09FGNxyAQpOb7barXrw8zvnQByPh8S+er1KgOfcmXmxO73uOQkZ4BplIVOjof/k7lUexRpGLw9GDl2Bomkh+AXjtHtFLoklaMLGEmRCU8w3Gxf2HS0H0wmbUc/S1kXa+4WDzwjkMNUz6Skj+1O1kJFMh3G9N/x0o442i5LwFbTvgWGO62DDUOrsT5Tx1EW9SqtU+fIvzxLZzaeRRPU6Nw7dxDhB5Yjou6E+AyrQ4OTPgVV2I/YtxVUft8FoGXT54j9mUw/AOeKrBSbgq8163Bs4FbsaBNCZYTIWWCp28DGzMVpL1NyXcxod6iKxyMGJ755R9Xx5KSJdtV0Lhp3rklGVJSBWBVLNDIQsEuMTkdyonSEse6sa5a2qzHrngmlqUVSXCA/aBtwSZ7lmDgieg52/6dJetRYAzDvypi6QB5+c4ZK+G0lT379EFBSksc/5A9eFG2GRRnvGOp0p9HpoAJlHEtCMnv0fdObCmM/SKlQ8AujzNjmvYbWWS+k1A2C1z7DdPV68x+C/33hyRiwavbMi3zMexcvtVghOziWBOm03Ub+0ehE5ki45y4LGQWnJmF4/IV70SZmfmKdaT0pN70wH1xU9g7VC+zYm7y+ZVY9ahDgTEMFUtevnPGSvyzFsvOJslSvjy8mi1gJ3+Z11LD09SBtrRwrK4FLWWcDYhfH23bGCnNb5FowXHcSFgFXsWVfDOgqMJ2xp/YN1qMrYMGYpHbQex3GYdJ5y3heuI39DSQPUwq6yFu+PDQe9xAmCh4Iiv8YZkR8PxjBjrXMUCTOTfxX3x6i+uzx+P3iNxwxMXvxg81a6Pr5qc520QMQVI8Xr16Vfwt/m3OejGFy8Q9D18ILDvCoV4ZHapcAs7t+wvJdvb4Rmnm1Cwk36rN0LENB/ddJ/DRHdsIISWmbjcdqwZEYdc2v/znLNV66LPeA0FX16CXrSksuy3HOe8DcLbLezLhEH9mK641WIzlffJGrKIVHpw0zOEwdiGGt+QjOjAAb2Qng7SbKzBtuzdexucGJ16tfpg5qi4y3n1EPfWXSByKDd3MYGRkVPyt7lAcLmo+MlEAPLzjUbO9A5qV1RVu1h25YxgqVKH5lo2V8LmCG+9kSYSQcqAPJ5fd6PNgIVbd/rDbsLphQ7T6xgHtm5qgYCuhKPwg5h0yxv92jkZJKgWKmSFCBP/FLfH10U64/mQDOojuYtPK9Tj6mycaHY3Gvl7S7mMiBLjOw60+azHJkgri0qv+xIgXiJf2vSwOTwfGDc2gV8glgjjcFfY2q2G8LwLH5Y7AFyDy3j2Ep+YpRmR6Ynn/vTBcsxvOtnnO7DxD2Ng3/WBkNhe9CZ0bzEbCTG88Wt1K7uh9cbgL7K0WIm3uXTxY0ULuY/6VGn4H9yMFhffCkuEZNEb7FiZyp9opPN8cYrZ0gcXMBMz09sfqVnLeiegpDs+aj7NVR8B1RS+YFfLZpqWlYfLkybItQhQ3duxYtG/fXrZVyby9i80L9oM3YjV+aVP8ulqZT09i9Y6X6DxvKjoaFl4WkqfY6YsSdzrBZI4u/ozdjwa7luJ+p/a4130AYpf+g4s/G4CLkez8pAlmTP36sx6LIPLfgrFbVDFjpzOayjv7ZkbC68hRnPHIhpPbInQr88xyeL27F+pPycLaZ5cx0VjOFysOxpqObbDML1uWIMVBlCWGipoa+Hm7cmr2xB+S72pogcsacdgatG+yBNkL/HB3aZNPDE4i+C1uA/t1QXnGN8in4bgRoRecYfRBtorOd/Lu72A0Phhjr4Zia6cPuy+KIzagk9Us3FL/AQdjTmGIjuyOAgQCAWbMmCHbIkRxo0aNQtu2bWVblVEqXifwUdOw+JOgKCkRaXrVC70AL0qxwSlnBcqfErDsck+E32uHtTN4WGX3DS7/+AB35mvi2PK/UGfWDHQo5CSgzEQxUXhduy6kU0CJoy5iqzsffSd2g1khBcAsv1/RyiEA02PdMbKw/HJJuHfsEHxk1Z5FUjXHtz/3ho3cLuJpOD3MAoPDpsLfdyEUnnYt/SD61loC0/Mh2Gxf/BSgXPx2ONWdjKjJXghwaVdISUbxktOnKyrfHGIlJSfzGa8xw/sR1rSW907SEHT2ALw1umJE9/oKDyglhCiXYuOZioEB9LkQ7FgVha4/t4Imzwi1akhKVPFRuO+2A4nfT/gsAxNSfbB82BJ4yQZZ8Ov2wNTJhQcmKdXqBtDNN7BMDpaMx+f3Y/9+BW5/XsezvIWevDIfwNMnBfU6OsJSJRkJiWXTpicdw2Bd58MxDBWmyHzLxkpoWqJxg8JCpDZsejtjHAUmQj5rxQYnvo4uqkKAuv2noLt0OlqeHmoZaiD+6noc1xsH55Z5inZv/XBo/Tq4LHXGgIEL4B4tgviVL7aO+xYd+i7B9cgQ7Bo/CAuOBiDxzSMcXjYS3cf+Dzvn9EOHZrZwGLcHT9KlL5SO0FMuWP37HritnISRU3bhQTKHtLCzWDWiC8asP44NU/qjo11nzL0YL7meztk5/A6txzqXpXAeMBAL3KMhSgvD2VUj0GWM5L1umIL+He3Qee5FxHMpuOu2GDt9A3Bt2w5cDg7HDbc5GNRjHi5Ju6JkhuDIkoVYv3cXlowdDZfbJZhUhl8fPx96AH9//+Jv97agTyE95ERPveDzjy7admiEkEMH4JNWXFT8SOp26O5YG4nPwvCqkB5w0ulLpB+LWFz2nV6KzrcIkREx0GjTBY40awAhXzZptV5RRKFrmGObxey+UJbAMpnXVFvWfNpV9ibfYKpkdvGXQex/wdKhc9JBW3VYjb4H2GvJY7LDtrJuJq3ZomOb2cy1Piwt5/FiFrnRnmlZTWKX4jKZ6J9TbIRFNeaw4RlLvTaJNe22RTbg6x27MNacmQw6yuLF79j+3tVYgzHuLE4kZlGbHJluVzf2SvK45Iu/sEH/C84ZuCe4PI7VqdGXHZDs/N3+3qxagzHMPU7ExFGbmKNuV+YmeULOwFK9vuyQbIGszLvzmG31Qey4ZDvTayqzar2UBWRL9i55fo0+f0reheQdR6xn3+h8z/ZKN8pYpu8cZqWmw6y/n8Q2eig4AFfqIwbhZj5YxFoYOLEdsQX2Ik5iAee2s3nd6jA1FRWm0fBHtnr/RfZY+qWWkSLznenDZlmbsiHHXyv+eVR2qcHs5KqJbNjgkWy2223JMSRLJ0TJFV9yMh+OvacXouX7OhJ1fDXtL1x0+RbV8z5b6Imj7uF45r4Rrq7bEGAxHtO7meQ0jKs2nIBNc6vBbeo9fD3+a1lXQx50qlaBqqkNWtRUB9+kJyb0N8UjHx/cOXURafWtZT3LdNC5XxeoXDkNzww+NDXUUL1+QxjyeahhXBvqb98gkQnhedQd4c/csdHVFdsCLDB+ejeYSHbO19SAWvX6aGjIB6+GMWqrv8WbxA8rsPg6Oqgqu0hX7+gKf6/J4HucwJlHCchOS4WgnMfVqLddhr8feeP8n5swzaFm8UXcf/EN0bitHSx0FX5GzhiG1fLGMPD00aTneKy5HIUsjoMw7DjmD3dC0xL2uimJwvOdO1biquVirOhrqPjnUZlxcfhr/R7803QEZk9siyiXAZjtXo4z6HLJeOIbmLOEByElVfwxrm6Musb5m8m169WHUcEqf3Ea3r3TRrOhMzBr1izMnrsAC0a3x79rV6pWs4J1tWvYsquwnlx8GFbXh7qaOrKys/Au5e37WSf4hjVhwMQfzELx35sXI+3dO2g3G4oZkn3Pmj0XCxaMRvuCC2cqeEbjEm5izej58DV2Qr/WxhU0Ul0TRtZNYK5Xwr1rdMPqa8cxrXlJui3oo3sRYxjKl/x854yVOGiEtbvGwKJivpDPjygDjYauxNSerdGkwzD82IYvOa7KYfJcLgVBp5ZjcMuGaOV8HFEUnMhHKL0LUI3maNnIH3+svYacGS5EkTixZif8siR/hu2BW9wAnNg3Gu9cJ2NzcJ7wxJisIT4NgSFCdOvriFZdOkDN9xq8ZYtSCV5EQNDuW7SvIm0S/6/Uw0mfm7OpgeYtG8H/j7W4lrtzRJ5Yg53SnUvuf/8MTvr43C3pzMl8Toj0f4sKOa8lfXUxQnfOxyZhRwy00YYwTQCxKBvSfgv/PveLpN0WC4+sgOHh+dh6t6iRweVPOlZixbZEjNqzDt1rUplJYeoWsKqfW+Uhfnked/UWYNnAsl7qnEPsA2/E1TAFPyn5gwtKQhQmrdsrLUk3V7AuptpMv54ta+UwhLn6vGWC52fYNIeezCVYyFhGMFvbUYvp2E1kx4JTWeLO7kzLvAebtc6N7Vr3Cxuz6HzupIDif9jFhT1Zl1Gu7Mjx7WzBpF/ZmRfZLCPiPJvUVIOZ9dvG/GPCmfsEW6Zu8gPb9jhJunO2oosp09avx2xbObAhrj7sbUYEOz+pKdMw68e2+cewcPcJzFbdhP2w7bHkvdxgUxvWZHY/LWMHbz9inut6stoaTZnzyUD2+uQIVqeaGWs3YBpbs2owa6hvy4bsuMa81vdmJuqN2ZgDj3Iz/EV6x+JfyxrilER24huWTG0lHymbRd/YyEba6TM1va/YjEtvyqe9TvScrWuvxtSa/coeKuPkskTpFTvOqcS4dCS+zkDVmtWhWcxFbtIuJ5if6IXg4/2grlYDhlULPCEzCfHpVVFLX9FOwRzSE18jo2pNVC9u5xKcIAlvVfRgoFXwsbmvI9SuDQMNDmlJKVAz0KeuyUQ5iZMR4nEJN0PfQt2sNZycWqJ2wQFr4te4Mc8J/R4Mhf/f01GvrAug4nC42FthYdpc3H2wAi3KdnAc+QKV/k+Up4XqtYsPTFKSKzgwjgOvWs0PA5OUhkEJApMUD1rVaysUmKR4VQ3kBCap3NcxyNk1D9oUmIiS4hJuYMmPo+AWooqaNQS4Pt8Rtg6L4JlcoKGHXxP24wegqeAtUqgNiHwGSj84KYh77YcLwTxYq4birOdTVHQzPCGfn2Scm+OM2x03YOPkAfhh0Gz8vrQnVO66YM7vH3Y8EkbGQMu+CxpRKYZ8Bkq/Wo8QUj6S9qOPxXRE2vfGV9Vzx0Gw1Ge45RkCYaeNeLSZw7iWq5E1eCqGfKWJ2EhVdJ40HC0KndElFeF37iNSUNwpgQeDxu3RwqSI6bGoWo98IgpOhHymsu7MQXOHs+hxIxCu7eQHCuHr5wh/WxV16xtBu7gu+CI/LG5jj3VB8gd7/EcDjhtDccHZqPCqFwpO5BNVWLUeIeQTSa4rOS4OL8Jz5vySS7OmJWwaKhCYpFTtsNwvDUKhsJhbCi4VFZgIKQX0+yLkM6VavzEsNQTwOHAI4XkHFHGJuLbuN3jIxgkS8jmi4ETIZ4pXoxdG9jZC6vXZ6PGTK9zvhuJ54HXsmDQUf1Ttjo4FlyQtTyw9d4C7WFzIjDCEFI3anAj5jHGJXlgzYjTWXIrImf+Rr2uFPgu2wW2WPcpwCsQicEgOvIjjh7di9fqreMlrgP5LFmLUd05wamooewwhxaPgRMhnT4zUmKeIeFsFZpb1UKKhgYQoKQpOhBBClA61ORFCCFE6FJwIIYQoHQpOhBBClA4FJ0IIIUqHghMhhBClQ8GJEEKI0qHgRAghROlQcCKEEKJ0KDgRQghROhScCCGEKB0KToQQQpQOBSdCCCFKh4ITIYQQpUPBiRBCiNKh4EQIIUTpUHAihBCidCg4EUIIUToUnAghhCgdCk6EEEKUDgUnQgghSoeCEyGEEKVDwYkQQojSoeBECCFE6VBwIoQQonQoOBFCCFE6FJwIIYQoHQpOhBBClA4FJ0IIIUqHghMhhBClQ8GJEEKI0qHgRAghROlQcCKEEKJ0VJiE7G9CiKK4FET4h2DX5Tuopa0iSyQl0a9fP5iamsq2CMmPghMhHyP1MPrXmQ2vmsYw16Xg9DHc3NxgZ2cn2yIkPwpOhHwE0YOFaGHvjTHBNzCtLtWOE1La6Kgi5COkBQUhuoYVbGvTIURIWaAji5ASy0JIUBhEDWxhrSZLIoSUKgpOhJRYKoKD/kFtaxtUpyOIkDJBhxYhJZUVjCfPGBraWoMKToSUDQpOhJQQlxyE4FgTWNvo0QFESBmhY4uQEsoOeoKnvIawtVKXpRBCShsFJ0JKhMOboGC8NrOBtbYsiRBS6ig4EVIi2Xjy5BnUGtmicSkUnLjE61g4cw9ecrKEssIl4vrCmdhT5jsipHRQcCKkJLg4BIUmoZ6NDarKkj5W+vOTmO40BJe17WBUlkdi+nOcnO6EIZe1YVemOyKk9NAvlZCSyHqCoGfqaGjbAKqypJIT48XpBRg+aDLc/LIh8t8IZ1cPpMjuLU3iF6exYPggTHbzQ7bIHxudXeFRFjsipJTR9EWElID46Vp80+IEut+9g8W2Hx+epAEqdHV7NN9ihRPhe/G9liy5DIhDV6N98y2wOhGOvWW5I0JKEQUnQkog/a/hqPezGNujDqHvp5znuTi4OVliftXtklLUMBjIkvNLRfid+4gUFHeI8mDQuD1amMhrBOMQ5+YEy/lVsV1Sihomf0eEKB0KToQoTIzglV+j1fkf4Oc9H435suSPkXIUA8xH482SUFyfWkd+/brID4vb2GNdkEiWUBgNOG4MxQVnIzmvk4KjA8wx+s0ShF6fijpUkU8+E/RTJURhQgQFhUOnsQ3qfUpgkhD63oBvujXsOxkXfhCq2mG5XxqEQmExtxRckhuYJIS+uOGbDmv7TjAu4dEu8t+CkaPdEFBcbCSkDFBwIkRRonA8CRPC0tb2E6ctysJjT28kmHWAY0NOElzEsvTSl/XYE94JZujg2BCcJJCVZE8qBvXRooUF9Gm5KlIBKDgRoqiMIARF6KOxtQk+qeAkfombt8Oh284epjf34XRopuyO0ibGy5u3Ea7bDvamN7HvdChKsid+3R6YOrkbzD6xlEjIx6DgRIiCRGFP8DSrAWxtP3G6V9EzPI0UIc1nG7Ym2KN/87LqQSfCs6eREKX5YNvWBNj3bw4t4QtcWjcWTj8tw+710zCiR2u0/Gk3HvkfwcopA+HQsgdW3EoBMiNxw20OBvWYh0tCIC3sLFaN6IIx649jw5T+6GjXGXMvxoOG9JIyI+0QQQgpXvL+3qxanQnsmlCW8NHELDUqiAXHCmTbZUecGsWCgmNZ3j1luI9iRiYD2KF/RIwJLrPxdfWZo2sgy2AiFrSiNTMcdCLn8Zl35zHb6oPY8Zwnv2P7e1djDca4sziRmEVtcmS6Xd3YK7H0PkJKH5WclBknRGLEY9w8ux9bD92RJZYlEWKDQpHwweUwh+QnvghMKp/rZE6YiIjHN3F2/1YcuhOP8MAwpMnuqzhZCH0SBnHDJrD55HUyeNCuYw0ro7Ifc8TTrgNrKyPk3ZOKliaqVDNDPUM+oGEG05qqqF3XEprgw8TYEJkJ8UiRfNV8HR1Ufd/exIemhhqq128IQz4PNYxrQ/3tGyRSX19SRig4KTHuXQT8b+7EjEFjscE3Q5ZaRsQxuLDEGZtD1KH7/lfBISXoFJYPbomGrZxxPKo8ghOHdxH+uLlzBgaN3QDfjGqoluiOOXMOI6ysmmYUkoqg4C90gcG8HR5UJBscV2x1HZ04SFmj35gS4+lZwbG1CficHto5tpKlFk2cJUSmqIRBhIvFX5OGYp/JLCzvb4F/h3JysQ/gHVcDpvwkJJddh7ICeNCzckRrEz44vXZwbFUFhg4zsazTPcxwPoqocnsfBUgXGHwKNLC1fv/5fDEkpR8mLxwxJq32l96du/n+L8lvI+c+2QapXERxCA5NyPnFpL+OwPOnT/G04O15BF6nA8LwQIR9ZLUHBSelxuG1lxeeqLeGwzeKVAGl48ggQ1jPuIUsWUrxxAjfNQ6zXw6Ey5hG+U68POPW6NGlA+ybmZbvD4V7DS+vJ1Bv7YDcbPNg2H0pJvLXwXn78xJ1hy4tuQsMGsPGRleW8plKj4KPRyASEoJwyy8GMf5/wz/2HUI8ryE0NhRXvZ9DGOmLy/cfwefCHUSnhcDzUrAkzQO3QgWI8buBwNgX+PvGE7yLfQivoGTZC5PKQBxzCUudf0OQmi54oiBs6NkYDRs1QqMCt8bWA7AjQgz1aolwnzMHhz+m2iO36akI4kwmzJT9/S+xmOVtB80WCplI9jcpTW/Z0QH6TKPdWvZMoQ9YwA78oM0sJnuygl9ZoZL+YiPNTNjIs6myhIJE7Pm69kxNrRn79WG2LK2MvT3KBuhrsHZrn+X7XWXfnceamA1lpxJlCeVIeGMSM6/2PdubJEsgpJIRx55lzo792fbQ3LOL8PZc1qXnr2zv2cvs+vXr729/LfyG6X61hD2WnS7Ery+xqT1Gs6NRJYsShV8QZ0bA848Z6FzHAE3m3MxzJf4W12ePx++SqCjFxe/GDzVro+vmpznblZ5YgKT4V3j1qvhb/Fuh7EmFyLwHD18BLDs6fPKMBPJxSDi3D38l28H+G+VZOS/zngd8BZbo6FAv33gi1WYd0YZzx64TsbKU8sLhzZNgxEsXGPzUdTII+RyJX2D3+FmIHOCCsY2k9StiRMY3w9LDKzCyVzd07txZdmuJ7BfPYdGzD6xl8yLzDLtj6UQe1jrvQHgJqj0KD04a5nAYuxDDW/IRHRiAN7Iq6bSbKzBtuzdexufuhVerH2aOqouMdzTHiZQ4dAO6mRnByKj4W92hhyWhvnCiAA94x9dEe4dmn7A8Q1GycMfTF4IapqhT9h3HFCRCgIc34mu2h0OzArlWrQdzkwz4XLkhSygvsgUGG9og57gkpJJ5e3EVVj5sh/FD/71g5KNR38For5Oz8Z+UazjtWQvf9bLNd87S6/Yzur1ci+XnFK8GLmbiVxH8F7fE10c74fqTDegguotNK9fj6G+eaHQ0Gvt6aeY8JsB1Hm71WYtJljSUHJmJiHgRjwwFGot5OsZoaKZXyBWCGOGu9rBZbYx9EccxSE5ThyDyHu6Fp+Zpys6E5/L+2Gu4Brud8/44eDC0sUfT2gX2xEVjU+cGmJ0wE96PVqOV3AgoeR8u9rBamIa5dx9gRYsiwmRqOO7cj0Txk2gboHH7FpA7ibY4HK72NlhtvA8RxwchX7a5GGzpYoGZkvebFbhalpiXCE8Pz8L8s1UxwnUFepmVUksZF4mNjjbYb++NB8uby71QuHjxIhITE2VbpCgDBw6EujpF+c9HIg70tcRE8UZEnx0JfVmqPCknh8BqhTnc/VahZb4DJROXfq6PwXFLEeo+FgVPRfIUOyt54k4nmMzRxZ+x+9Fg11Lc79Qe97oPQOzSf3DxZwPJ+eIkVp80wYypX+cbS0E+Efcau3vVx5SstXh2eaKcSTvFCF7TEW2W+Umu6//DibIgVlGDGj9v/2BN9PwjBieHFqiTEodhTfsmWJK9AH53l6LJJwYnkd9itLFfh+In0XbExtALcJazKiv3ejd61Z+CrLXPcHliwUlRk7H7OyOMDx4LUcRWWVoe4ghs6GSFWbfU8cPBGJwaUvCyTg5BGE6tmokVXs2x1WMlOsg7ZwovYIzFMKRtjMaxgfKrP/v27YvAwEDZFinK/fv3oaenJ9siSk94HmPM++JG38sI/b0TNGTJH0rBySFWWFbnL/j9r3WBXq1ihKxuh+YudbAv+gQGK3BoFhuchKeGwOinBCy73BPh99ph7QweVtl9g8s/PsCd+Zo4tvwv1Jk1Ax0U2NlnTxSDqNe1Ude48BIil3QPxw75QFbrWSRV82/xc28b+V922mkMsxiMsKn+8F1ona/tpXDpONi3FpaYnkfIZvviuzxz8djuVBeToybDK8AF7eQ+oQQlp1KQdnoYLAaHYaq/LxZaF8g1FyspOZljxusZyH6yRpaYX1rQWRzw1kDXEd1Rv/CjSCIL0VdcMX3qGvwVlgam0QmbX1zDL3Km7hY/X4eOzY6j2ycvMEjI54d7uQmdLWcjYaY3Hq1uVXgTQ8pJDGm8BKZn/LGubcGTCYeYLV1gMTMJc+89wPLmxR9HxRauVAwMoM+FYMeqKHT9uRU0eUaoVUNSooqPwn23HUj8fkLlCExIhc/yYVjiVXSXSJb8GOf378d+BW5/Xn+Wr9STV+YDT/ik1ENHR0uoJCcgsSya9Hj6sLGuA5W0t0hRoBqy7GXigacPUup1hKOlCpITEpEv2ywFqQIGTcvGsoQPadv0hvO4YgKTOBqnp3ZH/+VX8CI1O2f0DhM9xZMg+d9G9pMneK7VGLYWFJhI5cPS03OaKTTUpc04hUu5ehoeek7o85W8q1wetLSqSEpDArx7p9g4zGKDE19HF1UhQN3+U9BdWtnI00MtQw3EX12P43rj4Nzyv8q81Lu7sGrzUZw+sAoTll+WPEsiKwoX1i3Cqi1u2LJqPn4ZMRW7nyUh5PAMfNdpPq5kcnh1bzem93TADPdUyRMyEXJkCRau34tdS8ZitMttJHOJeHxsNcb2nIhNh+ah61ddsOpeFt76HcL6dS5Y6jwAAxe4I1ruCZxD4uNjWD22JyZuOoR5Xb9Cl1X3JIWMUJxyWY3f97hh5aSRmLLrgWQ/0senI/SUC1b/vgduKydh5JRdeCC5I+WuGxbv9EXAtW3YcTlcUp6Qj1//Zxx64A9//+Jv97b0gfxKIhGeevngH9226NAoBIcO+CCtTJYtUIddd0fUTnyGsFeF/WAY0tOlvQrFEJd1nxdJgPDy+Qe6bTugUcghHPBJyzd5AUSRiIjRQJsujrKEj8Q3Rvs5R+Dj7YU7J6egsTTmiF8j5Elcnva7f4nxIigUaZY2sCmyJEbIl0lFTx/VeAwCQd727YJScPWMB6o59UFLuTUwHDLSM8BUqkJHp9iwk0tarVcUUega5thmMbv/frLLTOY11ZY1n3aVvck36WMGOzn0K+Z8VTpeJomd3X+avRZnMO95X7Mem8Nzx6u83c9667ViK4JETPRsLWun15cdkk4qKY5lWzrpMKddSZKX92JTrVqzpQHZjL2TPL5GH/bnO8lDItazb6pYsQkXolj0vZssIOI8+2XQ/1iw9IUFl9m4OjVY3wOv842/ek8cwdZ/U4VZTbjAoqLvsZsB0ezapKas25bI3Me/u8DGmpuwQUfjWeq1Saxpty0sMvcOdmGsOTMZdJTFZz1n69rrsb45b7isZTLfOVZMTceafT9pI/OIl5srOT5inFPmA7aohQFz2hH7wWcnTgpg57bPY93qqDEVFQ3W8MfVbP/Fx7J7y0CmL5tjpcZ0rL9nkzZ6sILZzvSZxaxNh7DjrxX9PBQgvMEmmfMl14U8Vnv0ecmvuKA0dmKQAas90l3OfYRUApk32TRLNWYy9iIrdM7j5ONscK0GbKpXYY8QseBVrZlatR/YgbeypGIUX3IyH469pxei5furRnV8Ne0vXHT5tsAcY2po/o0R/hrRDZN2h6PD0B9gmO2F/Uez0Mq+Tm6biYYWtNRk18IqKnmuilXAk87pJaXeEa7+XpjM98CJM4+QkJ2GVAEHXjUdVFUzRVM7U5i1+gYNHh2He/gzuG90heu2AFiMn45uJoVc2vOqQaeqGkyb2sHUrBW+aRiGUxfTUN+6dm7RUacz+nVRwZXT13Dn1EWk1beW9SbRQed+XaBy5TQ8y3hqu/zU0XbZ33jkfR5/bpoGh5oKXmlIPmXDxm1hZ6FbfJH4X+p2mL56AKJ2bYNfgWFXPP0m6Dl+DS5HZYHjhAg7Ph/DnZrK7i0D6m2x7O9H8D7/JzZNc0C+bHPxOLP1KiwXr0BfQ4VzVzyNr9C2uZbkFygpYYc8wT8Fi8TSBQafCmFpY/OJCwwS8pmSnCO6d6qNxGdhKKyC5e2107ih0x192hRWvSBCZEQMNNt+C0cFm4GKP8rVjVHXOH85TbtefRh9UP3OR/1xR3FtfVuErvgWdv13IVT4BgnJInAlGHgFLgE314zGfF9jOPVrjcL6HojT3uGddjMMnTELs2bNxtwFCzC6fXXZvcXJQnbWO6S8/feNSU7qNQ3AxGJkZWfhXcrb99V2fMOaMGDiQqvxyoymEaybmENPsZ4QMhrotvoajk+T3925MPrdXbC7zwMsXHVbUjivWJpG1mhirlegA4gI4Qfn4aDRWuwaY1Hgvk9VFba2Fjmfl/jZEwQWbFKULjD4Qh+NbT5xgUFCPltacBw3ElaBV3ElXl50eotrpz1QtVsffF1YbMp6iBs+PPQeNxAmCl5bluIlqBDn9p9HjYHrce3uXjgEHcT5eEtY1XkO95N+knsl0tOQlp3b8q6ipgZVLh0CacMUS0JSCgfGOIhDd2L+JiE6DrSBtjANArEI2dJ26pyn5T5XSqN5SzTy/wNrr+UueCaKPIE1O/0KmVMu93nvn63WCl06qMH3mnduu5jkvy8iBGj3bUe06tIBar7X4J17BwQvIiBo9y3aa/HB53MQ5rS/fGm00XbhEawwPIz5W+8WOTC4/GXi6ckV2JY4CnvWdc9fmioVqrC0bZSzNASXEoqgyPyXIaKwIISVxgKDhHzG1O2mY9WAKOzaJjuX51MFDqs84bHSoZBu5hziz2zFtQaLsbyPgSytePylErK/P1EWHmyYhD1vTFE9LQSBWW0x6qfv0N7oJQ4uXopdN/zx9HUSIu7Eof7oMbCvp4PkGy5YseM6HoRwUE9/iGCBGdo5GuP5kd/wh/sjRKfpSK5mz+BykBYMhb446e6PDJOWaG1bFwamTdBIdBGrpi7E1iOncC7IDD8vGADzDzqUcEh8dAw7dp6Ff4YJWra2RV19PVh/bY03h11xPE4dWYFn4MUfhZXT28LE9mtYvzkM1+NxUM8KxBkvPkatnI421bUgfHwQm08HIKNqXTSxNUaVfK31nztNmLb5Dh3raUCtalWlqsJSqWWHXp0aQbuMPm8+QnF6lwdiRemo2XEK+tv8V1Pw7u8tWHbXHJPn9YRinfUkv7frv2KRZ0N820I3f4eOz8aXkAdSuqqggYMdEjYtgke9XuhUJ++JVhVV9WtAV1P+L0UUfgBTXTIwbdcctNIpwa9J1vZUKkQiERMJ3rCYuLcs7xShYkEie5MqYizjBBts2DqnQ4TsDvbmde5jhcL/GtLEkteIS8zdFqcmsqRCW+Fkj32TIb8jhAKEia/kv74wkb0qeIc4jSUmCj56X0RJCU6zoTV4koK1Gmu+2D/PbzeT+c62YlW7/M7iFPrSBezZiSmsleFXbPGjvEfA5+RLyAMpM8l32CZnZ7blTrIsoWjCsBNs8YwNzOsjOjGVaiUJn88HX6s6jGvr5mvz4GkZoLo2X3JBxkn+/a9qTnIHqhvmPlZD478CIU/yGrUNcrd52gbQL6weUyLnsdU1P7p+UsOglvzX1zBArYJ38KrCwECrNOtCiTLQsIFtA2mLkgjhgUGyql6p3AUGjaxtYVDcly5+gdMLhmPQZDf4ZYvgv9EZrh4V3YJXQl9CHkjZ0muDKdvWYoCF3P7iH+DXcMR0l+no+BGdmMrvPJsegZuHfJBqWQ3/3HwoSyRECfDrwNaquuRgYMh4+gRh/3b6zFlgkKGBrVXxs23wLdB3xUr0rctDzT4rcXTfLsxy/MzWfvoS8kDKgQ5qGio2WZ2qQXXofWSUKXb6IkK+fBwiNzqi0YybyK76Pfa8dMdIfUlq/A441d+IJlcD4Cp/bqd8uDg3OFnOR9XtkhLIMMUbfktLavgd3I8U5Ok2JB/PoDHatzCRG3ArOg+E/ItqqAiRHAZGktJRTT7AMsMQGJzb5zM7OBDP+I0kpSrFqjBSvTxwn30Fe/uKmNRUhKf7J6HXd9/hu2JufRa4I7GQ8SofnQeRP7aMHA23gLKeRoRUFhScCJFQs2mCRqoqkM67Fxz0VlKW4pAYFILXdWxgo9CgQSF8b/gi3doeneRMHlv2VGG33A9pQiGExdxSLjlDzoTwEp+QBxUD1G/RAhb61LePlA4KToRI8KrbwFo6OpBl4+mTYGRL/gkMzF1gMGfuveJkPYandwLMOjiiIScJAuU+arsUfEoe+HXRY+pkdDOjocqkdFBwIkRKwxq2DdVypjGKCXqCRNErBIcmop6tDarIHlIU8cubuB2ui3b2pri57zRCM4V4cWkdxjr9hGW712PaiB5o3fIn7H7kjyMrp2CgQ0v0WHErd0aOzBAcWbIQ6/fuwpKxo+FyO1nygq/gu3Ucvu3QF0uuRyJk13gMWnAUAbmzE5eJj89DJiJvuGHOoB6Yd0kIpIXh7KoR6DJmPY5vmIL+He3Qee5FyJ1cgJDC5HQoJ6TSy2S3ZzRkkkIS45uNZ1ffnmdjjA3YwGNpsvuLJrw0lpnwtZhll+nsUKhs2t0MdzbKyIQNOPQPEzEBuzy+LtN3dGWBGYyJglaw1oaD2AmBZM9eU5lV66Usd67j3qxGnz/ZO+nzs8PY1m4mrPWiY2zzzLXMR7G38tE+JQ8s8y6bZ1udDTqeOzGyNB/VGoxh7nEiJo7axBx1uzK3VzRCkCiOSk6E5FCHdZPG0JA2O8WHIOBRIELeWsDGpug1bP6l0XUjfAIe4ObZDRjSSNaBQkULmlWqwayeIfjQgJlpTajWrgtLyUvyTYxhmJmA+BQO6h1d4e81GXyPEzjzKAHZaakQSEsZqg0xYdNcVHObintfj8fXBRYyLm2fkgfwdaAjnQNKhq+pAbXq9dHQkA9eDWPUVn+LN4nUMZgojoITITI6NjaoJ21fEj3Fo9OP8bxqY9iaK9iGwtNGHWsrGBU5/CNvZwHprPzSQekAl3ATa0bPh6+xE/q1Ns4/waxqNVhZV8O1LbuKX/7+U31CHopEZxnyEehnQ4iMamMbNJJOmMgl4O9TXnhXv7QXGJSUHCT/5j+XixG6cz42CTtioI02hGkCiEXS7hgSojDscYvDgBP7MPqdKyZvDkbFd9SWlwcpJm0ikNzeb0r/zcXl3kdISVBwIuRfVWxhW19adBIjLiYeulY2qPPRnc/SEeXjgcCEBATd8kNMjD/+9o/FuxBPXAuNRehVbzwXRsL3chD4Da1Q7e/56DZwOna91kOtx39g3o6LODV7Atxr90armi0wbFAj3F06HFOPh8hevzwomof7eHT7Au5EpyHE8xKC417A41YoBDF+uBEYixd/38CTd7F46BUke11CikczRBDyngAnBpli0DHpOCc1fOMaBo+Z5uWwjhOH9MTXEGrXhoEGh7SkFKgZ6Bey/AAhlQOVnAh5TxM2tg1ygxG/JhrbFGj/KTM8aFWXBqbcv7UpMBFCwYmQ//Bh0cQqZ6JKFX5D2DahBQYJqSgUnAjJQ83WBtLVM3hGVrCtQYcHIRWFjj5C8uCb2MCqBh+qDW1hTQUnQioMBSdC8lJvAtuG6jCztil+gUFCSJmh3nqE5MMhNeYZEquYo56BYktlEEJKHwUnQgghSocqLgghhCgdCk6EEEKUDPB/r4n2tIfkPe0AAAAASUVORK5CYII=)"
      ],
      "metadata": {
        "id": "rlvYcFCjr-FJ"
      }
    },
    {
      "cell_type": "code",
      "source": [
        "def get_sub_f(t, t_min, delta_t):\n",
        "  return (t - t_min) / delta_t\n",
        "\n",
        "def get_w_lin(l, sub_f):\n",
        "  return l + (1 - l) * sub_f\n",
        "\n",
        "def get_w_exp(l, sub_f):\n",
        "  return l + (1 - l) * (math.exp(3 * sub_f) - 1) / (math.pow(math.e, 3) - 1)\n",
        "\n",
        "def get_w_sqrt(l, sub_f):\n",
        "  return l + (1 - l) * math.sqrt(sub_f)\n"
      ],
      "metadata": {
        "id": "_qi8FPacr-FM"
      },
      "execution_count": 8,
      "outputs": []
    },
    {
      "cell_type": "code",
      "source": [
        "from collections import defaultdict\n",
        "from copy import deepcopy"
      ],
      "metadata": {
        "id": "dXY04Pw-r-FQ"
      },
      "execution_count": 9,
      "outputs": []
    },
    {
      "cell_type": "markdown",
      "source": [
        "![image.png](data:image/png;base64,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)"
      ],
      "metadata": {
        "id": "PlAZZgw7r-FQ"
      }
    },
    {
      "cell_type": "code",
      "source": [
        "def get_zeroth(w):\n",
        "  return w[0]\n",
        "\n",
        "def get_first(w):\n",
        "  indx = math.floor(len(w) / 4)\n",
        "  return w[indx]\n",
        "\n",
        "def get_second(w):\n",
        "  indx = len(w) // 2\n",
        "  if len(w) % 2:\n",
        "    return w[indx]\n",
        "  else:\n",
        "    return (w[indx] + w[indx - 1]) / 2\n",
        "\n",
        "def get_third(w):\n",
        "  indx = math.floor(len(w) * 3 / 4)\n",
        "  return w[indx]\n",
        "\n",
        "def get_fourth(w):\n",
        "  return w[-1]\n",
        "\n",
        "def get_sum(w):\n",
        "  return np.sum(np.array(w))\n",
        "\n",
        "def get_mean(w):\n",
        "  return np.mean(np.array(w))\n"
      ],
      "metadata": {
        "id": "4hqJCeOLNGAV"
      },
      "execution_count": 10,
      "outputs": []
    },
    {
      "cell_type": "code",
      "source": [
        "# 4.1.3\n",
        "def get_params(graph, graph_1):\n",
        "  all_nodes = np.sort(adj_graph(graph).v1.unique())\n",
        "  print(all_nodes)\n",
        "  posibility_edges = itertools.combinations_with_replacement(all_nodes, 2)\n",
        "  temporal_weighting = {'w_lin': list(), 'w_exp': list(), 'w_sqrt': list()}\n",
        "  quantiles_plus = {'zeroth': 0, 'first': 0, 'second': 0, 'third': 0, 'fourth': 0, 'sum': 0, 'mean': 0}\n",
        "  сombining = {'sum': 0, 'abs_diff': 0, 'min': 0, 'max': 0}\n",
        "\n",
        "  params = {'lin': {'w_lin': list(), 'quant_p': deepcopy(quantiles_plus)},\n",
        "            'exp': {'w_exp': list(), 'quant_p': deepcopy(quantiles_plus)},\n",
        "            'sqrt': {'w_sqrt': list(), 'quant_p': deepcopy(quantiles_plus)}} \n",
        "\n",
        "  params2 = {'zeroth': deepcopy(сombining), 'first': deepcopy(сombining), \n",
        "            'second': deepcopy(сombining), 'third': deepcopy(сombining), \n",
        "            'fourth': deepcopy(сombining), 'sum': deepcopy(сombining), \n",
        "            'mean': deepcopy(сombining)}\n",
        "            \n",
        "  params3 = {'lin': deepcopy(params2), 'exp': deepcopy(params2), 'sqrt': deepcopy(params2)}\n",
        "\n",
        "\n",
        "  len1 = min(len(edges), graph_1.shape[0])\n",
        "  if len1 > 10000: \n",
        "    len1 = 10000\n",
        "  len2 = len1\n",
        "  # len1, len2 = len(edges), graph_1.shape[0]\n",
        "  # len1, len2 = min(len1, len2), min(len1, len2)\n",
        "  # if len1 > 10000: \n",
        "  #   len1 = 10000\n",
        "  #   len2 = 10000\n",
        "\n",
        "  choice_mask_1 = np.full((graph.shape[0]), False)\n",
        "  choice_mask_1[:len1] = True\n",
        "  np.random.shuffle(choice_mask_1)\n",
        "  choice_mask_2 = np.full((graph_1.shape[0]), False)\n",
        "  choice_mask_2[:len2] = True\n",
        "  np.random.shuffle(choice_mask_2)\n",
        "\n",
        "  graph['result'] = 0\n",
        "  graph_1['result'] = 1\n",
        "  result_df = pd.concat([graph.loc[choice_mask_1], graph_1.loc[choice_mask_2]], sort=False, ignore_index=True, axis=0)\n",
        "  print(np.sum(choice_mask_1), np.sum(choice_mask_2), result_df.shape[0], graph.loc[choice_mask_1].shape[0])\n",
        "  \n",
        "  edges_with_params = defaultdict(None)\n",
        "  nodes_with_params = defaultdict(None)\n",
        "  edges_with_сombining = defaultdict(None)\n",
        "  for edge in edges:\n",
        "    edges_with_params[edge] = deepcopy(temporal_weighting)\n",
        "  for node in all_nodes:\n",
        "    nodes_with_params[node] = deepcopy(params)\n",
        "  # vertexes, number_of_vertexes, number_of_edges_directed, edges_1, number_of_edges_undirected, density = task_1(graph_1)\n",
        "  for _, edge in result_df.iterrows():\n",
        "    edges_with_сombining[(min(edge.v1, edge.v2), max(edge.v1, edge.v2))] = deepcopy(params3)\n",
        "\n",
        "  return edges_with_params, nodes_with_params, edges_with_сombining, result_df"
      ],
      "metadata": {
        "id": "2f8SrV8piLIn"
      },
      "execution_count": 46,
      "outputs": []
    },
    {
      "cell_type": "code",
      "source": [
        "def time_normalization(timestemp, t_min, delta_t):\n",
        "  return (timestemp - t_min) / delta_t"
      ],
      "metadata": {
        "id": "4Ra6sGy4r-FS"
      },
      "execution_count": 11,
      "outputs": []
    },
    {
      "cell_type": "code",
      "source": [
        "# 4.1.3\n",
        "def get_temporal_weighting(graph, edges_with_params, l, t_min, delta_t):\n",
        "  for _, edge in graph.iterrows():\n",
        "    params = edges_with_params[(min(edge.v1, edge.v2), max(edge.v1, edge.v2))]\n",
        "\n",
        "    norm_t = time_normalization(edge.timestamp, t_min, delta_t)\n",
        "    # print(edge.timestamp, t_min, delta_t, norm_t)\n",
        "    sub_f = get_sub_f(norm_t, 0, 1)\n",
        "\n",
        "    params['w_lin'].append(get_w_lin(l, sub_f))\n",
        "    params['w_exp'].append(get_w_exp(l, sub_f))\n",
        "    params['w_sqrt'].append(get_w_sqrt(l, sub_f))\n"
      ],
      "metadata": {
        "id": "F3_VOjcQj1VQ"
      },
      "execution_count": 12,
      "outputs": []
    },
    {
      "cell_type": "code",
      "source": [],
      "metadata": {
        "id": "A6yNmVvDM1-F"
      },
      "execution_count": null,
      "outputs": []
    },
    {
      "cell_type": "code",
      "source": [
        "# 4.1.3\n",
        "def fill_nodes(edges_with_params, nodes_with_params):\n",
        "  for key in tqdm(edges_with_params):\n",
        "    params = edges_with_params[key]\n",
        "    u, v = key\n",
        "\n",
        "    for w_type in ['lin', 'exp', 'sqrt']:\n",
        "      nodes_with_params[u][w_type]['w_' + w_type].extend(params['w_' + w_type])\n",
        "      nodes_with_params[v][w_type]['w_' + w_type].extend(params['w_' + w_type])\n",
        "\n",
        "    params = None #!!!!!!!!!!!!!!!!!!!!!!!!!!!!!!!!!!!!!!!!!!!!!!!!!!!!!!!!!!!!!!!!!!!!!!!!!!!!!!!!!!!!!!!!!!!!!!!!!!!!!!!!!!!!!\n",
        "\n",
        "  for key in tqdm(nodes_with_params):\n",
        "    for w_type in ['lin', 'exp', 'sqrt']:\n",
        "      nodes_with_params[key][w_type]['w_' + w_type].sort()\n"
      ],
      "metadata": {
        "id": "OaZw8deDlGbQ"
      },
      "execution_count": 13,
      "outputs": []
    },
    {
      "cell_type": "code",
      "source": [
        "# 4.1.3\n",
        "# temporal_weighting = {'w_lin': list(), 'w_exp': list(), 'w_sqrt': list()}\n",
        "# quantiles_plus = {'zeroth': 0, 'first': 0, 'second': 0, 'third': 0, 'fourth': 0, 'sum': 0, 'mean': 0}\n",
        "# сombining = {'sum': 0, 'abs_diff': 0, 'min': 0, 'max': 0}\n",
        "\n",
        "def quantiles_plus(edges_with_params, nodes_with_params):\n",
        "  fill_nodes(edges_with_params, nodes_with_params)\n",
        "\n",
        "  for key in tqdm(nodes_with_params):\n",
        "    params = nodes_with_params[key]\n",
        "\n",
        "    for w_type in ['lin', 'exp', 'sqrt']:\n",
        "      tmp = params[w_type]\n",
        "      tmp2 = params[w_type]['w_' + w_type]\n",
        "\n",
        "      tmp['quant_p']['zeroth'] = get_zeroth(tmp2)\n",
        "      tmp['quant_p']['first'] = get_first(tmp2)\n",
        "      tmp['quant_p']['second'] = get_second(tmp2)\n",
        "      tmp['quant_p']['third'] = get_third(tmp2)\n",
        "      tmp['quant_p']['fourth'] = get_fourth(tmp2)\n",
        "      tmp['quant_p']['sum'] = get_sum(tmp2)\n",
        "      tmp['quant_p']['mean'] = get_mean(tmp2)"
      ],
      "metadata": {
        "id": "Sgv8-0OBkZi3"
      },
      "execution_count": 14,
      "outputs": []
    },
    {
      "cell_type": "code",
      "source": [],
      "metadata": {
        "id": "FgCdAaFkZ28x"
      },
      "execution_count": null,
      "outputs": []
    },
    {
      "cell_type": "code",
      "source": [
        "# сombining = {'sum': 0, 'abs_diff': 0, 'min': 0, 'max': 0}\n",
        "\n",
        "def get_sum_c(a, b):\n",
        "  return a + b\n",
        "  \n",
        "def get_abs_diff(a, b):\n",
        "  return abs(a - b)\n",
        "  \n",
        "def get_min(a, b):\n",
        "  return min(a, b)\n",
        "  \n",
        "def get_max(a, b):\n",
        "  return max(a, b)"
      ],
      "metadata": {
        "id": "ZyVod202pidW"
      },
      "execution_count": 15,
      "outputs": []
    },
    {
      "cell_type": "code",
      "source": [
        "# 4.1.3\n",
        "# params2 = {'zeroth': deepcopy(сombining), 'first': deepcopy(сombining), \n",
        "#            'second': deepcopy(сombining), 'third': deepcopy(сombining), \n",
        "#            'fourth': deepcopy(сombining), 'sum': deepcopy(сombining), \n",
        "#            'mean': deepcopy(сombining)}\n",
        "\n",
        "def combining_node_activity(edges_with_сombining, nodes_with_params):\n",
        "  for key in edges_with_сombining:\n",
        "    u, v = key\n",
        "\n",
        "    for w_type in ['lin', 'exp', 'sqrt']:\n",
        "      edge = edges_with_сombining[key][w_type]\n",
        "      u_node = nodes_with_params[u][w_type]['quant_p']\n",
        "      v_node = nodes_with_params[v][w_type]['quant_p']\n",
        "    \n",
        "      for p_type in ['zeroth', 'first', 'second', 'third', 'fourth', 'sum', 'mean']:\n",
        "        p_edge = edge[p_type]\n",
        "        p_u_node = u_node[p_type]\n",
        "        p_v_node = v_node[p_type]\n",
        "        p_edge['sum'] = get_sum_c(p_u_node, p_v_node) \n",
        "        p_edge['abs_diff'] = get_abs_diff(p_u_node, p_v_node) \n",
        "        p_edge['min'] = get_min(p_u_node, p_v_node) \n",
        "        p_edge['max'] = get_max(p_u_node, p_v_node) "
      ],
      "metadata": {
        "id": "6kX9nI7xAt5u"
      },
      "execution_count": 16,
      "outputs": []
    },
    {
      "cell_type": "code",
      "source": [],
      "metadata": {
        "id": "C8C0Hz9Gr9Xa"
      },
      "execution_count": null,
      "outputs": []
    },
    {
      "cell_type": "code",
      "source": [],
      "metadata": {
        "id": "lJ_uU84EAtyX"
      },
      "execution_count": null,
      "outputs": []
    },
    {
      "cell_type": "code",
      "source": [],
      "metadata": {
        "id": "Rc3Hdz4FAtv2"
      },
      "execution_count": null,
      "outputs": []
    },
    {
      "cell_type": "code",
      "source": [],
      "metadata": {
        "id": "_rHjYuXLrn0T"
      },
      "execution_count": null,
      "outputs": []
    },
    {
      "cell_type": "code",
      "source": [
        "! pip install tqdm"
      ],
      "metadata": {
        "colab": {
          "base_uri": "https://localhost:8080/"
        },
        "id": "IWT9SoR1PsDJ",
        "outputId": "024edced-3dca-4ee0-8ab9-6fcd107ae184"
      },
      "execution_count": 18,
      "outputs": [
        {
          "output_type": "stream",
          "name": "stdout",
          "text": [
            "Looking in indexes: https://pypi.org/simple, https://us-python.pkg.dev/colab-wheels/public/simple/\n",
            "Requirement already satisfied: tqdm in /usr/local/lib/python3.10/dist-packages (4.65.0)\n"
          ]
        }
      ]
    },
    {
      "cell_type": "code",
      "source": [
        "import itertools\n",
        "import numpy as np\n",
        "from tqdm import tqdm"
      ],
      "metadata": {
        "id": "mEL4fFn7GF1x"
      },
      "execution_count": 17,
      "outputs": []
    },
    {
      "cell_type": "markdown",
      "source": [
        "ПЕРВОЕ ЗАДАНИЕ"
      ],
      "metadata": {
        "id": "meInstfVxYHX"
      }
    },
    {
      "cell_type": "code",
      "source": [
        "def get_neighbors(adj, nodes):\n",
        "  node_neighbors = defaultdict(set)\n",
        "  for edge in tqdm(edges):\n",
        "      node_neighbors[edge[0]].add(edge[1])\n",
        "      node_neighbors[edge[1]].add(edge[0])\n",
        "\n",
        "  return node_neighbors"
      ],
      "metadata": {
        "id": "y1h2MOKbNldj"
      },
      "execution_count": 19,
      "outputs": []
    },
    {
      "cell_type": "code",
      "source": [
        "def adj_cvc_graph(graph, cvc):\n",
        "  cc = graph.loc[graph.v1.isin(cvc) & graph.v2.isin(cvc)]\n",
        "  cc = cc.reset_index()[['v1', 'v2']]\n",
        "  cc = cc.drop_duplicates(keep='first')\n",
        "\n",
        "  v1 = cc.v1.to_list()\n",
        "  v2 = cc.v2.to_list()\n",
        "  \n",
        "  V1 = np.array(v1 + v2)\n",
        "  V2 = np.array(v2 + v1)\n",
        "  \n",
        "  CC = pd.DataFrame(np.array([V1, V2]).transpose(),columns=['v1', 'v2'])\n",
        "  CC = CC.drop_duplicates(keep='first')\n",
        "  \n",
        "  return CC"
      ],
      "metadata": {
        "id": "l82m3Lt9JwmZ"
      },
      "execution_count": 20,
      "outputs": []
    },
    {
      "cell_type": "code",
      "source": [
        "def get_acc(graph, cvc):\n",
        "#graph - dataframe (v1 v2 weight timelable)\n",
        "#cvc - component of weak connectivity (list)\n",
        "#acc - average cluster coefficient\n",
        "  acc = 0\n",
        "  n = len(cvc)\n",
        "\n",
        "  adj = adj_cvc_graph(graph, cvc)\n",
        "  nodes = adj.v1.unique()\n",
        "  node_neighbors = get_neighbors(adj, nodes)\n",
        "\n",
        "  for u in tqdm(cvc):\n",
        "    deg = len(node_neighbors[u])\n",
        "    if deg <= 1: continue\n",
        "    \n",
        "    l_u = np.sum([len(set.intersection(node_neighbors[v], node_neighbors[u])) for v in node_neighbors[u]]) / 2\n",
        "    \n",
        "    acc += (2 * l_u) / (deg * (deg-1))\n",
        "\n",
        "  return float(acc) / n"
      ],
      "metadata": {
        "id": "k9QdSyneGHAt"
      },
      "execution_count": 21,
      "outputs": []
    },
    {
      "cell_type": "code",
      "source": [
        "import math\n",
        "import pandas as pd"
      ],
      "metadata": {
        "id": "5xwUEuUqGL1Q"
      },
      "execution_count": 22,
      "outputs": []
    },
    {
      "cell_type": "code",
      "source": [
        "def adj_graph(graph):\n",
        "  cc = graph\n",
        "  cc = cc.reset_index()[['v1', 'v2']]\n",
        "  cc = cc.drop_duplicates(keep='first')\n",
        "\n",
        "  v1 = cc.v1.to_list()\n",
        "  v2 = cc.v2.to_list()\n",
        "  \n",
        "  V1 = np.array(v1 + v2)\n",
        "  V2 = np.array(v2 + v1)\n",
        "  \n",
        "  CC = pd.DataFrame(np.array([V1, V2]).transpose(),columns=['v1', 'v2'])\n",
        "  CC = CC.drop_duplicates(keep='first')\n",
        "  \n",
        "  return CC"
      ],
      "metadata": {
        "id": "m_ZE_ZpdPOlS"
      },
      "execution_count": 23,
      "outputs": []
    },
    {
      "cell_type": "code",
      "source": [
        "def get_pcc(graph):\n",
        "#graph - dataframe (v1 v2 weight timelable)\n",
        "#pcc - Pearson correlation coefficient.\n",
        "  adj = adj_graph(graph)\n",
        "  nodes = adj.v1.unique()\n",
        "  node_neighbors = get_neighbors(adj, nodes)\n",
        "\n",
        "  r_1 = adj.shape[0]\n",
        "  r_2 = 0\n",
        "  r_3 = 0\n",
        "  r_e = 0\n",
        "  for u in tqdm(nodes):\n",
        "    k = len(node_neighbors[u])\n",
        "    r_2 += math.pow(k, 2)\n",
        "    r_3 += math.pow(k, 3)\n",
        "    for v in node_neighbors[u]:\n",
        "      r_e += len(node_neighbors[u]) * len(node_neighbors[v])\n",
        "  \n",
        "  r = float((r_e * r_1 - math.pow(r_2, 2))) / (r_3 * r_1 - math.pow(r_2, 2))\n",
        "\n",
        "  return r"
      ],
      "metadata": {
        "id": "6HezJ20WGMXE"
      },
      "execution_count": 24,
      "outputs": []
    },
    {
      "cell_type": "code",
      "source": [
        "graph = df1\n",
        "cvc = connected_components[ind_max_component]"
      ],
      "metadata": {
        "id": "YwBkAZXg-yfr"
      },
      "execution_count": null,
      "outputs": []
    },
    {
      "cell_type": "code",
      "source": [
        "len(cvc)"
      ],
      "metadata": {
        "colab": {
          "base_uri": "https://localhost:8080/"
        },
        "id": "thN9pyyfYe-k",
        "outputId": "adbf647a-9b35-4721-ee36-d1b32a1299f6"
      },
      "execution_count": null,
      "outputs": [
        {
          "output_type": "execute_result",
          "data": {
            "text/plain": [
              "986"
            ]
          },
          "metadata": {},
          "execution_count": 24
        }
      ]
    },
    {
      "cell_type": "code",
      "source": [
        "acc = get_acc(graph, cvc)\n",
        "pcc = get_pcc(graph)\n",
        "print('\\n')\n",
        "print('acc: ', acc)\n",
        "print('\\n')\n",
        "print('pcc: ', pcc)"
      ],
      "metadata": {
        "id": "-RD0I_1T-yxu",
        "colab": {
          "base_uri": "https://localhost:8080/"
        },
        "outputId": "d943bd3e-fa59-42f0-a2a1-ba8e3819b30f"
      },
      "execution_count": null,
      "outputs": [
        {
          "output_type": "stream",
          "name": "stderr",
          "text": [
            "100%|██████████| 1548126/1548126 [00:05<00:00, 290386.51it/s]\n",
            "100%|██████████| 279630/279630 [00:03<00:00, 91794.99it/s] \n"
          ]
        },
        {
          "output_type": "stream",
          "name": "stdout",
          "text": [
            "\n",
            "\n",
            "acc:  0.09685343001219332\n",
            "\n",
            "\n",
            "pcc:  -0.05570957449407056\n"
          ]
        }
      ]
    },
    {
      "cell_type": "code",
      "source": [],
      "metadata": {
        "id": "qbo0llwsL1iM"
      },
      "execution_count": null,
      "outputs": []
    },
    {
      "cell_type": "code",
      "source": [],
      "metadata": {
        "id": "BvM5EHROlqcH"
      },
      "execution_count": null,
      "outputs": []
    },
    {
      "cell_type": "code",
      "source": [],
      "metadata": {
        "id": "RnM6tm1klqSx"
      },
      "execution_count": null,
      "outputs": []
    },
    {
      "cell_type": "code",
      "source": [],
      "metadata": {
        "id": "ftd3X_lTlqBT"
      },
      "execution_count": null,
      "outputs": []
    },
    {
      "cell_type": "code",
      "source": [
        "from multiprocessing import Pool"
      ],
      "metadata": {
        "id": "kJFG2wmWQSFW"
      },
      "execution_count": null,
      "outputs": []
    }
  ]
}