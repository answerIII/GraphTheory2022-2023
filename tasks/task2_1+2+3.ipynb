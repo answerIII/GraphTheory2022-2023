{
  "nbformat": 4,
  "nbformat_minor": 0,
  "metadata": {
    "colab": {
      "provenance": [],
      "authorship_tag": "ABX9TyNKaoaG65Mpm2ax42ITouSL",
      "include_colab_link": true
    },
    "kernelspec": {
      "name": "python3",
      "display_name": "Python 3"
    },
    "language_info": {
      "name": "python"
    }
  },
  "cells": [
    {
      "cell_type": "markdown",
      "metadata": {
        "id": "view-in-github",
        "colab_type": "text"
      },
      "source": [
        "<a href=\"https://colab.research.google.com/github/Liverson-Al/GraphProject/blob/main/tasks/task2_1%2B2%2B3.ipynb\" target=\"_parent\"><img src=\"https://colab.research.google.com/assets/colab-badge.svg\" alt=\"Open In Colab\"/></a>"
      ]
    },
    {
      "cell_type": "code",
      "source": [
        "class UndirectedGraph:\n",
        "    def __init__(self, name=\"Untitled undirected graph\"):\n",
        "        self.name = name #название графа\n",
        "        self.edge_map = {} #словарь рёбер по типу {node_begin:{node_end:[t1,t2,...]}}, где t1,t2 и т.д время добавления ребра\n",
        "        self.v = 0 #количество вершин\n",
        "        self.e = 0 #количество рёбер без мультирёбер\n",
        "        self.me=0 #количество рёбер, учитывая мультирёбра\n",
        "        self.matr_smej = [] #матрица смежности с весами при мультирёбрах\n",
        "\n",
        "    #метод для добавления вершины в граф, если она ещё не существует в графе\n",
        "    def add_node(self, a,b):\n",
        "        if a not in self.edge_map.keys():\n",
        "            self.edge_map[a] = {}\n",
        "            self.v += 1\n",
        "\n",
        "    #метод для добавления ребра в граф\n",
        "    def add_edge(self, a, b, t):\n",
        "        #добавляем вершины ребра в граф (если они уже были - они не добавятся)\n",
        "        self.add_node(a,b)\n",
        "        self.add_node(b,a)\n",
        "        #если одна из вершин ребра уже присутствует в словаре от другой вершины - значит такое ребро уже было в графе\n",
        "        if b in self.edge_map[a].keys():\n",
        "            self.edge_map[a][b].append(t)\n",
        "            self.edge_map[b][a].append(t)\n",
        "        else:\n",
        "            self.edge_map[a][b]=[t]\n",
        "            self.edge_map[b][a]=[t]\n",
        "            self.e += 1\n",
        "        self.mart_smej[a][b] += 1\n",
        "        self.mart_smej[b][a] += 1\n",
        "        self.me+=1"
      ],
      "metadata": {
        "id": "v2yLQKvtSQJ1"
      },
      "execution_count": 4,
      "outputs": []
    },
    {
      "cell_type": "code",
      "source": [
        "import math, numpy as np\n",
        "\n",
        "def weights(graph: UndirectedGraph, t_s): \n",
        "    t_min = 10000000000\n",
        "    t_max = 0\n",
        "    # t_max = t_s\n",
        "    weights = {}\n",
        "    w_linear = []\n",
        "    w_exp = []\n",
        "    w_sqrt = []\n",
        "    temp_w_quant_0 = []\n",
        "    temp_w_quant_1 = []\n",
        "    temp_w_quant_2 = []\n",
        "    temp_w_quant_3 = []\n",
        "    temp_w_quant_4 = []\n",
        "    temp_w_sum = []\n",
        "    temp_w_average = []\n",
        "\n",
        "    w_funcs = {}\n",
        "    w_quant_0 = []\n",
        "    w_quant_1 = []\n",
        "    w_quant_2 = []\n",
        "    w_quant_3 = []\n",
        "    w_quant_4 = []\n",
        "    w_sum = []\n",
        "    w_average = []\n",
        "\n",
        "    res = {}\n",
        "    f_sum = []\n",
        "    f_mod = []\n",
        "    f_min = []\n",
        "    f_max = []\n",
        "    \n",
        "\n",
        "    l = 0.2 #?????                       Откуда мы берём эту l?\n",
        "    for k in graph.edge_map.keys():\n",
        "      for i in graph.edge_map[k].keys():\n",
        "        if graph.edge_map[k][i]<t_min:\n",
        "          t_min = graph.edge_map[k][i]\n",
        "        if graph.edge_map[k][i]>t_max:         #Если t_max == t_s,  то это не нужно делать\n",
        "          t_max = graph.edge_map[k][i]\n",
        "\n",
        "    for k in graph.edge_map.keys():\n",
        "        for i in graph.edge_map[k].keys():\n",
        "          for t in graph.edge_map[k][i].keys():\n",
        "          #По условию для каждого ребра с t<=t_s должно выполняться\n",
        "            if graph.edge_map[k][i][t] > t_s: \n",
        "              continue\n",
        "          \n",
        "            w_linear[k][i][t] = l+(1-l)*(graph.edge_map[k][i][t] - t_min) / (t_max-t_min)\n",
        "            w_exp[k][i][t] = l+(1-l)*(math.e**(3*(graph.edge_map[k][i][t]-t_min)/(t_max-t_min))-1)/(math.e**3 - 1)\n",
        "            w_sqrt[k][i][t] = l+(1-l)*math.sqrt((graph.edge_map[k][i][t]-t_min)/(t_max-t_min))\n",
        "            weights['w_linear'] = w_linear\n",
        "            weights['w_exp'] = w_exp\n",
        "            weights['w_sqrt'] = w_sqrt\n",
        "\n",
        "            \n",
        "            temp_w_sum[k][0] += w_linear[k][i][t]\n",
        "            temp_w_sum[k][1] += w_exp[k][i][t]\n",
        "            temp_w_sum[k][2] += w_sqrt[k][i][t]\n",
        "           # w_sum[k]['w_linear'] += w_linear[k][i][t]\n",
        "           # w_sum[k]['w_exp'] += w_exp[k][i][t]\n",
        "           # w_sum[k]['w_sqrt'] += w_sqrt[k][i][t]\n",
        "\n",
        "\n",
        "\n",
        "        for w in weights.keys(): #Будет ли так работать, если w - строка???? Я про нижние массивы, они же не словари. \n",
        "          for i in graph.edge_map[k].keys():\n",
        "            if len(graph.edge_map[k][i])>1:\n",
        "              temp_w_quant_0[i] = np.quantile(weights[w][k][i], .0)\n",
        "              temp_w_quant_1[i] = np.quantile(weights[w][k][i], .25)\n",
        "              temp_w_quant_2[i] = np.quantile(weights[w][k][i], .50)\n",
        "              temp_w_quant_3[i] = np.quantile(weights[w][k][i], .75)\n",
        "              temp_w_quant_4[i] = np.quantile(weights[w][k][i], 1)\n",
        "              temp_w_average[i] = np.mean(weights[w][k][i])\n",
        "            else:\n",
        "              temp_w_quant_0[i] = weights[w][k][i][0] #[t]\n",
        "              temp_w_quant_1[i] = weights[w][k][i][0] #[t]\n",
        "              temp_w_quant_2[i] = weights[w][k][i][0] #[t]\n",
        "              temp_w_quant_3[i] = weights[w][k][i][0] #[t]\n",
        "              temp_w_quant_4[i] = weights[w][k][i][0] #[t]\n",
        "              temp_w_average[i] = weights[w][k][i][0] #[t]   \n",
        "\n",
        "          w_quant_0[k][w] = np.quantile(temp_w_quant_0, .0)\n",
        "          w_quant_1[k][w] = np.quantile(temp_w_quant_0, .25)\n",
        "          w_quant_2[k][w] = np.quantile(temp_w_quant_0, .50)\n",
        "          w_quant_3[k][w] = np.quantile(temp_w_quant_0, .75)\n",
        "          w_quant_4[k][w] = np.quantile(temp_w_quant_0, 1)\n",
        "          w_sum[k][w] = sum(temp_w_sum)\n",
        "          w_average[k][w] = np.mean(temp_w_average)          \n",
        "          w_funcs['w_quant_0'] = w_quant_0\n",
        "          w_funcs['w_quant_1'] = w_quant_1\n",
        "          w_funcs['w_quant_2'] = w_quant_2\n",
        "          w_funcs['w_quant_3'] = w_quant_3\n",
        "          w_funcs['w_quant_4'] = w_quant_4\n",
        "          w_funcs['w_average'] = w_average\n",
        "          w_funcs['w_sum'] = w_sum\n",
        "\n",
        "\n",
        "    for k in graph.edge_map.keys():\n",
        "      for i in graph.edge_map[k].keys():\n",
        "        for f in w_funcs.keys(): \n",
        "          for w in weights.keys():\n",
        "            f_sum[k][i][f][w] = w_funcs[f][k][w] + w_funcs[f][i][w]\n",
        "            f_mod[k][i][f][w] = abs(w_funcs[f][k][w] - w_funcs[f][i][w])     \n",
        "            f_min[k][i][f][w] = min(w_funcs[f][k][w], w_funcs[f][i][w]) \n",
        "            f_max[k][i][f][w] = max(w_funcs[f][k][w], w_funcs[f][i][w])\n",
        "\n",
        "    res['sum'] = f_sum\n",
        "    res['mod'] = f_mod\n",
        "    res['min'] = f_min\n",
        "    res['max'] - f_max\n",
        "\n",
        "    return res\n"
      ],
      "metadata": {
        "id": "6159sTzySRmw"
      },
      "execution_count": 6,
      "outputs": []
    },
    {
      "cell_type": "code",
      "source": [
        "a=[4,3,7]\n",
        "a.sort()\n",
        "print(a)"
      ],
      "metadata": {
        "colab": {
          "base_uri": "https://localhost:8080/"
        },
        "id": "inSHVHlmVkQl",
        "outputId": "fd05cb54-ed33-46d2-97e6-498c1a7fd9ba"
      },
      "execution_count": 2,
      "outputs": [
        {
          "output_type": "stream",
          "name": "stdout",
          "text": [
            "[3, 4, 7]\n"
          ]
        }
      ]
    }
  ]
}