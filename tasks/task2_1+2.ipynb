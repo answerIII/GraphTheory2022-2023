{
  "nbformat": 4,
  "nbformat_minor": 0,
  "metadata": {
    "colab": {
      "provenance": [],
      "authorship_tag": "ABX9TyMQQfaGbQ85GfVhZ3asZkax",
      "include_colab_link": true
    },
    "kernelspec": {
      "name": "python3",
      "display_name": "Python 3"
    },
    "language_info": {
      "name": "python"
    }
  },
  "cells": [
    {
      "cell_type": "markdown",
      "metadata": {
        "id": "view-in-github",
        "colab_type": "text"
      },
      "source": [
        "<a href=\"https://colab.research.google.com/github/Liverson-Al/GraphProject/blob/main/tasks/task2_1%2B2.ipynb\" target=\"_parent\"><img src=\"https://colab.research.google.com/assets/colab-badge.svg\" alt=\"Open In Colab\"/></a>"
      ]
    },
    {
      "cell_type": "code",
      "execution_count": 1,
      "metadata": {
        "colab": {
          "base_uri": "https://localhost:8080/"
        },
        "id": "01-APp72Hv05",
        "outputId": "80a7b612-f27a-4d3b-e8e3-01f9a4b486b8"
      },
      "outputs": [
        {
          "output_type": "stream",
          "name": "stdout",
          "text": [
            "pezdos\n"
          ]
        }
      ],
      "source": [
        "print(\"pezdos\")"
      ]
    },
    {
      "cell_type": "code",
      "source": [
        "class UndirectedGraph:\n",
        "    def __init__(self, name=\"Untitled undirected graph\"):\n",
        "        self.name = name #название графа\n",
        "        self.edge_map = {} #словарь рёбер по типу {node_begin:{node_end:[t1,t2,...]}}, где t1,t2 и т.д время добавления ребра\n",
        "        self.v = 0 #количество вершин\n",
        "        self.e = 0 #количество рёбер без мультирёбер\n",
        "        self.me=0 #количество рёбер, учитывая мультирёбра\n",
        "        self.matr_smej = [] #матрица смежности с весами при мультирёбрах\n",
        "\n",
        "    #метод для добавления вершины в граф, если она ещё не существует в графе\n",
        "    def add_node(self, a,b):\n",
        "        if a not in self.edge_map.keys():\n",
        "            self.edge_map[a] = {}\n",
        "            self.v += 1\n",
        "\n",
        "    #метод для добавления ребра в граф\n",
        "    def add_edge(self, a, b, t):\n",
        "        #добавляем вершины ребра в граф (если они уже были - они не добавятся)\n",
        "        self.add_node(a,b)\n",
        "        self.add_node(b,a)\n",
        "        #если одна из вершин ребра уже присутствует в словаре от другой вершины - значит такое ребро уже было в графе\n",
        "        if b in self.edge_map[a].keys():\n",
        "            self.edge_map[a][b].append(t)\n",
        "            self.edge_map[b][a].append(t)\n",
        "        else:\n",
        "            self.edge_map[a][b]=[t]\n",
        "            self.edge_map[b][a]=[t]\n",
        "            self.e += 1\n",
        "        self.mart_smej[a][b] += 1\n",
        "        self.mart_smej[b][a] += 1\n",
        "        self.me+=1"
      ],
      "metadata": {
        "id": "v2yLQKvtSQJ1"
      },
      "execution_count": 2,
      "outputs": []
    },
    {
      "cell_type": "code",
      "source": [
        "import math, numpy as np\n",
        "\n",
        "def weights(graph: UndirectedGraph, t_s): \n",
        "    t_min = 10000000000\n",
        "    t_max = 0\n",
        "    w_linear = []\n",
        "    w_exp = []\n",
        "    w_sqrt = []\n",
        "    quant_0 = []\n",
        "    quant_1 = []\n",
        "    quant_2 = []\n",
        "    quant_3 = []\n",
        "    quant_4 = []\n",
        "    w_sum = []\n",
        "    w_average = []\n",
        "    \n",
        "\n",
        "    l = 0.2 #?????\n",
        "    for k in graph.edge_map.keys():\n",
        "      for i in graph.edge_map[k].keys():\n",
        "        if graph.edge_map[k][i]<t_min:\n",
        "          t_min = graph.edge_map[k][i]\n",
        "        if graph.edge_map[k][i]>t_max:\n",
        "          t_max = graph.edge_map[k][i]\n",
        "\n",
        "    for k in graph.edge_map.keys():\n",
        "        for i in graph.edge_map[k].keys():\n",
        "          for t in graph.edge_map[k][i].keys():\n",
        "          #По условию для каждого ребра с t<=t_s должно выполняться\n",
        "            if graph.edge_map[k][i][t] > t_s: \n",
        "              continue\n",
        "          \n",
        "            w_linear[k][i][t] = l+(1-l)*(graph.edge_map[k][i][t] - t_min) / (t_max-t_min)\n",
        "          # w_exp[k][i][t] = l+(1-l)*(math.e**(3*(graph.edge_map[k][i][t]-t_min)/(t_max-t_min))-1)/(math.e**3 - 1)\n",
        "          # w_sqrt[k][i][t] = l+(1-l)*math.sqrt((graph.edge_map[k][i][t]-t_min)/(t_max-t_min))\n",
        "          # Вроде можно любые веса выбрать, суть одна будет     \n",
        "            \n",
        "            w_sum[k][i] += w_linear[k][i][t]\n",
        "\n",
        "          quant_0[k][i] = np.quantile(w_linear, .0)\n",
        "          quant_1[k][i] = np.quantile(w_linear, .25)\n",
        "          quant_2[k][i] = np.quantile(w_linear, .50)\n",
        "          quant_3[k][i] = np.quantile(w_linear, .75)\n",
        "          quant_4[k][i] = np.quantile(w_linear, .1)\n",
        "          w_average[k][i] = w_sum[k][i]/len(w_linear[k][i]) \n",
        "\n",
        "#2.3.3 хз вообще что они имеют ввиду - сумма, модуль разности и максимальное значение чего блять именно у пары несмежных вершин\n",
        "           \n",
        "          if graph.edge_map[k][i] == 0:     #Будет ли это вообще работать? Там же идёт перебор по keys\n",
        "            pass #Не, я просто не понимаю что мы здесь ищем у вершин - min max t? w? sum_t? sum_w? |raznosti_t?_w?|\n",
        "\n",
        "          \n",
        "\n"
      ],
      "metadata": {
        "id": "6159sTzySRmw"
      },
      "execution_count": 3,
      "outputs": []
    }
  ]
}